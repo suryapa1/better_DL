{
 "cells": [
  {
   "cell_type": "markdown",
   "metadata": {},
   "source": [
    "# AlexNet in Keras"
   ]
  },
  {
   "cell_type": "markdown",
   "metadata": {},
   "source": [
    "In this notebook, we leverage an [AlexNet](https://papers.nips.cc/paper/4824-imagenet-classification-with-deep-convolutional-neural-networks)-like deep, convolutional neural network to classify flowers into the 17 categories of the [Oxford Flowers](http://www.robots.ox.ac.uk/~vgg/data/flowers/17/) data set. Derived from [this earlier notebook](https://github.com/the-deep-learners/TensorFlow-LiveLessons/blob/master/notebooks/old/L3-3b__TFLearn_AlexNet.ipynb)."
   ]
  },
  {
   "cell_type": "markdown",
   "metadata": {},
   "source": [
    "#### Set seed for reproducibility"
   ]
  },
  {
   "cell_type": "code",
   "execution_count": 1,
   "metadata": {},
   "outputs": [
    {
     "name": "stdout",
     "output_type": "stream",
     "text": [
      "/home/surya\r\n"
     ]
    }
   ],
   "source": [
    "!pwd ma"
   ]
  },
  {
   "cell_type": "code",
   "execution_count": 1,
   "metadata": {},
   "outputs": [
    {
     "name": "stdout",
     "output_type": "stream",
     "text": [
      "/root/anaconda3/envs/py36/bin/python\n",
      "3.6.8 |Anaconda, Inc.| (default, Dec 30 2018, 01:22:34) \n",
      "[GCC 7.3.0]\n",
      "sys.version_info(major=3, minor=6, micro=8, releaselevel='final', serial=0)\n"
     ]
    }
   ],
   "source": [
    "import sys\n",
    "print(sys.executable)\n",
    "print(sys.version)\n",
    "print(sys.version_info)"
   ]
  },
  {
   "cell_type": "code",
   "execution_count": 2,
   "metadata": {},
   "outputs": [
    {
     "name": "stdout",
     "output_type": "stream",
     "text": [
      "Python 3.6.8 :: Anaconda, Inc.\r\n"
     ]
    }
   ],
   "source": [
    "!python -V"
   ]
  },
  {
   "cell_type": "code",
   "execution_count": 3,
   "metadata": {},
   "outputs": [],
   "source": [
    "import numpy as np\n",
    "np.random.seed(42)"
   ]
  },
  {
   "cell_type": "markdown",
   "metadata": {},
   "source": [
    "#### Load dependencies"
   ]
  },
  {
   "cell_type": "code",
   "execution_count": 4,
   "metadata": {},
   "outputs": [
    {
     "name": "stderr",
     "output_type": "stream",
     "text": [
      "Using TensorFlow backend.\n"
     ]
    }
   ],
   "source": [
    "import keras"
   ]
  },
  {
   "cell_type": "code",
   "execution_count": 5,
   "metadata": {},
   "outputs": [],
   "source": [
    "import tensorflow as tf"
   ]
  },
  {
   "cell_type": "code",
   "execution_count": 6,
   "metadata": {},
   "outputs": [],
   "source": [
    "\n",
    "import keras\n",
    "from keras.models import Sequential\n",
    "from keras.layers import Dense, Dropout, Flatten, Conv2D, MaxPooling2D\n",
    "from keras.layers.normalization import BatchNormalization\n",
    "from keras.callbacks import TensorBoard # for part 3.5 on TensorBoard"
   ]
  },
  {
   "cell_type": "markdown",
   "metadata": {},
   "source": [
    "#### Load *and preprocess* data"
   ]
  },
  {
   "cell_type": "code",
   "execution_count": 7,
   "metadata": {},
   "outputs": [
    {
     "name": "stdout",
     "output_type": "stream",
     "text": [
      "WARNING:tensorflow:From /root/anaconda3/envs/py36/lib/python3.6/site-packages/tensorflow/python/framework/op_def_library.py:263: colocate_with (from tensorflow.python.framework.ops) is deprecated and will be removed in a future version.\n",
      "Instructions for updating:\n",
      "Colocations handled automatically by placer.\n",
      "Downloading Oxford 17 category Flower Dataset, Please wait...\n"
     ]
    },
    {
     "name": "stderr",
     "output_type": "stream",
     "text": [
      "100.0% 60276736 / 60270631\n"
     ]
    },
    {
     "name": "stdout",
     "output_type": "stream",
     "text": [
      "('Succesfully downloaded', '17flowers.tgz', 60270631, 'bytes.')\n",
      "File Extracted\n",
      "Starting to parse images...\n",
      "Parsing Done!\n"
     ]
    }
   ],
   "source": [
    "import tflearn.datasets.oxflower17 as oxflower17\n",
    "X, Y = oxflower17.load_data(one_hot=True)"
   ]
  },
  {
   "cell_type": "markdown",
   "metadata": {},
   "source": [
    "#### Design neural network architecture"
   ]
  },
  {
   "cell_type": "code",
   "execution_count": 8,
   "metadata": {},
   "outputs": [
    {
     "name": "stdout",
     "output_type": "stream",
     "text": [
      "WARNING:tensorflow:From /root/anaconda3/envs/py36/lib/python3.6/site-packages/keras/backend/tensorflow_backend.py:3445: calling dropout (from tensorflow.python.ops.nn_ops) with keep_prob is deprecated and will be removed in a future version.\n",
      "Instructions for updating:\n",
      "Please use `rate` instead of `keep_prob`. Rate should be set to `rate = 1 - keep_prob`.\n"
     ]
    }
   ],
   "source": [
    "model = Sequential()\n",
    "\n",
    "model.add(Conv2D(96, kernel_size=(11, 11), strides=(4, 4), activation='relu', input_shape=(224, 224, 3)))\n",
    "model.add(MaxPooling2D(pool_size=(3, 3), strides=(2, 2)))\n",
    "model.add(BatchNormalization())\n",
    "\n",
    "model.add(Conv2D(256, kernel_size=(5, 5), activation='relu'))\n",
    "model.add(MaxPooling2D(pool_size=(3, 3), strides=(2, 2)))\n",
    "model.add(BatchNormalization())\n",
    "\n",
    "model.add(Conv2D(256, kernel_size=(3, 3), activation='relu'))\n",
    "model.add(Conv2D(384, kernel_size=(3, 3), activation='relu'))\n",
    "model.add(Conv2D(384, kernel_size=(3, 3), activation='relu'))\n",
    "model.add(MaxPooling2D(pool_size=(3, 3), strides=(2, 2)))\n",
    "model.add(BatchNormalization())\n",
    "\n",
    "model.add(Flatten())\n",
    "model.add(Dense(4096, activation='tanh'))\n",
    "model.add(Dropout(0.5))\n",
    "model.add(Dense(4096, activation='tanh'))\n",
    "model.add(Dropout(0.5))\n",
    "\n",
    "model.add(Dense(17, activation='softmax'))"
   ]
  },
  {
   "cell_type": "code",
   "execution_count": null,
   "metadata": {},
   "outputs": [
    {
     "name": "stdout",
     "output_type": "stream",
     "text": [
      "_________________________________________________________________\n",
      "Layer (type)                 Output Shape              Param #   \n",
      "=================================================================\n",
      "conv2d_1 (Conv2D)            (None, 54, 54, 96)        34944     \n",
      "_________________________________________________________________\n",
      "max_pooling2d_1 (MaxPooling2 (None, 26, 26, 96)        0         \n",
      "_________________________________________________________________\n",
      "batch_normalization_1 (Batch (None, 26, 26, 96)        384       \n",
      "_________________________________________________________________\n",
      "conv2d_2 (Conv2D)            (None, 22, 22, 256)       614656    \n",
      "_________________________________________________________________\n",
      "max_pooling2d_2 (MaxPooling2 (None, 10, 10, 256)       0         \n",
      "_________________________________________________________________\n",
      "batch_normalization_2 (Batch (None, 10, 10, 256)       1024      \n",
      "_________________________________________________________________\n",
      "conv2d_3 (Conv2D)            (None, 8, 8, 256)         590080    \n",
      "_________________________________________________________________\n",
      "conv2d_4 (Conv2D)            (None, 6, 6, 384)         885120    \n",
      "_________________________________________________________________\n",
      "conv2d_5 (Conv2D)            (None, 4, 4, 384)         1327488   \n",
      "_________________________________________________________________\n",
      "max_pooling2d_3 (MaxPooling2 (None, 1, 1, 384)         0         \n",
      "_________________________________________________________________\n",
      "batch_normalization_3 (Batch (None, 1, 1, 384)         1536      \n",
      "_________________________________________________________________\n",
      "flatten_1 (Flatten)          (None, 384)               0         \n",
      "_________________________________________________________________\n",
      "dense_1 (Dense)              (None, 4096)              1576960   \n",
      "_________________________________________________________________\n",
      "dropout_1 (Dropout)          (None, 4096)              0         \n",
      "_________________________________________________________________\n",
      "dense_2 (Dense)              (None, 4096)              16781312  \n",
      "_________________________________________________________________\n",
      "dropout_2 (Dropout)          (None, 4096)              0         \n",
      "_________________________________________________________________\n",
      "dense_3 (Dense)              (None, 17)                69649     \n",
      "=================================================================\n",
      "Total params: 21,883,153\n",
      "Trainable params: 21,881,681\n",
      "Non-trainable params: 1,472\n",
      "_________________________________________________________________\n"
     ]
    }
   ],
   "source": [
    "model.summary()"
   ]
  },
  {
   "cell_type": "markdown",
   "metadata": {},
   "source": [
    "#### Configure model"
   ]
  },
  {
   "cell_type": "code",
   "execution_count": null,
   "metadata": {},
   "outputs": [],
   "source": [
    "model.compile(loss='categorical_crossentropy', optimizer='adam', metrics=['accuracy'])"
   ]
  },
  {
   "cell_type": "markdown",
   "metadata": {},
   "source": [
    "#### Configure TensorBoard (for part 5 of lesson 3)"
   ]
  },
  {
   "cell_type": "code",
   "execution_count": null,
   "metadata": {},
   "outputs": [],
   "source": [
    "tensorbrd = TensorBoard('logs/alexnet') "
   ]
  },
  {
   "cell_type": "markdown",
   "metadata": {},
   "source": [
    "#### Train!"
   ]
  },
  {
   "cell_type": "code",
   "execution_count": null,
   "metadata": {},
   "outputs": [
    {
     "name": "stdout",
     "output_type": "stream",
     "text": [
      "WARNING:tensorflow:From /root/anaconda3/envs/py36/lib/python3.6/site-packages/tensorflow/python/ops/math_ops.py:3066: to_int32 (from tensorflow.python.ops.math_ops) is deprecated and will be removed in a future version.\n",
      "Instructions for updating:\n",
      "Use tf.cast instead.\n",
      "Train on 1224 samples, validate on 136 samples\n",
      "Epoch 1/100\n",
      "1224/1224 [==============================] - 3s 3ms/step - loss: 4.1904 - acc: 0.2492 - val_loss: 5.0599 - val_acc: 0.1544\n",
      "Epoch 2/100\n",
      "1224/1224 [==============================] - 2s 1ms/step - loss: 3.2803 - acc: 0.2296 - val_loss: 3.6983 - val_acc: 0.2206\n",
      "Epoch 3/100\n",
      "1224/1224 [==============================] - 2s 1ms/step - loss: 2.9744 - acc: 0.2778 - val_loss: 4.0568 - val_acc: 0.2353\n",
      "Epoch 4/100\n",
      "1224/1224 [==============================] - 2s 1ms/step - loss: 2.3463 - acc: 0.3513 - val_loss: 3.1081 - val_acc: 0.3235\n",
      "Epoch 5/100\n",
      "1224/1224 [==============================] - 2s 1ms/step - loss: 2.2354 - acc: 0.4126 - val_loss: 2.9550 - val_acc: 0.3162\n",
      "Epoch 6/100\n",
      "1224/1224 [==============================] - 2s 1ms/step - loss: 2.6309 - acc: 0.3456 - val_loss: 2.3375 - val_acc: 0.3824\n",
      "Epoch 7/100\n",
      "1224/1224 [==============================] - 2s 1ms/step - loss: 2.1862 - acc: 0.4289 - val_loss: 2.9376 - val_acc: 0.3676\n",
      "Epoch 8/100\n",
      "1224/1224 [==============================] - 2s 1ms/step - loss: 2.2268 - acc: 0.4379 - val_loss: 3.3735 - val_acc: 0.2647\n",
      "Epoch 9/100\n",
      "1224/1224 [==============================] - 2s 1ms/step - loss: 2.1184 - acc: 0.4395 - val_loss: 3.4554 - val_acc: 0.2941\n",
      "Epoch 10/100\n",
      "1224/1224 [==============================] - 2s 1ms/step - loss: 2.2205 - acc: 0.4297 - val_loss: 2.6963 - val_acc: 0.3676\n",
      "Epoch 11/100\n",
      "1224/1224 [==============================] - 2s 1ms/step - loss: 2.0521 - acc: 0.4518 - val_loss: 1.9185 - val_acc: 0.4559\n",
      "Epoch 12/100\n",
      "1224/1224 [==============================] - 2s 1ms/step - loss: 1.8641 - acc: 0.5041 - val_loss: 2.0215 - val_acc: 0.5074\n",
      "Epoch 13/100\n",
      "1224/1224 [==============================] - 2s 1ms/step - loss: 1.8412 - acc: 0.5082 - val_loss: 3.2152 - val_acc: 0.3235\n",
      "Epoch 14/100\n",
      "1224/1224 [==============================] - 2s 1ms/step - loss: 2.0382 - acc: 0.4755 - val_loss: 3.6441 - val_acc: 0.2721\n",
      "Epoch 15/100\n",
      "1224/1224 [==============================] - 2s 1ms/step - loss: 1.9872 - acc: 0.4845 - val_loss: 4.2419 - val_acc: 0.2941\n",
      "Epoch 16/100\n",
      "1224/1224 [==============================] - 2s 1ms/step - loss: 1.6717 - acc: 0.5637 - val_loss: 3.3768 - val_acc: 0.3456\n",
      "Epoch 17/100\n",
      "1224/1224 [==============================] - 2s 1ms/step - loss: 1.7526 - acc: 0.5392 - val_loss: 3.0651 - val_acc: 0.4044\n",
      "Epoch 18/100\n",
      "1224/1224 [==============================] - 2s 1ms/step - loss: 1.5625 - acc: 0.5564 - val_loss: 3.6533 - val_acc: 0.3750\n",
      "Epoch 19/100\n",
      "1224/1224 [==============================] - 2s 1ms/step - loss: 1.4601 - acc: 0.5956 - val_loss: 2.5190 - val_acc: 0.5074\n",
      "Epoch 20/100\n",
      "1224/1224 [==============================] - 2s 1ms/step - loss: 1.4433 - acc: 0.5956 - val_loss: 2.3738 - val_acc: 0.4706\n",
      "Epoch 21/100\n",
      "1224/1224 [==============================] - 2s 1ms/step - loss: 1.5027 - acc: 0.6324 - val_loss: 3.3249 - val_acc: 0.4191\n",
      "Epoch 22/100\n",
      "1224/1224 [==============================] - 2s 1ms/step - loss: 1.3741 - acc: 0.6258 - val_loss: 5.0400 - val_acc: 0.2500\n",
      "Epoch 23/100\n",
      "1224/1224 [==============================] - 2s 1ms/step - loss: 1.3643 - acc: 0.6462 - val_loss: 3.5892 - val_acc: 0.3824\n",
      "Epoch 24/100\n",
      "1224/1224 [==============================] - 2s 1ms/step - loss: 1.3558 - acc: 0.6307 - val_loss: 1.8238 - val_acc: 0.5588\n",
      "Epoch 25/100\n",
      "1224/1224 [==============================] - 2s 1ms/step - loss: 1.0183 - acc: 0.7002 - val_loss: 2.2938 - val_acc: 0.5441\n",
      "Epoch 26/100\n",
      "1224/1224 [==============================] - 2s 1ms/step - loss: 0.9683 - acc: 0.7059 - val_loss: 4.5112 - val_acc: 0.2794\n",
      "Epoch 27/100\n",
      "1224/1224 [==============================] - 2s 1ms/step - loss: 0.8576 - acc: 0.7394 - val_loss: 2.2350 - val_acc: 0.6397\n",
      "Epoch 28/100\n",
      "1224/1224 [==============================] - 2s 1ms/step - loss: 1.1165 - acc: 0.7075 - val_loss: 2.5074 - val_acc: 0.4265\n",
      "Epoch 29/100\n",
      "1224/1224 [==============================] - 2s 1ms/step - loss: 1.3026 - acc: 0.6413 - val_loss: 2.2201 - val_acc: 0.5147\n",
      "Epoch 30/100\n",
      " 512/1224 [===========>..................] - ETA: 0s - loss: 1.2015 - acc: 0.6465"
     ]
    }
   ],
   "source": [
    "model.fit(X, Y, batch_size=64, epochs=100, verbose=1, validation_split=0.1, shuffle=True, \n",
    "          callbacks=[tensorbrd])"
   ]
  },
  {
   "cell_type": "code",
   "execution_count": null,
   "metadata": {},
   "outputs": [],
   "source": []
  }
 ],
 "metadata": {
  "kernelspec": {
   "display_name": "py_36_env",
   "language": "python",
   "name": "py_36_env"
  },
  "language_info": {
   "codemirror_mode": {
    "name": "ipython",
    "version": 3
   },
   "file_extension": ".py",
   "mimetype": "text/x-python",
   "name": "python",
   "nbconvert_exporter": "python",
   "pygments_lexer": "ipython3",
   "version": "3.6.8"
  }
 },
 "nbformat": 4,
 "nbformat_minor": 2
}
