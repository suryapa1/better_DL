{
 "cells": [
  {
   "cell_type": "code",
   "execution_count": 109,
   "metadata": {},
   "outputs": [],
   "source": [
    "import pandas as pd\n",
    "import numpy as np\n",
    "import json\n",
    "from pandas import DataFrame\n",
    "from pandas.io.json import json_normalize\n",
    "from keras.preprocessing.text import Tokenizer\n",
    "from nltk.tokenize import TweetTokenizer\n",
    "import nltk\n",
    "import string\n",
    "import re\n",
    "import string\n",
    "from nltk.corpus import stopwords\n",
    "from collections import Counter\n",
    "from nltk.corpus import stopwords\n",
    "import string\n",
    "import re\n",
    "from os import listdir\n",
    "from collections import Counter\n",
    "from nltk.corpus import stopwords\n",
    "import matplotlib.pyplot as pyplot\n",
    "%matplotlib inline"
   ]
  },
  {
   "cell_type": "code",
   "execution_count": 110,
   "metadata": {},
   "outputs": [
    {
     "name": "stdout",
     "output_type": "stream",
     "text": [
      "medium    3114\n",
      "high      3031\n",
      "low       2985\n",
      "Name: rating, dtype: int64\n",
      "9130 9130\n",
      "                                           patient_chat rating\n",
      "0     female, 55 years, 75 kg and obese. hypertensiv...   high\n",
      "1     I'm 22 and male and I have gotten terrible mig...   high\n",
      "2     My wife is constantly suffering from high bloo...   high\n",
      "3     I get head aches multiple time times a week I'...   high\n",
      "4     I recently suffered a substantial loss of belo...   high\n",
      "9125   Hello John, how are you doing today? What can...    low\n",
      "9126   Hello John, how are you doing today? What can...    low\n",
      "9127   Hello John, how are you doing today? What can...    low\n",
      "9128   Hello John, how are you doing today? What can...    low\n",
      "9129   Hello John, how are you doing today? What can...    low\n"
     ]
    }
   ],
   "source": [
    "df = pd.read_excel(\"/home/surya/Nightingale_Chat_NEW.xlsx\",sheet_name = \"All\", header=0)\n",
    "print(df.rating.value_counts())\n",
    "df = df.drop_duplicates()\n",
    "print(len(df) , len(df.drop_duplicates()))\n",
    "print(pd.concat([df.head(), df.tail()]))"
   ]
  },
  {
   "cell_type": "code",
   "execution_count": 111,
   "metadata": {},
   "outputs": [
    {
     "name": "stdout",
     "output_type": "stream",
     "text": [
      "{'into', 'it', 'having', 'same', 'his', 'did', 'on', 'or', 'to', \"you'll\", 'y', 'doesn', 'its', 'between', 'from', 'which', 'about', 'few', 'down', 'while', 's', 'hasn', 'mustn', 'with', 'over', 'being', 'at', 'hadn', 'couldn', 'itself', 'very', 'here', 'off', 'because', 'own', 'was', 'my', 'i', 'all', 'than', 'more', 'are', 'and', 'too', 'how', \"you're\", 't', 'me', 'now', \"isn't\", 'have', 'them', 'other', 'wouldn', 'ours', 're', 'been', 'him', 'can', 'you', 'should', \"you'd\", 'd', 'through', 'were', 'only', 'of', 'most', 'some', 'each', 'shan', \"she's\", 'just', 'where', 'during', 'after', 'won', 'if', 'is', 'there', 'our', 'herself', 'above', 'why', 'yourself', 'myself', 'weren', 'hers', 'but', 'she', 'll', 'once', 'ma', 'yours', 'do', 'will', 'when', 'any', 'ourselves', 'these', 'we', 'that', \"it's\", 'theirs', 'such', \"shan't\", 'am', 'as', 'does', 'ain', 'their', 'for', 'under', \"you've\", \"that'll\", 'by', 'who', 'both', 'wasn', 'whom', 'themselves', 'an', 'further', 'shouldn', 'himself', 'what', 'then', 'has', 'had', 'a', 'this', 'the', 'o', 'doing', 'up', 'again', 'out', 'those', 'be', \"should've\", 'yourselves', 'aren', 'below', 'your', 'he', 'until', 'they', 'before', \"aren't\", 'so', 'm', 've', 'don', 'in', 'her', \"don't\"}\n"
     ]
    }
   ],
   "source": [
    "not_include_words = ['not' ,'didn', 'no',\"hasn't\",\"mustn't\", 'haven', 'against', \"doesn't\", 'isn',\"needn't\", \"wasn't\",'needn', \"mightn't\",\"won't\",'nor',\"no\" , \"not at all\",\"weren't\",'mightn','might not',\"didn't\",\"couldn't\",\"shouldn't\",\"not\", \"no no\", \"mightn't\",\"won't\", \"hadn't\", \"didn't\",\"not\" , \"haven't\",\"wouldn't\"]\n",
    "not_words = set(not_include_words)\n",
    "stop_words = set(stopwords.words('english'))\n",
    "discard_words = not_words\n",
    "stop_words = stop_words - discard_words\n",
    "print(stop_words)"
   ]
  },
  {
   "cell_type": "code",
   "execution_count": 112,
   "metadata": {},
   "outputs": [],
   "source": [
    "def load_file(filename):\n",
    "    with open(filename) as f:\n",
    "        d = json.load(f)\n",
    "        df = DataFrame(d)\n",
    "        f.close()\n",
    "    return df\n",
    "\n",
    "punc_ = set(string.punctuation)"
   ]
  },
  {
   "cell_type": "code",
   "execution_count": 113,
   "metadata": {},
   "outputs": [],
   "source": [
    "def clean_document(doc) :\n",
    "    \n",
    "    re_punc = re.compile('[%s]' % re.escape(string.punctuation))\n",
    "    doc = doc.replace(\"Hello John,\", \"\")\n",
    "    tokens = doc.lower().split()\n",
    "    \n",
    "    # remove punctuation from each word\n",
    "    tokens = [re_punc.sub('', w) for w in tokens]\n",
    "    # remove remaining tokens that are not alphabetic\n",
    "    tokens = [word for word in tokens if word.isalpha() or word.isalnum()]\n",
    "#     stop_words = set(stopwords.words('english'))\n",
    "    #remove stop words\n",
    "    tokens = [word for word in tokens if word not in stop_words]\n",
    "    tokens = [word for word in tokens if word not in punc_]\n",
    "    tokens = [re.sub('[^A-Za-z0-9]+', '', word)  for word in tokens]\n",
    "    tokens = [word for word in tokens if len(word) > 1]\n",
    "    return tokens\n",
    "\n",
    "def preprocess_documents(docs):\n",
    "    clean_docs = [clean_document(doc) for doc in docs]\n",
    "    return clean_docs"
   ]
  },
  {
   "cell_type": "code",
   "execution_count": 114,
   "metadata": {},
   "outputs": [],
   "source": [
    "docs = list(df.patient_chat)\n",
    "clean_docs = preprocess_documents(docs)"
   ]
  },
  {
   "cell_type": "code",
   "execution_count": 115,
   "metadata": {},
   "outputs": [],
   "source": [
    "# plot diagnostic learning curves\n",
    "def summarize_diagnostics(histories):\n",
    "    for i in range(len(histories)):\n",
    "        # plot loss\n",
    "        pyplot.subplot(211)\n",
    "        pyplot.title('Cross Entropy Loss')\n",
    "        pyplot.plot(histories[i].history['loss'], color='blue', label='train')\n",
    "        pyplot.plot(histories[i].history['val_loss'], color='orange', label='test')\n",
    "        pyplot.tight_layout()\n",
    "        pyplot.legend()\n",
    "        # plot accuracy\n",
    "        pyplot.subplot(212)\n",
    "        pyplot.title('Classification Accuracy')\n",
    "        pyplot.plot(histories[i].history['acc'], color='blue', label='train')\n",
    "        pyplot.plot(histories[i].history['val_acc'], color='orange', label='test')\n",
    "        pyplot.tight_layout()\n",
    "        \n",
    "    pyplot.show()"
   ]
  },
  {
   "cell_type": "markdown",
   "metadata": {},
   "source": [
    "## Define Vocobulary"
   ]
  },
  {
   "cell_type": "code",
   "execution_count": 116,
   "metadata": {},
   "outputs": [
    {
     "name": "stdout",
     "output_type": "stream",
     "text": [
      "2491\n"
     ]
    }
   ],
   "source": [
    "vocab = Counter()\n",
    "\n",
    "# load doc and add to vocab\n",
    "def add_doc_to_vocab(doc,vocab):\n",
    "    vocab.update(doc)\n",
    "    return vocab\n",
    "\n",
    "# load all docs in a directory\n",
    "def process_docs(clean_docs, vocab):\n",
    "    for doc in clean_docs:\n",
    "        vocab = add_doc_to_vocab(doc, vocab)\n",
    "    return vocab\n",
    "\n",
    "vocab = process_docs(clean_docs, vocab)\n",
    "\n",
    "# keep tokens with a min occurrence\n",
    "min_occurrence = 2\n",
    "tokens = [k for k,c in vocab.items() if c >= min_occurrence]\n",
    "print(len(tokens))"
   ]
  },
  {
   "cell_type": "markdown",
   "metadata": {},
   "source": [
    "### Total Vocobulary : $len(tokens) = 2491"
   ]
  },
  {
   "cell_type": "code",
   "execution_count": 117,
   "metadata": {},
   "outputs": [],
   "source": [
    "# save list to file\n",
    "def save_list(lines, filename):\n",
    "    # convert lines to a single blob of text\n",
    "    data = '\\n'.join(lines)\n",
    "    # open file\n",
    "    file = open(filename, 'w')\n",
    "    # write text\n",
    "    file.write(data)\n",
    "    # close file\n",
    "    file.close()\n",
    "    \n",
    "# save tokens to a vocabulary file\n",
    "save_list(tokens, 'nightingale_vocab.txt')\n",
    "\n",
    "# load doc into memory\n",
    "def load_doc(filename):\n",
    "    # open the file as read only\n",
    "    file = open(filename, 'r')\n",
    "    # read all text\n",
    "    text = file.read()\n",
    "    # close the file\n",
    "    file.close()\n",
    "    return text\n",
    "\n",
    "# load doc, clean and return line of tokens\n",
    "def doc_to_line(doc, vocab):\n",
    "    # filter by vocab\n",
    "    tokens = [w for w in doc if w in vocab]\n",
    "    return ' '.join(tokens)"
   ]
  },
  {
   "cell_type": "code",
   "execution_count": 118,
   "metadata": {},
   "outputs": [
    {
     "name": "stdout",
     "output_type": "stream",
     "text": [
      "-rw-r--r--. 1 root root 18453 Jun 13 14:51 /home/surya/nightingale_vocab.txt\r\n"
     ]
    }
   ],
   "source": [
    "!ls -ltr /home/surya/nightingale_vocab.txt"
   ]
  },
  {
   "cell_type": "code",
   "execution_count": 119,
   "metadata": {},
   "outputs": [],
   "source": [
    "# load the vocabulary\n",
    "vocab_filename = 'nightingale_vocab.txt'\n",
    "vocab = load_doc(vocab_filename)\n",
    "vocab = set(vocab.split())"
   ]
  },
  {
   "cell_type": "code",
   "execution_count": 122,
   "metadata": {},
   "outputs": [],
   "source": [
    "# 'no' in vocab"
   ]
  },
  {
   "cell_type": "code",
   "execution_count": 123,
   "metadata": {},
   "outputs": [],
   "source": [
    "clean_doc_voc = []\n",
    "for doc in clean_docs:\n",
    "    clean_doc_voc.append(doc_to_line(doc, vocab))\n",
    "    \n",
    "df[\"clean_doc_voc\"] = clean_doc_voc"
   ]
  },
  {
   "cell_type": "code",
   "execution_count": 124,
   "metadata": {},
   "outputs": [],
   "source": [
    "df.rating  = df.rating.map({'low':0, 'medium':1, 'high' : 2})"
   ]
  },
  {
   "cell_type": "code",
   "execution_count": 125,
   "metadata": {},
   "outputs": [],
   "source": [
    "from sklearn.model_selection import train_test_split\n",
    "train, test = train_test_split(df[[\"clean_doc_voc\",\"rating\" ]], test_size=0.2)\n",
    "\n",
    "xtrain_docs , y_train_docs= train[\"clean_doc_voc\"] , train[\"rating\"]\n",
    "xtest_docs , y_test_docs= test[\"clean_doc_voc\"] , test[\"rating\"]"
   ]
  },
  {
   "cell_type": "code",
   "execution_count": 126,
   "metadata": {},
   "outputs": [
    {
     "name": "stdout",
     "output_type": "stream",
     "text": [
      "2450\n",
      "2450\n"
     ]
    }
   ],
   "source": [
    "# fit a tokenizer\n",
    "def create_tokenizer(lines):\n",
    "    tokenizer = Tokenizer()\n",
    "    tokenizer.fit_on_texts(lines)\n",
    "    return tokenizer\n",
    "\n",
    "\n",
    "# encode data\n",
    "tokenizer = create_tokenizer(xtrain_docs)\n",
    "Xtrain = tokenizer.texts_to_matrix(xtrain_docs, mode='freq' )\n",
    "print(len(tokenizer.word_index))\n",
    "Xtest = tokenizer.texts_to_matrix(xtest_docs, mode='freq')\n",
    "print(len(tokenizer.word_index))"
   ]
  },
  {
   "cell_type": "code",
   "execution_count": 127,
   "metadata": {},
   "outputs": [
    {
     "data": {
      "text/plain": [
       "2450"
      ]
     },
     "execution_count": 127,
     "metadata": {},
     "output_type": "execute_result"
    }
   ],
   "source": [
    "len(tokenizer.word_index)"
   ]
  },
  {
   "cell_type": "code",
   "execution_count": 128,
   "metadata": {},
   "outputs": [
    {
     "name": "stdout",
     "output_type": "stream",
     "text": [
      "((7304, 2451), (7304,))\n",
      "((1826,), (1826,))\n"
     ]
    }
   ],
   "source": [
    "print((Xtrain.shape ,y_train_docs.shape))\n",
    "print((xtest_docs.shape, y_test_docs.shape))"
   ]
  },
  {
   "cell_type": "code",
   "execution_count": 130,
   "metadata": {},
   "outputs": [
    {
     "data": {
      "text/plain": [
       "2451"
      ]
     },
     "execution_count": 130,
     "metadata": {},
     "output_type": "execute_result"
    }
   ],
   "source": [
    "n_words = Xtest.shape[1]\n",
    "n_words"
   ]
  },
  {
   "cell_type": "code",
   "execution_count": 131,
   "metadata": {},
   "outputs": [
    {
     "data": {
      "text/plain": [
       "'n_word : 2451'"
      ]
     },
     "execution_count": 131,
     "metadata": {},
     "output_type": "execute_result"
    }
   ],
   "source": [
    "\"n_word : \"+str(Xtrain.shape[1])"
   ]
  },
  {
   "cell_type": "markdown",
   "metadata": {},
   "source": [
    "####  MLP - Multi Layer perceptron models"
   ]
  },
  {
   "cell_type": "code",
   "execution_count": 132,
   "metadata": {},
   "outputs": [
    {
     "name": "stdout",
     "output_type": "stream",
     "text": [
      "2451\n",
      "_________________________________________________________________\n",
      "Layer (type)                 Output Shape              Param #   \n",
      "=================================================================\n",
      "dense_87 (Dense)             (None, 50)                122600    \n",
      "_________________________________________________________________\n",
      "dense_88 (Dense)             (None, 3)                 153       \n",
      "=================================================================\n",
      "Total params: 122,753\n",
      "Trainable params: 122,753\n",
      "Non-trainable params: 0\n",
      "_________________________________________________________________\n",
      "2491\n",
      "Training Accuracy :  0.970 , Testing Accuracy : 0.922\n"
     ]
    },
    {
     "data": {
      "image/png": "[encoded data removed]",
      "text/plain": [
       "<Figure size 432x288 with 2 Axes>"
      ]
     },
     "metadata": {
      "needs_background": "light"
     },
     "output_type": "display_data"
    }
   ],
   "source": [
    "from nltk.corpus import stopwords\n",
    "from keras.preprocessing.text import Tokenizer\n",
    "from keras.utils.vis_utils import plot_model\n",
    "from keras.models import Sequential\n",
    "from keras.layers import Dense\n",
    "from keras.utils import to_categorical\n",
    "\n",
    "# define the model\n",
    "def define_model(n_words):\n",
    "    # define network\n",
    "    model = Sequential()\n",
    "    model.add(Dense(50, input_shape=(n_words,), activation='relu'))\n",
    "    model.add(Dense(3, activation='sigmoid'))\n",
    "    # compile network\n",
    "    model.compile(loss='categorical_crossentropy', optimizer='adam', metrics=['accuracy'])\n",
    "\n",
    "    # summarize defined model\n",
    "    model.summary()\n",
    "    plot_model(model, to_file='model.png', show_shapes=True)\n",
    "    return model\n",
    "print(n_words)\n",
    "model = define_model(n_words)\n",
    "print(len(set(vocab)))\n",
    "\n",
    "# fit network for MLP based Model :  Input - 50 - 3 (softmax)\n",
    "history = model.fit(Xtrain,\n",
    "                    to_categorical(y_train_docs),\n",
    "                    epochs=40,\n",
    "                    validation_split=0.25,\n",
    "                    verbose=0 )\n",
    "histories = []\n",
    "histories.append(history)\n",
    "_,train_acc = model.evaluate(Xtrain, to_categorical(y_train_docs) ,verbose=0)\n",
    "_, test_acc = model.evaluate(Xtest, to_categorical(y_test_docs), verbose=0)\n",
    "\n",
    "print(\"Training Accuracy :  %.03f , Testing Accuracy : %.03f\" %(train_acc ,test_acc) )\n",
    "\n",
    "summarize_diagnostics(histories)\n",
    "model.save(\"nightingale_freq_jun13.h5\")"
   ]
  },
  {
   "cell_type": "code",
   "execution_count": 137,
   "metadata": {},
   "outputs": [
    {
     "name": "stdout",
     "output_type": "stream",
     "text": [
      "2451\n",
      "_________________________________________________________________\n",
      "Layer (type)                 Output Shape              Param #   \n",
      "=================================================================\n",
      "dense_95 (Dense)             (None, 50)                122600    \n",
      "_________________________________________________________________\n",
      "dense_96 (Dense)             (None, 3)                 153       \n",
      "=================================================================\n",
      "Total params: 122,753\n",
      "Trainable params: 122,753\n",
      "Non-trainable params: 0\n",
      "_________________________________________________________________\n",
      "2491\n",
      "Training Accuracy :  0.890 , Testing Accuracy : 0.861\n"
     ]
    },
    {
     "data": {
      "image/png": "[encoded data removed]",
      "text/plain": [
       "<Figure size 432x288 with 2 Axes>"
      ]
     },
     "metadata": {
      "needs_background": "light"
     },
     "output_type": "display_data"
    }
   ],
   "source": [
    "from keras.regularizers import l2 , l1_l2\n",
    "from keras.constraints import unit_norm\n",
    "\n",
    "\n",
    "# define the model\n",
    "def define_model(n_words):\n",
    "    # define network\n",
    "    model = Sequential()\n",
    "    model.add(Dense(50, input_shape=(n_words,), activation='relu' ,  kernel_constraint=unit_norm()))\n",
    "#     model.add(Dense(10,  activation='relu' ,  kernel_constraint=unit_norm()))\n",
    "    model.add(Dense(3, activation='sigmoid'))\n",
    "    # compile network\n",
    "    model.compile(loss='categorical_crossentropy', optimizer='adam', metrics=['accuracy'])\n",
    "\n",
    "    # summarize defined model\n",
    "    model.summary()\n",
    "    plot_model(model, to_file='model.png', show_shapes=True)\n",
    "    return model\n",
    "print(n_words)\n",
    "model = define_model(n_words)\n",
    "print(len(set(vocab)))\n",
    "\n",
    "# fit network for MLP based Model :  Input - 50 - 3 (softmax)\n",
    "history = model.fit(Xtrain,\n",
    "                    to_categorical(y_train_docs),\n",
    "                    epochs=150,\n",
    "                    validation_split=0.20,\n",
    "                    verbose=0 )\n",
    "histories = []\n",
    "histories.append(history)\n",
    "_,train_acc = model.evaluate(Xtrain, to_categorical(y_train_docs) ,verbose=0)\n",
    "_, test_acc = model.evaluate(Xtest, to_categorical(y_test_docs), verbose=0)\n",
    "\n",
    "print(\"Training Accuracy :  %.03f , Testing Accuracy : %.03f\" %(train_acc ,test_acc) )\n",
    "\n",
    "summarize_diagnostics(histories)"
   ]
  },
  {
   "cell_type": "code",
   "execution_count": 136,
   "metadata": {},
   "outputs": [],
   "source": [
    "# model.save(\"nightingale_freq.h5\")"
   ]
  },
  {
   "cell_type": "code",
   "execution_count": 138,
   "metadata": {},
   "outputs": [],
   "source": [
    "import pickle\n",
    "\n",
    "def save_tokenizer_file(object_, filename):\n",
    "    # saving\n",
    "    with open(filename, 'wb') as handle:\n",
    "        pickle.dump(object_, handle, protocol=pickle.HIGHEST_PROTOCOL)\n",
    "\n",
    "def load_tokenizer_file(filename):\n",
    "    # loading\n",
    "    with open(filename, 'rb') as handle:\n",
    "        tokenizer = pickle.load(handle)\n",
    "        return tokenizer\n",
    "    return null\n",
    "save_tokenizer_file(tokenizer,\"tokenizer.pkl\")"
   ]
  },
  {
   "cell_type": "code",
   "execution_count": 139,
   "metadata": {},
   "outputs": [],
   "source": [
    "def prepare_data(train_docs, test_docs, mode):\n",
    "    # create the tokenizer\n",
    "    tokenizer = Tokenizer()\n",
    "    # fit the tokenizer on the documents\n",
    "    tokenizer.fit_on_texts(train_docs)\n",
    "    # encode training data set\n",
    "    Xtrain = tokenizer.texts_to_matrix(train_docs, mode=mode)\n",
    "    # encode training data set\n",
    "    Xtest = tokenizer.texts_to_matrix(test_docs, mode=mode)\n",
    "    return Xtrain, Xtest"
   ]
  },
  {
   "cell_type": "code",
   "execution_count": 143,
   "metadata": {},
   "outputs": [],
   "source": [
    "def evaluate_mode(Xtrain, ytrain, Xtest, ytest):\n",
    "    scores = list()\n",
    "    n_repeats = 1\n",
    "    n_words = Xtest.shape[1]\n",
    "    for i in range(n_repeats):\n",
    "        # define network\n",
    "        model = define_model(n_words)\n",
    "        # fit network\n",
    "        model.fit(Xtrain, ytrain, epochs=40, verbose=0)\n",
    "        # evaluate\n",
    "        _, acc = model.evaluate(Xtest, to_categorical(y_test_docs), verbose=0)\n",
    "        scores.append(acc)\n",
    "        print('%d accuracy: %s' % ((i+1), acc))\n",
    "    return scores"
   ]
  },
  {
   "cell_type": "code",
   "execution_count": 144,
   "metadata": {},
   "outputs": [
    {
     "name": "stdout",
     "output_type": "stream",
     "text": [
      "_________________________________________________________________\n",
      "Layer (type)                 Output Shape              Param #   \n",
      "=================================================================\n",
      "dense_99 (Dense)             (None, 50)                122600    \n",
      "_________________________________________________________________\n",
      "dense_100 (Dense)            (None, 3)                 153       \n",
      "=================================================================\n",
      "Total params: 122,753\n",
      "Trainable params: 122,753\n",
      "Non-trainable params: 0\n",
      "_________________________________________________________________\n",
      "1 accuracy: 0.9112814895947426\n",
      "         binary\n",
      "count  1.000000\n",
      "mean   0.911281\n",
      "std         NaN\n",
      "min    0.911281\n",
      "25%    0.911281\n",
      "50%    0.911281\n",
      "75%    0.911281\n",
      "max    0.911281\n",
      "_________________________________________________________________\n",
      "Layer (type)                 Output Shape              Param #   \n",
      "=================================================================\n",
      "dense_101 (Dense)            (None, 50)                122600    \n",
      "_________________________________________________________________\n",
      "dense_102 (Dense)            (None, 3)                 153       \n",
      "=================================================================\n",
      "Total params: 122,753\n",
      "Trainable params: 122,753\n",
      "Non-trainable params: 0\n",
      "_________________________________________________________________\n",
      "1 accuracy: 0.927710843373494\n",
      "         binary     count\n",
      "count  1.000000  1.000000\n",
      "mean   0.911281  0.927711\n",
      "std         NaN       NaN\n",
      "min    0.911281  0.927711\n",
      "25%    0.911281  0.927711\n",
      "50%    0.911281  0.927711\n",
      "75%    0.911281  0.927711\n",
      "max    0.911281  0.927711\n",
      "_________________________________________________________________\n",
      "Layer (type)                 Output Shape              Param #   \n",
      "=================================================================\n",
      "dense_103 (Dense)            (None, 50)                122600    \n",
      "_________________________________________________________________\n",
      "dense_104 (Dense)            (None, 3)                 153       \n",
      "=================================================================\n",
      "Total params: 122,753\n",
      "Trainable params: 122,753\n",
      "Non-trainable params: 0\n",
      "_________________________________________________________________\n",
      "1 accuracy: 0.9299014238773274\n",
      "         binary     count     tfidf\n",
      "count  1.000000  1.000000  1.000000\n",
      "mean   0.911281  0.927711  0.929901\n",
      "std         NaN       NaN       NaN\n",
      "min    0.911281  0.927711  0.929901\n",
      "25%    0.911281  0.927711  0.929901\n",
      "50%    0.911281  0.927711  0.929901\n",
      "75%    0.911281  0.927711  0.929901\n",
      "max    0.911281  0.927711  0.929901\n",
      "_________________________________________________________________\n",
      "Layer (type)                 Output Shape              Param #   \n",
      "=================================================================\n",
      "dense_105 (Dense)            (None, 50)                122600    \n",
      "_________________________________________________________________\n",
      "dense_106 (Dense)            (None, 3)                 153       \n",
      "=================================================================\n",
      "Total params: 122,753\n",
      "Trainable params: 122,753\n",
      "Non-trainable params: 0\n",
      "_________________________________________________________________\n",
      "1 accuracy: 0.8587075575027382\n",
      "         binary     count     tfidf      freq\n",
      "count  1.000000  1.000000  1.000000  1.000000\n",
      "mean   0.911281  0.927711  0.929901  0.858708\n",
      "std         NaN       NaN       NaN       NaN\n",
      "min    0.911281  0.927711  0.929901  0.858708\n",
      "25%    0.911281  0.927711  0.929901  0.858708\n",
      "50%    0.911281  0.927711  0.929901  0.858708\n",
      "75%    0.911281  0.927711  0.929901  0.858708\n",
      "max    0.911281  0.927711  0.929901  0.858708\n"
     ]
    }
   ],
   "source": [
    "# run experiment\n",
    "modes = ['binary', 'count', 'tfidf', 'freq']\n",
    "results = DataFrame()\n",
    "for mode in modes:\n",
    "    # prepare data for mode\n",
    "    Xtrain, Xtest = prepare_data(xtrain_docs, xtest_docs, mode)\n",
    "    # evaluate model on data for mode\n",
    "    results[mode] = evaluate_mode(Xtrain, to_categorical(y_train_docs), Xtest, to_categorical(y_test_docs))\n",
    "    # summarize results\n",
    "    # Comparing Word Scoring Methods\n",
    "    print(results.describe())"
   ]
  },
  {
   "cell_type": "code",
   "execution_count": 145,
   "metadata": {},
   "outputs": [
    {
     "data": {
      "image/png": "[encoded data removed]",
      "text/plain": [
       "<Figure size 432x288 with 1 Axes>"
      ]
     },
     "metadata": {
      "needs_background": "light"
     },
     "output_type": "display_data"
    }
   ],
   "source": [
    "results.boxplot()\n",
    "pyplot.show()"
   ]
  },
  {
   "cell_type": "code",
   "execution_count": 146,
   "metadata": {},
   "outputs": [
    {
     "data": {
      "text/plain": [
       "binary    0.911281\n",
       "count     0.927711\n",
       "tfidf     0.929901\n",
       "freq      0.858708\n",
       "dtype: float64"
      ]
     },
     "execution_count": 146,
     "metadata": {},
     "output_type": "execute_result"
    }
   ],
   "source": [
    "results_max = results.max()\n",
    "results_max\n"
   ]
  },
  {
   "cell_type": "markdown",
   "metadata": {},
   "source": [
    "###  Predict New Sentiment"
   ]
  },
  {
   "cell_type": "code",
   "execution_count": 152,
   "metadata": {},
   "outputs": [],
   "source": [
    "# classify a review as negative or positive\n",
    "def predict_sentiment(review, vocab, tokenizer, model):\n",
    "    # clean\n",
    "#     tokens = clean_doc(review)\n",
    "    \n",
    "    tokens = clean_document(text)\n",
    "    print(tokens)\n",
    "    # filter by vocab\n",
    "    tokens = [w for w in tokens if w in vocab]\n",
    "    # convert to line\n",
    "    line = ' '.join(tokens)\n",
    "    # encode\n",
    "    encoded = tokenizer.texts_to_matrix([line], mode='tfidf')\n",
    "    # predict sentiment\n",
    "    yhat = model.predict(encoded, verbose=0)\n",
    "    max_index = np.argmax(yhat[0])\n",
    "    print(yhat[0])\n",
    "    print(yhat[0][max_index])\n",
    "    # retrieve predicted percentage and label\n",
    "    percent_pos = yhat[0][max_index]\n",
    "    if max_index == 0 : \n",
    "        return (percent_pos), '0'\n",
    "    if max_index == 1 : \n",
    "        return (percent_pos), '1'\n",
    "    if max_index == 2 : \n",
    "        return (percent_pos), '2'\n",
    "    return \"NA\""
   ]
  },
  {
   "cell_type": "code",
   "execution_count": 153,
   "metadata": {},
   "outputs": [
    {
     "name": "stdout",
     "output_type": "stream",
     "text": [
      "['leg', 'getting', 'hell', 'lot', 'pain', 'whihch', 'un', 'imaginable', 'blood', 'due', 'pain']\n",
      "[2.1093590e-14 1.9759585e-03 9.9999988e-01]\n",
      "0.9999999\n"
     ]
    },
    {
     "data": {
      "text/plain": [
       "(0.9999999, '2')"
      ]
     },
     "execution_count": 153,
     "metadata": {},
     "output_type": "execute_result"
    }
   ],
   "source": [
    "# test positive text\n",
    "text = \"my leg is getting hell lot of pain whihch is un imaginable blood due to pain!!\"\n",
    "percent, sentiment = predict_sentiment(text, vocab, tokenizer, model)\n",
    "percent, sentiment "
   ]
  },
  {
   "cell_type": "code",
   "execution_count": 154,
   "metadata": {},
   "outputs": [
    {
     "name": "stdout",
     "output_type": "stream",
     "text": [
      "['leg', 'paining', 'alot', 'severe', 'couldnt', 'bear']\n",
      "[6.4445152e-07 9.9569619e-01 1.7149778e-06]\n",
      "0.9956962\n"
     ]
    },
    {
     "data": {
      "text/plain": [
       "(0.9956962, '1')"
      ]
     },
     "execution_count": 154,
     "metadata": {},
     "output_type": "execute_result"
    }
   ],
   "source": [
    "# test positive text\n",
    "text = \"my leg is paining alot and it is severe, couldn't bear any more\"\n",
    "percent, sentiment = predict_sentiment(text, vocab, tokenizer, model)\n",
    "percent, sentiment "
   ]
  },
  {
   "cell_type": "code",
   "execution_count": 155,
   "metadata": {},
   "outputs": [
    {
     "name": "stdout",
     "output_type": "stream",
     "text": [
      "['no', 'pain']\n",
      "[7.0016968e-01 2.7104633e-04 4.1969312e-07]\n",
      "0.7001697\n"
     ]
    },
    {
     "data": {
      "text/plain": [
       "(0.7001697, '0')"
      ]
     },
     "execution_count": 155,
     "metadata": {},
     "output_type": "execute_result"
    }
   ],
   "source": [
    "# test positive text\n",
    "text = \"no pain at all any more\"\n",
    "percent, sentiment = predict_sentiment(text, vocab, tokenizer, model)\n",
    "percent, sentiment "
   ]
  },
  {
   "cell_type": "code",
   "execution_count": 156,
   "metadata": {},
   "outputs": [
    {
     "name": "stdout",
     "output_type": "stream",
     "text": [
      "['no', 'pain']\n",
      "[7.0016968e-01 2.7104633e-04 4.1969312e-07]\n",
      "0.7001697\n",
      "Review: [no pain at all any more]\n",
      "Sentiment: 0 (70.017%)\n",
      "['bad', 'movie']\n",
      "[1.1977411e-04 2.2624556e-02 7.2459203e-05]\n",
      "0.022624556\n",
      "Review: [This is a bad movie.]\n",
      "Sentiment: 1 (2.262%)\n"
     ]
    }
   ],
   "source": [
    "# test positive text\n",
    "# text = 'Best movie ever! It was great, I recommend it.'\n",
    "percent, sentiment = predict_sentiment(text, vocab, tokenizer, model)\n",
    "print('Review: [%s]\\nSentiment: %s (%.3f%%)' % (text, sentiment, percent*100))\n",
    "# test negative text\n",
    "text = 'This is a bad movie.'\n",
    "percent, sentiment = predict_sentiment(text, vocab, tokenizer, model)\n",
    "print('Review: [%s]\\nSentiment: %s (%.3f%%)' % (text, sentiment, percent*100))"
   ]
  },
  {
   "cell_type": "code",
   "execution_count": 157,
   "metadata": {},
   "outputs": [],
   "source": [
    "# define the model\n",
    "def define_model(vocab_size, max_length):\n",
    "    model = Sequential()\n",
    "    model.add(Embedding(vocab_size, 300, input_length=max_length))\n",
    "    model.add(Conv1D(filters=32, kernel_size=8, activation='relu'))\n",
    "    model.add(MaxPooling1D(pool_size=2))\n",
    "    \n",
    "    model.add(Conv1D(filters=32, kernel_size=8, activation='relu'))\n",
    "    model.add(MaxPooling1D(pool_size=2))\n",
    "    model.add(Conv1D(filters=32, kernel_size=8, activation='relu'))\n",
    "    model.add(MaxPooling1D(pool_size=2))\n",
    "    \n",
    "    model.add(Flatten())\n",
    "    model.add(Dense(10, activation='relu'))\n",
    "    model.add(Dense(3, activation='sigmoid'))\n",
    "    # compile network\n",
    "    model.compile(loss='categorical_crossentropy', optimizer='adam', metrics=['accuracy'])\n",
    "\n",
    "    # summarize defined model\n",
    "    model.summary()\n",
    "    plot_model(model, to_file='model.png', show_shapes=True)\n",
    "    return model"
   ]
  },
  {
   "cell_type": "code",
   "execution_count": 158,
   "metadata": {},
   "outputs": [
    {
     "name": "stdout",
     "output_type": "stream",
     "text": [
      "Max length of line :  105\n",
      "Vocab Size :  2491\n"
     ]
    }
   ],
   "source": [
    "max_length = max([len(s.split()) for s in xtrain_docs])\n",
    "print(\"Max length of line : \",max_length)\n",
    "\n",
    "vocab_size = len(set(vocab))\n",
    "print(\"Vocab Size : \", len(set(vocab)))"
   ]
  },
  {
   "cell_type": "code",
   "execution_count": 159,
   "metadata": {},
   "outputs": [],
   "source": [
    "# integer encode and pad documents\n",
    "def encode_docs(tokenizer, max_length, docs):\n",
    "    # integer encode\n",
    "    encoded = tokenizer.texts_to_sequences(docs)\n",
    "    # pad sequences\n",
    "    padded = pad_sequences(encoded, maxlen=max_length, padding='post')\n",
    "    return padded"
   ]
  },
  {
   "cell_type": "code",
   "execution_count": 160,
   "metadata": {},
   "outputs": [
    {
     "name": "stdout",
     "output_type": "stream",
     "text": [
      "_________________________________________________________________\n",
      "Layer (type)                 Output Shape              Param #   \n",
      "=================================================================\n",
      "embedding_16 (Embedding)     (None, 105, 300)          747300    \n",
      "_________________________________________________________________\n",
      "conv1d_43 (Conv1D)           (None, 98, 32)            76832     \n",
      "_________________________________________________________________\n",
      "max_pooling1d_43 (MaxPooling (None, 49, 32)            0         \n",
      "_________________________________________________________________\n",
      "gaussian_noise_4 (GaussianNo (None, 49, 32)            0         \n",
      "_________________________________________________________________\n",
      "conv1d_44 (Conv1D)           (None, 42, 32)            8224      \n",
      "_________________________________________________________________\n",
      "max_pooling1d_44 (MaxPooling (None, 21, 32)            0         \n",
      "_________________________________________________________________\n",
      "conv1d_45 (Conv1D)           (None, 14, 32)            8224      \n",
      "_________________________________________________________________\n",
      "max_pooling1d_45 (MaxPooling (None, 7, 32)             0         \n",
      "_________________________________________________________________\n",
      "flatten_15 (Flatten)         (None, 224)               0         \n",
      "_________________________________________________________________\n",
      "dense_107 (Dense)            (None, 10)                2250      \n",
      "_________________________________________________________________\n",
      "dense_108 (Dense)            (None, 3)                 33        \n",
      "=================================================================\n",
      "Total params: 842,863\n",
      "Trainable params: 842,863\n",
      "Non-trainable params: 0\n",
      "_________________________________________________________________\n",
      "Train on 7304 samples, validate on 1826 samples\n",
      "Epoch 1/10\n",
      " - 10s - loss: 0.6402 - acc: 0.6659 - val_loss: 0.1939 - val_acc: 0.9211\n",
      "Epoch 2/10\n",
      " - 6s - loss: 0.1403 - acc: 0.9422 - val_loss: 0.1499 - val_acc: 0.9304\n",
      "Epoch 3/10\n",
      " - 6s - loss: 0.0797 - acc: 0.9685 - val_loss: 0.1704 - val_acc: 0.9326\n",
      "Epoch 4/10\n",
      " - 6s - loss: 0.0605 - acc: 0.9795 - val_loss: 0.1916 - val_acc: 0.9348\n",
      "Epoch 5/10\n",
      " - 6s - loss: 0.0362 - acc: 0.9873 - val_loss: 0.2530 - val_acc: 0.9310\n",
      "Epoch 6/10\n",
      " - 6s - loss: 0.0234 - acc: 0.9915 - val_loss: 0.3018 - val_acc: 0.9359\n",
      "Epoch 7/10\n",
      " - 6s - loss: 0.0192 - acc: 0.9932 - val_loss: 0.3291 - val_acc: 0.9392\n",
      "Epoch 8/10\n",
      " - 6s - loss: 0.0212 - acc: 0.9922 - val_loss: 0.3377 - val_acc: 0.9365\n",
      "Epoch 9/10\n",
      " - 6s - loss: 0.0093 - acc: 0.9967 - val_loss: 0.3566 - val_acc: 0.9370\n",
      "Epoch 10/10\n",
      " - 6s - loss: 0.0071 - acc: 0.9966 - val_loss: 0.4049 - val_acc: 0.9326\n",
      "Training Accuracy :  0.997 , Testing Accuracy : 0.933\n"
     ]
    },
    {
     "data": {
      "image/png": "[encoded data removed]",
      "text/plain": [
       "<Figure size 432x288 with 2 Axes>"
      ]
     },
     "metadata": {
      "needs_background": "light"
     },
     "output_type": "display_data"
    }
   ],
   "source": [
    "from keras.layers.convolutional import Conv1D\n",
    "from keras.layers.convolutional import MaxPooling1D\n",
    "from keras.layers import Embedding , Flatten\n",
    "from keras.models import Sequential\n",
    "from keras.layers import Dense\n",
    "from keras.layers import Flatten\n",
    "from keras.layers import Embedding\n",
    "from keras.preprocessing.text import Tokenizer\n",
    "from keras.preprocessing.sequence import pad_sequences\n",
    "from keras.layers import GaussianNoise\n",
    "\n",
    "encoded_docs = tokenizer.texts_to_sequences(xtrain_docs)\n",
    "\n",
    "Xtrain  = encode_docs(tokenizer, max_length, xtrain_docs)\n",
    "Xtest  = encode_docs(tokenizer, max_length, xtest_docs)\n",
    "\n",
    "\n",
    "# define the model\n",
    "def define_model(vocab_size, max_length):\n",
    "    model = Sequential()\n",
    "    model.add(Embedding(vocab_size, 300, input_length=max_length))\n",
    "    model.add(Conv1D(filters=32, kernel_size=8, activation='relu' ,  ))\n",
    "    model.add(MaxPooling1D(pool_size=2))\n",
    "    model.add(GaussianNoise(0.1))\n",
    "    model.add(Conv1D(filters=32, kernel_size=8, activation='relu' ,))\n",
    "    model.add(MaxPooling1D(pool_size=2))\n",
    "    model.add(Conv1D(filters=32, kernel_size=8, activation='relu'))\n",
    "    model.add(MaxPooling1D(pool_size=2))\n",
    "    model.add(Flatten())\n",
    "    model.add(Dense(10, activation='relu' ))\n",
    "    model.add(Dense(3, activation='sigmoid'))\n",
    "    # compile network\n",
    "    model.compile(loss='categorical_crossentropy', optimizer='adam', metrics=['accuracy'])\n",
    "\n",
    "    # summarize defined model\n",
    "    model.summary()\n",
    "    plot_model(model, to_file='model.png', show_shapes=True)\n",
    "    return model\n",
    "\n",
    "model = define_model(vocab_size, max_length)\n",
    "# fit network\n",
    "history = model.fit(Xtrain, to_categorical(y_train_docs), \n",
    "          epochs=10, verbose=2,\n",
    "          validation_data=(Xtest, to_categorical(y_test_docs)))\n",
    "# save the model\n",
    "# model.save('model_nightingale.h5')\n",
    "\n",
    "histories = []\n",
    "histories.append(history)\n",
    "_,train_acc = model.evaluate(Xtrain, to_categorical(y_train_docs) ,verbose=0)\n",
    "_, test_acc = model.evaluate(Xtest, to_categorical(y_test_docs), verbose=0)\n",
    "\n",
    "print(\"Training Accuracy :  %.03f , Testing Accuracy : %.03f\" %(train_acc ,test_acc) )\n",
    "\n",
    "summarize_diagnostics(histories)\n",
    "# model.save('model_nightingale_embedd_Jun13.h5')"
   ]
  },
  {
   "cell_type": "code",
   "execution_count": 162,
   "metadata": {},
   "outputs": [
    {
     "name": "stdout",
     "output_type": "stream",
     "text": [
      "_________________________________________________________________\n",
      "Layer (type)                 Output Shape              Param #   \n",
      "=================================================================\n",
      "embedding_18 (Embedding)     (None, 105, 300)          747300    \n",
      "_________________________________________________________________\n",
      "gaussian_noise_6 (GaussianNo (None, 105, 300)          0         \n",
      "_________________________________________________________________\n",
      "conv1d_49 (Conv1D)           (None, 98, 32)            76832     \n",
      "_________________________________________________________________\n",
      "max_pooling1d_49 (MaxPooling (None, 49, 32)            0         \n",
      "_________________________________________________________________\n",
      "dropout_10 (Dropout)         (None, 49, 32)            0         \n",
      "_________________________________________________________________\n",
      "conv1d_50 (Conv1D)           (None, 42, 32)            8224      \n",
      "_________________________________________________________________\n",
      "max_pooling1d_50 (MaxPooling (None, 21, 32)            0         \n",
      "_________________________________________________________________\n",
      "dropout_11 (Dropout)         (None, 21, 32)            0         \n",
      "_________________________________________________________________\n",
      "conv1d_51 (Conv1D)           (None, 14, 32)            8224      \n",
      "_________________________________________________________________\n",
      "max_pooling1d_51 (MaxPooling (None, 7, 32)             0         \n",
      "_________________________________________________________________\n",
      "dropout_12 (Dropout)         (None, 7, 32)             0         \n",
      "_________________________________________________________________\n",
      "flatten_17 (Flatten)         (None, 224)               0         \n",
      "_________________________________________________________________\n",
      "dense_111 (Dense)            (None, 10)                2250      \n",
      "_________________________________________________________________\n",
      "dense_112 (Dense)            (None, 3)                 33        \n",
      "=================================================================\n",
      "Total params: 842,863\n",
      "Trainable params: 842,863\n",
      "Non-trainable params: 0\n",
      "_________________________________________________________________\n",
      "Train on 7304 samples, validate on 1826 samples\n",
      "Epoch 1/10\n",
      " - 11s - loss: 1.0876 - acc: 0.3658 - val_loss: 0.9820 - val_acc: 0.5186\n",
      "Epoch 2/10\n",
      " - 7s - loss: 0.6628 - acc: 0.6616 - val_loss: 0.5029 - val_acc: 0.7344\n",
      "Epoch 3/10\n",
      " - 7s - loss: 0.4580 - acc: 0.7735 - val_loss: 0.3154 - val_acc: 0.8757\n",
      "Epoch 4/10\n",
      " - 7s - loss: 0.2640 - acc: 0.8903 - val_loss: 0.2047 - val_acc: 0.9047\n",
      "Epoch 5/10\n",
      " - 7s - loss: 0.1684 - acc: 0.9363 - val_loss: 0.1585 - val_acc: 0.9387\n",
      "Epoch 6/10\n",
      " - 7s - loss: 0.1143 - acc: 0.9571 - val_loss: 0.1613 - val_acc: 0.9376\n",
      "Epoch 7/10\n",
      " - 7s - loss: 0.0836 - acc: 0.9685 - val_loss: 0.1899 - val_acc: 0.9381\n",
      "Epoch 8/10\n",
      " - 7s - loss: 0.0778 - acc: 0.9730 - val_loss: 0.1937 - val_acc: 0.9387\n",
      "Epoch 9/10\n",
      " - 7s - loss: 0.0704 - acc: 0.9755 - val_loss: 0.2038 - val_acc: 0.9414\n",
      "Epoch 10/10\n",
      " - 7s - loss: 0.0637 - acc: 0.9769 - val_loss: 0.2080 - val_acc: 0.9409\n",
      "Training Accuracy :  0.988 , Testing Accuracy : 0.941\n"
     ]
    },
    {
     "data": {
      "image/png": "[encoded data removed]",
      "text/plain": [
       "<Figure size 432x288 with 2 Axes>"
      ]
     },
     "metadata": {
      "needs_background": "light"
     },
     "output_type": "display_data"
    }
   ],
   "source": [
    "from keras.layers.convolutional import Conv1D\n",
    "from keras.layers.convolutional import MaxPooling1D\n",
    "from keras.layers import Embedding , Flatten\n",
    "from keras.models import Sequential\n",
    "from keras.layers import Dense\n",
    "from keras.layers import Flatten\n",
    "from keras.layers import Embedding\n",
    "from keras.preprocessing.text import Tokenizer\n",
    "from keras.preprocessing.sequence import pad_sequences\n",
    "from keras.layers import GaussianNoise\n",
    "\n",
    "encoded_docs = tokenizer.texts_to_sequences(xtrain_docs)\n",
    "\n",
    "Xtrain  = encode_docs(tokenizer, max_length, xtrain_docs)\n",
    "Xtest  = encode_docs(tokenizer, max_length, xtest_docs)\n",
    "\n",
    "\n",
    "# define the model\n",
    "def define_model(vocab_size, max_length):\n",
    "    model = Sequential()\n",
    "    model.add(Embedding(vocab_size, 300, input_length=max_length))\n",
    "    model.add(GaussianNoise(0.1))\n",
    "    model.add(Conv1D(filters=32, kernel_size=8, activation='relu'  ))\n",
    "    model.add(MaxPooling1D(pool_size=2))    \n",
    "    model.add(Dropout(0.2))\n",
    "    model.add(Conv1D(filters=32, kernel_size=8, activation='relu'  ))\n",
    "    model.add(MaxPooling1D(pool_size=2))\n",
    "    model.add(Dropout(0.4))\n",
    "    model.add(Conv1D(filters=32, kernel_size=8, activation='relu'  ))\n",
    "    model.add(MaxPooling1D(pool_size=2))\n",
    "    model.add(Dropout(0.6))\n",
    "    model.add(Flatten())\n",
    "    model.add(Dense(10, activation='relu' ))\n",
    "    model.add(Dense(3, activation='sigmoid'))\n",
    "    # compile network\n",
    "    model.compile(loss='categorical_crossentropy', optimizer='adam', metrics=['accuracy'])\n",
    "\n",
    "    # summarize defined model\n",
    "    model.summary()\n",
    "    plot_model(model, to_file='model.png', show_shapes=True)\n",
    "    return model\n",
    "\n",
    "model = define_model(vocab_size, max_length)\n",
    "# fit network\n",
    "history = model.fit(Xtrain, to_categorical(y_train_docs), \n",
    "          epochs=10, verbose=2,\n",
    "          validation_data=(Xtest, to_categorical(y_test_docs)))\n",
    "# save the model\n",
    "# model.save('model_nightingale.h5')\n",
    "\n",
    "histories = []\n",
    "histories.append(history)\n",
    "_,train_acc = model.evaluate(Xtrain, to_categorical(y_train_docs) ,verbose=0)\n",
    "_, test_acc = model.evaluate(Xtest, to_categorical(y_test_docs), verbose=0)\n",
    "\n",
    "print(\"Training Accuracy :  %.03f , Testing Accuracy : %.03f\" %(train_acc ,test_acc) )\n",
    "\n",
    "summarize_diagnostics(histories)\n",
    "# model.save('model_nightingale_embedd_Jun13.h5')"
   ]
  },
  {
   "cell_type": "code",
   "execution_count": 164,
   "metadata": {},
   "outputs": [],
   "source": [
    "# load the model\n",
    "from keras.models import load_model\n",
    "# save the model\n",
    "model.save('model_nightingale_embedd_Jun13_ep50.h5')\n",
    "# model = load_model('model_multi_nightingale.h5')"
   ]
  },
  {
   "cell_type": "code",
   "execution_count": 165,
   "metadata": {},
   "outputs": [
    {
     "data": {
      "text/plain": [
       "<keras_preprocessing.text.Tokenizer at 0x7ff168b7e5c0>"
      ]
     },
     "execution_count": 165,
     "metadata": {},
     "output_type": "execute_result"
    }
   ],
   "source": [
    "save_tokenizer_file(tokenizer, 'tokenizer.pkl')\n",
    "tokenizer = load_tokenizer_file('tokenizer.pkl')\n",
    "tokenizer"
   ]
  },
  {
   "cell_type": "code",
   "execution_count": 166,
   "metadata": {},
   "outputs": [],
   "source": [
    "def save_file(data, filename):\n",
    "    dump(data,filename)\n",
    "    print('Saved: %s' % filename)"
   ]
  },
  {
   "cell_type": "markdown",
   "metadata": {},
   "source": [
    "#########################"
   ]
  },
  {
   "cell_type": "code",
   "execution_count": 167,
   "metadata": {},
   "outputs": [],
   "source": [
    "text = \" Hello John,How can I help to you What causes headaches?please let me know Is it a throbbing headache?  How does bending forward affect your headache?  How would you describe the intensity of your headache?  Do you become frustrated or upset easily?  Have you recently used any drugs in any form?  Do you experience day time sleep?  Do you tend to drink alcohol heavily?  Are you feeling agitated and physically restless? \""
   ]
  },
  {
   "cell_type": "code",
   "execution_count": 168,
   "metadata": {},
   "outputs": [
    {
     "name": "stdout",
     "output_type": "stream",
     "text": [
      "['help', 'causes', 'headachesplease', 'let', 'know', 'throbbing', 'headache', 'bending', 'forward', 'affect', 'headache', 'would', 'describe', 'intensity', 'headache', 'become', 'frustrated', 'upset', 'easily', 'recently', 'used', 'drugs', 'form', 'experience', 'day', 'time', 'sleep', 'tend', 'drink', 'alcohol', 'heavily', 'feeling', 'agitated', 'physically', 'restless']\n"
     ]
    },
    {
     "data": {
      "text/plain": [
       "'help causes headachesplease let know throbbing headache bending forward affect headache would describe intensity headache become frustrated upset easily recently used drugs form experience day time sleep tend drink alcohol heavily feeling agitated physically restless'"
      ]
     },
     "execution_count": 168,
     "metadata": {},
     "output_type": "execute_result"
    }
   ],
   "source": [
    "tokens = clean_document(text)\n",
    "print(tokens)\n",
    "# filter by vocab\n",
    "tokens = [w for w in tokens if w in vocab]\n",
    "# # convert to line\n",
    "line = ' '.join(tokens)\n",
    "line\n",
    "\n",
    "# # encode\n",
    "# encoded = tokenizer.texts_to_matrix([line], mode='freq')\n",
    "# # predict sentiment\n",
    "# yhat = model.predict(encoded, verbose=0)"
   ]
  },
  {
   "cell_type": "markdown",
   "metadata": {},
   "source": [
    "#########################"
   ]
  },
  {
   "cell_type": "code",
   "execution_count": 69,
   "metadata": {},
   "outputs": [],
   "source": [
    "# def clean_document(doc) :\n",
    "    \n",
    "#     re_punc = re.compile('[%s]' % re.escape(string.punctuation))\n",
    "# #     stop_words = set(stopwords.words('english'))\n",
    "#     doc = doc.replace(\"Hello John,\", \"\")\n",
    "#     tokens = doc.lower().split()\n",
    "#     print(tokens)\n",
    "# #     tokens = [w for w in tokens if '@' not in w]\n",
    "    \n",
    "#     # remove punctuation from each word\n",
    "#     tokens = [re_punc.sub('', w) for w in tokens]\n",
    "#     # remove remaining tokens that are not alphabetic\n",
    "#     tokens = [word for word in tokens if word.isalpha() or word.isalnum()]\n",
    "# #     stop_words = set(stopwords.words('english'))\n",
    "#     #remove stop words\n",
    "#     tokens = [word for word in tokens if word not in stop_words]\n",
    "#     tokens = [word for word in tokens if word not in punc_]\n",
    "#     tokens = [re.sub('[^A-Za-z0-9]+', '', word)  for word in tokens]\n",
    "#     tokens = [word for word in tokens if len(word) > 1]\n",
    "#     print(tokens)\n",
    "#     return tokens\n",
    "\n",
    "# def preprocess_documents(docs):\n",
    "#     clean_docs = [clean_document(doc) for doc in docs]\n",
    "#     return clean_docs"
   ]
  },
  {
   "cell_type": "code",
   "execution_count": 169,
   "metadata": {},
   "outputs": [
    {
     "name": "stdout",
     "output_type": "stream",
     "text": [
      "['headache', 'throbbing', 'headache', 'no', 'bending', 'forward', 'affect', 'headache', 'no', 'would', 'describe', 'intensity', 'headache', 'no', 'become', 'frustrated', 'upset', 'easily', 'no', 'recently', 'used', 'drugs', 'form', 'no', 'tend', 'drink', 'alcohol', 'often', 'heavily', 'no', 'feeling', 'agitated', 'physically', 'restless', 'no', 'no']\n"
     ]
    }
   ],
   "source": [
    "text = \"i have headache Is it a throbbing headache? no How does bending forward affect your headache? no How would you describe the intensity of your headache? no Do you become frustrated or upset easily? no Have you recently used any drugs in any form? no Do you tend to drink alcohol often and heavily? no Are you feeling agitated and physically restless? no no\"\n",
    "# text = \" Hello John,How can I help to you daily I am getting headache Is it a throbbing headache? No trobbing  How does bending forward affect your headache? Bright light hurts eyes (photophobia) How would you describe the intensity of your headache? some times Double vision Do you become frustrated or upset easily? I upset easily Have you recently used any drugs in any form? not taken any meidication Do you experience day time sleep? hmm.. yes. sometimes easliy Do you tend to drink alcohol heavily? With out alcohol I don’t have lifeee Are you feeling agitated and physically restless? feeling hopeless, sad\"\n",
    "\n",
    "tokens = clean_document(text)\n",
    "print(tokens)\n",
    "# # filter by vocab\n",
    "# tokens = [w for w in tokens if w in vocab]\n",
    "# # # convert to line\n",
    "# line = ' '.join(tokens)\n",
    "# print(line)\n",
    "# enc_docs = encode_docs(tokenizer, max_length, [line])\n",
    "\n",
    "\n",
    "# model = load_model(\"model-022-0.996714-0.934283.h5\")\n",
    "# output_arr = model.predict([enc_docs,enc_docs,enc_docs])\n",
    "\n",
    "# print(output_arr)\n",
    "# print(output_arr[0].argmax())\n",
    "# # output_arr[]"
   ]
  },
  {
   "cell_type": "code",
   "execution_count": 170,
   "metadata": {},
   "outputs": [
    {
     "data": {
      "text/plain": [
       "105"
      ]
     },
     "execution_count": 170,
     "metadata": {},
     "output_type": "execute_result"
    }
   ],
   "source": [
    "max_length"
   ]
  },
  {
   "cell_type": "code",
   "execution_count": 171,
   "metadata": {},
   "outputs": [],
   "source": [
    "enc_docs = encode_docs(tokenizer, max_length, [line])"
   ]
  },
  {
   "cell_type": "code",
   "execution_count": 172,
   "metadata": {},
   "outputs": [
    {
     "name": "stdout",
     "output_type": "stream",
     "text": [
      "[[0.16281545 0.31628814 0.02847465]]\n"
     ]
    },
    {
     "data": {
      "text/plain": [
       "0.16281545"
      ]
     },
     "execution_count": 172,
     "metadata": {},
     "output_type": "execute_result"
    }
   ],
   "source": [
    "output_arr = model.predict(enc_docs)\n",
    "# output_arr[]\n",
    "print(output_arr)\n",
    "output_arr.argmax()\n",
    "output_arr[0][0]"
   ]
  },
  {
   "cell_type": "code",
   "execution_count": 173,
   "metadata": {},
   "outputs": [],
   "source": [
    "Xtrain  = encode_docs(tokenizer, max_length, xtrain_docs)"
   ]
  },
  {
   "cell_type": "code",
   "execution_count": 174,
   "metadata": {},
   "outputs": [
    {
     "name": "stdout",
     "output_type": "stream",
     "text": [
      "Saved: train_nightingale.pkl\n",
      "Saved: test_nightingale.pkl\n"
     ]
    }
   ],
   "source": [
    "from pickle import dump\n",
    "# save a dataset to file\n",
    "def save_dataset(dataset, filename):\n",
    "    dump(dataset, open(filename, 'wb'))\n",
    "    print('Saved: %s' % filename)\n",
    "    # load and clean all reviews\n",
    "#     train_docs, ytrain = load_clean_dataset(True)\n",
    "#     test_docs, ytest = load_clean_dataset(False)\n",
    "# save training datasets\n",
    "save_dataset([Xtrain, to_categorical(y_train_docs)], 'train_nightingale.pkl')\n",
    "save_dataset([Xtest, to_categorical(y_test_docs)], 'test_nightingale.pkl')   \n"
   ]
  },
  {
   "cell_type": "code",
   "execution_count": 175,
   "metadata": {},
   "outputs": [],
   "source": [
    "from pickle import load\n",
    "# load a clean dataset\n",
    "def load_dataset(filename):\n",
    "    return load(open(filename, 'rb'))\n",
    "trainLines, trainLabels = load_dataset('train.pkl')"
   ]
  },
  {
   "cell_type": "code",
   "execution_count": 215,
   "metadata": {},
   "outputs": [
    {
     "name": "stdout",
     "output_type": "stream",
     "text": [
      "2451\n",
      "__________________________________________________________________________________________________\n",
      "Layer (type)                    Output Shape         Param #     Connected to                     \n",
      "==================================================================================================\n",
      "input_23 (InputLayer)           (None, 105)          0                                            \n",
      "__________________________________________________________________________________________________\n",
      "gaussian_noise_17 (GaussianNois (None, 105)          0           input_23[0][0]                   \n",
      "__________________________________________________________________________________________________\n",
      "embedding_40 (Embedding)        (None, 105, 300)     735300      gaussian_noise_17[0][0]          \n",
      "__________________________________________________________________________________________________\n",
      "embedding_41 (Embedding)        (None, 105, 300)     735300      gaussian_noise_17[0][0]          \n",
      "__________________________________________________________________________________________________\n",
      "embedding_42 (Embedding)        (None, 105, 300)     735300      gaussian_noise_17[0][0]          \n",
      "__________________________________________________________________________________________________\n",
      "conv1d_73 (Conv1D)              (None, 102, 32)      38432       embedding_40[0][0]               \n",
      "__________________________________________________________________________________________________\n",
      "conv1d_74 (Conv1D)              (None, 100, 32)      57632       embedding_41[0][0]               \n",
      "__________________________________________________________________________________________________\n",
      "conv1d_75 (Conv1D)              (None, 98, 32)       76832       embedding_42[0][0]               \n",
      "__________________________________________________________________________________________________\n",
      "dropout_34 (Dropout)            (None, 102, 32)      0           conv1d_73[0][0]                  \n",
      "__________________________________________________________________________________________________\n",
      "dropout_35 (Dropout)            (None, 100, 32)      0           conv1d_74[0][0]                  \n",
      "__________________________________________________________________________________________________\n",
      "dropout_36 (Dropout)            (None, 98, 32)       0           conv1d_75[0][0]                  \n",
      "__________________________________________________________________________________________________\n",
      "max_pooling1d_73 (MaxPooling1D) (None, 51, 32)       0           dropout_34[0][0]                 \n",
      "__________________________________________________________________________________________________\n",
      "max_pooling1d_74 (MaxPooling1D) (None, 50, 32)       0           dropout_35[0][0]                 \n",
      "__________________________________________________________________________________________________\n",
      "max_pooling1d_75 (MaxPooling1D) (None, 49, 32)       0           dropout_36[0][0]                 \n",
      "__________________________________________________________________________________________________\n",
      "flatten_39 (Flatten)            (None, 1632)         0           max_pooling1d_73[0][0]           \n",
      "__________________________________________________________________________________________________\n",
      "flatten_40 (Flatten)            (None, 1600)         0           max_pooling1d_74[0][0]           \n",
      "__________________________________________________________________________________________________\n",
      "flatten_41 (Flatten)            (None, 1568)         0           max_pooling1d_75[0][0]           \n",
      "__________________________________________________________________________________________________\n",
      "concatenate_8 (Concatenate)     (None, 4800)         0           flatten_39[0][0]                 \n",
      "                                                                 flatten_40[0][0]                 \n",
      "                                                                 flatten_41[0][0]                 \n",
      "__________________________________________________________________________________________________\n",
      "dense_127 (Dense)               (None, 10)           48010       concatenate_8[0][0]              \n",
      "__________________________________________________________________________________________________\n",
      "dense_128 (Dense)               (None, 3)            33          dense_127[0][0]                  \n",
      "==================================================================================================\n",
      "Total params: 2,426,839\n",
      "Trainable params: 2,426,839\n",
      "Non-trainable params: 0\n",
      "__________________________________________________________________________________________________\n",
      "Train on 7304 samples, validate on 1826 samples\n",
      "Epoch 1/10\n",
      "7304/7304 [==============================] - 18s 3ms/step - loss: 0.7345 - acc: 0.6655 - val_loss: 0.4069 - val_acc: 0.8248\n",
      "\n",
      "Epoch 00001: val_acc improved from -inf to 0.82475, saving model to model-001-0.665526-0.824754.h5\n",
      "Epoch 2/10\n",
      "7304/7304 [==============================] - 13s 2ms/step - loss: 0.2583 - acc: 0.8969 - val_loss: 0.2182 - val_acc: 0.9189\n",
      "\n",
      "Epoch 00002: val_acc improved from 0.82475 to 0.91895, saving model to model-002-0.896906-0.918949.h5\n",
      "Epoch 3/10\n",
      "7304/7304 [==============================] - 13s 2ms/step - loss: 0.1715 - acc: 0.9347 - val_loss: 0.2330 - val_acc: 0.9135\n",
      "\n",
      "Epoch 00003: val_acc did not improve from 0.91895\n",
      "Epoch 4/10\n",
      "7304/7304 [==============================] - 13s 2ms/step - loss: 0.1307 - acc: 0.9530 - val_loss: 0.2206 - val_acc: 0.9184\n",
      "\n",
      "Epoch 00004: val_acc did not improve from 0.91895\n",
      "Epoch 5/10\n",
      "7304/7304 [==============================] - 13s 2ms/step - loss: 0.0999 - acc: 0.9650 - val_loss: 0.2535 - val_acc: 0.9080\n",
      "\n",
      "Epoch 00005: val_acc did not improve from 0.91895\n",
      "Epoch 6/10\n",
      "7304/7304 [==============================] - 13s 2ms/step - loss: 0.0773 - acc: 0.9747 - val_loss: 0.2325 - val_acc: 0.9244\n",
      "\n",
      "Epoch 00006: val_acc improved from 0.91895 to 0.92442, saving model to model-006-0.974671-0.924425.h5\n",
      "Epoch 7/10\n",
      "7304/7304 [==============================] - 13s 2ms/step - loss: 0.0596 - acc: 0.9773 - val_loss: 0.2557 - val_acc: 0.9239\n",
      "\n",
      "Epoch 00007: val_acc did not improve from 0.92442\n",
      "Epoch 8/10\n",
      "7304/7304 [==============================] - 13s 2ms/step - loss: 0.0543 - acc: 0.9815 - val_loss: 0.2693 - val_acc: 0.9321\n",
      "\n",
      "Epoch 00008: val_acc improved from 0.92442 to 0.93209, saving model to model-008-0.981517-0.932092.h5\n",
      "Epoch 9/10\n",
      "7304/7304 [==============================] - 13s 2ms/step - loss: 0.0449 - acc: 0.9854 - val_loss: 0.2662 - val_acc: 0.9310\n",
      "\n",
      "Epoch 00009: val_acc did not improve from 0.93209\n",
      "Epoch 10/10\n",
      "7304/7304 [==============================] - 13s 2ms/step - loss: 0.0515 - acc: 0.9838 - val_loss: 0.2990 - val_acc: 0.9272\n",
      "\n",
      "Epoch 00010: val_acc did not improve from 0.93209\n",
      "Training Accuracy :  0.994 , Testing Accuracy : 0.927\n"
     ]
    },
    {
     "data": {
      "image/png": "[encoded data removed]",
      "text/plain": [
       "<Figure size 432x288 with 2 Axes>"
      ]
     },
     "metadata": {
      "needs_background": "light"
     },
     "output_type": "display_data"
    }
   ],
   "source": [
    "length = max_length\n",
    "from numpy import array\n",
    "from keras.layers import Input\n",
    "from keras.layers import Dense\n",
    "from keras.layers import Flatten\n",
    "from keras.layers import Dropout\n",
    "from keras.layers import Embedding\n",
    "from keras.layers.convolutional import Conv1D\n",
    "from keras.layers.merge import concatenate\n",
    "from keras.models import Model\n",
    "\n",
    "# 1. Word Embeddings + CNN = Text Classi\f",
    "cation\n",
    "# 2. Use a Single Layer CNN Architecture\n",
    "# 3. Dial in CNN Hyperparameters\n",
    "# 4. Consider Character-Level CNNs\n",
    "# 5. Consider Deeper CNNs for Classi\f",
    "cation\n",
    "\n",
    "# define the model\n",
    "def define_model(length, vocab_size):\n",
    "    # channel 1\n",
    "    inputs1 = Input(shape=(length,))\n",
    "    noise1 = GaussianNoise(0.1)(inputs1)\n",
    "    embedding1 = Embedding(vocab_size, 300)(noise1)\n",
    "    conv1 = Conv1D(filters=32, kernel_size=4, activation='relu' ,  )(embedding1)\n",
    "    drop1 = Dropout(0.5)(conv1)\n",
    "    pool1 = MaxPooling1D(pool_size=2)(drop1)\n",
    "    flat1 = Flatten()(pool1)\n",
    "    \n",
    "    # channel 2\n",
    "    inputs2 = Input(shape=(length,))\n",
    "#     noise2 = GaussianNoise(0.1)(inputs2)\n",
    "    embedding2 = Embedding(vocab_size, 300)(noise1)\n",
    "    conv2 = Conv1D(filters=32, kernel_size=6, activation='relu' ,)(embedding2)\n",
    "    drop2 = Dropout(0.5)(conv2)\n",
    "    pool2 = MaxPooling1D(pool_size=2)(drop2)\n",
    "    flat2 = Flatten()(pool2)\n",
    "    \n",
    "    # channel 3\n",
    "    inputs3 = Input(shape=(length,))\n",
    "#     noise3 = GaussianNoise(0.1)(inputs3)\n",
    "    embedding3 = Embedding(vocab_size, 300)(noise1)\n",
    "    conv3 = Conv1D(filters=32, kernel_size=8, activation='relu',  )(embedding3)\n",
    "    drop3 = Dropout(0.5)(conv3)\n",
    "    pool3 = MaxPooling1D(pool_size=2)(drop3)\n",
    "    flat3 = Flatten()(pool3)\n",
    "    \n",
    "    # merge\n",
    "    merged = concatenate([flat1, flat2, flat3])\n",
    "    \n",
    "    # interpretation\n",
    "    dense1 = Dense(10, activation='relu')(merged)\n",
    "    outputs = Dense(3, activation='sigmoid')(dense1)\n",
    "    model = Model(inputs=[inputs1, inputs2, inputs3], outputs=outputs)\n",
    "    # compile\n",
    "    model.compile(loss='categorical_crossentropy', optimizer='adam', metrics=['accuracy'])\n",
    "    # summarize\n",
    "    model.summary()\n",
    "    plot_model(model, show_shapes=True, to_file='multichannel.png')\n",
    "    return model\n",
    "\n",
    "\n",
    "\n",
    "# encode a list of lines\n",
    "def encode_text(tokenizer, lines, length):\n",
    "    # integer encode\n",
    "    encoded = tokenizer.texts_to_sequences(lines)\n",
    "    # pad encoded sequences\n",
    "    padded = pad_sequences(encoded, maxlen=length, padding='post')\n",
    "    return padded\n",
    "\n",
    "vocab_size = len(tokenizer.word_index) + 1\n",
    "print(vocab_size)\n",
    "\n",
    "Xtrain  = encode_docs(tokenizer, max_length, xtrain_docs)\n",
    "Xtest  = encode_docs(tokenizer, max_length, xtest_docs)\n",
    "trainLabels = to_categorical(y_train_docs)\n",
    "\n",
    "trainX = encode_text(tokenizer, xtrain_docs, max_length)\n",
    "# define model\n",
    "model = define_model(length, vocab_size)\n",
    "# print(model.summary())\n",
    "\n",
    "testX  = encode_docs(tokenizer, max_length, xtest_docs)\n",
    "checkpoint = ModelCheckpoint('model-{epoch:03d}-{acc:03f}-{val_acc:03f}.h5',\n",
    "                             verbose=1, monitor='val_acc',save_best_only=True, mode='auto')  \n",
    "\n",
    "# fit model\n",
    "history = model.fit([trainX,trainX,trainX], \n",
    "                    array(trainLabels),\n",
    "                    epochs=10,\n",
    "                    verbose=1,\n",
    "                    validation_data=([testX,testX,testX],\n",
    "                                     to_categorical(y_test_docs)) , \n",
    "                    callbacks=[checkpoint])\n",
    "\n",
    "histories = []\n",
    "histories.append(history)\n",
    "\n",
    "_,train_acc = model.evaluate([Xtrain,Xtrain,Xtrain], to_categorical(y_train_docs) ,verbose=0)\n",
    "_, test_acc = model.evaluate([Xtest,Xtest,Xtest], to_categorical(y_test_docs), verbose=0)\n",
    "\n",
    "print(\"Training Accuracy :  %.03f , Testing Accuracy : %.03f\" %(train_acc ,test_acc) )\n",
    "\n",
    "summarize_diagnostics(histories)"
   ]
  },
  {
   "cell_type": "code",
   "execution_count": null,
   "metadata": {},
   "outputs": [],
   "source": []
  },
  {
   "cell_type": "code",
   "execution_count": 210,
   "metadata": {},
   "outputs": [
    {
     "name": "stdout",
     "output_type": "stream",
     "text": [
      "Training Accuracy :  0.990 , Testing Accuracy : 0.927\n"
     ]
    },
    {
     "data": {
      "image/png": "[encoded data removed]",
      "text/plain": [
       "<Figure size 432x288 with 2 Axes>"
      ]
     },
     "metadata": {
      "needs_background": "light"
     },
     "output_type": "display_data"
    }
   ],
   "source": []
  },
  {
   "cell_type": "code",
   "execution_count": null,
   "metadata": {},
   "outputs": [],
   "source": []
  },
  {
   "cell_type": "code",
   "execution_count": null,
   "metadata": {},
   "outputs": [],
   "source": []
  },
  {
   "cell_type": "code",
   "execution_count": 199,
   "metadata": {
    "scrolled": false
   },
   "outputs": [
    {
     "name": "stdout",
     "output_type": "stream",
     "text": [
      "__________________________________________________________________________________________________\n",
      "Layer (type)                    Output Shape         Param #     Connected to                     \n",
      "==================================================================================================\n",
      "input_4 (InputLayer)            (None, 105)          0                                            \n",
      "__________________________________________________________________________________________________\n",
      "input_5 (InputLayer)            (None, 105)          0                                            \n",
      "__________________________________________________________________________________________________\n",
      "input_6 (InputLayer)            (None, 105)          0                                            \n",
      "__________________________________________________________________________________________________\n",
      "embedding_22 (Embedding)        (None, 105, 300)     735300      input_4[0][0]                    \n",
      "__________________________________________________________________________________________________\n",
      "embedding_23 (Embedding)        (None, 105, 300)     735300      input_5[0][0]                    \n",
      "__________________________________________________________________________________________________\n",
      "embedding_24 (Embedding)        (None, 105, 300)     735300      input_6[0][0]                    \n",
      "__________________________________________________________________________________________________\n",
      "conv1d_55 (Conv1D)              (None, 102, 32)      38432       embedding_22[0][0]               \n",
      "__________________________________________________________________________________________________\n",
      "conv1d_56 (Conv1D)              (None, 100, 32)      57632       embedding_23[0][0]               \n",
      "__________________________________________________________________________________________________\n",
      "conv1d_57 (Conv1D)              (None, 98, 32)       76832       embedding_24[0][0]               \n",
      "__________________________________________________________________________________________________\n",
      "dropout_16 (Dropout)            (None, 102, 32)      0           conv1d_55[0][0]                  \n",
      "__________________________________________________________________________________________________\n",
      "dropout_17 (Dropout)            (None, 100, 32)      0           conv1d_56[0][0]                  \n",
      "__________________________________________________________________________________________________\n",
      "dropout_18 (Dropout)            (None, 98, 32)       0           conv1d_57[0][0]                  \n",
      "__________________________________________________________________________________________________\n",
      "max_pooling1d_55 (MaxPooling1D) (None, 51, 32)       0           dropout_16[0][0]                 \n",
      "__________________________________________________________________________________________________\n",
      "max_pooling1d_56 (MaxPooling1D) (None, 50, 32)       0           dropout_17[0][0]                 \n",
      "__________________________________________________________________________________________________\n",
      "max_pooling1d_57 (MaxPooling1D) (None, 49, 32)       0           dropout_18[0][0]                 \n",
      "__________________________________________________________________________________________________\n",
      "flatten_21 (Flatten)            (None, 1632)         0           max_pooling1d_55[0][0]           \n",
      "__________________________________________________________________________________________________\n",
      "flatten_22 (Flatten)            (None, 1600)         0           max_pooling1d_56[0][0]           \n",
      "__________________________________________________________________________________________________\n",
      "flatten_23 (Flatten)            (None, 1568)         0           max_pooling1d_57[0][0]           \n",
      "__________________________________________________________________________________________________\n",
      "concatenate_2 (Concatenate)     (None, 4800)         0           flatten_21[0][0]                 \n",
      "                                                                 flatten_22[0][0]                 \n",
      "                                                                 flatten_23[0][0]                 \n",
      "__________________________________________________________________________________________________\n",
      "dense_115 (Dense)               (None, 10)           48010       concatenate_2[0][0]              \n",
      "__________________________________________________________________________________________________\n",
      "dense_116 (Dense)               (None, 3)            33          dense_115[0][0]                  \n",
      "==================================================================================================\n",
      "Total params: 2,426,839\n",
      "Trainable params: 2,426,839\n",
      "Non-trainable params: 0\n",
      "__________________________________________________________________________________________________\n",
      "__________________________________________________________________________________________________\n",
      "Layer (type)                    Output Shape         Param #     Connected to                     \n",
      "==================================================================================================\n",
      "input_4 (InputLayer)            (None, 105)          0                                            \n",
      "__________________________________________________________________________________________________\n",
      "input_5 (InputLayer)            (None, 105)          0                                            \n",
      "__________________________________________________________________________________________________\n",
      "input_6 (InputLayer)            (None, 105)          0                                            \n",
      "__________________________________________________________________________________________________\n",
      "embedding_22 (Embedding)        (None, 105, 300)     735300      input_4[0][0]                    \n",
      "__________________________________________________________________________________________________\n",
      "embedding_23 (Embedding)        (None, 105, 300)     735300      input_5[0][0]                    \n",
      "__________________________________________________________________________________________________\n",
      "embedding_24 (Embedding)        (None, 105, 300)     735300      input_6[0][0]                    \n",
      "__________________________________________________________________________________________________\n",
      "conv1d_55 (Conv1D)              (None, 102, 32)      38432       embedding_22[0][0]               \n",
      "__________________________________________________________________________________________________\n",
      "conv1d_56 (Conv1D)              (None, 100, 32)      57632       embedding_23[0][0]               \n",
      "__________________________________________________________________________________________________\n",
      "conv1d_57 (Conv1D)              (None, 98, 32)       76832       embedding_24[0][0]               \n",
      "__________________________________________________________________________________________________\n",
      "dropout_16 (Dropout)            (None, 102, 32)      0           conv1d_55[0][0]                  \n",
      "__________________________________________________________________________________________________\n",
      "dropout_17 (Dropout)            (None, 100, 32)      0           conv1d_56[0][0]                  \n",
      "__________________________________________________________________________________________________\n",
      "dropout_18 (Dropout)            (None, 98, 32)       0           conv1d_57[0][0]                  \n",
      "__________________________________________________________________________________________________\n",
      "max_pooling1d_55 (MaxPooling1D) (None, 51, 32)       0           dropout_16[0][0]                 \n",
      "__________________________________________________________________________________________________\n",
      "max_pooling1d_56 (MaxPooling1D) (None, 50, 32)       0           dropout_17[0][0]                 \n",
      "__________________________________________________________________________________________________\n",
      "max_pooling1d_57 (MaxPooling1D) (None, 49, 32)       0           dropout_18[0][0]                 \n",
      "__________________________________________________________________________________________________\n",
      "flatten_21 (Flatten)            (None, 1632)         0           max_pooling1d_55[0][0]           \n",
      "__________________________________________________________________________________________________\n",
      "flatten_22 (Flatten)            (None, 1600)         0           max_pooling1d_56[0][0]           \n",
      "__________________________________________________________________________________________________\n",
      "flatten_23 (Flatten)            (None, 1568)         0           max_pooling1d_57[0][0]           \n",
      "__________________________________________________________________________________________________\n",
      "concatenate_2 (Concatenate)     (None, 4800)         0           flatten_21[0][0]                 \n",
      "                                                                 flatten_22[0][0]                 \n",
      "                                                                 flatten_23[0][0]                 \n",
      "__________________________________________________________________________________________________\n",
      "dense_115 (Dense)               (None, 10)           48010       concatenate_2[0][0]              \n",
      "__________________________________________________________________________________________________\n",
      "dense_116 (Dense)               (None, 3)            33          dense_115[0][0]                  \n",
      "==================================================================================================\n",
      "Total params: 2,426,839\n",
      "Trainable params: 2,426,839\n",
      "Non-trainable params: 0\n",
      "__________________________________________________________________________________________________\n",
      "None\n"
     ]
    }
   ],
   "source": [
    "# length = max_length\n",
    "# from numpy import array\n",
    "# from keras.layers import Input\n",
    "# from keras.layers import Dense\n",
    "# from keras.layers import Flatten\n",
    "# from keras.layers import Dropout\n",
    "# from keras.layers import Embedding\n",
    "# from keras.layers.convolutional import Conv1D\n",
    "# from keras.layers.merge import concatenate\n",
    "# from keras.models import Model\n",
    "\n",
    "# # 1. Word Embeddings + CNN = Text Classi\f",
    "cation\n",
    "# # 2. Use a Single Layer CNN Architecture\n",
    "# # 3. Dial in CNN Hyperparameters\n",
    "# # 4. Consider Character-Level CNNs\n",
    "# # 5. Consider Deeper CNNs for Classi\f",
    "cation\n",
    "\n",
    "# # define the model\n",
    "# def define_model(length, vocab_size):\n",
    "#     # channel 1\n",
    "#     inputs1 = Input(shape=(length,))\n",
    "#     embedding1 = Embedding(vocab_size, 300)(inputs1)\n",
    "#     conv1 = Conv1D(filters=32, kernel_size=4, activation='relu')(embedding1)\n",
    "#     drop1 = Dropout(0.5)(conv1)\n",
    "#     pool1 = MaxPooling1D(pool_size=2)(drop1)\n",
    "#     flat1 = Flatten()(pool1)\n",
    "    \n",
    "#     # channel 2\n",
    "#     inputs2 = Input(shape=(length,))\n",
    "#     embedding2 = Embedding(vocab_size, 300)(inputs2)\n",
    "#     conv2 = Conv1D(filters=32, kernel_size=6, activation='relu')(embedding2)\n",
    "#     drop2 = Dropout(0.5)(conv2)\n",
    "#     pool2 = MaxPooling1D(pool_size=2)(drop2)\n",
    "#     flat2 = Flatten()(pool2)\n",
    "    \n",
    "#     # channel 3\n",
    "#     inputs3 = Input(shape=(length,))\n",
    "# #     noise = GaussianNoise(0.1)\n",
    "#     embedding3 = Embedding(vocab_size, 300)(inputs3)\n",
    "#     conv3 = Conv1D(filters=32, kernel_size=8, activation='relu')(embedding3)\n",
    "#     drop3 = Dropout(0.5)(conv3)\n",
    "#     pool3 = MaxPooling1D(pool_size=2)(drop3)\n",
    "#     flat3 = Flatten()(pool3)\n",
    "    \n",
    "#     # merge\n",
    "#     merged = concatenate([flat1, flat2, flat3])\n",
    "    \n",
    "#     # interpretation\n",
    "#     dense1 = Dense(10, activation='relu')(merged)\n",
    "#     outputs = Dense(3, activation='sigmoid')(dense1)\n",
    "#     model = Model(inputs=[inputs1, inputs2, inputs3], outputs=outputs)\n",
    "#     # compile\n",
    "#     model.compile(loss='categorical_crossentropy', optimizer='adam', metrics=['accuracy'])\n",
    "#     # summarize\n",
    "#     model.summary()\n",
    "#     plot_model(model, show_shapes=True, to_file='multichannel.png')\n",
    "#     return model\n",
    "\n",
    "\n",
    "\n",
    "# # encode a list of lines\n",
    "# def encode_text(tokenizer, lines, length):\n",
    "#     # integer encode\n",
    "#     encoded = tokenizer.texts_to_sequences(lines)\n",
    "#     # pad encoded sequences\n",
    "#     padded = pad_sequences(encoded, maxlen=length, padding='post')\n",
    "#     return padded\n",
    "\n",
    "# vocab_size = len(tokenizer.word_index) + 1\n",
    "# print(vocab_size)\n",
    "\n",
    "# Xtrain  = encode_docs(tokenizer, max_length, xtrain_docs)\n",
    "# Xtest  = encode_docs(tokenizer, max_length, xtest_docs)\n",
    "# trainLabels = to_categorical(y_train_docs)\n",
    "\n",
    "# trainX = encode_text(tokenizer, xtrain_docs, max_length)\n",
    "# # define model\n",
    "# model = define_model(length, vocab_size)\n",
    "# # print(model.summary())\n",
    "\n",
    "# testX  = encode_docs(tokenizer, max_length, xtest_docs)\n",
    "# checkpoint = ModelCheckpoint('model-{epoch:03d}-{acc:03f}-{val_acc:03f}.h5',\n",
    "#                              verbose=1, monitor='val_acc',save_best_only=True, mode='auto')  \n",
    "\n",
    "# # fit model\n",
    "# history = model.fit([trainX,trainX,trainX], \n",
    "#                     array(trainLabels),\n",
    "#                     epochs=25,\n",
    "#                     verbose=1,\n",
    "#                     validation_data=([testX,testX,testX],\n",
    "#                                      to_categorical(y_test_docs)) , \n",
    "#                     callbacks=[checkpoint])\n",
    "\n"
   ]
  },
  {
   "cell_type": "code",
   "execution_count": 200,
   "metadata": {},
   "outputs": [],
   "source": []
  },
  {
   "cell_type": "code",
   "execution_count": 204,
   "metadata": {},
   "outputs": [
    {
     "name": "stdout",
     "output_type": "stream",
     "text": [
      "Train on 7304 samples, validate on 1826 samples\n",
      "Epoch 1/25\n",
      "7304/7304 [==============================] - 17s 2ms/step - loss: 0.5625 - acc: 0.7415 - val_loss: 0.1930 - val_acc: 0.9315\n",
      "\n",
      "Epoch 00001: val_acc improved from -inf to 0.93154, saving model to model-001-0.741512-0.931544.h5\n",
      "Epoch 2/25\n",
      "7304/7304 [==============================] - 12s 2ms/step - loss: 0.1303 - acc: 0.9528 - val_loss: 0.1659 - val_acc: 0.9288\n",
      "\n",
      "Epoch 00002: val_acc did not improve from 0.93154\n",
      "Epoch 3/25\n",
      "7304/7304 [==============================] - 12s 2ms/step - loss: 0.0563 - acc: 0.9803 - val_loss: 0.1760 - val_acc: 0.9299\n",
      "\n",
      "Epoch 00003: val_acc did not improve from 0.93154\n",
      "Epoch 4/25\n",
      "7304/7304 [==============================] - 12s 2ms/step - loss: 0.0299 - acc: 0.9914 - val_loss: 0.1927 - val_acc: 0.9359\n",
      "\n",
      "Epoch 00004: val_acc improved from 0.93154 to 0.93593, saving model to model-004-0.991375-0.935926.h5\n",
      "Epoch 5/25\n",
      "7304/7304 [==============================] - 12s 2ms/step - loss: 0.0158 - acc: 0.9955 - val_loss: 0.2214 - val_acc: 0.9326\n",
      "\n",
      "Epoch 00005: val_acc did not improve from 0.93593\n",
      "Epoch 6/25\n",
      "7304/7304 [==============================] - 12s 2ms/step - loss: 0.0211 - acc: 0.9930 - val_loss: 0.2106 - val_acc: 0.9376\n",
      "\n",
      "Epoch 00006: val_acc improved from 0.93593 to 0.93757, saving model to model-006-0.993018-0.937568.h5\n",
      "Epoch 7/25\n",
      "7304/7304 [==============================] - 12s 2ms/step - loss: 0.0114 - acc: 0.9962 - val_loss: 0.2518 - val_acc: 0.9326\n",
      "\n",
      "Epoch 00007: val_acc did not improve from 0.93757\n",
      "Epoch 8/25\n",
      "7304/7304 [==============================] - 12s 2ms/step - loss: 0.0246 - acc: 0.9908 - val_loss: 0.2742 - val_acc: 0.9326\n",
      "\n",
      "Epoch 00008: val_acc did not improve from 0.93757\n",
      "Epoch 9/25\n",
      "7304/7304 [==============================] - 12s 2ms/step - loss: 0.0178 - acc: 0.9933 - val_loss: 0.2845 - val_acc: 0.9348\n",
      "\n",
      "Epoch 00009: val_acc did not improve from 0.93757\n",
      "Epoch 10/25\n",
      "7304/7304 [==============================] - 12s 2ms/step - loss: 0.0129 - acc: 0.9949 - val_loss: 0.3240 - val_acc: 0.9392\n",
      "\n",
      "Epoch 00010: val_acc improved from 0.93757 to 0.93921, saving model to model-010-0.994934-0.939211.h5\n",
      "Epoch 11/25\n",
      "7304/7304 [==============================] - 12s 2ms/step - loss: nan - acc: 0.5820 - val_loss: nan - val_acc: 0.3291\n",
      "\n",
      "Epoch 00011: val_acc did not improve from 0.93921\n",
      "Epoch 12/25\n",
      "7304/7304 [==============================] - 12s 2ms/step - loss: nan - acc: 0.3264 - val_loss: nan - val_acc: 0.3291\n",
      "\n",
      "Epoch 00012: val_acc did not improve from 0.93921\n",
      "Epoch 13/25\n",
      "7304/7304 [==============================] - 12s 2ms/step - loss: nan - acc: 0.3264 - val_loss: nan - val_acc: 0.3291\n",
      "\n",
      "Epoch 00013: val_acc did not improve from 0.93921\n",
      "Epoch 14/25\n",
      "3488/7304 [=============>................] - ETA: 5s - loss: nan - acc: 0.3225"
     ]
    },
    {
     "ename": "KeyboardInterrupt",
     "evalue": "",
     "output_type": "error",
     "traceback": [
      "\u001b[0;31m---------------------------------------------------------------------------\u001b[0m",
      "\u001b[0;31mKeyboardInterrupt\u001b[0m                         Traceback (most recent call last)",
      "\u001b[0;32m<ipython-input-204-0927f5f6e267>\u001b[0m in \u001b[0;36m<module>\u001b[0;34m\u001b[0m\n\u001b[1;32m      6\u001b[0m                     validation_data=([testX,testX,testX],\n\u001b[1;32m      7\u001b[0m                                      to_categorical(y_test_docs)) , \n\u001b[0;32m----> 8\u001b[0;31m                     callbacks=[checkpoint])\n\u001b[0m",
      "\u001b[0;32m~/anaconda3/envs/py36/lib/python3.6/site-packages/keras/engine/training.py\u001b[0m in \u001b[0;36mfit\u001b[0;34m(self, x, y, batch_size, epochs, verbose, callbacks, validation_split, validation_data, shuffle, class_weight, sample_weight, initial_epoch, steps_per_epoch, validation_steps, **kwargs)\u001b[0m\n\u001b[1;32m   1037\u001b[0m                                         \u001b[0minitial_epoch\u001b[0m\u001b[0;34m=\u001b[0m\u001b[0minitial_epoch\u001b[0m\u001b[0;34m,\u001b[0m\u001b[0;34m\u001b[0m\u001b[0;34m\u001b[0m\u001b[0m\n\u001b[1;32m   1038\u001b[0m                                         \u001b[0msteps_per_epoch\u001b[0m\u001b[0;34m=\u001b[0m\u001b[0msteps_per_epoch\u001b[0m\u001b[0;34m,\u001b[0m\u001b[0;34m\u001b[0m\u001b[0;34m\u001b[0m\u001b[0m\n\u001b[0;32m-> 1039\u001b[0;31m                                         validation_steps=validation_steps)\n\u001b[0m\u001b[1;32m   1040\u001b[0m \u001b[0;34m\u001b[0m\u001b[0m\n\u001b[1;32m   1041\u001b[0m     def evaluate(self, x=None, y=None,\n",
      "\u001b[0;32m~/anaconda3/envs/py36/lib/python3.6/site-packages/keras/engine/training_arrays.py\u001b[0m in \u001b[0;36mfit_loop\u001b[0;34m(model, f, ins, out_labels, batch_size, epochs, verbose, callbacks, val_f, val_ins, shuffle, callback_metrics, initial_epoch, steps_per_epoch, validation_steps)\u001b[0m\n\u001b[1;32m    197\u001b[0m                     \u001b[0mins_batch\u001b[0m\u001b[0;34m[\u001b[0m\u001b[0mi\u001b[0m\u001b[0;34m]\u001b[0m \u001b[0;34m=\u001b[0m \u001b[0mins_batch\u001b[0m\u001b[0;34m[\u001b[0m\u001b[0mi\u001b[0m\u001b[0;34m]\u001b[0m\u001b[0;34m.\u001b[0m\u001b[0mtoarray\u001b[0m\u001b[0;34m(\u001b[0m\u001b[0;34m)\u001b[0m\u001b[0;34m\u001b[0m\u001b[0;34m\u001b[0m\u001b[0m\n\u001b[1;32m    198\u001b[0m \u001b[0;34m\u001b[0m\u001b[0m\n\u001b[0;32m--> 199\u001b[0;31m                 \u001b[0mouts\u001b[0m \u001b[0;34m=\u001b[0m \u001b[0mf\u001b[0m\u001b[0;34m(\u001b[0m\u001b[0mins_batch\u001b[0m\u001b[0;34m)\u001b[0m\u001b[0;34m\u001b[0m\u001b[0;34m\u001b[0m\u001b[0m\n\u001b[0m\u001b[1;32m    200\u001b[0m                 \u001b[0mouts\u001b[0m \u001b[0;34m=\u001b[0m \u001b[0mto_list\u001b[0m\u001b[0;34m(\u001b[0m\u001b[0mouts\u001b[0m\u001b[0;34m)\u001b[0m\u001b[0;34m\u001b[0m\u001b[0;34m\u001b[0m\u001b[0m\n\u001b[1;32m    201\u001b[0m                 \u001b[0;32mfor\u001b[0m \u001b[0ml\u001b[0m\u001b[0;34m,\u001b[0m \u001b[0mo\u001b[0m \u001b[0;32min\u001b[0m \u001b[0mzip\u001b[0m\u001b[0;34m(\u001b[0m\u001b[0mout_labels\u001b[0m\u001b[0;34m,\u001b[0m \u001b[0mouts\u001b[0m\u001b[0;34m)\u001b[0m\u001b[0;34m:\u001b[0m\u001b[0;34m\u001b[0m\u001b[0;34m\u001b[0m\u001b[0m\n",
      "\u001b[0;32m~/anaconda3/envs/py36/lib/python3.6/site-packages/keras/backend/tensorflow_backend.py\u001b[0m in \u001b[0;36m__call__\u001b[0;34m(self, inputs)\u001b[0m\n\u001b[1;32m   2713\u001b[0m                 \u001b[0;32mreturn\u001b[0m \u001b[0mself\u001b[0m\u001b[0;34m.\u001b[0m\u001b[0m_legacy_call\u001b[0m\u001b[0;34m(\u001b[0m\u001b[0minputs\u001b[0m\u001b[0;34m)\u001b[0m\u001b[0;34m\u001b[0m\u001b[0;34m\u001b[0m\u001b[0m\n\u001b[1;32m   2714\u001b[0m \u001b[0;34m\u001b[0m\u001b[0m\n\u001b[0;32m-> 2715\u001b[0;31m             \u001b[0;32mreturn\u001b[0m \u001b[0mself\u001b[0m\u001b[0;34m.\u001b[0m\u001b[0m_call\u001b[0m\u001b[0;34m(\u001b[0m\u001b[0minputs\u001b[0m\u001b[0;34m)\u001b[0m\u001b[0;34m\u001b[0m\u001b[0;34m\u001b[0m\u001b[0m\n\u001b[0m\u001b[1;32m   2716\u001b[0m         \u001b[0;32melse\u001b[0m\u001b[0;34m:\u001b[0m\u001b[0;34m\u001b[0m\u001b[0;34m\u001b[0m\u001b[0m\n\u001b[1;32m   2717\u001b[0m             \u001b[0;32mif\u001b[0m \u001b[0mpy_any\u001b[0m\u001b[0;34m(\u001b[0m\u001b[0mis_tensor\u001b[0m\u001b[0;34m(\u001b[0m\u001b[0mx\u001b[0m\u001b[0;34m)\u001b[0m \u001b[0;32mfor\u001b[0m \u001b[0mx\u001b[0m \u001b[0;32min\u001b[0m \u001b[0minputs\u001b[0m\u001b[0;34m)\u001b[0m\u001b[0;34m:\u001b[0m\u001b[0;34m\u001b[0m\u001b[0;34m\u001b[0m\u001b[0m\n",
      "\u001b[0;32m~/anaconda3/envs/py36/lib/python3.6/site-packages/keras/backend/tensorflow_backend.py\u001b[0m in \u001b[0;36m_call\u001b[0;34m(self, inputs)\u001b[0m\n\u001b[1;32m   2673\u001b[0m             \u001b[0mfetched\u001b[0m \u001b[0;34m=\u001b[0m \u001b[0mself\u001b[0m\u001b[0;34m.\u001b[0m\u001b[0m_callable_fn\u001b[0m\u001b[0;34m(\u001b[0m\u001b[0;34m*\u001b[0m\u001b[0marray_vals\u001b[0m\u001b[0;34m,\u001b[0m \u001b[0mrun_metadata\u001b[0m\u001b[0;34m=\u001b[0m\u001b[0mself\u001b[0m\u001b[0;34m.\u001b[0m\u001b[0mrun_metadata\u001b[0m\u001b[0;34m)\u001b[0m\u001b[0;34m\u001b[0m\u001b[0;34m\u001b[0m\u001b[0m\n\u001b[1;32m   2674\u001b[0m         \u001b[0;32melse\u001b[0m\u001b[0;34m:\u001b[0m\u001b[0;34m\u001b[0m\u001b[0;34m\u001b[0m\u001b[0m\n\u001b[0;32m-> 2675\u001b[0;31m             \u001b[0mfetched\u001b[0m \u001b[0;34m=\u001b[0m \u001b[0mself\u001b[0m\u001b[0;34m.\u001b[0m\u001b[0m_callable_fn\u001b[0m\u001b[0;34m(\u001b[0m\u001b[0;34m*\u001b[0m\u001b[0marray_vals\u001b[0m\u001b[0;34m)\u001b[0m\u001b[0;34m\u001b[0m\u001b[0;34m\u001b[0m\u001b[0m\n\u001b[0m\u001b[1;32m   2676\u001b[0m         \u001b[0;32mreturn\u001b[0m \u001b[0mfetched\u001b[0m\u001b[0;34m[\u001b[0m\u001b[0;34m:\u001b[0m\u001b[0mlen\u001b[0m\u001b[0;34m(\u001b[0m\u001b[0mself\u001b[0m\u001b[0;34m.\u001b[0m\u001b[0moutputs\u001b[0m\u001b[0;34m)\u001b[0m\u001b[0;34m]\u001b[0m\u001b[0;34m\u001b[0m\u001b[0;34m\u001b[0m\u001b[0m\n\u001b[1;32m   2677\u001b[0m \u001b[0;34m\u001b[0m\u001b[0m\n",
      "\u001b[0;32m~/anaconda3/envs/py36/lib/python3.6/site-packages/tensorflow/python/client/session.py\u001b[0m in \u001b[0;36m__call__\u001b[0;34m(self, *args, **kwargs)\u001b[0m\n\u001b[1;32m   1437\u001b[0m           ret = tf_session.TF_SessionRunCallable(\n\u001b[1;32m   1438\u001b[0m               \u001b[0mself\u001b[0m\u001b[0;34m.\u001b[0m\u001b[0m_session\u001b[0m\u001b[0;34m.\u001b[0m\u001b[0m_session\u001b[0m\u001b[0;34m,\u001b[0m \u001b[0mself\u001b[0m\u001b[0;34m.\u001b[0m\u001b[0m_handle\u001b[0m\u001b[0;34m,\u001b[0m \u001b[0margs\u001b[0m\u001b[0;34m,\u001b[0m \u001b[0mstatus\u001b[0m\u001b[0;34m,\u001b[0m\u001b[0;34m\u001b[0m\u001b[0;34m\u001b[0m\u001b[0m\n\u001b[0;32m-> 1439\u001b[0;31m               run_metadata_ptr)\n\u001b[0m\u001b[1;32m   1440\u001b[0m         \u001b[0;32mif\u001b[0m \u001b[0mrun_metadata\u001b[0m\u001b[0;34m:\u001b[0m\u001b[0;34m\u001b[0m\u001b[0;34m\u001b[0m\u001b[0m\n\u001b[1;32m   1441\u001b[0m           \u001b[0mproto_data\u001b[0m \u001b[0;34m=\u001b[0m \u001b[0mtf_session\u001b[0m\u001b[0;34m.\u001b[0m\u001b[0mTF_GetBuffer\u001b[0m\u001b[0;34m(\u001b[0m\u001b[0mrun_metadata_ptr\u001b[0m\u001b[0;34m)\u001b[0m\u001b[0;34m\u001b[0m\u001b[0;34m\u001b[0m\u001b[0m\n",
      "\u001b[0;31mKeyboardInterrupt\u001b[0m: "
     ]
    }
   ],
   "source": []
  },
  {
   "cell_type": "code",
   "execution_count": 207,
   "metadata": {},
   "outputs": [
    {
     "name": "stdout",
     "output_type": "stream",
     "text": [
      "Training Accuracy :  0.997 , Testing Accuracy : 0.939\n"
     ]
    },
    {
     "data": {
      "image/png": "[encoded data removed]",
      "text/plain": [
       "<Figure size 432x288 with 2 Axes>"
      ]
     },
     "metadata": {
      "needs_background": "light"
     },
     "output_type": "display_data"
    }
   ],
   "source": [
    "histories = []\n",
    "histories.append(history)\n",
    "\n",
    "model = load_model(\"model-010-0.994934-0.939211.h5\")\n",
    "_,train_acc = model.evaluate([Xtrain,Xtrain,Xtrain], to_categorical(y_train_docs) ,verbose=0)\n",
    "_, test_acc = model.evaluate([Xtest,Xtest,Xtest], to_categorical(y_test_docs), verbose=0)\n",
    "\n",
    "print(\"Training Accuracy :  %.03f , Testing Accuracy : %.03f\" %(train_acc ,test_acc) )\n",
    "\n",
    "summarize_diagnostics(histories)"
   ]
  },
  {
   "cell_type": "code",
   "execution_count": 190,
   "metadata": {},
   "outputs": [
    {
     "ename": "ValueError",
     "evalue": "Error when checking model input: the list of Numpy arrays that you are passing to your model is not the size the model expected. Expected to see 3 array(s), but instead got the following list of 1 arrays: [array([[ 25,  10,  81, ...,   0,   0,   0],\n       [298,  84,  68, ...,   0,   0,   0],\n       [ 10,  71,  62, ...,   0,   0,   0],\n       ...,\n       [ 10, 130, 230, ...,   0,   0,   0],\n       [ 25...",
     "output_type": "error",
     "traceback": [
      "\u001b[0;31m---------------------------------------------------------------------------\u001b[0m",
      "\u001b[0;31mValueError\u001b[0m                                Traceback (most recent call last)",
      "\u001b[0;32m<ipython-input-190-c31ff098ac65>\u001b[0m in \u001b[0;36m<module>\u001b[0;34m\u001b[0m\n\u001b[0;32m----> 1\u001b[0;31m \u001b[0mloss\u001b[0m\u001b[0;34m,\u001b[0m \u001b[0maccuracy\u001b[0m \u001b[0;34m=\u001b[0m \u001b[0mmodel\u001b[0m\u001b[0;34m.\u001b[0m\u001b[0mevaluate\u001b[0m\u001b[0;34m(\u001b[0m\u001b[0mtrainX\u001b[0m\u001b[0;34m,\u001b[0m \u001b[0marray\u001b[0m\u001b[0;34m(\u001b[0m\u001b[0mtrainLabels\u001b[0m\u001b[0;34m)\u001b[0m\u001b[0;34m,\u001b[0m \u001b[0mverbose\u001b[0m\u001b[0;34m=\u001b[0m\u001b[0;36m2\u001b[0m\u001b[0;34m)\u001b[0m\u001b[0;34m\u001b[0m\u001b[0;34m\u001b[0m\u001b[0m\n\u001b[0m\u001b[1;32m      2\u001b[0m \u001b[0mprint\u001b[0m\u001b[0;34m(\u001b[0m\u001b[0;34m'Training Accuracy: %f'\u001b[0m \u001b[0;34m%\u001b[0m \u001b[0;34m(\u001b[0m\u001b[0maccuracy\u001b[0m\u001b[0;34m*\u001b[0m\u001b[0;36m100\u001b[0m\u001b[0;34m)\u001b[0m\u001b[0;34m)\u001b[0m\u001b[0;34m\u001b[0m\u001b[0;34m\u001b[0m\u001b[0m\n\u001b[1;32m      3\u001b[0m \u001b[0;34m\u001b[0m\u001b[0m\n\u001b[1;32m      4\u001b[0m \u001b[0;31m# evaluate the model\u001b[0m\u001b[0;34m\u001b[0m\u001b[0;34m\u001b[0m\u001b[0;34m\u001b[0m\u001b[0m\n\u001b[1;32m      5\u001b[0m \u001b[0mloss\u001b[0m\u001b[0;34m,\u001b[0m \u001b[0maccuracy\u001b[0m \u001b[0;34m=\u001b[0m \u001b[0mmodel\u001b[0m\u001b[0;34m.\u001b[0m\u001b[0mevaluate\u001b[0m\u001b[0;34m(\u001b[0m\u001b[0mtestX\u001b[0m\u001b[0;34m,\u001b[0m \u001b[0mto_categorical\u001b[0m\u001b[0;34m(\u001b[0m\u001b[0my_test_docs\u001b[0m\u001b[0;34m)\u001b[0m\u001b[0;34m,\u001b[0m \u001b[0mverbose\u001b[0m\u001b[0;34m=\u001b[0m\u001b[0;36m2\u001b[0m\u001b[0;34m)\u001b[0m\u001b[0;34m\u001b[0m\u001b[0;34m\u001b[0m\u001b[0m\n",
      "\u001b[0;32m~/anaconda3/envs/py36/lib/python3.6/site-packages/keras/engine/training.py\u001b[0m in \u001b[0;36mevaluate\u001b[0;34m(self, x, y, batch_size, verbose, sample_weight, steps)\u001b[0m\n\u001b[1;32m   1100\u001b[0m             \u001b[0mx\u001b[0m\u001b[0;34m,\u001b[0m \u001b[0my\u001b[0m\u001b[0;34m,\u001b[0m\u001b[0;34m\u001b[0m\u001b[0;34m\u001b[0m\u001b[0m\n\u001b[1;32m   1101\u001b[0m             \u001b[0msample_weight\u001b[0m\u001b[0;34m=\u001b[0m\u001b[0msample_weight\u001b[0m\u001b[0;34m,\u001b[0m\u001b[0;34m\u001b[0m\u001b[0;34m\u001b[0m\u001b[0m\n\u001b[0;32m-> 1102\u001b[0;31m             batch_size=batch_size)\n\u001b[0m\u001b[1;32m   1103\u001b[0m         \u001b[0;31m# Prepare inputs, delegate logic to `test_loop`.\u001b[0m\u001b[0;34m\u001b[0m\u001b[0;34m\u001b[0m\u001b[0;34m\u001b[0m\u001b[0m\n\u001b[1;32m   1104\u001b[0m         \u001b[0;32mif\u001b[0m \u001b[0mself\u001b[0m\u001b[0;34m.\u001b[0m\u001b[0m_uses_dynamic_learning_phase\u001b[0m\u001b[0;34m(\u001b[0m\u001b[0;34m)\u001b[0m\u001b[0;34m:\u001b[0m\u001b[0;34m\u001b[0m\u001b[0;34m\u001b[0m\u001b[0m\n",
      "\u001b[0;32m~/anaconda3/envs/py36/lib/python3.6/site-packages/keras/engine/training.py\u001b[0m in \u001b[0;36m_standardize_user_data\u001b[0;34m(self, x, y, sample_weight, class_weight, check_array_lengths, batch_size)\u001b[0m\n\u001b[1;32m    749\u001b[0m             \u001b[0mfeed_input_shapes\u001b[0m\u001b[0;34m,\u001b[0m\u001b[0;34m\u001b[0m\u001b[0;34m\u001b[0m\u001b[0m\n\u001b[1;32m    750\u001b[0m             \u001b[0mcheck_batch_axis\u001b[0m\u001b[0;34m=\u001b[0m\u001b[0;32mFalse\u001b[0m\u001b[0;34m,\u001b[0m  \u001b[0;31m# Don't enforce the batch size.\u001b[0m\u001b[0;34m\u001b[0m\u001b[0;34m\u001b[0m\u001b[0m\n\u001b[0;32m--> 751\u001b[0;31m             exception_prefix='input')\n\u001b[0m\u001b[1;32m    752\u001b[0m \u001b[0;34m\u001b[0m\u001b[0m\n\u001b[1;32m    753\u001b[0m         \u001b[0;32mif\u001b[0m \u001b[0my\u001b[0m \u001b[0;32mis\u001b[0m \u001b[0;32mnot\u001b[0m \u001b[0;32mNone\u001b[0m\u001b[0;34m:\u001b[0m\u001b[0;34m\u001b[0m\u001b[0;34m\u001b[0m\u001b[0m\n",
      "\u001b[0;32m~/anaconda3/envs/py36/lib/python3.6/site-packages/keras/engine/training_utils.py\u001b[0m in \u001b[0;36mstandardize_input_data\u001b[0;34m(data, names, shapes, check_batch_axis, exception_prefix)\u001b[0m\n\u001b[1;32m    100\u001b[0m                 \u001b[0;34m'Expected to see '\u001b[0m \u001b[0;34m+\u001b[0m \u001b[0mstr\u001b[0m\u001b[0;34m(\u001b[0m\u001b[0mlen\u001b[0m\u001b[0;34m(\u001b[0m\u001b[0mnames\u001b[0m\u001b[0;34m)\u001b[0m\u001b[0;34m)\u001b[0m \u001b[0;34m+\u001b[0m \u001b[0;34m' array(s), '\u001b[0m\u001b[0;34m\u001b[0m\u001b[0;34m\u001b[0m\u001b[0m\n\u001b[1;32m    101\u001b[0m                 \u001b[0;34m'but instead got the following list of '\u001b[0m \u001b[0;34m+\u001b[0m\u001b[0;34m\u001b[0m\u001b[0;34m\u001b[0m\u001b[0m\n\u001b[0;32m--> 102\u001b[0;31m                 str(len(data)) + ' arrays: ' + str(data)[:200] + '...')\n\u001b[0m\u001b[1;32m    103\u001b[0m         \u001b[0;32melif\u001b[0m \u001b[0mlen\u001b[0m\u001b[0;34m(\u001b[0m\u001b[0mnames\u001b[0m\u001b[0;34m)\u001b[0m \u001b[0;34m>\u001b[0m \u001b[0;36m1\u001b[0m\u001b[0;34m:\u001b[0m\u001b[0;34m\u001b[0m\u001b[0;34m\u001b[0m\u001b[0m\n\u001b[1;32m    104\u001b[0m             raise ValueError(\n",
      "\u001b[0;31mValueError\u001b[0m: Error when checking model input: the list of Numpy arrays that you are passing to your model is not the size the model expected. Expected to see 3 array(s), but instead got the following list of 1 arrays: [array([[ 25,  10,  81, ...,   0,   0,   0],\n       [298,  84,  68, ...,   0,   0,   0],\n       [ 10,  71,  62, ...,   0,   0,   0],\n       ...,\n       [ 10, 130, 230, ...,   0,   0,   0],\n       [ 25..."
     ]
    }
   ],
   "source": [
    "# loss, accuracy = model.evaluate(trainX, array(trainLabels), verbose=2)\n",
    "# print('Training Accuracy: %f' % (accuracy*100))\n",
    "\n",
    "# # evaluate the model\n",
    "# loss, accuracy = model.evaluate(testX, to_categorical(y_test_docs), verbose=2)\n",
    "# print('Testing Accuracy: %f' % (accuracy*100))"
   ]
  },
  {
   "cell_type": "code",
   "execution_count": null,
   "metadata": {},
   "outputs": [],
   "source": [
    "!ls -ltr *.h5"
   ]
  },
  {
   "cell_type": "code",
   "execution_count": null,
   "metadata": {},
   "outputs": [],
   "source": [
    "histories = []\n",
    "histories.append(history)\n",
    "summarize_diagnostics(histories)"
   ]
  },
  {
   "cell_type": "code",
   "execution_count": null,
   "metadata": {},
   "outputs": [],
   "source": [
    "### To Reduce OVerfitting in Above graph"
   ]
  },
  {
   "cell_type": "code",
   "execution_count": null,
   "metadata": {},
   "outputs": [],
   "source": []
  },
  {
   "cell_type": "code",
   "execution_count": null,
   "metadata": {},
   "outputs": [],
   "source": []
  },
  {
   "cell_type": "code",
   "execution_count": null,
   "metadata": {},
   "outputs": [],
   "source": [
    "from keras.layers import Bidirectional, LSTM, TimeDistributed"
   ]
  },
  {
   "cell_type": "code",
   "execution_count": null,
   "metadata": {
    "scrolled": true
   },
   "outputs": [],
   "source": [
    "def blstm_model(length, vocab_size):\n",
    "    # main model\n",
    "    input = Input(shape=(length,))\n",
    "    model = Embedding(vocab_size,300,input_length=length)(input)\n",
    "    model =  Bidirectional (LSTM (300,return_sequences=True,dropout=0.50),merge_mode='concat')(model)\n",
    "    model = TimeDistributed(Dense(300,activation='relu'))(model)\n",
    "    model = Flatten()(model)\n",
    "    model = Dense(200,activation='relu')(model)\n",
    "    model = Dense(100,activation='relu')(model)\n",
    "    output = Dense(3,activation='softmax')(model)\n",
    "    model = Model(input,output)\n",
    "    model.compile(loss='categorical_crossentropy', optimizer='adam', metrics=['accuracy'])\n",
    "\n",
    "    return model\n",
    "\n",
    "model = blstm_model(length, vocab_size)\n",
    "print(model.summary())\n",
    "\n",
    "model.fit(trainX,trainLabels,validation_split=0.25, epochs = 20, verbose = 1)\n",
    "\n",
    "loss, accuracy = model.evaluate(trainX, array(trainLabels), verbose=2)\n",
    "print('Training Accuracy: %f' % (accuracy*100))\n",
    "\n",
    "# evaluate the model\n",
    "loss, accuracy = model.evaluate(testX, to_categorical(y_test_docs), verbose=2)\n",
    "print('Testing Accuracy: %f' % (accuracy*100))"
   ]
  },
  {
   "cell_type": "code",
   "execution_count": null,
   "metadata": {},
   "outputs": [],
   "source": [
    "summarize_diagnostics(history)"
   ]
  },
  {
   "cell_type": "code",
   "execution_count": null,
   "metadata": {},
   "outputs": [],
   "source": [
    "from sklearn.metrics import classification_report,confusion_matrix\n",
    "Y_pred = model.predict(X_test)\n",
    "y_pred = np.array([np.argmax(pred) for pred in Y_pred])\n",
    "print('  Classification Report:\\n',classification_report(Y_test,y_pred),'\\n')\n"
   ]
  },
  {
   "cell_type": "markdown",
   "metadata": {},
   "source": [
    "# fit model\n",
    "history = model.fit([trainX,trainX,trainX],\n",
    "                    array(trainLabels), \n",
    "                    epochs=20,\n",
    "                    batch_size=32 ,\n",
    "                    verbose = 0,\n",
    "                    validation_data=([testX,testX,testX],\n",
    "                                     to_categorical(y_test_docs)))"
   ]
  },
  {
   "cell_type": "code",
   "execution_count": null,
   "metadata": {},
   "outputs": [],
   "source": [
    "batch_size = 32\n",
    "\n",
    "from keras.callbacks import ModelCheckpoint,ReduceLROnPlateau,EarlyStopping\n",
    "earlyStopping = EarlyStopping(monitor='val_acc', patience=10, verbose=0, mode='min')\n",
    "mcp_save = ModelCheckpoint('.mdl_wts.hdf5', save_best_only=True, monitor='val_acc', mode='min')\n",
    "reduce_lr_loss = ReduceLROnPlateau(monitor='val_acc', factor=0.1, patience=7, verbose=1, epsilon=1e-4, mode='min')\n",
    "\n",
    "# validation_data=([testX,testX,testX],to_categorical(y_test_docs)))\n",
    "\n",
    "# fit model\n",
    "history = model.fit([trainX,trainX,trainX],\n",
    "                    array(trainLabels), \n",
    "                    epochs=20,\n",
    "                    batch_size=32 ,\n",
    "                    verbose = 1,\n",
    "                    callbacks=[earlyStopping, mcp_save, reduce_lr_loss],validation_split=0.25)"
   ]
  },
  {
   "cell_type": "code",
   "execution_count": null,
   "metadata": {},
   "outputs": [],
   "source": [
    "# # fit model\n",
    "# history = model.fit([trainX,trainX,trainX],\n",
    "#                     array(trainLabels), \n",
    "#                     epochs=20,\n",
    "#                     batch_size=32 ,\n",
    "#                     verbose = 0,\n",
    "#                     callbacks=[earlyStopping, mcp_save, reduce_lr_loss],validation_split=0.25)\n",
    "# #                     validation_data=([testX,testX,testX],to_categorical(y_test_docs)))"
   ]
  },
  {
   "cell_type": "code",
   "execution_count": null,
   "metadata": {},
   "outputs": [],
   "source": []
  },
  {
   "cell_type": "code",
   "execution_count": null,
   "metadata": {},
   "outputs": [],
   "source": [
    "from keras.layers import BatchNormalization"
   ]
  },
  {
   "cell_type": "code",
   "execution_count": null,
   "metadata": {},
   "outputs": [],
   "source": [
    "# # fit model\n",
    "# history = model.fit([trainX,trainX,trainX], array(trainLabels), epochs=20,\n",
    "#                     batch_size=32 ,\n",
    "#                     validation_data=([testX,testX,testX],to_categorical(y_test_docs)))"
   ]
  },
  {
   "cell_type": "code",
   "execution_count": null,
   "metadata": {},
   "outputs": [],
   "source": [
    "import sys\n",
    "from matplotlib import pyplot\n",
    "from keras.applications.vgg16 import VGG16\n",
    "from keras.models import Model\n",
    "from keras.layers import Dense\n",
    "from keras.layers import Flatten\n",
    "from keras.optimizers import SGD\n",
    "from keras.preprocessing.image import ImageDataGenerator\n",
    "%matplotlib inline\n",
    "# plot diagnostic learning curves    \n",
    "def summarize_diagnostics(history):\n",
    "    # plot loss\n",
    "    pyplot.subplot(211)\n",
    "    pyplot.title('Cross Entropy Loss')\n",
    "    pyplot.plot(history.history['loss'], color='blue', label='train')\n",
    "    pyplot.plot(history.history['val_loss'], color='orange', label='test')\n",
    "    pyplot.tight_layout()\n",
    "    pyplot.legend()\n",
    "    # plot accuracy\n",
    "    pyplot.subplot(212)\n",
    "    pyplot.title('Classification Accuracy')\n",
    "    pyplot.plot(history.history['acc'], color='blue', label='train')\n",
    "    pyplot.plot(history.history['val_acc'], color='orange', label='test')\n",
    "    # save plot to file\n",
    "    filename = sys.argv[0].split('/')[-1]\n",
    "    pyplot.savefig(filename + '_plot.png')\n",
    "    \n",
    "    pyplot.tight_layout()\n",
    "    pyplot.legend()\n",
    "    pyplot.show()\n",
    "    pyplot.close()\n",
    "summarize_diagnostics(history)"
   ]
  },
  {
   "cell_type": "code",
   "execution_count": null,
   "metadata": {},
   "outputs": [],
   "source": [
    "%matplotlib inline"
   ]
  },
  {
   "cell_type": "code",
   "execution_count": null,
   "metadata": {},
   "outputs": [],
   "source": []
  },
  {
   "cell_type": "code",
   "execution_count": null,
   "metadata": {},
   "outputs": [],
   "source": [
    "summarize_diagnostics(history)"
   ]
  },
  {
   "cell_type": "code",
   "execution_count": null,
   "metadata": {},
   "outputs": [],
   "source": [
    "summarize_diagnostics(history)"
   ]
  },
  {
   "cell_type": "code",
   "execution_count": null,
   "metadata": {},
   "outputs": [],
   "source": [
    "model.save('ng_model_model_multiinput_NEW.h5')"
   ]
  },
  {
   "cell_type": "code",
   "execution_count": null,
   "metadata": {},
   "outputs": [],
   "source": [
    "model.predict([enc_docs,enc_docs,enc_docs])"
   ]
  },
  {
   "cell_type": "code",
   "execution_count": null,
   "metadata": {},
   "outputs": [],
   "source": [
    "# load the model\n",
    "from keras.models import load_model\n",
    "# save the model\n",
    "model.save('model_multi_nightingale.h5')\n",
    "model = load_model('model_multi_nightingale.h5')"
   ]
  },
  {
   "cell_type": "code",
   "execution_count": null,
   "metadata": {},
   "outputs": [],
   "source": [
    "max_length"
   ]
  },
  {
   "cell_type": "code",
   "execution_count": null,
   "metadata": {},
   "outputs": [],
   "source": []
  },
  {
   "cell_type": "code",
   "execution_count": null,
   "metadata": {},
   "outputs": [],
   "source": [
    "# evaluate model on training dataset\n",
    "_, acc = model.evaluate([trainX,trainX,trainX],to_categorical(y_train_docs), verbose=2)\n",
    "print('Train Accuracy: %.2f' % (acc*100))\n",
    "# evaluate model on test dataset dataset\n",
    "_, acc = model.evaluate([testX,testX,testX],to_categorical(y_test_docs), verbose=2)\n",
    "print('Test Accuracy: %.2f' % (acc*100))"
   ]
  },
  {
   "cell_type": "markdown",
   "metadata": {},
   "source": [
    "#### Build vocab with weights for embedding space generation"
   ]
  },
  {
   "cell_type": "code",
   "execution_count": null,
   "metadata": {},
   "outputs": [],
   "source": [
    "import pandas as pd\n",
    "import numpy as np\n",
    "from numpy import   asarray,zeros\n",
    "# load the whole embedding into memory\n",
    "embeddings_index = dict()\n",
    "# f = open('/home/surya/cs224n-Squad-Project/data/glove.6B.100d.txt')\n",
    "f = open('/root/data/glove/glove.6B.300d.txt')\n",
    "\n",
    "\n",
    "for line in f:\n",
    "    values = line.split()\n",
    "    word = values[0]\n",
    "    coefs = asarray(values[1:], dtype='float32')\n",
    "    embeddings_index[word] = coefs\n",
    "f.close()\n",
    "print('Loaded %s word vectors.' % len(embeddings_index))"
   ]
  },
  {
   "cell_type": "code",
   "execution_count": null,
   "metadata": {},
   "outputs": [],
   "source": [
    "vocab_size"
   ]
  },
  {
   "cell_type": "code",
   "execution_count": null,
   "metadata": {},
   "outputs": [],
   "source": [
    "docs[0]"
   ]
  },
  {
   "cell_type": "code",
   "execution_count": null,
   "metadata": {},
   "outputs": [],
   "source": [
    "# prepare tokenizer\n",
    "t = Tokenizer()\n",
    "t.fit_on_texts(clean_doc_voc)\n",
    "vocab_size = len(t.word_index) + 1\n",
    "vocab_size"
   ]
  },
  {
   "cell_type": "code",
   "execution_count": null,
   "metadata": {},
   "outputs": [],
   "source": [
    "a = \"0.41711,-0.10176,0.058147,-0.18332,-0.44458,-0.17852,-0.34392,-0.077147,0.58521,-0.52752,1.4831,0.9531,-0.027201,-0.31748,-0.23046,-0.24083,0.22548,-0.12685,-0.17578,-0.34924,0.5168,0.86818,-0.018579,1.2228,-0.52477,-0.26369,0.25925,-0.059529,0.27063,0.13036,-0.67677,0.48313,-0.16343,-0.069899,0.92846,-0.44196,-0.078755,0.5246,-0.59577,-0.1659,0.35194,0.30031,-0.50711,0.29111,-0.26332,-1.0523,-0.31061,-0.077155,-0.16019,0.26994,-1.1042,0.16292,0.79396,-0.77135,-0.95157,-0.55992,0.69163,0.021495,0.44292,-0.69881, 0.73889,-0.1064,-0.44058,0.17116,0.39109,0.043652, 1.2835,0.29026,0.51037,-0.19631,0.036696  -0.74017,-0.0035271 -0.54918,-0.25002,0.15853,0.71764,-0.28083, 0.42292,-0.89855,0.99665,-0.65188,-0.11919,-0.28617,-0.85273,0.55656,-0.23601,-0.43822,0.36317,0.45724, 0.38596,0.59233,1.4355,1.4563,1.1801,0.32987, 0.84998,-0.29444,-0.039114,0.39534\".split(\",\")\n",
    "\n",
    "a = np.array(a)\n",
    "len(a)"
   ]
  },
  {
   "cell_type": "code",
   "execution_count": null,
   "metadata": {},
   "outputs": [],
   "source": [
    "# embedding_matrix = zeros((vocab_size, 100))\n",
    "embedding_matrix = zeros((vocab_size, 300))\n",
    "\n",
    "for word, i in t.word_index.items():\n",
    "    embedding_vector = embeddings_index.get(word)\n",
    "#     print((word,i),embedding_vector)\n",
    "if embedding_vector is not None:\n",
    "    embedding_matrix[i] = embedding_vector"
   ]
  },
  {
   "cell_type": "code",
   "execution_count": null,
   "metadata": {},
   "outputs": [],
   "source": [
    "# e = Embedding(vocab_size, 100, weights=[embedding_matrix], input_length=4, trainable=False)"
   ]
  },
  {
   "cell_type": "markdown",
   "metadata": {},
   "source": [
    "###  ADD USER DEFINED EMBEDDING FROM GLOVE "
   ]
  },
  {
   "cell_type": "code",
   "execution_count": null,
   "metadata": {},
   "outputs": [],
   "source": [
    "embedding_matrix.shape"
   ]
  },
  {
   "cell_type": "code",
   "execution_count": null,
   "metadata": {},
   "outputs": [],
   "source": [
    "%timeit \n",
    "# np.isnan(data)[np.isnan(data) == False].size\n",
    "np.isnan(embedding_matrix)[np.isnan(embedding_matrix) == False].size"
   ]
  },
  {
   "cell_type": "code",
   "execution_count": null,
   "metadata": {},
   "outputs": [],
   "source": [
    "# t.word_index.items()"
   ]
  },
  {
   "cell_type": "code",
   "execution_count": null,
   "metadata": {},
   "outputs": [],
   "source": [
    "# embedding_matrix\n",
    "np.sum(~embedding_matrix.any(1))"
   ]
  },
  {
   "cell_type": "code",
   "execution_count": null,
   "metadata": {},
   "outputs": [],
   "source": [
    "embedding_matrix"
   ]
  },
  {
   "cell_type": "code",
   "execution_count": null,
   "metadata": {},
   "outputs": [],
   "source": [
    "# define the model\n",
    "def define_model(vocab_size, max_length , custom_embed = True):\n",
    "    model = Sequential()\n",
    "#     model.add(Embedding(vocab_size, 100, input_length=max_length))\n",
    "#     model.add(Embedding(vocab_size, 300, weights=[embedding_matrix], input_length=max_length , trainable=False))\n",
    "    model.add(Embedding(vocab_size, 300, input_length=max_length))\n",
    "    model.add(Conv1D(filters=32, kernel_size=8, activation='relu'))\n",
    "    model.add(MaxPooling1D(pool_size=2))\n",
    "    model.add(Flatten())\n",
    "    model.add(Dense(10, activation='relu'))\n",
    "    model.add(Dense(3, activation='sigmoid'))\n",
    "    print(\"Hello!!!!!!!!!\")\n",
    "    # compile network\n",
    "    model.compile(loss='categorical_crossentropy', optimizer='adam', metrics=['accuracy'])\n",
    "\n",
    "    # summarize defined model\n",
    "    model.summary()\n",
    "#     model.layers[0].set_weights([embedding_matrix])\n",
    "#     model.layers[0].trainable = False\n",
    "    plot_model(model, to_file='model.png', show_shapes=True)\n",
    "    return model"
   ]
  },
  {
   "cell_type": "code",
   "execution_count": null,
   "metadata": {},
   "outputs": [],
   "source": [
    "#    #load different embedding file from Kaggle depending on which embedding \n",
    "#         #matrix we are going to experiment with\n",
    "#         if typeToLoad==\"glove\":\n",
    "#             EMBEDDING_FILE='../input/glove-twitter/glove.twitter.27B.25d.txt'\n",
    "#             embed_size = 25\n",
    "#         elif(typeToLoad==\"word2vec\"):\n",
    "#             word2vecDict = word2vec.KeyedVectors.load_word2vec_format(\"../input/googlenewsvectorsnegative300/GoogleNews-vectors-negative300.bin\", binary=True)\n",
    "#             embed_size = 300\n",
    "#         elif(typeToLoad==\"fasttext\"):\n",
    "#             EMBEDDING_FILE='../input/fasttext/wiki.simple.vec'\n",
    "#             embed_size = 300\n",
    "\n",
    "#         if(typeToLoad==\"glove\" or typeToLoad==\"fasttext\" ):\n",
    "#             embeddings_index = dict()\n",
    "#             #Transfer the embedding weights into a dictionary by iterating through every line of the file.\n",
    "#             f = open(EMBEDDING_FILE)\n",
    "#             for line in f:\n",
    "#                 #split up line into an indexed array\n",
    "#                 values = line.split()\n",
    "#                 #first index is word\n",
    "#                 word = values[0]\n",
    "#                 #store the rest of the values in the array as a new array\n",
    "#                 coefs = np.asarray(values[1:], dtype='float32')\n",
    "#                 embeddings_index[word] = coefs #50 dimensions\n",
    "#             f.close()\n",
    "#             print('Loaded %s word vectors.' % len(embeddings_index))\n",
    "#         else:\n",
    "#             embeddings_index = dict()\n",
    "#             for word in word2vecDict.wv.vocab:\n",
    "#                 embeddings_index[word] = word2vecDict.word_vec(word)\n",
    "#             print('Loaded %s word vectors.' % len(embeddings_index))\n",
    "            \n",
    "#         gc.collect()\n",
    "#         #We get the mean and standard deviation of the embedding weights so that we could maintain the \n",
    "#         #same statistics for the rest of our own random generated weights. \n",
    "#         all_embs = np.stack(list(embeddings_index.values()))\n",
    "#         emb_mean,emb_std = all_embs.mean(), all_embs.std()\n",
    "        \n",
    "#         nb_words = len(tokenizer.word_index)\n",
    "#         #We are going to set the embedding size to the pretrained dimension as we are replicating it.\n",
    "#         #the size will be Number of Words in Vocab X Embedding Size\n",
    "#         embedding_matrix = np.random.normal(emb_mean, emb_std, (nb_words, embed_size))\n",
    "#         gc.collect()\n",
    "\n",
    "#         #With the newly created embedding matrix, we'll fill it up with the words that we have in both \n",
    "#         #our own dictionary and loaded pretrained embedding. \n",
    "#         embeddedCount = 0\n",
    "#         for word, i in tokenizer.word_index.items():\n",
    "#             i-=1\n",
    "#             #then we see if this word is in glove's dictionary, if yes, get the corresponding weights\n",
    "#             embedding_vector = embeddings_index.get(word)\n",
    "#             #and store inside the embedding matrix that we will train later on.\n",
    "#             if embedding_vector is not None: \n",
    "#                 embedding_matrix[i] = embedding_vector\n",
    "#                 embeddedCount+=1\n",
    "#         print('total embedded:',embeddedCount,'common words')\n",
    "        \n",
    "#         del(embeddings_index)\n",
    "#         gc.collect()\n",
    "        \n",
    "#         #finally, return the embedding matrix\n",
    "#         return embedding_matrix"
   ]
  },
  {
   "cell_type": "code",
   "execution_count": null,
   "metadata": {},
   "outputs": [],
   "source": []
  },
  {
   "cell_type": "code",
   "execution_count": null,
   "metadata": {},
   "outputs": [],
   "source": [
    "max_length"
   ]
  },
  {
   "cell_type": "code",
   "execution_count": null,
   "metadata": {},
   "outputs": [],
   "source": [
    "model = define_model(vocab_size,max_length,True)\n",
    "model.fit(Xtrain, to_categorical(y_train_docs), epochs=80, verbose=2, validation_split=0.1)"
   ]
  },
  {
   "cell_type": "code",
   "execution_count": null,
   "metadata": {},
   "outputs": [],
   "source": [
    "model.metrics_names"
   ]
  },
  {
   "cell_type": "code",
   "execution_count": null,
   "metadata": {},
   "outputs": [],
   "source": [
    "print(history.history.keys())\n",
    "#  \"Accuracy\"\n",
    "plt.plot(history.history['acc'])\n",
    "# plt.plot(history.history['val_acc'])\n",
    "plt.title('model accuracy')\n",
    "plt.ylabel('accuracy')\n",
    "plt.xlabel('epoch')\n",
    "plt.legend(['train', 'validation'], loc='upper left')\n",
    "plt.show()\n",
    "# \"Loss\"\n",
    "plt.plot(history.history['loss'])\n",
    "# plt.plot(history.history['val_loss'])\n",
    "plt.title('model loss')\n",
    "plt.ylabel('loss')\n",
    "plt.xlabel('epoch')\n",
    "plt.legend(['train', 'validation'], loc='upper left')\n",
    "plt.show()"
   ]
  },
  {
   "cell_type": "code",
   "execution_count": null,
   "metadata": {},
   "outputs": [],
   "source": []
  },
  {
   "cell_type": "code",
   "execution_count": null,
   "metadata": {},
   "outputs": [],
   "source": []
  },
  {
   "cell_type": "code",
   "execution_count": null,
   "metadata": {},
   "outputs": [],
   "source": [
    "# # This tutorial is divided into the following parts:\n",
    "# 1. Word Embeddings + CNN = Text Classi\f",
    "cation\n",
    "# 2. Use a Single Layer CNN Architecture\n",
    "# 3. Dial in CNN Hyperparameters\n",
    "# 4. Consider Character-Level CNNs\n",
    "# 5. Consider Deeper CNNs for Classi\f",
    "cation\n",
    "\n",
    "# define the model\n",
    "def define_model(length, vocab_size):\n",
    "    # channel 1\n",
    "    inputs1 = Input(shape=(length,))\n",
    "    embedding1 = Embedding(vocab_size, 300)(inputs1)\n",
    "#     embedding1 = Embedding(vocab_size,  300, weights=[embedding_matrix], trainable=False)(inputs1)\n",
    "#         model.add(Embedding(vocab_size, 100, weights=[embedding_matrix], input_length=max_length , trainable=False))\n",
    "\n",
    "    conv1 = Conv1D(filters=32, kernel_size=4, activation='relu')(embedding1)\n",
    "    drop1 = Dropout(0.5)(conv1)\n",
    "    pool1 = MaxPooling1D(pool_size=2)(drop1)\n",
    "    flat1 = Flatten()(pool1)\n",
    "    \n",
    "    # channel 2\n",
    "    inputs2 = Input(shape=(length,))\n",
    "    embedding2 = Embedding(vocab_size, 300)(inputs2)\n",
    "#     embedding2 = Embedding(vocab_size, 300, weights=[embedding_matrix], trainable=False)(inputs2)\n",
    "    conv2 = Conv1D(filters=32, kernel_size=6, activation='relu')(embedding2)\n",
    "    drop2 = Dropout(0.5)(conv2)\n",
    "    pool2 = MaxPooling1D(pool_size=2)(drop2)\n",
    "    flat2 = Flatten()(pool2)\n",
    "    \n",
    "    # channel 3\n",
    "    inputs3 = Input(shape=(length,))\n",
    "    embedding3 = Embedding(vocab_size, 300)(inputs3)\n",
    "#     embedding3 = Embedding(vocab_size, 100)(embedding3)\n",
    "#     embedding3 = Embedding(vocab_size, 300, weights=[embedding_matrix], trainable=False)(inputs3)\n",
    "\n",
    "    conv3 = Conv1D(filters=32, kernel_size=8, activation='relu')(embedding3)\n",
    "    drop3 = Dropout(0.5)(conv3)\n",
    "    pool3 = MaxPooling1D(pool_size=2)(drop3)\n",
    "    flat3 = Flatten()(pool3)\n",
    "    \n",
    "    # merge\n",
    "    merged = concatenate([flat1, flat2, flat3])\n",
    "    \n",
    "    # interpretation\n",
    "    dense1 = Dense(10, activation='relu')(merged)\n",
    "    outputs = Dense(3, activation='sigmoid')(dense1)\n",
    "    model = Model(inputs=[inputs1, inputs2, inputs3], outputs=outputs)\n",
    "    # compile\n",
    "    model.compile(loss='categorical_crossentropy', optimizer='adam', metrics=['accuracy'])\n",
    "    # summarize\n",
    "    model.summary()\n",
    "    plot_model(model, show_shapes=True, to_file='multichannel.png')\n",
    "    return model"
   ]
  },
  {
   "cell_type": "code",
   "execution_count": null,
   "metadata": {},
   "outputs": [],
   "source": [
    "trainX = encode_text(tokenizer, xtrain_docs, max_length)"
   ]
  },
  {
   "cell_type": "code",
   "execution_count": null,
   "metadata": {},
   "outputs": [],
   "source": [
    "trainX = encode_text(tokenizer, xtrain_docs, max_length)\n",
    "# define model\n",
    "model = define_model(length, vocab_size)\n",
    "# fit model\n",
    "model.fit([trainX,trainX,trainX], array(trainLabels), epochs=100, batch_size=16 , )"
   ]
  },
  {
   "cell_type": "code",
   "execution_count": null,
   "metadata": {},
   "outputs": [],
   "source": [
    "keras_model = model\n",
    "import tensorflow as tf"
   ]
  },
  {
   "cell_type": "code",
   "execution_count": null,
   "metadata": {},
   "outputs": [],
   "source": [
    "! ls -ltr /home/surya/model_multi_nightingale.h5"
   ]
  },
  {
   "cell_type": "code",
   "execution_count": null,
   "metadata": {},
   "outputs": [],
   "source": []
  },
  {
   "cell_type": "code",
   "execution_count": null,
   "metadata": {},
   "outputs": [],
   "source": [
    "model.save(\"model_multi_nightingale_NEW.h5\")"
   ]
  },
  {
   "cell_type": "code",
   "execution_count": null,
   "metadata": {},
   "outputs": [],
   "source": [
    "test_data = \"Hello John,How can I help to you I take toomuch coffe, with out coffee I feel headache Is it a throbbing headache? No How does bending forward affect your headache? I feel severing with out coffe How would you describe the intensity of your headache? sever headache with out coffee Do you become frustrated or upset easily?  I will sclod people near me Have you recently used any drugs in any form? No Do you experience day time sleep? restless Do you tend to drink alcohol heavily? I drink too much coffee Are you feeling agitated and physically restless? Feeling fatigued and lack of energy nearly every day.\"\n",
    "test_data = \"Hello John,How can I help to you severe headache and seizures Is it a throbbing headache? not at all How does bending forward affect your headache? severe pain at bothsides of my forehead How would you describe the intensity of your headache? it is worst, am not able to tolerate Do you become frustrated or upset easily? not all the times but some times Have you recently used any drugs in any form? being around smoke , certain smells bright light, such as sunlight, or flashing lights Do you experience day time sleep? In day time I feel sleepy, I will struggle to remain awake Do you tend to drink alcohol heavily? Yes, I tend to drink alcohol heavily? Are you feeling agitated and physically restless? especially lack of sleep I am  agitated\"\n",
    "\n",
    "\n",
    "\n",
    "enc_docs = encode_docs(tokenizer, max_length, [test_data])\n",
    "enc_docs"
   ]
  },
  {
   "cell_type": "code",
   "execution_count": null,
   "metadata": {},
   "outputs": [],
   "source": [
    "out = model.predict([enc_docs,enc_docs,enc_docs])\n",
    "arr = out[0]\n",
    "arr.argmax()"
   ]
  },
  {
   "cell_type": "code",
   "execution_count": null,
   "metadata": {},
   "outputs": [],
   "source": [
    "!"
   ]
  },
  {
   "cell_type": "code",
   "execution_count": null,
   "metadata": {},
   "outputs": [],
   "source": [
    "max_length"
   ]
  },
  {
   "cell_type": "code",
   "execution_count": null,
   "metadata": {},
   "outputs": [],
   "source": [
    "# saved_model_path = tf.contrib.saved_model.save_keras_model(model, \"./saved_models\")\n"
   ]
  },
  {
   "cell_type": "code",
   "execution_count": null,
   "metadata": {},
   "outputs": [],
   "source": [
    "\n",
    "!pwd"
   ]
  },
  {
   "cell_type": "code",
   "execution_count": null,
   "metadata": {},
   "outputs": [],
   "source": [
    "with tf.keras.backend.get_session() as sess:\n",
    "    tf.saved_model.simple_save(\n",
    "        sess,\n",
    "        \"export_path\",\n",
    "        inputs={'input': keras_model.input},\n",
    "        outputs={'output': keras_model.output})"
   ]
  },
  {
   "cell_type": "code",
   "execution_count": null,
   "metadata": {},
   "outputs": [],
   "source": [
    "from tensorflow import keras\n",
    "from tensorflow.keras import layers"
   ]
  },
  {
   "cell_type": "code",
   "execution_count": null,
   "metadata": {},
   "outputs": [],
   "source": [
    "keras.experimental.export_saved_model(model, '/home/surya/saved_model')\n"
   ]
  },
  {
   "cell_type": "code",
   "execution_count": null,
   "metadata": {},
   "outputs": [],
   "source": [
    "# Export the model to a SavedModel\n",
    "keras.experimental.export_saved_model(model, 'path_to_saved_model')\n",
    "\n",
    "# Recreate the exact same model\n",
    "new_model = keras.experimental.load_from_saved_model('path_to_saved_model')\n",
    "\n",
    "# Check that the state is preserved\n",
    "new_predictions = new_model.predict(x_test)\n",
    "np.testing.assert_allclose(predictions, new_predictions, atol=1e-6)\n",
    "\n",
    "# Note that the optimizer state is preserved as well:\n",
    "# you can resume training where you left off."
   ]
  },
  {
   "cell_type": "code",
   "execution_count": null,
   "metadata": {},
   "outputs": [],
   "source": [
    "\n",
    "\n",
    "with mlflow.start_run() as run:\n",
    "    mlflow.keras.log_model(model, \"models\")"
   ]
  },
  {
   "cell_type": "code",
   "execution_count": null,
   "metadata": {},
   "outputs": [],
   "source": [
    "# model\n",
    "mlflow.keras.save_model(model, \"models_keras\")"
   ]
  },
  {
   "cell_type": "code",
   "execution_count": null,
   "metadata": {},
   "outputs": [],
   "source": [
    ">>> import mlflow\n",
    ">>> # Build, compile, and train your model\n",
    ">>> keras_model = ...\n",
    ">>> keras_model_path = ...\n",
    ">>> keras_model.compile(optimizer=\"rmsprop\", loss=\"mse\", metrics=[\"accuracy\"])\n",
    ">>> results = keras_model.fit(\n",
    "...     x_train, y_train, epochs=20, batch_size = 128, validation_data=(x_val, y_val))\n",
    "... # Save the model as an MLflow Model\n",
    ">>> mlflow.keras.save_model(keras_model, keras_model_path)"
   ]
  },
  {
   "cell_type": "code",
   "execution_count": null,
   "metadata": {},
   "outputs": [],
   "source": []
  },
  {
   "cell_type": "code",
   "execution_count": null,
   "metadata": {},
   "outputs": [],
   "source": [
    "# 20.5.2 Data Augmentation\n",
    "from keras.preprocessing.image import ImageDataGenerator\n",
    "\n",
    "datagen = ImageDataGenerator(width_shift_range=0.1, height_shift_range=0.1, horizontal_flip=True)\n",
    "## Prepare iterator\n",
    "it_data = datagen.flow(trainX, trainY, batch_size=64)\n",
    "steps = int (trainX.shape[0]/64)\n",
    "\n",
    "history = model.fit_generator(it_data,steps_per_epoch=steps,epochs=100, validation_data=(testX, testY))\n"
   ]
  },
  {
   "cell_type": "code",
   "execution_count": null,
   "metadata": {},
   "outputs": [],
   "source": []
  }
 ],
 "metadata": {
  "kernelspec": {
   "display_name": "Python 3",
   "language": "python",
   "name": "python3"
  },
  "language_info": {
   "codemirror_mode": {
    "name": "ipython",
    "version": 3
   },
   "file_extension": ".py",
   "mimetype": "text/x-python",
   "name": "python",
   "nbconvert_exporter": "python",
   "pygments_lexer": "ipython3",
   "version": "3.6.8"
  }
 },
 "nbformat": 4,
 "nbformat_minor": 2
}
