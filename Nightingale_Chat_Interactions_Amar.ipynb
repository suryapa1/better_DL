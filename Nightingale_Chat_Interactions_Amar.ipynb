{
 "cells": [
  {
   "cell_type": "code",
   "execution_count": 254,
   "metadata": {},
   "outputs": [],
   "source": [
    "import pandas as pd\n",
    "import numpy as np\n",
    "import json\n",
    "from pandas import DataFrame\n",
    "from pandas.io.json import json_normalize\n",
    "from keras.preprocessing.text import Tokenizer\n",
    "from nltk.tokenize import TweetTokenizer\n",
    "import nltk\n",
    "import string\n",
    "import re\n",
    "import string\n",
    "from nltk.corpus import stopwords\n",
    "from collections import Counter\n",
    "from nltk.corpus import stopwords\n",
    "import string\n",
    "import re\n",
    "from os import listdir\n",
    "from collections import Counter\n",
    "from nltk.corpus import stopwords"
   ]
  },
  {
   "cell_type": "code",
   "execution_count": 255,
   "metadata": {},
   "outputs": [
    {
     "name": "stdout",
     "output_type": "stream",
     "text": [
      "high      2033\n",
      "medium    1880\n",
      "low       1485\n",
      "Name: rating, dtype: int64\n"
     ]
    }
   ],
   "source": [
    "df = pd.read_excel(\"/home/surya/Nightingale_Chat_NEW.xlsx\",sheet_name = \"All\", header=0)\n",
    "print(df.rating.value_counts())\n",
    "# df.columns"
   ]
  },
  {
   "cell_type": "code",
   "execution_count": 256,
   "metadata": {},
   "outputs": [
    {
     "data": {
      "text/plain": [
       "(5398, 5398)"
      ]
     },
     "execution_count": 256,
     "metadata": {},
     "output_type": "execute_result"
    }
   ],
   "source": [
    "len(df) , len(df.drop_duplicates())"
   ]
  },
  {
   "cell_type": "code",
   "execution_count": 257,
   "metadata": {},
   "outputs": [],
   "source": [
    "df = df.drop_duplicates()"
   ]
  },
  {
   "cell_type": "code",
   "execution_count": 260,
   "metadata": {},
   "outputs": [],
   "source": [
    "# Hello John, "
   ]
  },
  {
   "cell_type": "code",
   "execution_count": 261,
   "metadata": {},
   "outputs": [
    {
     "name": "stdout",
     "output_type": "stream",
     "text": [
      "                                           patient_chat rating\n",
      "0     female, 55 years, 75 kg and obese. hypertensiv...   high\n",
      "1     I'm 22 and male and I have gotten terrible mig...   high\n",
      "2     My wife is constantly suffering from high bloo...   high\n",
      "3     I get head aches multiple time times a week I'...   high\n",
      "4     I recently suffered a substantial loss of belo...   high\n",
      "5393   Hello John, how are you doing today? What can...    low\n",
      "5394   Hello John, how are you doing today? What can...    low\n",
      "5395   Hello John, how are you doing today? What can...    low\n",
      "5396   Hello John, how are you doing today? What can...    low\n",
      "5397   Hello John, how are you doing today? What can...    low\n"
     ]
    }
   ],
   "source": [
    "print(pd.concat([df.head(), df.tail()]))"
   ]
  },
  {
   "cell_type": "code",
   "execution_count": 262,
   "metadata": {},
   "outputs": [],
   "source": [
    "stop_words = set(stopwords.words('english'))\n",
    "discard_words = {'not' , 'no'}\n",
    "stop_words = stop_words - discard_words"
   ]
  },
  {
   "cell_type": "code",
   "execution_count": 263,
   "metadata": {},
   "outputs": [
    {
     "name": "stdout",
     "output_type": "stream",
     "text": [
      "{'as', 'yourselves', 'its', 'doing', 'against', 'in', 'his', 'down', 'each', 'it', 'them', 'what', 'just', 'needn', 'had', 'once', 'her', 'isn', 'at', 'was', 'yours', 'most', \"you'd\", \"aren't\", 'itself', 'but', 'after', 'm', 'there', 'with', 'on', 'me', 'any', \"she's\", \"mightn't\", 'ours', 'through', \"weren't\", 'the', 'because', 'only', \"couldn't\", 'does', 'won', 'did', 'until', 'should', 'he', 'be', 'very', 'their', \"should've\", \"mustn't\", 'o', 'hers', 'haven', 'you', 'am', 'for', \"hasn't\", 'few', 'is', 'yourself', 'ma', 'and', 'will', 'above', 'shouldn', 'by', 're', \"you'll\", 'your', 'over', 'again', 'own', 'about', \"wouldn't\", 'him', 'of', 'weren', 'such', 'has', 'some', 'mustn', 'more', 'y', 'himself', 'ain', 'now', 'to', 'have', \"won't\", \"you're\", 'when', 'are', 've', 'do', 'why', 'we', 'couldn', 'my', 'ourselves', \"it's\", 'below', 'd', 'theirs', 'during', 'from', 'who', 'whom', 'here', 'herself', 'being', 'themselves', 'so', 'up', 'how', 'while', 'she', 'they', 'then', \"that'll\", 'all', 'mightn', \"needn't\", \"wasn't\", 'off', \"you've\", 'or', \"haven't\", 'i', 's', 'nor', 'hadn', 'hasn', \"don't\", 'aren', \"shan't\", 'having', \"isn't\", 'that', 'been', 't', 'an', \"didn't\", 'shan', 'wouldn', 'before', 'these', 'those', 'under', 'both', 'll', 'if', 'were', 'can', 'don', 'wasn', 'into', \"hadn't\", 'than', 'this', 'where', 'myself', 'too', \"doesn't\", 'out', 'a', 'same', 'our', 'between', 'further', 'didn', \"shouldn't\", 'other', 'doesn', 'which'}\n"
     ]
    }
   ],
   "source": [
    "type(stop_words)\n",
    "print(stop_words)"
   ]
  },
  {
   "cell_type": "code",
   "execution_count": 264,
   "metadata": {},
   "outputs": [],
   "source": [
    "def load_file(filename):\n",
    "    with open(filename) as f:\n",
    "        d = json.load(f)\n",
    "        df = DataFrame(d)\n",
    "        f.close()\n",
    "    return df\n",
    "\n",
    "punc_ = set(string.punctuation)"
   ]
  },
  {
   "cell_type": "code",
   "execution_count": 265,
   "metadata": {},
   "outputs": [],
   "source": [
    "def clean_document(doc) :\n",
    "    \n",
    "    re_punc = re.compile('[%s]' % re.escape(string.punctuation))\n",
    "    stop_words = set(stopwords.words('english'))\n",
    "    doc = doc.replace(\"Hello John,\", \"\")\n",
    "    tokens = doc.lower().split()\n",
    "    \n",
    "#     tokens = [w for w in tokens if '@' not in w]\n",
    "    \n",
    "    # remove punctuation from each word\n",
    "    tokens = [re_punc.sub('', w) for w in tokens]\n",
    "    # remove remaining tokens that are not alphabetic\n",
    "    tokens = [word for word in tokens if word.isalpha() or word.isalnum()]\n",
    "    stop_words = set(stopwords.words('english'))\n",
    "    #remove stop words\n",
    "    tokens = [word for word in tokens if word not in stop_words]\n",
    "    tokens = [word for word in tokens if word not in punc_]\n",
    "    tokens = [re.sub('[^A-Za-z0-9]+', '', word)  for word in tokens]\n",
    "    tokens = [word for word in tokens if len(word) > 1]\n",
    "    return tokens\n",
    "\n",
    "def preprocess_documents(docs):\n",
    "    clean_docs = [clean_document(doc) for doc in docs]\n",
    "    return clean_docs"
   ]
  },
  {
   "cell_type": "code",
   "execution_count": 266,
   "metadata": {},
   "outputs": [],
   "source": [
    "docs = list(df.patient_chat)\n",
    "clean_docs = preprocess_documents(docs)"
   ]
  },
  {
   "cell_type": "markdown",
   "metadata": {},
   "source": [
    "## Define Vocobulary"
   ]
  },
  {
   "cell_type": "code",
   "execution_count": 271,
   "metadata": {},
   "outputs": [
    {
     "name": "stdout",
     "output_type": "stream",
     "text": [
      "2470\n"
     ]
    }
   ],
   "source": [
    "vocab = Counter()\n",
    "\n",
    "# load doc and add to vocab\n",
    "def add_doc_to_vocab(doc,vocab):\n",
    "    vocab.update(doc)\n",
    "    return vocab\n",
    "\n",
    "# load all docs in a directory\n",
    "def process_docs(clean_docs, vocab):\n",
    "    for doc in clean_docs:\n",
    "        vocab = add_doc_to_vocab(doc, vocab)\n",
    "    return vocab\n",
    "\n",
    "vocab = process_docs(clean_docs, vocab)\n",
    "\n",
    "# keep tokens with a min occurrence\n",
    "min_occurrence = 2\n",
    "tokens = [k for k,c in vocab.items() if c >= min_occurrence]\n",
    "print(len(tokens))"
   ]
  },
  {
   "cell_type": "markdown",
   "metadata": {},
   "source": [
    "### Total Vocobulary : 2470\n"
   ]
  },
  {
   "cell_type": "code",
   "execution_count": 272,
   "metadata": {},
   "outputs": [],
   "source": [
    "# save list to file\n",
    "def save_list(lines, filename):\n",
    "    # convert lines to a single blob of text\n",
    "    data = '\\n'.join(lines)\n",
    "    # open file\n",
    "    file = open(filename, 'w')\n",
    "    # write text\n",
    "    file.write(data)\n",
    "    # close file\n",
    "    file.close()\n",
    "    \n",
    "# save tokens to a vocabulary file\n",
    "save_list(tokens, 'nightingale_vocab.txt')\n",
    "\n",
    "# load doc into memory\n",
    "def load_doc(filename):\n",
    "    # open the file as read only\n",
    "    file = open(filename, 'r')\n",
    "    # read all text\n",
    "    text = file.read()\n",
    "    # close the file\n",
    "    file.close()\n",
    "    return text\n",
    "\n",
    "# load doc, clean and return line of tokens\n",
    "def doc_to_line(doc, vocab):\n",
    "    # filter by vocab\n",
    "    tokens = [w for w in doc if w in vocab]\n",
    "    return ' '.join(tokens)"
   ]
  },
  {
   "cell_type": "code",
   "execution_count": 273,
   "metadata": {},
   "outputs": [
    {
     "name": "stdout",
     "output_type": "stream",
     "text": [
      "/home/surya\r\n"
     ]
    }
   ],
   "source": [
    "!pwd"
   ]
  },
  {
   "cell_type": "code",
   "execution_count": 470,
   "metadata": {},
   "outputs": [],
   "source": [
    "# !cat /home/surya/nightingale_vocab.txt"
   ]
  },
  {
   "cell_type": "code",
   "execution_count": 274,
   "metadata": {},
   "outputs": [
    {
     "name": "stdout",
     "output_type": "stream",
     "text": [
      "-rw-r--r--. 1 root root 18297 Jun  7 14:50 /home/surya/nightingale_vocab.txt\r\n"
     ]
    }
   ],
   "source": [
    "!ls -ltr /home/surya/nightingale_vocab.txt"
   ]
  },
  {
   "cell_type": "code",
   "execution_count": 275,
   "metadata": {},
   "outputs": [],
   "source": [
    "# load the vocabulary\n",
    "vocab_filename = 'nightingale_vocab.txt'\n",
    "vocab = load_doc(vocab_filename)\n",
    "vocab = set(vocab.split())"
   ]
  },
  {
   "cell_type": "code",
   "execution_count": 276,
   "metadata": {},
   "outputs": [],
   "source": [
    "clean_doc_voc = []\n",
    "for doc in clean_docs:\n",
    "    clean_doc_voc.append(doc_to_line(doc, vocab))\n",
    "    \n",
    "df[\"clean_doc_voc\"] = clean_doc_voc"
   ]
  },
  {
   "cell_type": "code",
   "execution_count": 277,
   "metadata": {},
   "outputs": [],
   "source": [
    "df.rating  = df.rating.map({'low':0, 'medium':1, 'high' : 2})"
   ]
  },
  {
   "cell_type": "code",
   "execution_count": 278,
   "metadata": {},
   "outputs": [],
   "source": [
    "from sklearn.model_selection import train_test_split\n",
    "# X_train,X_test,y_train,y_test = train_test_split(X.index,y,test_size=0.2)\n",
    "train, test = train_test_split(df[[\"clean_doc_voc\",\"rating\" ]], test_size=0.2)\n",
    "\n",
    "xtrain_docs , y_train_docs= train[\"clean_doc_voc\"] , train[\"rating\"]\n",
    "xtest_docs , y_test_docs= test[\"clean_doc_voc\"] , test[\"rating\"]"
   ]
  },
  {
   "cell_type": "code",
   "execution_count": 279,
   "metadata": {},
   "outputs": [],
   "source": [
    "# fit a tokenizer\n",
    "def create_tokenizer(lines):\n",
    "    tokenizer = Tokenizer()\n",
    "    tokenizer.fit_on_texts(lines)\n",
    "    return tokenizer"
   ]
  },
  {
   "cell_type": "code",
   "execution_count": 280,
   "metadata": {},
   "outputs": [
    {
     "name": "stdout",
     "output_type": "stream",
     "text": [
      "2412\n",
      "2412\n"
     ]
    }
   ],
   "source": [
    "# encode data\n",
    "tokenizer = create_tokenizer(xtrain_docs)\n",
    "Xtrain = tokenizer.texts_to_matrix(xtrain_docs, mode='freq' )\n",
    "print(len(tokenizer.word_index))\n",
    "Xtest = tokenizer.texts_to_matrix(xtest_docs, mode='freq')\n",
    "print(len(tokenizer.word_index))"
   ]
  },
  {
   "cell_type": "code",
   "execution_count": 473,
   "metadata": {},
   "outputs": [
    {
     "data": {
      "text/plain": [
       "'female 55 years 75 kg obese hypertensive 160110 hg doctor prescribes olmesartan suffering severe headache'"
      ]
     },
     "execution_count": 473,
     "metadata": {},
     "output_type": "execute_result"
    }
   ],
   "source": [
    "xtrain_docs[0]"
   ]
  },
  {
   "cell_type": "code",
   "execution_count": 472,
   "metadata": {},
   "outputs": [
    {
     "data": {
      "text/plain": [
       "array([ 23,   8, 250, 219,  12,  63,  14,   1,  19,  20,  18,  58,  56,\n",
       "         1,   5,   2,  22,   3,  13,  26,   3,   9,   7,   6,  10, 132,\n",
       "         7,  21,  15,  25,  24,   3,   2,  11,  16,  17,  12,   3,   2,\n",
       "         0,   0,   0,   0,   0,   0,   0,   0,   0,   0,   0,   0,   0,\n",
       "         0,   0,   0,   0,   0,   0,   0,   0,   0,   0,   0,   0,   0,\n",
       "         0,   0,   0,   0,   0,   0,   0,   0,   0,   0,   0,   0,   0,\n",
       "         0,   0,   0,   0,   0,   0,   0,   0,   0,   0,   0,   0,   0,\n",
       "         0,   0,   0,   0,   0,   0,   0,   0,   0,   0,   0,   0,   0,\n",
       "         0], dtype=int32)"
      ]
     },
     "execution_count": 472,
     "metadata": {},
     "output_type": "execute_result"
    }
   ],
   "source": [
    "Xtrain[0]"
   ]
  },
  {
   "cell_type": "code",
   "execution_count": 281,
   "metadata": {},
   "outputs": [
    {
     "data": {
      "text/plain": [
       "2412"
      ]
     },
     "execution_count": 281,
     "metadata": {},
     "output_type": "execute_result"
    }
   ],
   "source": [
    "len(tokenizer.word_index)"
   ]
  },
  {
   "cell_type": "code",
   "execution_count": 282,
   "metadata": {},
   "outputs": [
    {
     "name": "stdout",
     "output_type": "stream",
     "text": [
      "((4318, 2413), (4318,))\n",
      "((1080,), (1080,))\n"
     ]
    }
   ],
   "source": [
    "print((Xtrain.shape ,y_train_docs.shape))\n",
    "print((xtest_docs.shape, y_test_docs.shape))"
   ]
  },
  {
   "cell_type": "code",
   "execution_count": 283,
   "metadata": {},
   "outputs": [
    {
     "data": {
      "text/plain": [
       "2412"
      ]
     },
     "execution_count": 283,
     "metadata": {},
     "output_type": "execute_result"
    }
   ],
   "source": [
    "len(set(tokenizer.word_index))"
   ]
  },
  {
   "cell_type": "code",
   "execution_count": 284,
   "metadata": {},
   "outputs": [
    {
     "data": {
      "text/plain": [
       "3826    2\n",
       "697     0\n",
       "4572    1\n",
       "4905    0\n",
       "Name: rating, dtype: int64"
      ]
     },
     "execution_count": 284,
     "metadata": {},
     "output_type": "execute_result"
    }
   ],
   "source": [
    "y_train_docs[:4]"
   ]
  },
  {
   "cell_type": "code",
   "execution_count": 285,
   "metadata": {},
   "outputs": [
    {
     "data": {
      "text/plain": [
       "2413"
      ]
     },
     "execution_count": 285,
     "metadata": {},
     "output_type": "execute_result"
    }
   ],
   "source": [
    "n_words = Xtest.shape[1]\n",
    "n_words"
   ]
  },
  {
   "cell_type": "code",
   "execution_count": 286,
   "metadata": {},
   "outputs": [
    {
     "data": {
      "text/plain": [
       "2413"
      ]
     },
     "execution_count": 286,
     "metadata": {},
     "output_type": "execute_result"
    }
   ],
   "source": [
    "Xtrain.shape[1]"
   ]
  },
  {
   "cell_type": "code",
   "execution_count": 474,
   "metadata": {},
   "outputs": [],
   "source": [
    "# MLP - Multi Layer perceptron models"
   ]
  },
  {
   "cell_type": "code",
   "execution_count": 475,
   "metadata": {},
   "outputs": [
    {
     "data": {
      "text/plain": [
       "2413"
      ]
     },
     "execution_count": 475,
     "metadata": {},
     "output_type": "execute_result"
    }
   ],
   "source": [
    "n_words"
   ]
  },
  {
   "cell_type": "code",
   "execution_count": 315,
   "metadata": {},
   "outputs": [
    {
     "name": "stdout",
     "output_type": "stream",
     "text": [
      "2413\n",
      "_________________________________________________________________\n",
      "Layer (type)                 Output Shape              Param #   \n",
      "=================================================================\n",
      "dense_113 (Dense)            (None, 50)                120700    \n",
      "_________________________________________________________________\n",
      "dense_114 (Dense)            (None, 3)                 153       \n",
      "=================================================================\n",
      "Total params: 120,853\n",
      "Trainable params: 120,853\n",
      "Non-trainable params: 0\n",
      "_________________________________________________________________\n",
      "2470\n"
     ]
    }
   ],
   "source": [
    "from nltk.corpus import stopwords\n",
    "from keras.preprocessing.text import Tokenizer\n",
    "from keras.utils.vis_utils import plot_model\n",
    "from keras.models import Sequential\n",
    "from keras.layers import Dense\n",
    "from keras.utils import to_categorical\n",
    "\n",
    "# define the model\n",
    "def define_model(n_words):\n",
    "    # define network\n",
    "    model = Sequential()\n",
    "    model.add(Dense(50, input_shape=(n_words,), activation='relu'))\n",
    "    model.add(Dense(3, activation='sigmoid'))\n",
    "    # compile network\n",
    "    model.compile(loss='categorical_crossentropy', optimizer='adam', metrics=['accuracy'])\n",
    "\n",
    "    # summarize defined model\n",
    "    model.summary()\n",
    "    plot_model(model, to_file='model.png', show_shapes=True)\n",
    "    return model\n",
    "print(n_words)\n",
    "model = define_model(n_words)\n",
    "print(len(set(vocab)))"
   ]
  },
  {
   "cell_type": "code",
   "execution_count": null,
   "metadata": {},
   "outputs": [],
   "source": []
  },
  {
   "cell_type": "code",
   "execution_count": 313,
   "metadata": {},
   "outputs": [
    {
     "data": {
      "image/png": "[encoded data removed]",
      "text/plain": [
       "<Figure size 432x288 with 2 Axes>"
      ]
     },
     "metadata": {
      "needs_background": "light"
     },
     "output_type": "display_data"
    }
   ],
   "source": [
    "# fit network\n",
    "history = model.fit(Xtrain, to_categorical(y_train_docs), epochs=300, validation_data=(Xtest, to_categorical(y_test_docs)),\n",
    "          verbose=0 , )\n",
    "histories = []\n",
    "histories.append(history)\n",
    "\n",
    "# plot diagnostic learning curves\n",
    "def summarize_diagnostics(histories):\n",
    "    for i in range(len(histories)):\n",
    "        # plot loss\n",
    "        pyplot.subplot(211)\n",
    "        pyplot.title('Cross Entropy Loss')\n",
    "        pyplot.plot(histories[i].history['loss'], color='blue', label='train')\n",
    "        pyplot.plot(histories[i].history['val_loss'], color='orange', label='test')\n",
    "        pyplot.tight_layout()\n",
    "        pyplot.legend()\n",
    "        # plot accuracy\n",
    "        pyplot.subplot(212)\n",
    "        pyplot.title('Classification Accuracy')\n",
    "        pyplot.plot(histories[i].history['acc'], color='blue', label='train')\n",
    "        pyplot.plot(histories[i].history['val_acc'], color='orange', label='test')\n",
    "        pyplot.tight_layout()\n",
    "        \n",
    "    pyplot.show()\n",
    "    \n",
    "summarize_diagnostics(histories)"
   ]
  },
  {
   "cell_type": "code",
   "execution_count": null,
   "metadata": {},
   "outputs": [],
   "source": [
    "\n",
    "# # evaluate a model using k-fold cross-validation\n",
    "# def evaluate_model(model, dataX, dataY, n_folds=5):\n",
    "# \tscores, histories = list(), list()\n",
    "# \t# prepare cross validation\n",
    "# \tkfold = KFold(n_folds, shuffle=True, random_state=1)\n",
    "# \t# enumerate splits\n",
    "# \tfor train_ix, test_ix in kfold.split(dataX):\n",
    "# \t\t# select rows for train and test\n",
    "# \t\ttrainX, trainY, testX, testY = dataX[train_ix], dataY[train_ix], dataX[test_ix], dataY[test_ix]\n",
    "# \t\t# fit model\n",
    "# \t\thistory = model.fit(trainX, trainY, epochs=10, batch_size=32, validation_data=(testX, testY), verbose=0)\n",
    "# \t\t# evaluate model\n",
    "# \t\t_, acc = model.evaluate(testX, testY, verbose=0)\n",
    "# \t\tprint('> %.3f' % (acc * 100.0))\n",
    "# \t\t# append scores\n",
    "# \t\tscores.append(acc)\n",
    "# \t\thistories.append(history)\n",
    "# \treturn scores, histories\n",
    "\n",
    "\n",
    "\n",
    "# # summarize model performance\n",
    "# def summarize_performance(scores):\n",
    "# \t# print summary\n",
    "# \tprint('Accuracy: mean=%.3f std=%.3f, n=%d' % (mean(scores)*100, std(scores)*100, len(scores)))\n",
    "# \t# box and whisker plots of results\n",
    "# \tpyplot.boxplot(scores)\n",
    "# \tpyplot.show()\n",
    "\n",
    "# # run the test harness for evaluating a model\n",
    "# def run_test_harness():\n",
    "# \t# load dataset\n",
    "# \ttrainX, trainY, testX, testY = load_dataset()\n",
    "# \t# prepare pixel data\n",
    "# \ttrainX, testX = prep_pixels(trainX, testX)\n",
    "# \t# define model\n",
    "# \tmodel = define_model()\n",
    "# \t# evaluate model\n",
    "# \tscores, histories = evaluate_model(model, trainX, trainY)\n",
    "# \t# learning curves\n",
    "# \tsummarize_diagnostics(histories)\n",
    "# \t# summarize estimated performance\n",
    "# \tsummarize_performance(scores)"
   ]
  },
  {
   "cell_type": "code",
   "execution_count": 316,
   "metadata": {},
   "outputs": [
    {
     "name": "stdout",
     "output_type": "stream",
     "text": [
      "-rw-r--r--. 1 root root  7040824 May 14 16:58 model_98.h5\r\n",
      "-rw-r--r--. 1 root root 20628648 May 14 18:21 model.h5\r\n",
      "-rw-r--r--. 1 root root 20628648 May 14 18:24 model_multi.h5\r\n",
      "-rw-r--r--. 1 root root  2649064 May 20 17:27 model_nightingale.h5\r\n",
      "-rw-r--r--. 1 root root 27599320 Jun  3 14:10 model_multi_nightingale_NEW.h5\r\n",
      "-rw-r--r--. 1 root root 27286464 Jun  3 15:11 ng_model_model_multiinput.h5\r\n",
      "-rw-r--r--. 1 root root 28312120 Jun  6 11:47 ng_model_epch20.h5\r\n",
      "-rw-r--r--. 1 root root 28312464 Jun  6 11:51 ng_model_model_multiinput_NEW.h5\r\n",
      "-rw-r--r--. 1 root root 28312464 Jun  6 11:51 model_multi_nightingale.h5\r\n",
      "-rw-r--r--. 1 root root  1473672 Jun  7 14:54 nightingale_freq.h5\r\n"
     ]
    }
   ],
   "source": [
    "!ls -ltr *.h5"
   ]
  },
  {
   "cell_type": "code",
   "execution_count": 317,
   "metadata": {},
   "outputs": [],
   "source": [
    "model.save(\"nightingale_freq.h5\")"
   ]
  },
  {
   "cell_type": "code",
   "execution_count": 318,
   "metadata": {},
   "outputs": [],
   "source": [
    "import pickle\n",
    "\n",
    "def save_tokenizer_file(object_, filename):\n",
    "    # saving\n",
    "    with open(filename, 'wb') as handle:\n",
    "        pickle.dump(object_, handle, protocol=pickle.HIGHEST_PROTOCOL)\n",
    "\n",
    "def load_tokenizer_file(filename):\n",
    "    # loading\n",
    "    with open(filename, 'rb') as handle:\n",
    "        tokenizer = pickle.load(handle)\n",
    "        return tokenizer\n",
    "    return null\n",
    "save_tokenizer_file(tokenizer,\"tokenizer.pkl\")"
   ]
  },
  {
   "cell_type": "code",
   "execution_count": 319,
   "metadata": {},
   "outputs": [
    {
     "name": "stdout",
     "output_type": "stream",
     "text": [
      "Test Accuracy: 26.018519\n"
     ]
    }
   ],
   "source": [
    "# evaluate\n",
    "loss, acc = model.evaluate(Xtest, to_categorical(y_test_docs), verbose=0)\n",
    "print('Test Accuracy: %f' % (acc*100))"
   ]
  },
  {
   "cell_type": "code",
   "execution_count": 320,
   "metadata": {},
   "outputs": [],
   "source": [
    "def prepare_data(train_docs, test_docs, mode):\n",
    "    # create the tokenizer\n",
    "    tokenizer = Tokenizer()\n",
    "    # fit the tokenizer on the documents\n",
    "    tokenizer.fit_on_texts(train_docs)\n",
    "    # encode training data set\n",
    "    Xtrain = tokenizer.texts_to_matrix(train_docs, mode=mode)\n",
    "    # encode training data set\n",
    "    Xtest = tokenizer.texts_to_matrix(test_docs, mode=mode)\n",
    "    return Xtrain, Xtest"
   ]
  },
  {
   "cell_type": "code",
   "execution_count": 321,
   "metadata": {},
   "outputs": [],
   "source": [
    "def evaluate_mode(Xtrain, ytrain, Xtest, ytest):\n",
    "    scores = list()\n",
    "    n_repeats = 10\n",
    "    n_words = Xtest.shape[1]\n",
    "    for i in range(n_repeats):\n",
    "        # define network\n",
    "        model = define_model(n_words)\n",
    "        # fit network\n",
    "        model.fit(Xtrain, ytrain, epochs=100, verbose=0)\n",
    "        # evaluate\n",
    "        _, acc = model.evaluate(Xtest, to_categorical(y_test_docs), verbose=0)\n",
    "        scores.append(acc)\n",
    "        print('%d accuracy: %s' % ((i+1), acc))\n",
    "    return scores"
   ]
  },
  {
   "cell_type": "code",
   "execution_count": 322,
   "metadata": {},
   "outputs": [
    {
     "name": "stdout",
     "output_type": "stream",
     "text": [
      "_________________________________________________________________\n",
      "Layer (type)                 Output Shape              Param #   \n",
      "=================================================================\n",
      "dense_115 (Dense)            (None, 50)                120700    \n",
      "_________________________________________________________________\n",
      "dense_116 (Dense)            (None, 3)                 153       \n",
      "=================================================================\n",
      "Total params: 120,853\n",
      "Trainable params: 120,853\n",
      "Non-trainable params: 0\n",
      "_________________________________________________________________\n",
      "1 accuracy: 0.2740740740740741\n",
      "_________________________________________________________________\n",
      "Layer (type)                 Output Shape              Param #   \n",
      "=================================================================\n",
      "dense_117 (Dense)            (None, 50)                120700    \n",
      "_________________________________________________________________\n",
      "dense_118 (Dense)            (None, 3)                 153       \n",
      "=================================================================\n",
      "Total params: 120,853\n",
      "Trainable params: 120,853\n",
      "Non-trainable params: 0\n",
      "_________________________________________________________________\n",
      "2 accuracy: 0.2740740740740741\n",
      "_________________________________________________________________\n",
      "Layer (type)                 Output Shape              Param #   \n",
      "=================================================================\n",
      "dense_119 (Dense)            (None, 50)                120700    \n",
      "_________________________________________________________________\n",
      "dense_120 (Dense)            (None, 3)                 153       \n",
      "=================================================================\n",
      "Total params: 120,853\n",
      "Trainable params: 120,853\n",
      "Non-trainable params: 0\n",
      "_________________________________________________________________\n",
      "3 accuracy: 0.2740740740740741\n",
      "_________________________________________________________________\n",
      "Layer (type)                 Output Shape              Param #   \n",
      "=================================================================\n",
      "dense_121 (Dense)            (None, 50)                120700    \n",
      "_________________________________________________________________\n",
      "dense_122 (Dense)            (None, 3)                 153       \n",
      "=================================================================\n",
      "Total params: 120,853\n",
      "Trainable params: 120,853\n",
      "Non-trainable params: 0\n",
      "_________________________________________________________________\n",
      "4 accuracy: 0.2740740740740741\n",
      "_________________________________________________________________\n",
      "Layer (type)                 Output Shape              Param #   \n",
      "=================================================================\n",
      "dense_123 (Dense)            (None, 50)                120700    \n",
      "_________________________________________________________________\n",
      "dense_124 (Dense)            (None, 3)                 153       \n",
      "=================================================================\n",
      "Total params: 120,853\n",
      "Trainable params: 120,853\n",
      "Non-trainable params: 0\n",
      "_________________________________________________________________\n",
      "5 accuracy: 0.2740740740740741\n",
      "_________________________________________________________________\n",
      "Layer (type)                 Output Shape              Param #   \n",
      "=================================================================\n",
      "dense_125 (Dense)            (None, 50)                120700    \n",
      "_________________________________________________________________\n",
      "dense_126 (Dense)            (None, 3)                 153       \n",
      "=================================================================\n",
      "Total params: 120,853\n",
      "Trainable params: 120,853\n",
      "Non-trainable params: 0\n",
      "_________________________________________________________________\n",
      "6 accuracy: 0.2740740740740741\n",
      "_________________________________________________________________\n",
      "Layer (type)                 Output Shape              Param #   \n",
      "=================================================================\n",
      "dense_127 (Dense)            (None, 50)                120700    \n",
      "_________________________________________________________________\n",
      "dense_128 (Dense)            (None, 3)                 153       \n",
      "=================================================================\n",
      "Total params: 120,853\n",
      "Trainable params: 120,853\n",
      "Non-trainable params: 0\n",
      "_________________________________________________________________\n",
      "7 accuracy: 0.2740740740740741\n",
      "_________________________________________________________________\n",
      "Layer (type)                 Output Shape              Param #   \n",
      "=================================================================\n",
      "dense_129 (Dense)            (None, 50)                120700    \n",
      "_________________________________________________________________\n",
      "dense_130 (Dense)            (None, 3)                 153       \n",
      "=================================================================\n",
      "Total params: 120,853\n",
      "Trainable params: 120,853\n",
      "Non-trainable params: 0\n",
      "_________________________________________________________________\n",
      "8 accuracy: 0.2740740740740741\n",
      "_________________________________________________________________\n",
      "Layer (type)                 Output Shape              Param #   \n",
      "=================================================================\n",
      "dense_131 (Dense)            (None, 50)                120700    \n",
      "_________________________________________________________________\n",
      "dense_132 (Dense)            (None, 3)                 153       \n",
      "=================================================================\n",
      "Total params: 120,853\n",
      "Trainable params: 120,853\n",
      "Non-trainable params: 0\n",
      "_________________________________________________________________\n",
      "9 accuracy: 0.2740740740740741\n",
      "_________________________________________________________________\n",
      "Layer (type)                 Output Shape              Param #   \n",
      "=================================================================\n",
      "dense_133 (Dense)            (None, 50)                120700    \n",
      "_________________________________________________________________\n",
      "dense_134 (Dense)            (None, 3)                 153       \n",
      "=================================================================\n",
      "Total params: 120,853\n",
      "Trainable params: 120,853\n",
      "Non-trainable params: 0\n",
      "_________________________________________________________________\n",
      "10 accuracy: 0.2740740740740741\n",
      "          binary\n",
      "count  10.000000\n",
      "mean    0.274074\n",
      "std     0.000000\n",
      "min     0.274074\n",
      "25%     0.274074\n",
      "50%     0.274074\n",
      "75%     0.274074\n",
      "max     0.274074\n",
      "_________________________________________________________________\n",
      "Layer (type)                 Output Shape              Param #   \n",
      "=================================================================\n",
      "dense_135 (Dense)            (None, 50)                120700    \n",
      "_________________________________________________________________\n",
      "dense_136 (Dense)            (None, 3)                 153       \n",
      "=================================================================\n",
      "Total params: 120,853\n",
      "Trainable params: 120,853\n",
      "Non-trainable params: 0\n",
      "_________________________________________________________________\n",
      "1 accuracy: 0.2740740740740741\n",
      "_________________________________________________________________\n",
      "Layer (type)                 Output Shape              Param #   \n",
      "=================================================================\n",
      "dense_137 (Dense)            (None, 50)                120700    \n",
      "_________________________________________________________________\n",
      "dense_138 (Dense)            (None, 3)                 153       \n",
      "=================================================================\n",
      "Total params: 120,853\n",
      "Trainable params: 120,853\n",
      "Non-trainable params: 0\n",
      "_________________________________________________________________\n",
      "2 accuracy: 0.2740740740740741\n",
      "_________________________________________________________________\n",
      "Layer (type)                 Output Shape              Param #   \n",
      "=================================================================\n",
      "dense_139 (Dense)            (None, 50)                120700    \n",
      "_________________________________________________________________\n",
      "dense_140 (Dense)            (None, 3)                 153       \n",
      "=================================================================\n",
      "Total params: 120,853\n",
      "Trainable params: 120,853\n",
      "Non-trainable params: 0\n",
      "_________________________________________________________________\n"
     ]
    },
    {
     "name": "stdout",
     "output_type": "stream",
     "text": [
      "3 accuracy: 0.2740740740740741\n",
      "_________________________________________________________________\n",
      "Layer (type)                 Output Shape              Param #   \n",
      "=================================================================\n",
      "dense_141 (Dense)            (None, 50)                120700    \n",
      "_________________________________________________________________\n",
      "dense_142 (Dense)            (None, 3)                 153       \n",
      "=================================================================\n",
      "Total params: 120,853\n",
      "Trainable params: 120,853\n",
      "Non-trainable params: 0\n",
      "_________________________________________________________________\n",
      "4 accuracy: 0.2740740740740741\n",
      "_________________________________________________________________\n",
      "Layer (type)                 Output Shape              Param #   \n",
      "=================================================================\n",
      "dense_143 (Dense)            (None, 50)                120700    \n",
      "_________________________________________________________________\n",
      "dense_144 (Dense)            (None, 3)                 153       \n",
      "=================================================================\n",
      "Total params: 120,853\n",
      "Trainable params: 120,853\n",
      "Non-trainable params: 0\n",
      "_________________________________________________________________\n",
      "5 accuracy: 0.2740740740740741\n",
      "_________________________________________________________________\n",
      "Layer (type)                 Output Shape              Param #   \n",
      "=================================================================\n",
      "dense_145 (Dense)            (None, 50)                120700    \n",
      "_________________________________________________________________\n",
      "dense_146 (Dense)            (None, 3)                 153       \n",
      "=================================================================\n",
      "Total params: 120,853\n",
      "Trainable params: 120,853\n",
      "Non-trainable params: 0\n",
      "_________________________________________________________________\n",
      "6 accuracy: 0.2740740740740741\n",
      "_________________________________________________________________\n",
      "Layer (type)                 Output Shape              Param #   \n",
      "=================================================================\n",
      "dense_147 (Dense)            (None, 50)                120700    \n",
      "_________________________________________________________________\n",
      "dense_148 (Dense)            (None, 3)                 153       \n",
      "=================================================================\n",
      "Total params: 120,853\n",
      "Trainable params: 120,853\n",
      "Non-trainable params: 0\n",
      "_________________________________________________________________\n",
      "7 accuracy: 0.2740740740740741\n",
      "_________________________________________________________________\n",
      "Layer (type)                 Output Shape              Param #   \n",
      "=================================================================\n",
      "dense_149 (Dense)            (None, 50)                120700    \n",
      "_________________________________________________________________\n",
      "dense_150 (Dense)            (None, 3)                 153       \n",
      "=================================================================\n",
      "Total params: 120,853\n",
      "Trainable params: 120,853\n",
      "Non-trainable params: 0\n",
      "_________________________________________________________________\n",
      "8 accuracy: 0.2740740740740741\n",
      "_________________________________________________________________\n",
      "Layer (type)                 Output Shape              Param #   \n",
      "=================================================================\n",
      "dense_151 (Dense)            (None, 50)                120700    \n",
      "_________________________________________________________________\n",
      "dense_152 (Dense)            (None, 3)                 153       \n",
      "=================================================================\n",
      "Total params: 120,853\n",
      "Trainable params: 120,853\n",
      "Non-trainable params: 0\n",
      "_________________________________________________________________\n",
      "9 accuracy: 0.2740740740740741\n",
      "_________________________________________________________________\n",
      "Layer (type)                 Output Shape              Param #   \n",
      "=================================================================\n",
      "dense_153 (Dense)            (None, 50)                120700    \n",
      "_________________________________________________________________\n",
      "dense_154 (Dense)            (None, 3)                 153       \n",
      "=================================================================\n",
      "Total params: 120,853\n",
      "Trainable params: 120,853\n",
      "Non-trainable params: 0\n",
      "_________________________________________________________________\n",
      "10 accuracy: 0.2740740740740741\n",
      "          binary      count\n",
      "count  10.000000  10.000000\n",
      "mean    0.274074   0.274074\n",
      "std     0.000000   0.000000\n",
      "min     0.274074   0.274074\n",
      "25%     0.274074   0.274074\n",
      "50%     0.274074   0.274074\n",
      "75%     0.274074   0.274074\n",
      "max     0.274074   0.274074\n",
      "_________________________________________________________________\n",
      "Layer (type)                 Output Shape              Param #   \n",
      "=================================================================\n",
      "dense_155 (Dense)            (None, 50)                120700    \n",
      "_________________________________________________________________\n",
      "dense_156 (Dense)            (None, 3)                 153       \n",
      "=================================================================\n",
      "Total params: 120,853\n",
      "Trainable params: 120,853\n",
      "Non-trainable params: 0\n",
      "_________________________________________________________________\n",
      "1 accuracy: 0.2740740740740741\n",
      "_________________________________________________________________\n",
      "Layer (type)                 Output Shape              Param #   \n",
      "=================================================================\n",
      "dense_157 (Dense)            (None, 50)                120700    \n",
      "_________________________________________________________________\n",
      "dense_158 (Dense)            (None, 3)                 153       \n",
      "=================================================================\n",
      "Total params: 120,853\n",
      "Trainable params: 120,853\n",
      "Non-trainable params: 0\n",
      "_________________________________________________________________\n",
      "2 accuracy: 0.2740740740740741\n",
      "_________________________________________________________________\n",
      "Layer (type)                 Output Shape              Param #   \n",
      "=================================================================\n",
      "dense_159 (Dense)            (None, 50)                120700    \n",
      "_________________________________________________________________\n",
      "dense_160 (Dense)            (None, 3)                 153       \n",
      "=================================================================\n",
      "Total params: 120,853\n",
      "Trainable params: 120,853\n",
      "Non-trainable params: 0\n",
      "_________________________________________________________________\n",
      "3 accuracy: 0.2740740740740741\n",
      "_________________________________________________________________\n",
      "Layer (type)                 Output Shape              Param #   \n",
      "=================================================================\n",
      "dense_161 (Dense)            (None, 50)                120700    \n",
      "_________________________________________________________________\n",
      "dense_162 (Dense)            (None, 3)                 153       \n",
      "=================================================================\n",
      "Total params: 120,853\n",
      "Trainable params: 120,853\n",
      "Non-trainable params: 0\n",
      "_________________________________________________________________\n",
      "4 accuracy: 0.2740740740740741\n",
      "_________________________________________________________________\n",
      "Layer (type)                 Output Shape              Param #   \n",
      "=================================================================\n",
      "dense_163 (Dense)            (None, 50)                120700    \n",
      "_________________________________________________________________\n",
      "dense_164 (Dense)            (None, 3)                 153       \n",
      "=================================================================\n",
      "Total params: 120,853\n",
      "Trainable params: 120,853\n",
      "Non-trainable params: 0\n",
      "_________________________________________________________________\n",
      "5 accuracy: 0.2740740740740741\n",
      "_________________________________________________________________\n",
      "Layer (type)                 Output Shape              Param #   \n",
      "=================================================================\n",
      "dense_165 (Dense)            (None, 50)                120700    \n",
      "_________________________________________________________________\n",
      "dense_166 (Dense)            (None, 3)                 153       \n",
      "=================================================================\n",
      "Total params: 120,853\n",
      "Trainable params: 120,853\n",
      "Non-trainable params: 0\n",
      "_________________________________________________________________\n"
     ]
    },
    {
     "name": "stdout",
     "output_type": "stream",
     "text": [
      "6 accuracy: 0.2740740740740741\n",
      "_________________________________________________________________\n",
      "Layer (type)                 Output Shape              Param #   \n",
      "=================================================================\n",
      "dense_167 (Dense)            (None, 50)                120700    \n",
      "_________________________________________________________________\n",
      "dense_168 (Dense)            (None, 3)                 153       \n",
      "=================================================================\n",
      "Total params: 120,853\n",
      "Trainable params: 120,853\n",
      "Non-trainable params: 0\n",
      "_________________________________________________________________\n",
      "7 accuracy: 0.2740740740740741\n",
      "_________________________________________________________________\n",
      "Layer (type)                 Output Shape              Param #   \n",
      "=================================================================\n",
      "dense_169 (Dense)            (None, 50)                120700    \n",
      "_________________________________________________________________\n",
      "dense_170 (Dense)            (None, 3)                 153       \n",
      "=================================================================\n",
      "Total params: 120,853\n",
      "Trainable params: 120,853\n",
      "Non-trainable params: 0\n",
      "_________________________________________________________________\n",
      "8 accuracy: 0.2740740740740741\n",
      "_________________________________________________________________\n",
      "Layer (type)                 Output Shape              Param #   \n",
      "=================================================================\n",
      "dense_171 (Dense)            (None, 50)                120700    \n",
      "_________________________________________________________________\n",
      "dense_172 (Dense)            (None, 3)                 153       \n",
      "=================================================================\n",
      "Total params: 120,853\n",
      "Trainable params: 120,853\n",
      "Non-trainable params: 0\n",
      "_________________________________________________________________\n",
      "9 accuracy: 0.2740740740740741\n",
      "_________________________________________________________________\n",
      "Layer (type)                 Output Shape              Param #   \n",
      "=================================================================\n",
      "dense_173 (Dense)            (None, 50)                120700    \n",
      "_________________________________________________________________\n",
      "dense_174 (Dense)            (None, 3)                 153       \n",
      "=================================================================\n",
      "Total params: 120,853\n",
      "Trainable params: 120,853\n",
      "Non-trainable params: 0\n",
      "_________________________________________________________________\n",
      "10 accuracy: 0.2740740740740741\n",
      "          binary      count      tfidf\n",
      "count  10.000000  10.000000  10.000000\n",
      "mean    0.274074   0.274074   0.274074\n",
      "std     0.000000   0.000000   0.000000\n",
      "min     0.274074   0.274074   0.274074\n",
      "25%     0.274074   0.274074   0.274074\n",
      "50%     0.274074   0.274074   0.274074\n",
      "75%     0.274074   0.274074   0.274074\n",
      "max     0.274074   0.274074   0.274074\n",
      "_________________________________________________________________\n",
      "Layer (type)                 Output Shape              Param #   \n",
      "=================================================================\n",
      "dense_175 (Dense)            (None, 50)                120700    \n",
      "_________________________________________________________________\n",
      "dense_176 (Dense)            (None, 3)                 153       \n",
      "=================================================================\n",
      "Total params: 120,853\n",
      "Trainable params: 120,853\n",
      "Non-trainable params: 0\n",
      "_________________________________________________________________\n",
      "1 accuracy: 0.8731481477066323\n",
      "_________________________________________________________________\n",
      "Layer (type)                 Output Shape              Param #   \n",
      "=================================================================\n",
      "dense_177 (Dense)            (None, 50)                120700    \n",
      "_________________________________________________________________\n",
      "dense_178 (Dense)            (None, 3)                 153       \n",
      "=================================================================\n",
      "Total params: 120,853\n",
      "Trainable params: 120,853\n",
      "Non-trainable params: 0\n",
      "_________________________________________________________________\n",
      "2 accuracy: 0.8768518522933677\n",
      "_________________________________________________________________\n",
      "Layer (type)                 Output Shape              Param #   \n",
      "=================================================================\n",
      "dense_179 (Dense)            (None, 50)                120700    \n",
      "_________________________________________________________________\n",
      "dense_180 (Dense)            (None, 3)                 153       \n",
      "=================================================================\n",
      "Total params: 120,853\n",
      "Trainable params: 120,853\n",
      "Non-trainable params: 0\n",
      "_________________________________________________________________\n",
      "3 accuracy: 0.8796296291881137\n",
      "_________________________________________________________________\n",
      "Layer (type)                 Output Shape              Param #   \n",
      "=================================================================\n",
      "dense_181 (Dense)            (None, 50)                120700    \n",
      "_________________________________________________________________\n",
      "dense_182 (Dense)            (None, 3)                 153       \n",
      "=================================================================\n",
      "Total params: 120,853\n",
      "Trainable params: 120,853\n",
      "Non-trainable params: 0\n",
      "_________________________________________________________________\n",
      "4 accuracy: 0.8675925930341085\n",
      "_________________________________________________________________\n",
      "Layer (type)                 Output Shape              Param #   \n",
      "=================================================================\n",
      "dense_183 (Dense)            (None, 50)                120700    \n",
      "_________________________________________________________________\n",
      "dense_184 (Dense)            (None, 3)                 153       \n",
      "=================================================================\n",
      "Total params: 120,853\n",
      "Trainable params: 120,853\n",
      "Non-trainable params: 0\n",
      "_________________________________________________________________\n",
      "5 accuracy: 0.8805555551140397\n",
      "_________________________________________________________________\n",
      "Layer (type)                 Output Shape              Param #   \n",
      "=================================================================\n",
      "dense_185 (Dense)            (None, 50)                120700    \n",
      "_________________________________________________________________\n",
      "dense_186 (Dense)            (None, 3)                 153       \n",
      "=================================================================\n",
      "Total params: 120,853\n",
      "Trainable params: 120,853\n",
      "Non-trainable params: 0\n",
      "_________________________________________________________________\n",
      "6 accuracy: 0.8712962967378122\n",
      "_________________________________________________________________\n",
      "Layer (type)                 Output Shape              Param #   \n",
      "=================================================================\n",
      "dense_187 (Dense)            (None, 50)                120700    \n",
      "_________________________________________________________________\n",
      "dense_188 (Dense)            (None, 3)                 153       \n",
      "=================================================================\n",
      "Total params: 120,853\n",
      "Trainable params: 120,853\n",
      "Non-trainable params: 0\n",
      "_________________________________________________________________\n",
      "7 accuracy: 0.8759259254844101\n",
      "_________________________________________________________________\n",
      "Layer (type)                 Output Shape              Param #   \n",
      "=================================================================\n",
      "dense_189 (Dense)            (None, 50)                120700    \n",
      "_________________________________________________________________\n",
      "dense_190 (Dense)            (None, 3)                 153       \n",
      "=================================================================\n",
      "Total params: 120,853\n",
      "Trainable params: 120,853\n",
      "Non-trainable params: 0\n",
      "_________________________________________________________________\n",
      "8 accuracy: 0.8796296291881137\n",
      "_________________________________________________________________\n",
      "Layer (type)                 Output Shape              Param #   \n",
      "=================================================================\n",
      "dense_191 (Dense)            (None, 50)                120700    \n",
      "_________________________________________________________________\n",
      "dense_192 (Dense)            (None, 3)                 153       \n",
      "=================================================================\n",
      "Total params: 120,853\n",
      "Trainable params: 120,853\n",
      "Non-trainable params: 0\n",
      "_________________________________________________________________\n"
     ]
    },
    {
     "name": "stdout",
     "output_type": "stream",
     "text": [
      "9 accuracy: 0.873148148589664\n",
      "_________________________________________________________________\n",
      "Layer (type)                 Output Shape              Param #   \n",
      "=================================================================\n",
      "dense_193 (Dense)            (None, 50)                120700    \n",
      "_________________________________________________________________\n",
      "dense_194 (Dense)            (None, 3)                 153       \n",
      "=================================================================\n",
      "Total params: 120,853\n",
      "Trainable params: 120,853\n",
      "Non-trainable params: 0\n",
      "_________________________________________________________________\n",
      "10 accuracy: 0.8759259263674418\n",
      "          binary      count      tfidf       freq\n",
      "count  10.000000  10.000000  10.000000  10.000000\n",
      "mean    0.274074   0.274074   0.274074   0.875370\n",
      "std     0.000000   0.000000   0.000000   0.004122\n",
      "min     0.274074   0.274074   0.274074   0.867593\n",
      "25%     0.274074   0.274074   0.274074   0.873148\n",
      "50%     0.274074   0.274074   0.274074   0.875926\n",
      "75%     0.274074   0.274074   0.274074   0.878935\n",
      "max     0.274074   0.274074   0.274074   0.880556\n"
     ]
    }
   ],
   "source": [
    "# run experiment\n",
    "modes = ['binary', 'count', 'tfidf', 'freq']\n",
    "results = DataFrame()\n",
    "for mode in modes:\n",
    "    # prepare data for mode\n",
    "    Xtrain, Xtest = prepare_data(xtrain_docs, xtest_docs, mode)\n",
    "    # evaluate model on data for mode\n",
    "    results[mode] = evaluate_mode(Xtrain, to_categorical(y_train_docs), Xtest, to_categorical(y_test_docs))\n",
    "    # summarize results\n",
    "    # Comparing Word Scoring Methods\n",
    "    print(results.describe())"
   ]
  },
  {
   "cell_type": "code",
   "execution_count": 323,
   "metadata": {},
   "outputs": [],
   "source": [
    "import matplotlib.pyplot as plt\n",
    "%matplotlib inline"
   ]
  },
  {
   "cell_type": "code",
   "execution_count": 324,
   "metadata": {},
   "outputs": [
    {
     "data": {
      "image/png": "[encoded data removed]",
      "text/plain": [
       "<Figure size 432x288 with 1 Axes>"
      ]
     },
     "metadata": {
      "needs_background": "light"
     },
     "output_type": "display_data"
    }
   ],
   "source": [
    "results.boxplot()\n",
    "plt.show()"
   ]
  },
  {
   "cell_type": "markdown",
   "metadata": {},
   "source": [
    "###  Predict New Sentiment"
   ]
  },
  {
   "cell_type": "code",
   "execution_count": 325,
   "metadata": {},
   "outputs": [],
   "source": [
    "# classify a review as negative or positive\n",
    "def predict_sentiment(review, vocab, tokenizer, model):\n",
    "    # clean\n",
    "#     tokens = clean_doc(review)\n",
    "    \n",
    "    tokens = clean_document(text)\n",
    "    print(tokens)\n",
    "    # filter by vocab\n",
    "    tokens = [w for w in tokens if w in vocab]\n",
    "    # convert to line\n",
    "    line = ' '.join(tokens)\n",
    "    # encode\n",
    "    encoded = tokenizer.texts_to_matrix([line], mode='freq')\n",
    "    # predict sentiment\n",
    "    yhat = model.predict(encoded, verbose=0)\n",
    "    max_index = np.argmax(yhat[0])\n",
    "    print(yhat[0])\n",
    "    print(yhat[0][max_index])\n",
    "    # retrieve predicted percentage and label\n",
    "    percent_pos = yhat[0][max_index]\n",
    "    if max_index == 0 : \n",
    "        return (percent_pos), '0'\n",
    "    if max_index == 1 : \n",
    "        return (percent_pos), '1'\n",
    "    if max_index == 2 : \n",
    "        return (percent_pos), '2'\n",
    "    return \"NA\""
   ]
  },
  {
   "cell_type": "code",
   "execution_count": 326,
   "metadata": {},
   "outputs": [
    {
     "name": "stdout",
     "output_type": "stream",
     "text": [
      "['leg', 'getting', 'hell', 'lot', 'pain', 'whihch', 'un', 'imaginable', 'blood', 'due', 'pain']\n",
      "[0.5008606  0.5015721  0.49910027]\n",
      "0.5015721\n"
     ]
    },
    {
     "data": {
      "text/plain": [
       "(0.5015721, '1')"
      ]
     },
     "execution_count": 326,
     "metadata": {},
     "output_type": "execute_result"
    }
   ],
   "source": [
    "# test positive text\n",
    "text = \"my leg is getting hell lot of pain whihch is un imaginable blood due to pain!!\"\n",
    "percent, sentiment = predict_sentiment(text, vocab, tokenizer, model)\n",
    "percent, sentiment "
   ]
  },
  {
   "cell_type": "code",
   "execution_count": 327,
   "metadata": {},
   "outputs": [
    {
     "name": "stdout",
     "output_type": "stream",
     "text": [
      "['leg', 'paining', 'alot', 'severe', 'couldnt', 'bear']\n",
      "[0.50114214 0.4969691  0.50239265]\n",
      "0.50239265\n"
     ]
    },
    {
     "data": {
      "text/plain": [
       "(0.50239265, '2')"
      ]
     },
     "execution_count": 327,
     "metadata": {},
     "output_type": "execute_result"
    }
   ],
   "source": [
    "# test positive text\n",
    "text = \"my leg is paining alot and it is severe, couldn't bear any more\"\n",
    "percent, sentiment = predict_sentiment(text, vocab, tokenizer, model)\n",
    "percent, sentiment "
   ]
  },
  {
   "cell_type": "code",
   "execution_count": 328,
   "metadata": {},
   "outputs": [
    {
     "name": "stdout",
     "output_type": "stream",
     "text": [
      "['leg', 'paining', 'alot', 'severe', 'couldnt', 'bear']\n",
      "[0.50114214 0.4969691  0.50239265]\n",
      "0.50239265\n",
      "Review: [my leg is paining alot and it is severe, couldn't bear any more]\n",
      "Sentiment: 2 (50.239%)\n",
      "['bad', 'movie']\n",
      "[0.49783656 0.5080463  0.49629587]\n",
      "0.5080463\n",
      "Review: [This is a bad movie.]\n",
      "Sentiment: 1 (50.805%)\n"
     ]
    }
   ],
   "source": [
    "# test positive text\n",
    "# text = 'Best movie ever! It was great, I recommend it.'\n",
    "percent, sentiment = predict_sentiment(text, vocab, tokenizer, model)\n",
    "print('Review: [%s]\\nSentiment: %s (%.3f%%)' % (text, sentiment, percent*100))\n",
    "# test negative text\n",
    "text = 'This is a bad movie.'\n",
    "percent, sentiment = predict_sentiment(text, vocab, tokenizer, model)\n",
    "print('Review: [%s]\\nSentiment: %s (%.3f%%)' % (text, sentiment, percent*100))"
   ]
  },
  {
   "cell_type": "code",
   "execution_count": 329,
   "metadata": {},
   "outputs": [],
   "source": [
    "# define the model\n",
    "def define_model(vocab_size, max_length):\n",
    "    model = Sequential()\n",
    "    model.add(Embedding(vocab_size, 300, input_length=max_length))\n",
    "    model.add(Conv1D(filters=32, kernel_size=8, activation='relu'))\n",
    "    model.add(MaxPooling1D(pool_size=2))\n",
    "    \n",
    "    model.add(Conv1D(filters=32, kernel_size=8, activation='relu'))\n",
    "    model.add(MaxPooling1D(pool_size=2))\n",
    "    model.add(Conv1D(filters=32, kernel_size=8, activation='relu'))\n",
    "    model.add(MaxPooling1D(pool_size=2))\n",
    "    \n",
    "    model.add(Flatten())\n",
    "    model.add(Dense(10, activation='relu'))\n",
    "    model.add(Dense(3, activation='sigmoid'))\n",
    "    # compile network\n",
    "    model.compile(loss='categorical_crossentropy', optimizer='adam', metrics=['accuracy'])\n",
    "\n",
    "    # summarize defined model\n",
    "    model.summary()\n",
    "    plot_model(model, to_file='model.png', show_shapes=True)\n",
    "    return model"
   ]
  },
  {
   "cell_type": "code",
   "execution_count": 330,
   "metadata": {},
   "outputs": [
    {
     "data": {
      "text/plain": [
       "2470"
      ]
     },
     "execution_count": 330,
     "metadata": {},
     "output_type": "execute_result"
    }
   ],
   "source": [
    "len(vocab)"
   ]
  },
  {
   "cell_type": "code",
   "execution_count": 331,
   "metadata": {},
   "outputs": [],
   "source": [
    "# xtrain_docs"
   ]
  },
  {
   "cell_type": "code",
   "execution_count": 332,
   "metadata": {},
   "outputs": [
    {
     "data": {
      "text/plain": [
       "105"
      ]
     },
     "execution_count": 332,
     "metadata": {},
     "output_type": "execute_result"
    }
   ],
   "source": [
    "max_length = max([len(s.split()) for s in xtrain_docs])\n",
    "max_length"
   ]
  },
  {
   "cell_type": "code",
   "execution_count": 333,
   "metadata": {},
   "outputs": [
    {
     "data": {
      "text/plain": [
       "2470"
      ]
     },
     "execution_count": 333,
     "metadata": {},
     "output_type": "execute_result"
    }
   ],
   "source": [
    "vocab_size = len(set(vocab))\n",
    "len(set(vocab))"
   ]
  },
  {
   "cell_type": "code",
   "execution_count": 334,
   "metadata": {},
   "outputs": [],
   "source": [
    "from keras.layers.convolutional import Conv1D\n",
    "from keras.layers.convolutional import MaxPooling1D\n",
    "from keras.layers import Embedding , Flatten\n",
    "from keras.models import Sequential\n",
    "from keras.layers import Dense\n",
    "from keras.layers import Flatten\n",
    "from keras.layers import Embedding"
   ]
  },
  {
   "cell_type": "code",
   "execution_count": 335,
   "metadata": {},
   "outputs": [
    {
     "name": "stdout",
     "output_type": "stream",
     "text": [
      "_________________________________________________________________\n",
      "Layer (type)                 Output Shape              Param #   \n",
      "=================================================================\n",
      "embedding_30 (Embedding)     (None, 105, 300)          741000    \n",
      "_________________________________________________________________\n",
      "conv1d_40 (Conv1D)           (None, 98, 32)            76832     \n",
      "_________________________________________________________________\n",
      "max_pooling1d_34 (MaxPooling (None, 49, 32)            0         \n",
      "_________________________________________________________________\n",
      "conv1d_41 (Conv1D)           (None, 42, 32)            8224      \n",
      "_________________________________________________________________\n",
      "max_pooling1d_35 (MaxPooling (None, 21, 32)            0         \n",
      "_________________________________________________________________\n",
      "conv1d_42 (Conv1D)           (None, 14, 32)            8224      \n",
      "_________________________________________________________________\n",
      "max_pooling1d_36 (MaxPooling (None, 7, 32)             0         \n",
      "_________________________________________________________________\n",
      "flatten_30 (Flatten)         (None, 224)               0         \n",
      "_________________________________________________________________\n",
      "dense_195 (Dense)            (None, 10)                2250      \n",
      "_________________________________________________________________\n",
      "dense_196 (Dense)            (None, 3)                 33        \n",
      "=================================================================\n",
      "Total params: 836,563\n",
      "Trainable params: 836,563\n",
      "Non-trainable params: 0\n",
      "_________________________________________________________________\n"
     ]
    }
   ],
   "source": [
    "# define modela\n",
    "model = define_model(vocab_size, max_length)"
   ]
  },
  {
   "cell_type": "code",
   "execution_count": 336,
   "metadata": {},
   "outputs": [],
   "source": [
    "encoded_docs = tokenizer.texts_to_sequences(xtrain_docs)"
   ]
  },
  {
   "cell_type": "code",
   "execution_count": 337,
   "metadata": {},
   "outputs": [],
   "source": [
    "from keras.preprocessing.text import Tokenizer\n",
    "from keras.preprocessing.sequence import pad_sequences\n",
    "# integer encode and pad documents\n",
    "def encode_docs(tokenizer, max_length, docs):\n",
    "    # integer encode\n",
    "    encoded = tokenizer.texts_to_sequences(docs)\n",
    "    # pad sequences\n",
    "    padded = pad_sequences(encoded, maxlen=max_length, padding='post')\n",
    "    return padded"
   ]
  },
  {
   "cell_type": "code",
   "execution_count": 338,
   "metadata": {},
   "outputs": [],
   "source": [
    "Xtrain  = encode_docs(tokenizer, max_length, xtrain_docs)\n",
    "Xtest  = encode_docs(tokenizer, max_length, xtest_docs)"
   ]
  },
  {
   "cell_type": "code",
   "execution_count": 339,
   "metadata": {},
   "outputs": [
    {
     "name": "stdout",
     "output_type": "stream",
     "text": [
      "_________________________________________________________________\n",
      "Layer (type)                 Output Shape              Param #   \n",
      "=================================================================\n",
      "embedding_31 (Embedding)     (None, 105, 300)          741000    \n",
      "_________________________________________________________________\n",
      "conv1d_43 (Conv1D)           (None, 98, 32)            76832     \n",
      "_________________________________________________________________\n",
      "max_pooling1d_37 (MaxPooling (None, 49, 32)            0         \n",
      "_________________________________________________________________\n",
      "conv1d_44 (Conv1D)           (None, 42, 32)            8224      \n",
      "_________________________________________________________________\n",
      "max_pooling1d_38 (MaxPooling (None, 21, 32)            0         \n",
      "_________________________________________________________________\n",
      "conv1d_45 (Conv1D)           (None, 14, 32)            8224      \n",
      "_________________________________________________________________\n",
      "max_pooling1d_39 (MaxPooling (None, 7, 32)             0         \n",
      "_________________________________________________________________\n",
      "flatten_31 (Flatten)         (None, 224)               0         \n",
      "_________________________________________________________________\n",
      "dense_197 (Dense)            (None, 10)                2250      \n",
      "_________________________________________________________________\n",
      "dense_198 (Dense)            (None, 3)                 33        \n",
      "=================================================================\n",
      "Total params: 836,563\n",
      "Trainable params: 836,563\n",
      "Non-trainable params: 0\n",
      "_________________________________________________________________\n"
     ]
    }
   ],
   "source": [
    "model = define_model(vocab_size, max_length)"
   ]
  },
  {
   "cell_type": "code",
   "execution_count": 340,
   "metadata": {},
   "outputs": [
    {
     "data": {
      "text/plain": [
       "(4318, 4318)"
      ]
     },
     "execution_count": 340,
     "metadata": {},
     "output_type": "execute_result"
    }
   ],
   "source": [
    "len(xtrain_docs) , len(y_train_docs)"
   ]
  },
  {
   "cell_type": "code",
   "execution_count": null,
   "metadata": {},
   "outputs": [],
   "source": [
    "Xtest"
   ]
  },
  {
   "cell_type": "code",
   "execution_count": 343,
   "metadata": {},
   "outputs": [
    {
     "name": "stdout",
     "output_type": "stream",
     "text": [
      "Train on 4318 samples, validate on 1080 samples\n",
      "Epoch 1/50\n",
      " - 4s - loss: nan - acc: 0.2754 - val_loss: nan - val_acc: 0.2741\n",
      "Epoch 2/50\n",
      " - 4s - loss: nan - acc: 0.2754 - val_loss: nan - val_acc: 0.2741\n",
      "Epoch 3/50\n",
      " - 4s - loss: nan - acc: 0.2754 - val_loss: nan - val_acc: 0.2741\n",
      "Epoch 4/50\n",
      " - 4s - loss: nan - acc: 0.2754 - val_loss: nan - val_acc: 0.2741\n",
      "Epoch 5/50\n",
      " - 4s - loss: nan - acc: 0.2754 - val_loss: nan - val_acc: 0.2741\n",
      "Epoch 6/50\n",
      " - 4s - loss: nan - acc: 0.2754 - val_loss: nan - val_acc: 0.2741\n",
      "Epoch 7/50\n",
      " - 4s - loss: nan - acc: 0.2754 - val_loss: nan - val_acc: 0.2741\n",
      "Epoch 8/50\n",
      " - 4s - loss: nan - acc: 0.2754 - val_loss: nan - val_acc: 0.2741\n",
      "Epoch 9/50\n",
      " - 4s - loss: nan - acc: 0.2754 - val_loss: nan - val_acc: 0.2741\n",
      "Epoch 10/50\n",
      " - 4s - loss: nan - acc: 0.2754 - val_loss: nan - val_acc: 0.2741\n",
      "Epoch 11/50\n",
      " - 4s - loss: nan - acc: 0.2754 - val_loss: nan - val_acc: 0.2741\n",
      "Epoch 12/50\n",
      " - 4s - loss: nan - acc: 0.2754 - val_loss: nan - val_acc: 0.2741\n",
      "Epoch 13/50\n",
      " - 4s - loss: nan - acc: 0.2754 - val_loss: nan - val_acc: 0.2741\n",
      "Epoch 14/50\n",
      " - 4s - loss: nan - acc: 0.2754 - val_loss: nan - val_acc: 0.2741\n",
      "Epoch 15/50\n",
      " - 4s - loss: nan - acc: 0.2754 - val_loss: nan - val_acc: 0.2741\n",
      "Epoch 16/50\n",
      " - 4s - loss: nan - acc: 0.2754 - val_loss: nan - val_acc: 0.2741\n",
      "Epoch 17/50\n",
      " - 4s - loss: nan - acc: 0.2754 - val_loss: nan - val_acc: 0.2741\n",
      "Epoch 18/50\n",
      " - 4s - loss: nan - acc: 0.2754 - val_loss: nan - val_acc: 0.2741\n",
      "Epoch 19/50\n",
      " - 4s - loss: nan - acc: 0.2754 - val_loss: nan - val_acc: 0.2741\n",
      "Epoch 20/50\n",
      " - 4s - loss: nan - acc: 0.2754 - val_loss: nan - val_acc: 0.2741\n",
      "Epoch 21/50\n",
      " - 4s - loss: nan - acc: 0.2754 - val_loss: nan - val_acc: 0.2741\n",
      "Epoch 22/50\n",
      " - 4s - loss: nan - acc: 0.2754 - val_loss: nan - val_acc: 0.2741\n",
      "Epoch 23/50\n",
      " - 4s - loss: nan - acc: 0.2754 - val_loss: nan - val_acc: 0.2741\n",
      "Epoch 24/50\n",
      " - 4s - loss: nan - acc: 0.2754 - val_loss: nan - val_acc: 0.2741\n",
      "Epoch 25/50\n",
      " - 4s - loss: nan - acc: 0.2754 - val_loss: nan - val_acc: 0.2741\n",
      "Epoch 26/50\n",
      " - 4s - loss: nan - acc: 0.2754 - val_loss: nan - val_acc: 0.2741\n",
      "Epoch 27/50\n",
      " - 4s - loss: nan - acc: 0.2754 - val_loss: nan - val_acc: 0.2741\n",
      "Epoch 28/50\n",
      " - 4s - loss: nan - acc: 0.2754 - val_loss: nan - val_acc: 0.2741\n",
      "Epoch 29/50\n",
      " - 4s - loss: nan - acc: 0.2754 - val_loss: nan - val_acc: 0.2741\n",
      "Epoch 30/50\n",
      " - 4s - loss: nan - acc: 0.2754 - val_loss: nan - val_acc: 0.2741\n",
      "Epoch 31/50\n",
      " - 4s - loss: nan - acc: 0.2754 - val_loss: nan - val_acc: 0.2741\n",
      "Epoch 32/50\n",
      " - 4s - loss: nan - acc: 0.2754 - val_loss: nan - val_acc: 0.2741\n",
      "Epoch 33/50\n",
      " - 4s - loss: nan - acc: 0.2754 - val_loss: nan - val_acc: 0.2741\n",
      "Epoch 34/50\n",
      " - 4s - loss: nan - acc: 0.2754 - val_loss: nan - val_acc: 0.2741\n",
      "Epoch 35/50\n",
      " - 4s - loss: nan - acc: 0.2754 - val_loss: nan - val_acc: 0.2741\n",
      "Epoch 36/50\n",
      " - 4s - loss: nan - acc: 0.2754 - val_loss: nan - val_acc: 0.2741\n",
      "Epoch 37/50\n",
      " - 4s - loss: nan - acc: 0.2754 - val_loss: nan - val_acc: 0.2741\n",
      "Epoch 38/50\n",
      " - 4s - loss: nan - acc: 0.2754 - val_loss: nan - val_acc: 0.2741\n",
      "Epoch 39/50\n",
      " - 4s - loss: nan - acc: 0.2754 - val_loss: nan - val_acc: 0.2741\n",
      "Epoch 40/50\n",
      " - 4s - loss: nan - acc: 0.2754 - val_loss: nan - val_acc: 0.2741\n",
      "Epoch 41/50\n",
      " - 4s - loss: nan - acc: 0.2754 - val_loss: nan - val_acc: 0.2741\n",
      "Epoch 42/50\n",
      " - 4s - loss: nan - acc: 0.2754 - val_loss: nan - val_acc: 0.2741\n",
      "Epoch 43/50\n",
      " - 4s - loss: nan - acc: 0.2754 - val_loss: nan - val_acc: 0.2741\n",
      "Epoch 44/50\n",
      " - 4s - loss: nan - acc: 0.2754 - val_loss: nan - val_acc: 0.2741\n",
      "Epoch 45/50\n",
      " - 4s - loss: nan - acc: 0.2754 - val_loss: nan - val_acc: 0.2741\n",
      "Epoch 46/50\n",
      " - 4s - loss: nan - acc: 0.2754 - val_loss: nan - val_acc: 0.2741\n",
      "Epoch 47/50\n",
      " - 4s - loss: nan - acc: 0.2754 - val_loss: nan - val_acc: 0.2741\n",
      "Epoch 48/50\n",
      " - 4s - loss: nan - acc: 0.2754 - val_loss: nan - val_acc: 0.2741\n",
      "Epoch 49/50\n",
      " - 4s - loss: nan - acc: 0.2754 - val_loss: nan - val_acc: 0.2741\n",
      "Epoch 50/50\n",
      " - 4s - loss: nan - acc: 0.2754 - val_loss: nan - val_acc: 0.2741\n"
     ]
    },
    {
     "data": {
      "text/plain": [
       "<keras.callbacks.History at 0x7f92e7ab5128>"
      ]
     },
     "execution_count": 343,
     "metadata": {},
     "output_type": "execute_result"
    }
   ],
   "source": [
    "# fit network\n",
    "model.fit(Xtrain, to_categorical(y_train_docs), \n",
    "          epochs=50, verbose=2,\n",
    "          validation_data=(Xtest, to_categorical(y_test_docs)))\n",
    "# save the model\n",
    "# model.save('model_nightingale.h5')"
   ]
  },
  {
   "cell_type": "code",
   "execution_count": null,
   "metadata": {},
   "outputs": [],
   "source": []
  },
  {
   "cell_type": "code",
   "execution_count": 344,
   "metadata": {},
   "outputs": [],
   "source": [
    "import pickle\n",
    "\n",
    "def save_tokenizer_file(object_, filename):\n",
    "    # saving\n",
    "    with open(filename, 'wb') as handle:\n",
    "        pickle.dump(object_, handle, protocol=pickle.HIGHEST_PROTOCOL)\n",
    "\n",
    "def load_tokenizer_file(filename):\n",
    "    # loading\n",
    "    with open(filename, 'rb') as handle:\n",
    "        tokenizer = pickle.load(handle)\n",
    "        return tokenizer\n",
    "    return null"
   ]
  },
  {
   "cell_type": "code",
   "execution_count": 345,
   "metadata": {},
   "outputs": [],
   "source": [
    "# load the model\n",
    "from keras.models import load_model\n",
    "# save the model\n",
    "model.save('ng_model_epch20.h5')\n",
    "# model = load_model('model_multi_nightingale.h5')"
   ]
  },
  {
   "cell_type": "code",
   "execution_count": 346,
   "metadata": {},
   "outputs": [
    {
     "data": {
      "text/plain": [
       "<keras_preprocessing.text.Tokenizer at 0x7f92e7af2048>"
      ]
     },
     "execution_count": 346,
     "metadata": {},
     "output_type": "execute_result"
    }
   ],
   "source": [
    "save_tokenizer_file(tokenizer, 'tokenizer.pkl')\n",
    "tokenizer = load_tokenizer_file('tokenizer.pkl')\n",
    "tokenizer"
   ]
  },
  {
   "cell_type": "code",
   "execution_count": 347,
   "metadata": {},
   "outputs": [],
   "source": [
    "def save_file(data, filename):\n",
    "    dump(data,filename)\n",
    "    print('Saved: %s' % filename)"
   ]
  },
  {
   "cell_type": "markdown",
   "metadata": {},
   "source": [
    "#########################"
   ]
  },
  {
   "cell_type": "code",
   "execution_count": 348,
   "metadata": {},
   "outputs": [],
   "source": [
    "text = \" Hello John,How can I help to you What causes headaches?please let me know Is it a throbbing headache?  How does bending forward affect your headache?  How would you describe the intensity of your headache?  Do you become frustrated or upset easily?  Have you recently used any drugs in any form?  Do you experience day time sleep?  Do you tend to drink alcohol heavily?  Are you feeling agitated and physically restless? \""
   ]
  },
  {
   "cell_type": "code",
   "execution_count": 349,
   "metadata": {},
   "outputs": [
    {
     "name": "stdout",
     "output_type": "stream",
     "text": [
      "['help', 'causes', 'headachesplease', 'let', 'know', 'throbbing', 'headache', 'bending', 'forward', 'affect', 'headache', 'would', 'describe', 'intensity', 'headache', 'become', 'frustrated', 'upset', 'easily', 'recently', 'used', 'drugs', 'form', 'experience', 'day', 'time', 'sleep', 'tend', 'drink', 'alcohol', 'heavily', 'feeling', 'agitated', 'physically', 'restless']\n"
     ]
    },
    {
     "data": {
      "text/plain": [
       "'help causes headachesplease let know throbbing headache bending forward affect headache would describe intensity headache become frustrated upset easily recently used drugs form experience day time sleep tend drink alcohol heavily feeling agitated physically restless'"
      ]
     },
     "execution_count": 349,
     "metadata": {},
     "output_type": "execute_result"
    }
   ],
   "source": [
    "tokens = clean_document(text)\n",
    "print(tokens)\n",
    "# filter by vocab\n",
    "tokens = [w for w in tokens if w in vocab]\n",
    "# # convert to line\n",
    "line = ' '.join(tokens)\n",
    "line\n",
    "\n",
    "# # encode\n",
    "# encoded = tokenizer.texts_to_matrix([line], mode='freq')\n",
    "# # predict sentiment\n",
    "# yhat = model.predict(encoded, verbose=0)"
   ]
  },
  {
   "cell_type": "markdown",
   "metadata": {},
   "source": [
    "#########################"
   ]
  },
  {
   "cell_type": "code",
   "execution_count": 350,
   "metadata": {},
   "outputs": [
    {
     "data": {
      "text/plain": [
       "105"
      ]
     },
     "execution_count": 350,
     "metadata": {},
     "output_type": "execute_result"
    }
   ],
   "source": [
    "max_length"
   ]
  },
  {
   "cell_type": "code",
   "execution_count": 351,
   "metadata": {},
   "outputs": [],
   "source": [
    "enc_docs = encode_docs(tokenizer, max_length, [line])"
   ]
  },
  {
   "cell_type": "code",
   "execution_count": 352,
   "metadata": {},
   "outputs": [
    {
     "name": "stdout",
     "output_type": "stream",
     "text": [
      "[[nan nan nan]]\n"
     ]
    },
    {
     "data": {
      "text/plain": [
       "nan"
      ]
     },
     "execution_count": 352,
     "metadata": {},
     "output_type": "execute_result"
    }
   ],
   "source": [
    "output_arr = model.predict(enc_docs)\n",
    "# output_arr[]\n",
    "print(output_arr)\n",
    "output_arr.argmax()\n",
    "output_arr[0][0]"
   ]
  },
  {
   "cell_type": "code",
   "execution_count": 353,
   "metadata": {},
   "outputs": [],
   "source": [
    "# _, acc = model.evaluate([trainX,trainX,trainX],to_categorical(y_train_docs), verbose=2)"
   ]
  },
  {
   "cell_type": "code",
   "execution_count": 371,
   "metadata": {},
   "outputs": [
    {
     "data": {
      "text/plain": [
       "(4318, 105)"
      ]
     },
     "execution_count": 371,
     "metadata": {},
     "output_type": "execute_result"
    }
   ],
   "source": [
    "Xtrain.shape"
   ]
  },
  {
   "cell_type": "code",
   "execution_count": 355,
   "metadata": {},
   "outputs": [],
   "source": [
    "Xtrain  = encode_docs(tokenizer, max_length, xtrain_docs)"
   ]
  },
  {
   "cell_type": "code",
   "execution_count": 356,
   "metadata": {},
   "outputs": [
    {
     "name": "stdout",
     "output_type": "stream",
     "text": [
      "Saved: train_nightingale.pkl\n",
      "Saved: test_nightingale.pkl\n"
     ]
    }
   ],
   "source": [
    "from pickle import dump\n",
    "# save a dataset to file\n",
    "def save_dataset(dataset, filename):\n",
    "    dump(dataset, open(filename, 'wb'))\n",
    "    print('Saved: %s' % filename)\n",
    "    # load and clean all reviews\n",
    "#     train_docs, ytrain = load_clean_dataset(True)\n",
    "#     test_docs, ytest = load_clean_dataset(False)\n",
    "# save training datasets\n",
    "save_dataset([Xtrain, to_categorical(y_train_docs)], 'train_nightingale.pkl')\n",
    "save_dataset([Xtest, to_categorical(y_test_docs)], 'test_nightingale.pkl')   \n"
   ]
  },
  {
   "cell_type": "code",
   "execution_count": 357,
   "metadata": {},
   "outputs": [],
   "source": [
    "from pickle import load\n",
    "# load a clean dataset\n",
    "def load_dataset(filename):\n",
    "    return load(open(filename, 'rb'))\n",
    "trainLines, trainLabels = load_dataset('train.pkl')"
   ]
  },
  {
   "cell_type": "code",
   "execution_count": 440,
   "metadata": {},
   "outputs": [],
   "source": [
    "# 1. Word Embeddings + CNN = Text Classi\f",
    "cation\n",
    "# 2. Use a Single Layer CNN Architecture\n",
    "# 3. Dial in CNN Hyperparameters\n",
    "# 4. Consider Character-Level CNNs\n",
    "# 5. Consider Deeper CNNs for Classi\f",
    "cation\n",
    "\n",
    "# define the model\n",
    "def define_model(length, vocab_size):\n",
    "    # channel 1\n",
    "    inputs1 = Input(shape=(length,))\n",
    "    embedding1 = Embedding(vocab_size, 300)(inputs1)\n",
    "    conv1 = Conv1D(filters=32, kernel_size=4, activation='relu')(embedding1)\n",
    "    drop1 = Dropout(0.5)(conv1)\n",
    "    pool1 = MaxPooling1D(pool_size=2)(drop1)\n",
    "    flat1 = Flatten()(pool1)\n",
    "    \n",
    "    # channel 2\n",
    "    inputs2 = Input(shape=(length,))\n",
    "    embedding2 = Embedding(vocab_size, 300)(inputs2)\n",
    "    conv2 = Conv1D(filters=32, kernel_size=6, activation='relu')(embedding2)\n",
    "    drop2 = Dropout(0.5)(conv2)\n",
    "    pool2 = MaxPooling1D(pool_size=2)(drop2)\n",
    "    flat2 = Flatten()(pool2)\n",
    "    \n",
    "    # channel 3\n",
    "    inputs3 = Input(shape=(length,))\n",
    "    embedding3 = Embedding(vocab_size, 300)(inputs3)\n",
    "    conv3 = Conv1D(filters=32, kernel_size=8, activation='relu')(embedding3)\n",
    "    drop3 = Dropout(0.5)(conv3)\n",
    "    pool3 = MaxPooling1D(pool_size=2)(drop3)\n",
    "    flat3 = Flatten()(pool3)\n",
    "    \n",
    "    # merge\n",
    "    merged = concatenate([flat1, flat2, flat3])\n",
    "    \n",
    "    # interpretation\n",
    "    dense1 = Dense(10, activation='relu')(merged)\n",
    "    outputs = Dense(3, activation='sigmoid')(dense1)\n",
    "    model = Model(inputs=[inputs1, inputs2, inputs3], outputs=outputs)\n",
    "    # compile\n",
    "    model.compile(loss='categorical_crossentropy', optimizer='adam', metrics=['accuracy'])\n",
    "    # summarize\n",
    "    model.summary()\n",
    "    plot_model(model, show_shapes=True, to_file='multichannel.png')\n",
    "    return model"
   ]
  },
  {
   "cell_type": "code",
   "execution_count": 441,
   "metadata": {},
   "outputs": [
    {
     "name": "stdout",
     "output_type": "stream",
     "text": [
      "2413\n"
     ]
    }
   ],
   "source": [
    "vocab_size = len(tokenizer.word_index) + 1\n",
    "print(vocab_size)"
   ]
  },
  {
   "cell_type": "code",
   "execution_count": 442,
   "metadata": {},
   "outputs": [],
   "source": [
    "# encode a list of lines\n",
    "def encode_text(tokenizer, lines, length):\n",
    "    # integer encode\n",
    "    encoded = tokenizer.texts_to_sequences(lines)\n",
    "    # pad encoded sequences\n",
    "    padded = pad_sequences(encoded, maxlen=length, padding='post')\n",
    "    return padded"
   ]
  },
  {
   "cell_type": "code",
   "execution_count": 443,
   "metadata": {},
   "outputs": [],
   "source": [
    "trainLines\n",
    "Xtrain  = encode_docs(tokenizer, max_length, xtrain_docs)\n",
    "Xtest  = encode_docs(tokenizer, max_length, xtest_docs)"
   ]
  },
  {
   "cell_type": "code",
   "execution_count": 444,
   "metadata": {},
   "outputs": [],
   "source": [
    "length = max_length\n",
    "from numpy import array\n",
    "from keras.layers import Input\n",
    "from keras.layers import Dense\n",
    "from keras.layers import Flatten\n",
    "from keras.layers import Dropout\n",
    "from keras.layers import Embedding\n",
    "from keras.layers.convolutional import Conv1D\n",
    "from keras.layers.merge import concatenate\n",
    "from keras.models import Model"
   ]
  },
  {
   "cell_type": "code",
   "execution_count": 445,
   "metadata": {},
   "outputs": [
    {
     "data": {
      "text/plain": [
       "(4318, 4318, 4318)"
      ]
     },
     "execution_count": 445,
     "metadata": {},
     "output_type": "execute_result"
    }
   ],
   "source": [
    "len(trainLabels) , len(xtrain_docs)  , len(y_train_docs)\n",
    "# len(trainX)"
   ]
  },
  {
   "cell_type": "code",
   "execution_count": 446,
   "metadata": {},
   "outputs": [],
   "source": [
    "trainLabels = to_categorical(y_train_docs)"
   ]
  },
  {
   "cell_type": "code",
   "execution_count": 447,
   "metadata": {},
   "outputs": [
    {
     "data": {
      "text/plain": [
       "(4318, 105)"
      ]
     },
     "execution_count": 447,
     "metadata": {},
     "output_type": "execute_result"
    }
   ],
   "source": [
    "len(y_train_docs) , length"
   ]
  },
  {
   "cell_type": "code",
   "execution_count": 448,
   "metadata": {
    "scrolled": false
   },
   "outputs": [
    {
     "name": "stdout",
     "output_type": "stream",
     "text": [
      "__________________________________________________________________________________________________\n",
      "Layer (type)                    Output Shape         Param #     Connected to                     \n",
      "==================================================================================================\n",
      "input_37 (InputLayer)           (None, 105)          0                                            \n",
      "__________________________________________________________________________________________________\n",
      "input_38 (InputLayer)           (None, 105)          0                                            \n",
      "__________________________________________________________________________________________________\n",
      "input_39 (InputLayer)           (None, 105)          0                                            \n",
      "__________________________________________________________________________________________________\n",
      "embedding_41 (Embedding)        (None, 105, 300)     723900      input_37[0][0]                   \n",
      "__________________________________________________________________________________________________\n",
      "embedding_42 (Embedding)        (None, 105, 300)     723900      input_38[0][0]                   \n",
      "__________________________________________________________________________________________________\n",
      "embedding_43 (Embedding)        (None, 105, 300)     723900      input_39[0][0]                   \n",
      "__________________________________________________________________________________________________\n",
      "conv1d_55 (Conv1D)              (None, 102, 32)      38432       embedding_41[0][0]               \n",
      "__________________________________________________________________________________________________\n",
      "conv1d_56 (Conv1D)              (None, 100, 32)      57632       embedding_42[0][0]               \n",
      "__________________________________________________________________________________________________\n",
      "conv1d_57 (Conv1D)              (None, 98, 32)       76832       embedding_43[0][0]               \n",
      "__________________________________________________________________________________________________\n",
      "dropout_43 (Dropout)            (None, 102, 32)      0           conv1d_55[0][0]                  \n",
      "__________________________________________________________________________________________________\n",
      "dropout_44 (Dropout)            (None, 100, 32)      0           conv1d_56[0][0]                  \n",
      "__________________________________________________________________________________________________\n",
      "dropout_45 (Dropout)            (None, 98, 32)       0           conv1d_57[0][0]                  \n",
      "__________________________________________________________________________________________________\n",
      "max_pooling1d_49 (MaxPooling1D) (None, 51, 32)       0           dropout_43[0][0]                 \n",
      "__________________________________________________________________________________________________\n",
      "max_pooling1d_50 (MaxPooling1D) (None, 50, 32)       0           dropout_44[0][0]                 \n",
      "__________________________________________________________________________________________________\n",
      "max_pooling1d_51 (MaxPooling1D) (None, 49, 32)       0           dropout_45[0][0]                 \n",
      "__________________________________________________________________________________________________\n",
      "flatten_41 (Flatten)            (None, 1632)         0           max_pooling1d_49[0][0]           \n",
      "__________________________________________________________________________________________________\n",
      "flatten_42 (Flatten)            (None, 1600)         0           max_pooling1d_50[0][0]           \n",
      "__________________________________________________________________________________________________\n",
      "flatten_43 (Flatten)            (None, 1568)         0           max_pooling1d_51[0][0]           \n",
      "__________________________________________________________________________________________________\n",
      "concatenate_13 (Concatenate)    (None, 4800)         0           flatten_41[0][0]                 \n",
      "                                                                 flatten_42[0][0]                 \n",
      "                                                                 flatten_43[0][0]                 \n",
      "__________________________________________________________________________________________________\n",
      "dense_205 (Dense)               (None, 10)           48010       concatenate_13[0][0]             \n",
      "__________________________________________________________________________________________________\n",
      "dense_206 (Dense)               (None, 3)            33          dense_205[0][0]                  \n",
      "==================================================================================================\n",
      "Total params: 2,392,639\n",
      "Trainable params: 2,392,639\n",
      "Non-trainable params: 0\n",
      "__________________________________________________________________________________________________\n",
      "__________________________________________________________________________________________________\n",
      "Layer (type)                    Output Shape         Param #     Connected to                     \n",
      "==================================================================================================\n",
      "input_37 (InputLayer)           (None, 105)          0                                            \n",
      "__________________________________________________________________________________________________\n",
      "input_38 (InputLayer)           (None, 105)          0                                            \n",
      "__________________________________________________________________________________________________\n",
      "input_39 (InputLayer)           (None, 105)          0                                            \n",
      "__________________________________________________________________________________________________\n",
      "embedding_41 (Embedding)        (None, 105, 300)     723900      input_37[0][0]                   \n",
      "__________________________________________________________________________________________________\n",
      "embedding_42 (Embedding)        (None, 105, 300)     723900      input_38[0][0]                   \n",
      "__________________________________________________________________________________________________\n",
      "embedding_43 (Embedding)        (None, 105, 300)     723900      input_39[0][0]                   \n",
      "__________________________________________________________________________________________________\n",
      "conv1d_55 (Conv1D)              (None, 102, 32)      38432       embedding_41[0][0]               \n",
      "__________________________________________________________________________________________________\n",
      "conv1d_56 (Conv1D)              (None, 100, 32)      57632       embedding_42[0][0]               \n",
      "__________________________________________________________________________________________________\n",
      "conv1d_57 (Conv1D)              (None, 98, 32)       76832       embedding_43[0][0]               \n",
      "__________________________________________________________________________________________________\n",
      "dropout_43 (Dropout)            (None, 102, 32)      0           conv1d_55[0][0]                  \n",
      "__________________________________________________________________________________________________\n",
      "dropout_44 (Dropout)            (None, 100, 32)      0           conv1d_56[0][0]                  \n",
      "__________________________________________________________________________________________________\n",
      "dropout_45 (Dropout)            (None, 98, 32)       0           conv1d_57[0][0]                  \n",
      "__________________________________________________________________________________________________\n",
      "max_pooling1d_49 (MaxPooling1D) (None, 51, 32)       0           dropout_43[0][0]                 \n",
      "__________________________________________________________________________________________________\n",
      "max_pooling1d_50 (MaxPooling1D) (None, 50, 32)       0           dropout_44[0][0]                 \n",
      "__________________________________________________________________________________________________\n",
      "max_pooling1d_51 (MaxPooling1D) (None, 49, 32)       0           dropout_45[0][0]                 \n",
      "__________________________________________________________________________________________________\n",
      "flatten_41 (Flatten)            (None, 1632)         0           max_pooling1d_49[0][0]           \n",
      "__________________________________________________________________________________________________\n",
      "flatten_42 (Flatten)            (None, 1600)         0           max_pooling1d_50[0][0]           \n",
      "__________________________________________________________________________________________________\n",
      "flatten_43 (Flatten)            (None, 1568)         0           max_pooling1d_51[0][0]           \n",
      "__________________________________________________________________________________________________\n",
      "concatenate_13 (Concatenate)    (None, 4800)         0           flatten_41[0][0]                 \n",
      "                                                                 flatten_42[0][0]                 \n",
      "                                                                 flatten_43[0][0]                 \n",
      "__________________________________________________________________________________________________\n",
      "dense_205 (Dense)               (None, 10)           48010       concatenate_13[0][0]             \n",
      "__________________________________________________________________________________________________\n",
      "dense_206 (Dense)               (None, 3)            33          dense_205[0][0]                  \n",
      "==================================================================================================\n",
      "Total params: 2,392,639\n",
      "Trainable params: 2,392,639\n",
      "Non-trainable params: 0\n",
      "__________________________________________________________________________________________________\n",
      "None\n"
     ]
    }
   ],
   "source": [
    "trainX = encode_text(tokenizer, xtrain_docs, max_length)\n",
    "# define model\n",
    "model = define_model(length, vocab_size)\n",
    "print(model.summary())"
   ]
  },
  {
   "cell_type": "code",
   "execution_count": 449,
   "metadata": {},
   "outputs": [],
   "source": [
    "testX  = encode_docs(tokenizer, max_length, xtest_docs)"
   ]
  },
  {
   "cell_type": "code",
   "execution_count": 450,
   "metadata": {},
   "outputs": [
    {
     "data": {
      "text/plain": [
       "(1080, 105)"
      ]
     },
     "execution_count": 450,
     "metadata": {},
     "output_type": "execute_result"
    }
   ],
   "source": [
    "testX.shape"
   ]
  },
  {
   "cell_type": "code",
   "execution_count": 451,
   "metadata": {},
   "outputs": [
    {
     "data": {
      "text/plain": [
       "(4318, 105)"
      ]
     },
     "execution_count": 451,
     "metadata": {},
     "output_type": "execute_result"
    }
   ],
   "source": [
    "trainX.shape"
   ]
  },
  {
   "cell_type": "code",
   "execution_count": 452,
   "metadata": {},
   "outputs": [],
   "source": [
    "from  keras.callbacks import ModelCheckpoint"
   ]
  },
  {
   "cell_type": "code",
   "execution_count": 453,
   "metadata": {},
   "outputs": [],
   "source": [
    "checkpoint = ModelCheckpoint('model-{epoch:03d}-{acc:03f}-{val_acc:03f}.h5',\n",
    "                             verbose=1, monitor='val_acc',save_best_only=True, mode='auto')  \n"
   ]
  },
  {
   "cell_type": "code",
   "execution_count": 455,
   "metadata": {},
   "outputs": [
    {
     "name": "stdout",
     "output_type": "stream",
     "text": [
      "Train on 4318 samples, validate on 1080 samples\n",
      "Epoch 1/25\n",
      "4318/4318 [==============================] - 76s 18ms/step - loss: 0.0291 - acc: 0.9919 - val_loss: 0.9729 - val_acc: 0.8880\n",
      "\n",
      "Epoch 00001: val_acc did not improve from 0.89352\n",
      "Epoch 2/25\n",
      "4318/4318 [==============================] - 77s 18ms/step - loss: 0.0513 - acc: 0.9877 - val_loss: 1.0071 - val_acc: 0.8833\n",
      "\n",
      "Epoch 00002: val_acc did not improve from 0.89352\n",
      "Epoch 3/25\n",
      "4318/4318 [==============================] - 76s 18ms/step - loss: 0.0313 - acc: 0.9928 - val_loss: 1.2852 - val_acc: 0.8806\n",
      "\n",
      "Epoch 00003: val_acc did not improve from 0.89352\n",
      "Epoch 4/25\n",
      "4318/4318 [==============================] - 76s 18ms/step - loss: 0.0380 - acc: 0.9919 - val_loss: 1.1620 - val_acc: 0.8787\n",
      "\n",
      "Epoch 00004: val_acc did not improve from 0.89352\n",
      "Epoch 5/25\n",
      "4318/4318 [==============================] - 76s 18ms/step - loss: 0.0486 - acc: 0.9912 - val_loss: 1.1552 - val_acc: 0.8824\n",
      "\n",
      "Epoch 00005: val_acc did not improve from 0.89352\n",
      "Epoch 6/25\n",
      "4318/4318 [==============================] - 76s 18ms/step - loss: 0.0420 - acc: 0.9926 - val_loss: 0.8973 - val_acc: 0.8704\n",
      "\n",
      "Epoch 00006: val_acc did not improve from 0.89352\n",
      "Epoch 7/25\n",
      "4318/4318 [==============================] - 76s 18ms/step - loss: 0.0293 - acc: 0.9951 - val_loss: 1.0507 - val_acc: 0.8769\n",
      "\n",
      "Epoch 00007: val_acc did not improve from 0.89352\n",
      "Epoch 8/25\n",
      "1917/4318 [============>.................] - ETA: 40s - loss: 0.0361 - acc: 0.9901"
     ]
    },
    {
     "name": "stderr",
     "output_type": "stream",
     "text": [
      "Exception ignored in: <bound method ScopedTFStatus.__del__ of <tensorflow.python.framework.c_api_util.ScopedTFStatus object at 0x7f92ed6d5f28>>\n",
      "Traceback (most recent call last):\n",
      "  File \"/root/anaconda3/envs/py36/lib/python3.6/site-packages/tensorflow/python/framework/c_api_util.py\", line 39, in __del__\n",
      "    c_api.TF_DeleteStatus(self.status)\n",
      "KeyboardInterrupt\n"
     ]
    },
    {
     "name": "stdout",
     "output_type": "stream",
     "text": [
      "4318/4318 [==============================] - 76s 18ms/step - loss: 0.0459 - acc: 0.9917 - val_loss: 0.9167 - val_acc: 0.8750\n",
      "\n",
      "Epoch 00008: val_acc did not improve from 0.89352\n",
      "Epoch 9/25\n",
      "4318/4318 [==============================] - 76s 18ms/step - loss: 0.0773 - acc: 0.9898 - val_loss: 0.9657 - val_acc: 0.8741\n",
      "\n",
      "Epoch 00009: val_acc did not improve from 0.89352\n",
      "Epoch 10/25\n",
      "4318/4318 [==============================] - 76s 18ms/step - loss: 0.0334 - acc: 0.9940 - val_loss: 1.1107 - val_acc: 0.8852\n",
      "\n",
      "Epoch 00010: val_acc did not improve from 0.89352\n",
      "Epoch 11/25\n",
      "4318/4318 [==============================] - 76s 18ms/step - loss: 0.0257 - acc: 0.9942 - val_loss: 1.2924 - val_acc: 0.8769\n",
      "\n",
      "Epoch 00011: val_acc did not improve from 0.89352\n",
      "Epoch 12/25\n",
      "4318/4318 [==============================] - 76s 18ms/step - loss: 0.0518 - acc: 0.9928 - val_loss: 1.5254 - val_acc: 0.8630\n",
      "\n",
      "Epoch 00012: val_acc did not improve from 0.89352\n",
      "Epoch 13/25\n",
      "4318/4318 [==============================] - 77s 18ms/step - loss: 0.0337 - acc: 0.9935 - val_loss: 1.3382 - val_acc: 0.8833\n",
      "\n",
      "Epoch 00013: val_acc did not improve from 0.89352\n",
      "Epoch 14/25\n",
      "4318/4318 [==============================] - 76s 18ms/step - loss: 0.0754 - acc: 0.9907 - val_loss: 1.1473 - val_acc: 0.8926\n",
      "\n",
      "Epoch 00014: val_acc did not improve from 0.89352\n",
      "Epoch 15/25\n",
      "4318/4318 [==============================] - 76s 18ms/step - loss: 0.0424 - acc: 0.9949 - val_loss: 1.3154 - val_acc: 0.8880\n",
      "\n",
      "Epoch 00015: val_acc did not improve from 0.89352\n",
      "Epoch 16/25\n",
      "4318/4318 [==============================] - 76s 18ms/step - loss: 0.0600 - acc: 0.9912 - val_loss: nan - val_acc: 0.8722\n",
      "\n",
      "Epoch 00016: val_acc did not improve from 0.89352\n",
      "Epoch 17/25\n",
      "3824/4318 [=========================>....] - ETA: 8s - loss: 0.0355 - acc: 0.9919"
     ]
    },
    {
     "ename": "KeyboardInterrupt",
     "evalue": "",
     "output_type": "error",
     "traceback": [
      "\u001b[0;31m---------------------------------------------------------------------------\u001b[0m",
      "\u001b[0;31mKeyboardInterrupt\u001b[0m                         Traceback (most recent call last)",
      "\u001b[0;32m<ipython-input-455-16fe8d348d61>\u001b[0m in \u001b[0;36m<module>\u001b[0;34m\u001b[0m\n\u001b[1;32m      5\u001b[0m                     \u001b[0mbatch_size\u001b[0m\u001b[0;34m=\u001b[0m\u001b[0;36m1\u001b[0m \u001b[0;34m,\u001b[0m\u001b[0;34m\u001b[0m\u001b[0;34m\u001b[0m\u001b[0m\n\u001b[1;32m      6\u001b[0m                     validation_data=([testX,testX,testX],\n\u001b[0;32m----> 7\u001b[0;31m                                      to_categorical(y_test_docs)) ,  callbacks=[checkpoint])\n\u001b[0m",
      "\u001b[0;32m~/anaconda3/envs/py36/lib/python3.6/site-packages/keras/engine/training.py\u001b[0m in \u001b[0;36mfit\u001b[0;34m(self, x, y, batch_size, epochs, verbose, callbacks, validation_split, validation_data, shuffle, class_weight, sample_weight, initial_epoch, steps_per_epoch, validation_steps, **kwargs)\u001b[0m\n\u001b[1;32m   1037\u001b[0m                                         \u001b[0minitial_epoch\u001b[0m\u001b[0;34m=\u001b[0m\u001b[0minitial_epoch\u001b[0m\u001b[0;34m,\u001b[0m\u001b[0;34m\u001b[0m\u001b[0;34m\u001b[0m\u001b[0m\n\u001b[1;32m   1038\u001b[0m                                         \u001b[0msteps_per_epoch\u001b[0m\u001b[0;34m=\u001b[0m\u001b[0msteps_per_epoch\u001b[0m\u001b[0;34m,\u001b[0m\u001b[0;34m\u001b[0m\u001b[0;34m\u001b[0m\u001b[0m\n\u001b[0;32m-> 1039\u001b[0;31m                                         validation_steps=validation_steps)\n\u001b[0m\u001b[1;32m   1040\u001b[0m \u001b[0;34m\u001b[0m\u001b[0m\n\u001b[1;32m   1041\u001b[0m     def evaluate(self, x=None, y=None,\n",
      "\u001b[0;32m~/anaconda3/envs/py36/lib/python3.6/site-packages/keras/engine/training_arrays.py\u001b[0m in \u001b[0;36mfit_loop\u001b[0;34m(model, f, ins, out_labels, batch_size, epochs, verbose, callbacks, val_f, val_ins, shuffle, callback_metrics, initial_epoch, steps_per_epoch, validation_steps)\u001b[0m\n\u001b[1;32m    202\u001b[0m                     \u001b[0mbatch_logs\u001b[0m\u001b[0;34m[\u001b[0m\u001b[0ml\u001b[0m\u001b[0;34m]\u001b[0m \u001b[0;34m=\u001b[0m \u001b[0mo\u001b[0m\u001b[0;34m\u001b[0m\u001b[0;34m\u001b[0m\u001b[0m\n\u001b[1;32m    203\u001b[0m \u001b[0;34m\u001b[0m\u001b[0m\n\u001b[0;32m--> 204\u001b[0;31m                 \u001b[0mcallbacks\u001b[0m\u001b[0;34m.\u001b[0m\u001b[0mon_batch_end\u001b[0m\u001b[0;34m(\u001b[0m\u001b[0mbatch_index\u001b[0m\u001b[0;34m,\u001b[0m \u001b[0mbatch_logs\u001b[0m\u001b[0;34m)\u001b[0m\u001b[0;34m\u001b[0m\u001b[0;34m\u001b[0m\u001b[0m\n\u001b[0m\u001b[1;32m    205\u001b[0m                 \u001b[0;32mif\u001b[0m \u001b[0mcallback_model\u001b[0m\u001b[0;34m.\u001b[0m\u001b[0mstop_training\u001b[0m\u001b[0;34m:\u001b[0m\u001b[0;34m\u001b[0m\u001b[0;34m\u001b[0m\u001b[0m\n\u001b[1;32m    206\u001b[0m                     \u001b[0;32mbreak\u001b[0m\u001b[0;34m\u001b[0m\u001b[0;34m\u001b[0m\u001b[0m\n",
      "\u001b[0;32m~/anaconda3/envs/py36/lib/python3.6/site-packages/keras/callbacks.py\u001b[0m in \u001b[0;36mon_batch_end\u001b[0;34m(self, batch, logs)\u001b[0m\n\u001b[1;32m    113\u001b[0m         \u001b[0mt_before_callbacks\u001b[0m \u001b[0;34m=\u001b[0m \u001b[0mtime\u001b[0m\u001b[0;34m.\u001b[0m\u001b[0mtime\u001b[0m\u001b[0;34m(\u001b[0m\u001b[0;34m)\u001b[0m\u001b[0;34m\u001b[0m\u001b[0;34m\u001b[0m\u001b[0m\n\u001b[1;32m    114\u001b[0m         \u001b[0;32mfor\u001b[0m \u001b[0mcallback\u001b[0m \u001b[0;32min\u001b[0m \u001b[0mself\u001b[0m\u001b[0;34m.\u001b[0m\u001b[0mcallbacks\u001b[0m\u001b[0;34m:\u001b[0m\u001b[0;34m\u001b[0m\u001b[0;34m\u001b[0m\u001b[0m\n\u001b[0;32m--> 115\u001b[0;31m             \u001b[0mcallback\u001b[0m\u001b[0;34m.\u001b[0m\u001b[0mon_batch_end\u001b[0m\u001b[0;34m(\u001b[0m\u001b[0mbatch\u001b[0m\u001b[0;34m,\u001b[0m \u001b[0mlogs\u001b[0m\u001b[0;34m)\u001b[0m\u001b[0;34m\u001b[0m\u001b[0;34m\u001b[0m\u001b[0m\n\u001b[0m\u001b[1;32m    116\u001b[0m         \u001b[0mself\u001b[0m\u001b[0;34m.\u001b[0m\u001b[0m_delta_ts_batch_end\u001b[0m\u001b[0;34m.\u001b[0m\u001b[0mappend\u001b[0m\u001b[0;34m(\u001b[0m\u001b[0mtime\u001b[0m\u001b[0;34m.\u001b[0m\u001b[0mtime\u001b[0m\u001b[0;34m(\u001b[0m\u001b[0;34m)\u001b[0m \u001b[0;34m-\u001b[0m \u001b[0mt_before_callbacks\u001b[0m\u001b[0;34m)\u001b[0m\u001b[0;34m\u001b[0m\u001b[0;34m\u001b[0m\u001b[0m\n\u001b[1;32m    117\u001b[0m         \u001b[0mdelta_t_median\u001b[0m \u001b[0;34m=\u001b[0m \u001b[0mnp\u001b[0m\u001b[0;34m.\u001b[0m\u001b[0mmedian\u001b[0m\u001b[0;34m(\u001b[0m\u001b[0mself\u001b[0m\u001b[0;34m.\u001b[0m\u001b[0m_delta_ts_batch_end\u001b[0m\u001b[0;34m)\u001b[0m\u001b[0;34m\u001b[0m\u001b[0;34m\u001b[0m\u001b[0m\n",
      "\u001b[0;32m~/anaconda3/envs/py36/lib/python3.6/site-packages/keras/callbacks.py\u001b[0m in \u001b[0;36mon_batch_end\u001b[0;34m(self, batch, logs)\u001b[0m\n\u001b[1;32m    328\u001b[0m         \u001b[0;31m# will be handled by on_epoch_end.\u001b[0m\u001b[0;34m\u001b[0m\u001b[0;34m\u001b[0m\u001b[0;34m\u001b[0m\u001b[0m\n\u001b[1;32m    329\u001b[0m         \u001b[0;32mif\u001b[0m \u001b[0mself\u001b[0m\u001b[0;34m.\u001b[0m\u001b[0mverbose\u001b[0m \u001b[0;32mand\u001b[0m \u001b[0mself\u001b[0m\u001b[0;34m.\u001b[0m\u001b[0mseen\u001b[0m \u001b[0;34m<\u001b[0m \u001b[0mself\u001b[0m\u001b[0;34m.\u001b[0m\u001b[0mtarget\u001b[0m\u001b[0;34m:\u001b[0m\u001b[0;34m\u001b[0m\u001b[0;34m\u001b[0m\u001b[0m\n\u001b[0;32m--> 330\u001b[0;31m             \u001b[0mself\u001b[0m\u001b[0;34m.\u001b[0m\u001b[0mprogbar\u001b[0m\u001b[0;34m.\u001b[0m\u001b[0mupdate\u001b[0m\u001b[0;34m(\u001b[0m\u001b[0mself\u001b[0m\u001b[0;34m.\u001b[0m\u001b[0mseen\u001b[0m\u001b[0;34m,\u001b[0m \u001b[0mself\u001b[0m\u001b[0;34m.\u001b[0m\u001b[0mlog_values\u001b[0m\u001b[0;34m)\u001b[0m\u001b[0;34m\u001b[0m\u001b[0;34m\u001b[0m\u001b[0m\n\u001b[0m\u001b[1;32m    331\u001b[0m \u001b[0;34m\u001b[0m\u001b[0m\n\u001b[1;32m    332\u001b[0m     \u001b[0;32mdef\u001b[0m \u001b[0mon_epoch_end\u001b[0m\u001b[0;34m(\u001b[0m\u001b[0mself\u001b[0m\u001b[0;34m,\u001b[0m \u001b[0mepoch\u001b[0m\u001b[0;34m,\u001b[0m \u001b[0mlogs\u001b[0m\u001b[0;34m=\u001b[0m\u001b[0;32mNone\u001b[0m\u001b[0;34m)\u001b[0m\u001b[0;34m:\u001b[0m\u001b[0;34m\u001b[0m\u001b[0;34m\u001b[0m\u001b[0m\n",
      "\u001b[0;32m~/anaconda3/envs/py36/lib/python3.6/site-packages/keras/utils/generic_utils.py\u001b[0m in \u001b[0;36mupdate\u001b[0;34m(self, current, values)\u001b[0m\n\u001b[1;32m    422\u001b[0m \u001b[0;34m\u001b[0m\u001b[0m\n\u001b[1;32m    423\u001b[0m             \u001b[0msys\u001b[0m\u001b[0;34m.\u001b[0m\u001b[0mstdout\u001b[0m\u001b[0;34m.\u001b[0m\u001b[0mwrite\u001b[0m\u001b[0;34m(\u001b[0m\u001b[0minfo\u001b[0m\u001b[0;34m)\u001b[0m\u001b[0;34m\u001b[0m\u001b[0;34m\u001b[0m\u001b[0m\n\u001b[0;32m--> 424\u001b[0;31m             \u001b[0msys\u001b[0m\u001b[0;34m.\u001b[0m\u001b[0mstdout\u001b[0m\u001b[0;34m.\u001b[0m\u001b[0mflush\u001b[0m\u001b[0;34m(\u001b[0m\u001b[0;34m)\u001b[0m\u001b[0;34m\u001b[0m\u001b[0;34m\u001b[0m\u001b[0m\n\u001b[0m\u001b[1;32m    425\u001b[0m \u001b[0;34m\u001b[0m\u001b[0m\n\u001b[1;32m    426\u001b[0m         \u001b[0;32melif\u001b[0m \u001b[0mself\u001b[0m\u001b[0;34m.\u001b[0m\u001b[0mverbose\u001b[0m \u001b[0;34m==\u001b[0m \u001b[0;36m2\u001b[0m\u001b[0;34m:\u001b[0m\u001b[0;34m\u001b[0m\u001b[0;34m\u001b[0m\u001b[0m\n",
      "\u001b[0;32m~/anaconda3/envs/py36/lib/python3.6/site-packages/ipykernel/iostream.py\u001b[0m in \u001b[0;36mflush\u001b[0;34m(self)\u001b[0m\n\u001b[1;32m    347\u001b[0m                 \u001b[0mself\u001b[0m\u001b[0;34m.\u001b[0m\u001b[0mpub_thread\u001b[0m\u001b[0;34m.\u001b[0m\u001b[0mschedule\u001b[0m\u001b[0;34m(\u001b[0m\u001b[0mevt\u001b[0m\u001b[0;34m.\u001b[0m\u001b[0mset\u001b[0m\u001b[0;34m)\u001b[0m\u001b[0;34m\u001b[0m\u001b[0;34m\u001b[0m\u001b[0m\n\u001b[1;32m    348\u001b[0m                 \u001b[0;31m# and give a timeout to avoid\u001b[0m\u001b[0;34m\u001b[0m\u001b[0;34m\u001b[0m\u001b[0;34m\u001b[0m\u001b[0m\n\u001b[0;32m--> 349\u001b[0;31m                 \u001b[0;32mif\u001b[0m \u001b[0;32mnot\u001b[0m \u001b[0mevt\u001b[0m\u001b[0;34m.\u001b[0m\u001b[0mwait\u001b[0m\u001b[0;34m(\u001b[0m\u001b[0mself\u001b[0m\u001b[0;34m.\u001b[0m\u001b[0mflush_timeout\u001b[0m\u001b[0;34m)\u001b[0m\u001b[0;34m:\u001b[0m\u001b[0;34m\u001b[0m\u001b[0;34m\u001b[0m\u001b[0m\n\u001b[0m\u001b[1;32m    350\u001b[0m                     \u001b[0;31m# write directly to __stderr__ instead of warning because\u001b[0m\u001b[0;34m\u001b[0m\u001b[0;34m\u001b[0m\u001b[0;34m\u001b[0m\u001b[0m\n\u001b[1;32m    351\u001b[0m                     \u001b[0;31m# if this is happening sys.stderr may be the problem.\u001b[0m\u001b[0;34m\u001b[0m\u001b[0;34m\u001b[0m\u001b[0;34m\u001b[0m\u001b[0m\n",
      "\u001b[0;32m~/anaconda3/envs/py36/lib/python3.6/threading.py\u001b[0m in \u001b[0;36mwait\u001b[0;34m(self, timeout)\u001b[0m\n\u001b[1;32m    549\u001b[0m             \u001b[0msignaled\u001b[0m \u001b[0;34m=\u001b[0m \u001b[0mself\u001b[0m\u001b[0;34m.\u001b[0m\u001b[0m_flag\u001b[0m\u001b[0;34m\u001b[0m\u001b[0;34m\u001b[0m\u001b[0m\n\u001b[1;32m    550\u001b[0m             \u001b[0;32mif\u001b[0m \u001b[0;32mnot\u001b[0m \u001b[0msignaled\u001b[0m\u001b[0;34m:\u001b[0m\u001b[0;34m\u001b[0m\u001b[0;34m\u001b[0m\u001b[0m\n\u001b[0;32m--> 551\u001b[0;31m                 \u001b[0msignaled\u001b[0m \u001b[0;34m=\u001b[0m \u001b[0mself\u001b[0m\u001b[0;34m.\u001b[0m\u001b[0m_cond\u001b[0m\u001b[0;34m.\u001b[0m\u001b[0mwait\u001b[0m\u001b[0;34m(\u001b[0m\u001b[0mtimeout\u001b[0m\u001b[0;34m)\u001b[0m\u001b[0;34m\u001b[0m\u001b[0;34m\u001b[0m\u001b[0m\n\u001b[0m\u001b[1;32m    552\u001b[0m             \u001b[0;32mreturn\u001b[0m \u001b[0msignaled\u001b[0m\u001b[0;34m\u001b[0m\u001b[0;34m\u001b[0m\u001b[0m\n\u001b[1;32m    553\u001b[0m \u001b[0;34m\u001b[0m\u001b[0m\n",
      "\u001b[0;32m~/anaconda3/envs/py36/lib/python3.6/threading.py\u001b[0m in \u001b[0;36mwait\u001b[0;34m(self, timeout)\u001b[0m\n\u001b[1;32m    297\u001b[0m             \u001b[0;32melse\u001b[0m\u001b[0;34m:\u001b[0m\u001b[0;34m\u001b[0m\u001b[0;34m\u001b[0m\u001b[0m\n\u001b[1;32m    298\u001b[0m                 \u001b[0;32mif\u001b[0m \u001b[0mtimeout\u001b[0m \u001b[0;34m>\u001b[0m \u001b[0;36m0\u001b[0m\u001b[0;34m:\u001b[0m\u001b[0;34m\u001b[0m\u001b[0;34m\u001b[0m\u001b[0m\n\u001b[0;32m--> 299\u001b[0;31m                     \u001b[0mgotit\u001b[0m \u001b[0;34m=\u001b[0m \u001b[0mwaiter\u001b[0m\u001b[0;34m.\u001b[0m\u001b[0macquire\u001b[0m\u001b[0;34m(\u001b[0m\u001b[0;32mTrue\u001b[0m\u001b[0;34m,\u001b[0m \u001b[0mtimeout\u001b[0m\u001b[0;34m)\u001b[0m\u001b[0;34m\u001b[0m\u001b[0;34m\u001b[0m\u001b[0m\n\u001b[0m\u001b[1;32m    300\u001b[0m                 \u001b[0;32melse\u001b[0m\u001b[0;34m:\u001b[0m\u001b[0;34m\u001b[0m\u001b[0;34m\u001b[0m\u001b[0m\n\u001b[1;32m    301\u001b[0m                     \u001b[0mgotit\u001b[0m \u001b[0;34m=\u001b[0m \u001b[0mwaiter\u001b[0m\u001b[0;34m.\u001b[0m\u001b[0macquire\u001b[0m\u001b[0;34m(\u001b[0m\u001b[0;32mFalse\u001b[0m\u001b[0;34m)\u001b[0m\u001b[0;34m\u001b[0m\u001b[0;34m\u001b[0m\u001b[0m\n",
      "\u001b[0;31mKeyboardInterrupt\u001b[0m: "
     ]
    }
   ],
   "source": [
    "# fit model\n",
    "history = model.fit([trainX,trainX,trainX], \n",
    "                    array(trainLabels),\n",
    "                    epochs=25,\n",
    "                    batch_size=1 ,\n",
    "                    validation_data=([testX,testX,testX],\n",
    "                                     to_categorical(y_test_docs)) , \n",
    "                    callbacks=[checkpoint])"
   ]
  },
  {
   "cell_type": "code",
   "execution_count": null,
   "metadata": {},
   "outputs": [],
   "source": [
    "### To Reduce OVerfitting in Above graph"
   ]
  },
  {
   "cell_type": "code",
   "execution_count": 462,
   "metadata": {},
   "outputs": [],
   "source": [
    "from keras.layers import Bidirectional, LSTM, TimeDistributed"
   ]
  },
  {
   "cell_type": "code",
   "execution_count": 465,
   "metadata": {
    "scrolled": true
   },
   "outputs": [
    {
     "name": "stdout",
     "output_type": "stream",
     "text": [
      "_________________________________________________________________\n",
      "Layer (type)                 Output Shape              Param #   \n",
      "=================================================================\n",
      "input_45 (InputLayer)        (None, 105)               0         \n",
      "_________________________________________________________________\n",
      "embedding_49 (Embedding)     (None, 105, 300)          723900    \n",
      "_________________________________________________________________\n",
      "bidirectional_4 (Bidirection (None, 105, 600)          1442400   \n",
      "_________________________________________________________________\n",
      "time_distributed_3 (TimeDist (None, 105, 300)          180300    \n",
      "_________________________________________________________________\n",
      "flatten_46 (Flatten)         (None, 31500)             0         \n",
      "_________________________________________________________________\n",
      "dense_214 (Dense)            (None, 200)               6300200   \n",
      "_________________________________________________________________\n",
      "dense_215 (Dense)            (None, 100)               20100     \n",
      "_________________________________________________________________\n",
      "dense_216 (Dense)            (None, 3)                 303       \n",
      "=================================================================\n",
      "Total params: 8,667,203\n",
      "Trainable params: 8,667,203\n",
      "Non-trainable params: 0\n",
      "_________________________________________________________________\n",
      "None\n",
      "Train on 3238 samples, validate on 1080 samples\n",
      "Epoch 1/20\n",
      "3238/3238 [==============================] - 48s 15ms/step - loss: 0.6959 - acc: 0.6695 - val_loss: 0.3809 - val_acc: 0.8481\n",
      "Epoch 2/20\n",
      "3238/3238 [==============================] - 38s 12ms/step - loss: 0.3074 - acc: 0.8675 - val_loss: 0.3200 - val_acc: 0.8694\n",
      "Epoch 3/20\n",
      "3238/3238 [==============================] - 38s 12ms/step - loss: 0.1821 - acc: 0.9237 - val_loss: 0.3554 - val_acc: 0.8704\n",
      "Epoch 4/20\n",
      "3238/3238 [==============================] - 38s 12ms/step - loss: 0.1357 - acc: 0.9490 - val_loss: 0.4936 - val_acc: 0.8787\n",
      "Epoch 5/20\n",
      "3238/3238 [==============================] - 38s 12ms/step - loss: 0.0851 - acc: 0.9670 - val_loss: 0.5322 - val_acc: 0.8676\n",
      "Epoch 6/20\n",
      "3238/3238 [==============================] - 38s 12ms/step - loss: 0.0842 - acc: 0.9710 - val_loss: 0.5338 - val_acc: 0.8880\n",
      "Epoch 7/20\n",
      "3238/3238 [==============================] - 38s 12ms/step - loss: 0.0499 - acc: 0.9836 - val_loss: 0.6314 - val_acc: 0.8843\n",
      "Epoch 8/20\n",
      "3238/3238 [==============================] - 38s 12ms/step - loss: 0.0277 - acc: 0.9904 - val_loss: 0.7311 - val_acc: 0.8787\n",
      "Epoch 9/20\n",
      "3238/3238 [==============================] - 38s 12ms/step - loss: 0.0804 - acc: 0.9722 - val_loss: 0.6204 - val_acc: 0.8741\n",
      "Epoch 10/20\n",
      "3238/3238 [==============================] - 38s 12ms/step - loss: 0.0285 - acc: 0.9904 - val_loss: 0.7853 - val_acc: 0.8750\n",
      "Epoch 11/20\n",
      "3238/3238 [==============================] - 39s 12ms/step - loss: 0.0326 - acc: 0.9883 - val_loss: 0.8320 - val_acc: 0.8713\n",
      "Epoch 12/20\n",
      "3238/3238 [==============================] - 38s 12ms/step - loss: 0.0217 - acc: 0.9920 - val_loss: 0.8818 - val_acc: 0.8889\n",
      "Epoch 13/20\n",
      "3238/3238 [==============================] - 38s 12ms/step - loss: 0.0310 - acc: 0.9870 - val_loss: 0.7992 - val_acc: 0.8731\n",
      "Epoch 14/20\n",
      "3238/3238 [==============================] - 38s 12ms/step - loss: 0.0388 - acc: 0.9855 - val_loss: 0.7975 - val_acc: 0.8778\n",
      "Epoch 15/20\n",
      "3238/3238 [==============================] - 39s 12ms/step - loss: 0.0191 - acc: 0.9929 - val_loss: 0.8740 - val_acc: 0.8898\n",
      "Epoch 16/20\n",
      "3238/3238 [==============================] - 38s 12ms/step - loss: 0.0127 - acc: 0.9938 - val_loss: 0.8735 - val_acc: 0.8824\n",
      "Epoch 17/20\n",
      "3238/3238 [==============================] - 38s 12ms/step - loss: 0.0168 - acc: 0.9932 - val_loss: 0.9389 - val_acc: 0.8852\n",
      "Epoch 18/20\n",
      "3238/3238 [==============================] - 39s 12ms/step - loss: 0.0152 - acc: 0.9947 - val_loss: 0.8994 - val_acc: 0.8769\n",
      "Epoch 19/20\n",
      "3238/3238 [==============================] - 40s 12ms/step - loss: 0.0071 - acc: 0.9963 - val_loss: 0.9475 - val_acc: 0.8870\n",
      "Epoch 20/20\n",
      "3238/3238 [==============================] - 40s 12ms/step - loss: 0.0056 - acc: 0.9966 - val_loss: 0.9487 - val_acc: 0.8917\n",
      "Training Accuracy: 97.081982\n",
      "Testing Accuracy: 88.148148\n"
     ]
    }
   ],
   "source": [
    "def blstm_model(length, vocab_size):\n",
    "    # main model\n",
    "    input = Input(shape=(length,))\n",
    "    model = Embedding(vocab_size,300,input_length=length)(input)\n",
    "    model =  Bidirectional (LSTM (300,return_sequences=True,dropout=0.50),merge_mode='concat')(model)\n",
    "    model = TimeDistributed(Dense(300,activation='relu'))(model)\n",
    "    model = Flatten()(model)\n",
    "    model = Dense(200,activation='relu')(model)\n",
    "    model = Dense(100,activation='relu')(model)\n",
    "    output = Dense(3,activation='softmax')(model)\n",
    "    model = Model(input,output)\n",
    "    model.compile(loss='categorical_crossentropy', optimizer='adam', metrics=['accuracy'])\n",
    "\n",
    "    return model\n",
    "\n",
    "model = blstm_model(length, vocab_size)\n",
    "print(model.summary())\n",
    "\n",
    "model.fit(trainX,trainLabels,validation_split=0.25, epochs = 20, verbose = 1)\n",
    "\n",
    "loss, accuracy = model.evaluate(trainX, array(trainLabels), verbose=2)\n",
    "print('Training Accuracy: %f' % (accuracy*100))\n",
    "\n",
    "# evaluate the model\n",
    "loss, accuracy = model.evaluate(testX, to_categorical(y_test_docs), verbose=2)\n",
    "print('Testing Accuracy: %f' % (accuracy*100))"
   ]
  },
  {
   "cell_type": "code",
   "execution_count": 467,
   "metadata": {},
   "outputs": [
    {
     "data": {
      "image/png": "[encoded data removed]",
      "text/plain": [
       "<Figure size 432x288 with 2 Axes>"
      ]
     },
     "metadata": {
      "needs_background": "light"
     },
     "output_type": "display_data"
    }
   ],
   "source": [
    "summarize_diagnostics(history)"
   ]
  },
  {
   "cell_type": "code",
   "execution_count": 468,
   "metadata": {},
   "outputs": [
    {
     "ename": "NameError",
     "evalue": "name 'X_test' is not defined",
     "output_type": "error",
     "traceback": [
      "\u001b[0;31m---------------------------------------------------------------------------\u001b[0m",
      "\u001b[0;31mNameError\u001b[0m                                 Traceback (most recent call last)",
      "\u001b[0;32m<ipython-input-468-50793fa32659>\u001b[0m in \u001b[0;36m<module>\u001b[0;34m\u001b[0m\n\u001b[1;32m      1\u001b[0m \u001b[0;32mfrom\u001b[0m \u001b[0msklearn\u001b[0m\u001b[0;34m.\u001b[0m\u001b[0mmetrics\u001b[0m \u001b[0;32mimport\u001b[0m \u001b[0mclassification_report\u001b[0m\u001b[0;34m,\u001b[0m\u001b[0mconfusion_matrix\u001b[0m\u001b[0;34m\u001b[0m\u001b[0;34m\u001b[0m\u001b[0m\n\u001b[0;32m----> 2\u001b[0;31m \u001b[0mY_pred\u001b[0m \u001b[0;34m=\u001b[0m \u001b[0mmodel\u001b[0m\u001b[0;34m.\u001b[0m\u001b[0mpredict\u001b[0m\u001b[0;34m(\u001b[0m\u001b[0mX_test\u001b[0m\u001b[0;34m)\u001b[0m\u001b[0;34m\u001b[0m\u001b[0;34m\u001b[0m\u001b[0m\n\u001b[0m\u001b[1;32m      3\u001b[0m \u001b[0my_pred\u001b[0m \u001b[0;34m=\u001b[0m \u001b[0mnp\u001b[0m\u001b[0;34m.\u001b[0m\u001b[0marray\u001b[0m\u001b[0;34m(\u001b[0m\u001b[0;34m[\u001b[0m\u001b[0mnp\u001b[0m\u001b[0;34m.\u001b[0m\u001b[0margmax\u001b[0m\u001b[0;34m(\u001b[0m\u001b[0mpred\u001b[0m\u001b[0;34m)\u001b[0m \u001b[0;32mfor\u001b[0m \u001b[0mpred\u001b[0m \u001b[0;32min\u001b[0m \u001b[0mY_pred\u001b[0m\u001b[0;34m]\u001b[0m\u001b[0;34m)\u001b[0m\u001b[0;34m\u001b[0m\u001b[0;34m\u001b[0m\u001b[0m\n\u001b[1;32m      4\u001b[0m \u001b[0mprint\u001b[0m\u001b[0;34m(\u001b[0m\u001b[0;34m'  Classification Report:\\n'\u001b[0m\u001b[0;34m,\u001b[0m\u001b[0mclassification_report\u001b[0m\u001b[0;34m(\u001b[0m\u001b[0mY_test\u001b[0m\u001b[0;34m,\u001b[0m\u001b[0my_pred\u001b[0m\u001b[0;34m)\u001b[0m\u001b[0;34m,\u001b[0m\u001b[0;34m'\\n'\u001b[0m\u001b[0;34m)\u001b[0m\u001b[0;34m\u001b[0m\u001b[0;34m\u001b[0m\u001b[0m\n",
      "\u001b[0;31mNameError\u001b[0m: name 'X_test' is not defined"
     ]
    }
   ],
   "source": [
    "from sklearn.metrics import classification_report,confusion_matrix\n",
    "Y_pred = model.predict(X_test)\n",
    "y_pred = np.array([np.argmax(pred) for pred in Y_pred])\n",
    "print('  Classification Report:\\n',classification_report(Y_test,y_pred),'\\n')\n"
   ]
  },
  {
   "cell_type": "markdown",
   "metadata": {},
   "source": [
    "# fit model\n",
    "history = model.fit([trainX,trainX,trainX],\n",
    "                    array(trainLabels), \n",
    "                    epochs=20,\n",
    "                    batch_size=32 ,\n",
    "                    verbose = 0,\n",
    "                    validation_data=([testX,testX,testX],\n",
    "                                     to_categorical(y_test_docs)))"
   ]
  },
  {
   "cell_type": "code",
   "execution_count": 428,
   "metadata": {},
   "outputs": [
    {
     "name": "stdout",
     "output_type": "stream",
     "text": [
      "Train on 3238 samples, validate on 1080 samples\n",
      "Epoch 1/20\n",
      "3238/3238 [==============================] - 6s 2ms/step - loss: nan - acc: 0.2795 - val_loss: nan - val_acc: 0.2630\n",
      "Epoch 2/20\n",
      "3238/3238 [==============================] - 6s 2ms/step - loss: nan - acc: 0.2795 - val_loss: nan - val_acc: 0.2630\n",
      "Epoch 3/20\n",
      "3238/3238 [==============================] - 6s 2ms/step - loss: nan - acc: 0.2795 - val_loss: nan - val_acc: 0.2630\n",
      "Epoch 4/20\n",
      "3238/3238 [==============================] - 6s 2ms/step - loss: nan - acc: 0.2795 - val_loss: nan - val_acc: 0.2630\n",
      "Epoch 5/20\n",
      "3238/3238 [==============================] - 6s 2ms/step - loss: nan - acc: 0.2795 - val_loss: nan - val_acc: 0.2630\n",
      "Epoch 6/20\n",
      "3238/3238 [==============================] - 6s 2ms/step - loss: nan - acc: 0.2795 - val_loss: nan - val_acc: 0.2630\n",
      "Epoch 7/20\n",
      "3238/3238 [==============================] - 6s 2ms/step - loss: nan - acc: 0.2795 - val_loss: nan - val_acc: 0.2630\n",
      "Epoch 8/20\n",
      "3238/3238 [==============================] - 6s 2ms/step - loss: nan - acc: 0.2795 - val_loss: nan - val_acc: 0.2630\n",
      "\n",
      "Epoch 00008: ReduceLROnPlateau reducing learning rate to 1.0000000656873453e-06.\n",
      "Epoch 9/20\n",
      "3238/3238 [==============================] - 6s 2ms/step - loss: nan - acc: 0.2795 - val_loss: nan - val_acc: 0.2630\n",
      "Epoch 10/20\n",
      "3238/3238 [==============================] - 6s 2ms/step - loss: nan - acc: 0.2795 - val_loss: nan - val_acc: 0.2630\n",
      "Epoch 11/20\n",
      "3238/3238 [==============================] - 6s 2ms/step - loss: nan - acc: 0.2795 - val_loss: nan - val_acc: 0.2630\n"
     ]
    }
   ],
   "source": [
    "batch_size = 32\n",
    "\n",
    "from keras.callbacks import ModelCheckpoint,ReduceLROnPlateau,EarlyStopping\n",
    "earlyStopping = EarlyStopping(monitor='val_acc', patience=10, verbose=0, mode='min')\n",
    "mcp_save = ModelCheckpoint('.mdl_wts.hdf5', save_best_only=True, monitor='val_acc', mode='min')\n",
    "reduce_lr_loss = ReduceLROnPlateau(monitor='val_acc', factor=0.1, patience=7, verbose=1, epsilon=1e-4, mode='min')\n",
    "\n",
    "# validation_data=([testX,testX,testX],to_categorical(y_test_docs)))\n",
    "\n",
    "# fit model\n",
    "history = model.fit([trainX,trainX,trainX],\n",
    "                    array(trainLabels), \n",
    "                    epochs=20,\n",
    "                    batch_size=32 ,\n",
    "                    verbose = 1,\n",
    "                    callbacks=[earlyStopping, mcp_save, reduce_lr_loss],validation_split=0.25)"
   ]
  },
  {
   "cell_type": "code",
   "execution_count": null,
   "metadata": {},
   "outputs": [],
   "source": [
    "# # fit model\n",
    "# history = model.fit([trainX,trainX,trainX],\n",
    "#                     array(trainLabels), \n",
    "#                     epochs=20,\n",
    "#                     batch_size=32 ,\n",
    "#                     verbose = 0,\n",
    "#                     callbacks=[earlyStopping, mcp_save, reduce_lr_loss],validation_split=0.25)\n",
    "# #                     validation_data=([testX,testX,testX],to_categorical(y_test_docs)))"
   ]
  },
  {
   "cell_type": "code",
   "execution_count": null,
   "metadata": {},
   "outputs": [],
   "source": []
  },
  {
   "cell_type": "code",
   "execution_count": 211,
   "metadata": {},
   "outputs": [],
   "source": [
    "from keras.layers import BatchNormalization"
   ]
  },
  {
   "cell_type": "code",
   "execution_count": 204,
   "metadata": {},
   "outputs": [],
   "source": [
    "# # fit model\n",
    "# history = model.fit([trainX,trainX,trainX], array(trainLabels), epochs=20,\n",
    "#                     batch_size=32 ,\n",
    "#                     validation_data=([testX,testX,testX],to_categorical(y_test_docs)))"
   ]
  },
  {
   "cell_type": "code",
   "execution_count": 466,
   "metadata": {},
   "outputs": [
    {
     "data": {
      "image/png": "[encoded data removed]",
      "text/plain": [
       "<Figure size 432x288 with 2 Axes>"
      ]
     },
     "metadata": {
      "needs_background": "light"
     },
     "output_type": "display_data"
    }
   ],
   "source": [
    "import sys\n",
    "from matplotlib import pyplot\n",
    "from keras.applications.vgg16 import VGG16\n",
    "from keras.models import Model\n",
    "from keras.layers import Dense\n",
    "from keras.layers import Flatten\n",
    "from keras.optimizers import SGD\n",
    "from keras.preprocessing.image import ImageDataGenerator\n",
    "%matplotlib inline\n",
    "# plot diagnostic learning curves    \n",
    "def summarize_diagnostics(history):\n",
    "    # plot loss\n",
    "    pyplot.subplot(211)\n",
    "    pyplot.title('Cross Entropy Loss')\n",
    "    pyplot.plot(history.history['loss'], color='blue', label='train')\n",
    "    pyplot.plot(history.history['val_loss'], color='orange', label='test')\n",
    "    pyplot.tight_layout()\n",
    "    pyplot.legend()\n",
    "    # plot accuracy\n",
    "    pyplot.subplot(212)\n",
    "    pyplot.title('Classification Accuracy')\n",
    "    pyplot.plot(history.history['acc'], color='blue', label='train')\n",
    "    pyplot.plot(history.history['val_acc'], color='orange', label='test')\n",
    "    # save plot to file\n",
    "    filename = sys.argv[0].split('/')[-1]\n",
    "    pyplot.savefig(filename + '_plot.png')\n",
    "    \n",
    "    pyplot.tight_layout()\n",
    "    pyplot.legend()\n",
    "    pyplot.show()\n",
    "    pyplot.close()\n",
    "summarize_diagnostics(history)"
   ]
  },
  {
   "cell_type": "code",
   "execution_count": 206,
   "metadata": {},
   "outputs": [],
   "source": [
    "%matplotlib inline"
   ]
  },
  {
   "cell_type": "code",
   "execution_count": null,
   "metadata": {},
   "outputs": [],
   "source": []
  },
  {
   "cell_type": "code",
   "execution_count": 208,
   "metadata": {},
   "outputs": [
    {
     "data": {
      "image/png": "[encoded data removed]",
      "text/plain": [
       "<Figure size 432x288 with 2 Axes>"
      ]
     },
     "metadata": {
      "needs_background": "light"
     },
     "output_type": "display_data"
    }
   ],
   "source": [
    "summarize_diagnostics(history)"
   ]
  },
  {
   "cell_type": "code",
   "execution_count": 176,
   "metadata": {},
   "outputs": [
    {
     "data": {
      "image/png": "[encoded data removed]",
      "text/plain": [
       "<Figure size 432x288 with 2 Axes>"
      ]
     },
     "metadata": {
      "needs_background": "light"
     },
     "output_type": "display_data"
    }
   ],
   "source": [
    "summarize_diagnostics(history)"
   ]
  },
  {
   "cell_type": "code",
   "execution_count": 137,
   "metadata": {},
   "outputs": [],
   "source": [
    "model.save('ng_model_model_multiinput_NEW.h5')"
   ]
  },
  {
   "cell_type": "code",
   "execution_count": 138,
   "metadata": {},
   "outputs": [
    {
     "data": {
      "text/plain": [
       "array([[1.2176236e-01, 4.4611329e-04, 3.9009430e-07]], dtype=float32)"
      ]
     },
     "execution_count": 138,
     "metadata": {},
     "output_type": "execute_result"
    }
   ],
   "source": [
    "model.predict([enc_docs,enc_docs,enc_docs])"
   ]
  },
  {
   "cell_type": "code",
   "execution_count": 139,
   "metadata": {},
   "outputs": [],
   "source": [
    "# load the model\n",
    "from keras.models import load_model\n",
    "# save the model\n",
    "model.save('model_multi_nightingale.h5')\n",
    "model = load_model('model_multi_nightingale.h5')"
   ]
  },
  {
   "cell_type": "code",
   "execution_count": 376,
   "metadata": {},
   "outputs": [
    {
     "data": {
      "text/plain": [
       "105"
      ]
     },
     "execution_count": 376,
     "metadata": {},
     "output_type": "execute_result"
    }
   ],
   "source": [
    "max_length"
   ]
  },
  {
   "cell_type": "code",
   "execution_count": 377,
   "metadata": {},
   "outputs": [],
   "source": []
  },
  {
   "cell_type": "code",
   "execution_count": 141,
   "metadata": {},
   "outputs": [
    {
     "name": "stdout",
     "output_type": "stream",
     "text": [
      "Train Accuracy: 99.51\n",
      "Test Accuracy: 77.99\n"
     ]
    }
   ],
   "source": [
    "# evaluate model on training dataset\n",
    "_, acc = model.evaluate([trainX,trainX,trainX],to_categorical(y_train_docs), verbose=2)\n",
    "print('Train Accuracy: %.2f' % (acc*100))\n",
    "# evaluate model on test dataset dataset\n",
    "_, acc = model.evaluate([testX,testX,testX],to_categorical(y_test_docs), verbose=2)\n",
    "print('Test Accuracy: %.2f' % (acc*100))"
   ]
  },
  {
   "cell_type": "markdown",
   "metadata": {},
   "source": [
    "#### Build vocab with weights for embedding space generation"
   ]
  },
  {
   "cell_type": "code",
   "execution_count": null,
   "metadata": {},
   "outputs": [],
   "source": [
    "import pandas as pd\n",
    "import numpy as np\n",
    "from numpy import   asarray,zeros\n",
    "# load the whole embedding into memory\n",
    "embeddings_index = dict()\n",
    "# f = open('/home/surya/cs224n-Squad-Project/data/glove.6B.100d.txt')\n",
    "f = open('/root/data/glove/glove.6B.300d.txt')\n",
    "\n",
    "\n",
    "for line in f:\n",
    "    values = line.split()\n",
    "    word = values[0]\n",
    "    coefs = asarray(values[1:], dtype='float32')\n",
    "    embeddings_index[word] = coefs\n",
    "f.close()\n",
    "print('Loaded %s word vectors.' % len(embeddings_index))"
   ]
  },
  {
   "cell_type": "code",
   "execution_count": null,
   "metadata": {},
   "outputs": [],
   "source": [
    "vocab_size"
   ]
  },
  {
   "cell_type": "code",
   "execution_count": null,
   "metadata": {},
   "outputs": [],
   "source": [
    "docs[0]"
   ]
  },
  {
   "cell_type": "code",
   "execution_count": null,
   "metadata": {},
   "outputs": [],
   "source": [
    "# prepare tokenizer\n",
    "t = Tokenizer()\n",
    "t.fit_on_texts(clean_doc_voc)\n",
    "vocab_size = len(t.word_index) + 1\n",
    "vocab_size"
   ]
  },
  {
   "cell_type": "code",
   "execution_count": null,
   "metadata": {},
   "outputs": [],
   "source": [
    "a = \"0.41711,-0.10176,0.058147,-0.18332,-0.44458,-0.17852,-0.34392,-0.077147,0.58521,-0.52752,1.4831,0.9531,-0.027201,-0.31748,-0.23046,-0.24083,0.22548,-0.12685,-0.17578,-0.34924,0.5168,0.86818,-0.018579,1.2228,-0.52477,-0.26369,0.25925,-0.059529,0.27063,0.13036,-0.67677,0.48313,-0.16343,-0.069899,0.92846,-0.44196,-0.078755,0.5246,-0.59577,-0.1659,0.35194,0.30031,-0.50711,0.29111,-0.26332,-1.0523,-0.31061,-0.077155,-0.16019,0.26994,-1.1042,0.16292,0.79396,-0.77135,-0.95157,-0.55992,0.69163,0.021495,0.44292,-0.69881, 0.73889,-0.1064,-0.44058,0.17116,0.39109,0.043652, 1.2835,0.29026,0.51037,-0.19631,0.036696  -0.74017,-0.0035271 -0.54918,-0.25002,0.15853,0.71764,-0.28083, 0.42292,-0.89855,0.99665,-0.65188,-0.11919,-0.28617,-0.85273,0.55656,-0.23601,-0.43822,0.36317,0.45724, 0.38596,0.59233,1.4355,1.4563,1.1801,0.32987, 0.84998,-0.29444,-0.039114,0.39534\".split(\",\")\n",
    "\n",
    "a = np.array(a)\n",
    "len(a)"
   ]
  },
  {
   "cell_type": "code",
   "execution_count": null,
   "metadata": {},
   "outputs": [],
   "source": [
    "# embedding_matrix = zeros((vocab_size, 100))\n",
    "embedding_matrix = zeros((vocab_size, 300))\n",
    "\n",
    "for word, i in t.word_index.items():\n",
    "    embedding_vector = embeddings_index.get(word)\n",
    "#     print((word,i),embedding_vector)\n",
    "if embedding_vector is not None:\n",
    "    embedding_matrix[i] = embedding_vector"
   ]
  },
  {
   "cell_type": "code",
   "execution_count": null,
   "metadata": {},
   "outputs": [],
   "source": [
    "# e = Embedding(vocab_size, 100, weights=[embedding_matrix], input_length=4, trainable=False)"
   ]
  },
  {
   "cell_type": "markdown",
   "metadata": {},
   "source": [
    "###  ADD USER DEFINED EMBEDDING FROM GLOVE "
   ]
  },
  {
   "cell_type": "code",
   "execution_count": null,
   "metadata": {},
   "outputs": [],
   "source": [
    "embedding_matrix.shape"
   ]
  },
  {
   "cell_type": "code",
   "execution_count": null,
   "metadata": {},
   "outputs": [],
   "source": [
    "%timeit \n",
    "# np.isnan(data)[np.isnan(data) == False].size\n",
    "np.isnan(embedding_matrix)[np.isnan(embedding_matrix) == False].size"
   ]
  },
  {
   "cell_type": "code",
   "execution_count": null,
   "metadata": {},
   "outputs": [],
   "source": [
    "# t.word_index.items()"
   ]
  },
  {
   "cell_type": "code",
   "execution_count": null,
   "metadata": {},
   "outputs": [],
   "source": [
    "# embedding_matrix\n",
    "np.sum(~embedding_matrix.any(1))"
   ]
  },
  {
   "cell_type": "code",
   "execution_count": null,
   "metadata": {},
   "outputs": [],
   "source": [
    "embedding_matrix"
   ]
  },
  {
   "cell_type": "code",
   "execution_count": null,
   "metadata": {},
   "outputs": [],
   "source": [
    "# define the model\n",
    "def define_model(vocab_size, max_length , custom_embed = True):\n",
    "    model = Sequential()\n",
    "#     model.add(Embedding(vocab_size, 100, input_length=max_length))\n",
    "#     model.add(Embedding(vocab_size, 300, weights=[embedding_matrix], input_length=max_length , trainable=False))\n",
    "    model.add(Embedding(vocab_size, 300, input_length=max_length))\n",
    "    model.add(Conv1D(filters=32, kernel_size=8, activation='relu'))\n",
    "    model.add(MaxPooling1D(pool_size=2))\n",
    "    model.add(Flatten())\n",
    "    model.add(Dense(10, activation='relu'))\n",
    "    model.add(Dense(3, activation='sigmoid'))\n",
    "    print(\"Hello!!!!!!!!!\")\n",
    "    # compile network\n",
    "    model.compile(loss='categorical_crossentropy', optimizer='adam', metrics=['accuracy'])\n",
    "\n",
    "    # summarize defined model\n",
    "    model.summary()\n",
    "#     model.layers[0].set_weights([embedding_matrix])\n",
    "#     model.layers[0].trainable = False\n",
    "    plot_model(model, to_file='model.png', show_shapes=True)\n",
    "    return model"
   ]
  },
  {
   "cell_type": "code",
   "execution_count": null,
   "metadata": {},
   "outputs": [],
   "source": [
    "#    #load different embedding file from Kaggle depending on which embedding \n",
    "#         #matrix we are going to experiment with\n",
    "#         if typeToLoad==\"glove\":\n",
    "#             EMBEDDING_FILE='../input/glove-twitter/glove.twitter.27B.25d.txt'\n",
    "#             embed_size = 25\n",
    "#         elif(typeToLoad==\"word2vec\"):\n",
    "#             word2vecDict = word2vec.KeyedVectors.load_word2vec_format(\"../input/googlenewsvectorsnegative300/GoogleNews-vectors-negative300.bin\", binary=True)\n",
    "#             embed_size = 300\n",
    "#         elif(typeToLoad==\"fasttext\"):\n",
    "#             EMBEDDING_FILE='../input/fasttext/wiki.simple.vec'\n",
    "#             embed_size = 300\n",
    "\n",
    "#         if(typeToLoad==\"glove\" or typeToLoad==\"fasttext\" ):\n",
    "#             embeddings_index = dict()\n",
    "#             #Transfer the embedding weights into a dictionary by iterating through every line of the file.\n",
    "#             f = open(EMBEDDING_FILE)\n",
    "#             for line in f:\n",
    "#                 #split up line into an indexed array\n",
    "#                 values = line.split()\n",
    "#                 #first index is word\n",
    "#                 word = values[0]\n",
    "#                 #store the rest of the values in the array as a new array\n",
    "#                 coefs = np.asarray(values[1:], dtype='float32')\n",
    "#                 embeddings_index[word] = coefs #50 dimensions\n",
    "#             f.close()\n",
    "#             print('Loaded %s word vectors.' % len(embeddings_index))\n",
    "#         else:\n",
    "#             embeddings_index = dict()\n",
    "#             for word in word2vecDict.wv.vocab:\n",
    "#                 embeddings_index[word] = word2vecDict.word_vec(word)\n",
    "#             print('Loaded %s word vectors.' % len(embeddings_index))\n",
    "            \n",
    "#         gc.collect()\n",
    "#         #We get the mean and standard deviation of the embedding weights so that we could maintain the \n",
    "#         #same statistics for the rest of our own random generated weights. \n",
    "#         all_embs = np.stack(list(embeddings_index.values()))\n",
    "#         emb_mean,emb_std = all_embs.mean(), all_embs.std()\n",
    "        \n",
    "#         nb_words = len(tokenizer.word_index)\n",
    "#         #We are going to set the embedding size to the pretrained dimension as we are replicating it.\n",
    "#         #the size will be Number of Words in Vocab X Embedding Size\n",
    "#         embedding_matrix = np.random.normal(emb_mean, emb_std, (nb_words, embed_size))\n",
    "#         gc.collect()\n",
    "\n",
    "#         #With the newly created embedding matrix, we'll fill it up with the words that we have in both \n",
    "#         #our own dictionary and loaded pretrained embedding. \n",
    "#         embeddedCount = 0\n",
    "#         for word, i in tokenizer.word_index.items():\n",
    "#             i-=1\n",
    "#             #then we see if this word is in glove's dictionary, if yes, get the corresponding weights\n",
    "#             embedding_vector = embeddings_index.get(word)\n",
    "#             #and store inside the embedding matrix that we will train later on.\n",
    "#             if embedding_vector is not None: \n",
    "#                 embedding_matrix[i] = embedding_vector\n",
    "#                 embeddedCount+=1\n",
    "#         print('total embedded:',embeddedCount,'common words')\n",
    "        \n",
    "#         del(embeddings_index)\n",
    "#         gc.collect()\n",
    "        \n",
    "#         #finally, return the embedding matrix\n",
    "#         return embedding_matrix"
   ]
  },
  {
   "cell_type": "code",
   "execution_count": null,
   "metadata": {},
   "outputs": [],
   "source": []
  },
  {
   "cell_type": "code",
   "execution_count": null,
   "metadata": {},
   "outputs": [],
   "source": [
    "max_length"
   ]
  },
  {
   "cell_type": "code",
   "execution_count": null,
   "metadata": {},
   "outputs": [],
   "source": [
    "model = define_model(vocab_size,max_length,True)\n",
    "model.fit(Xtrain, to_categorical(y_train_docs), epochs=80, verbose=2, validation_split=0.1)"
   ]
  },
  {
   "cell_type": "code",
   "execution_count": null,
   "metadata": {},
   "outputs": [],
   "source": [
    "model.metrics_names"
   ]
  },
  {
   "cell_type": "code",
   "execution_count": null,
   "metadata": {},
   "outputs": [],
   "source": [
    "print(history.history.keys())\n",
    "#  \"Accuracy\"\n",
    "plt.plot(history.history['acc'])\n",
    "# plt.plot(history.history['val_acc'])\n",
    "plt.title('model accuracy')\n",
    "plt.ylabel('accuracy')\n",
    "plt.xlabel('epoch')\n",
    "plt.legend(['train', 'validation'], loc='upper left')\n",
    "plt.show()\n",
    "# \"Loss\"\n",
    "plt.plot(history.history['loss'])\n",
    "# plt.plot(history.history['val_loss'])\n",
    "plt.title('model loss')\n",
    "plt.ylabel('loss')\n",
    "plt.xlabel('epoch')\n",
    "plt.legend(['train', 'validation'], loc='upper left')\n",
    "plt.show()"
   ]
  },
  {
   "cell_type": "code",
   "execution_count": null,
   "metadata": {},
   "outputs": [],
   "source": []
  },
  {
   "cell_type": "code",
   "execution_count": null,
   "metadata": {},
   "outputs": [],
   "source": []
  },
  {
   "cell_type": "code",
   "execution_count": null,
   "metadata": {},
   "outputs": [],
   "source": [
    "# # This tutorial is divided into the following parts:\n",
    "# 1. Word Embeddings + CNN = Text Classi\f",
    "cation\n",
    "# 2. Use a Single Layer CNN Architecture\n",
    "# 3. Dial in CNN Hyperparameters\n",
    "# 4. Consider Character-Level CNNs\n",
    "# 5. Consider Deeper CNNs for Classi\f",
    "cation\n",
    "\n",
    "# define the model\n",
    "def define_model(length, vocab_size):\n",
    "    # channel 1\n",
    "    inputs1 = Input(shape=(length,))\n",
    "    embedding1 = Embedding(vocab_size, 300)(inputs1)\n",
    "#     embedding1 = Embedding(vocab_size,  300, weights=[embedding_matrix], trainable=False)(inputs1)\n",
    "#         model.add(Embedding(vocab_size, 100, weights=[embedding_matrix], input_length=max_length , trainable=False))\n",
    "\n",
    "    conv1 = Conv1D(filters=32, kernel_size=4, activation='relu')(embedding1)\n",
    "    drop1 = Dropout(0.5)(conv1)\n",
    "    pool1 = MaxPooling1D(pool_size=2)(drop1)\n",
    "    flat1 = Flatten()(pool1)\n",
    "    \n",
    "    # channel 2\n",
    "    inputs2 = Input(shape=(length,))\n",
    "    embedding2 = Embedding(vocab_size, 300)(inputs2)\n",
    "#     embedding2 = Embedding(vocab_size, 300, weights=[embedding_matrix], trainable=False)(inputs2)\n",
    "    conv2 = Conv1D(filters=32, kernel_size=6, activation='relu')(embedding2)\n",
    "    drop2 = Dropout(0.5)(conv2)\n",
    "    pool2 = MaxPooling1D(pool_size=2)(drop2)\n",
    "    flat2 = Flatten()(pool2)\n",
    "    \n",
    "    # channel 3\n",
    "    inputs3 = Input(shape=(length,))\n",
    "    embedding3 = Embedding(vocab_size, 300)(inputs3)\n",
    "#     embedding3 = Embedding(vocab_size, 100)(embedding3)\n",
    "#     embedding3 = Embedding(vocab_size, 300, weights=[embedding_matrix], trainable=False)(inputs3)\n",
    "\n",
    "    conv3 = Conv1D(filters=32, kernel_size=8, activation='relu')(embedding3)\n",
    "    drop3 = Dropout(0.5)(conv3)\n",
    "    pool3 = MaxPooling1D(pool_size=2)(drop3)\n",
    "    flat3 = Flatten()(pool3)\n",
    "    \n",
    "    # merge\n",
    "    merged = concatenate([flat1, flat2, flat3])\n",
    "    \n",
    "    # interpretation\n",
    "    dense1 = Dense(10, activation='relu')(merged)\n",
    "    outputs = Dense(3, activation='sigmoid')(dense1)\n",
    "    model = Model(inputs=[inputs1, inputs2, inputs3], outputs=outputs)\n",
    "    # compile\n",
    "    model.compile(loss='categorical_crossentropy', optimizer='adam', metrics=['accuracy'])\n",
    "    # summarize\n",
    "    model.summary()\n",
    "    plot_model(model, show_shapes=True, to_file='multichannel.png')\n",
    "    return model"
   ]
  },
  {
   "cell_type": "code",
   "execution_count": null,
   "metadata": {},
   "outputs": [],
   "source": [
    "trainX = encode_text(tokenizer, xtrain_docs, max_length)"
   ]
  },
  {
   "cell_type": "code",
   "execution_count": null,
   "metadata": {},
   "outputs": [],
   "source": [
    "trainX = encode_text(tokenizer, xtrain_docs, max_length)\n",
    "# define model\n",
    "model = define_model(length, vocab_size)\n",
    "# fit model\n",
    "model.fit([trainX,trainX,trainX], array(trainLabels), epochs=100, batch_size=16 , )"
   ]
  },
  {
   "cell_type": "code",
   "execution_count": null,
   "metadata": {},
   "outputs": [],
   "source": [
    "keras_model = model\n",
    "import tensorflow as tf"
   ]
  },
  {
   "cell_type": "code",
   "execution_count": null,
   "metadata": {},
   "outputs": [],
   "source": [
    "! ls -ltr /home/surya/model_multi_nightingale.h5"
   ]
  },
  {
   "cell_type": "code",
   "execution_count": null,
   "metadata": {},
   "outputs": [],
   "source": []
  },
  {
   "cell_type": "code",
   "execution_count": null,
   "metadata": {},
   "outputs": [],
   "source": [
    "model.save(\"model_multi_nightingale_NEW.h5\")"
   ]
  },
  {
   "cell_type": "code",
   "execution_count": null,
   "metadata": {},
   "outputs": [],
   "source": [
    "test_data = \"Hello John,How can I help to you I take toomuch coffe, with out coffee I feel headache Is it a throbbing headache? No How does bending forward affect your headache? I feel severing with out coffe How would you describe the intensity of your headache? sever headache with out coffee Do you become frustrated or upset easily?  I will sclod people near me Have you recently used any drugs in any form? No Do you experience day time sleep? restless Do you tend to drink alcohol heavily? I drink too much coffee Are you feeling agitated and physically restless? Feeling fatigued and lack of energy nearly every day.\"\n",
    "test_data = \"Hello John,How can I help to you severe headache and seizures Is it a throbbing headache? not at all How does bending forward affect your headache? severe pain at bothsides of my forehead How would you describe the intensity of your headache? it is worst, am not able to tolerate Do you become frustrated or upset easily? not all the times but some times Have you recently used any drugs in any form? being around smoke , certain smells bright light, such as sunlight, or flashing lights Do you experience day time sleep? In day time I feel sleepy, I will struggle to remain awake Do you tend to drink alcohol heavily? Yes, I tend to drink alcohol heavily? Are you feeling agitated and physically restless? especially lack of sleep I am  agitated\"\n",
    "\n",
    "\n",
    "\n",
    "enc_docs = encode_docs(tokenizer, max_length, [test_data])\n",
    "enc_docs"
   ]
  },
  {
   "cell_type": "code",
   "execution_count": null,
   "metadata": {},
   "outputs": [],
   "source": [
    "out = model.predict([enc_docs,enc_docs,enc_docs])\n",
    "arr = out[0]\n",
    "arr.argmax()"
   ]
  },
  {
   "cell_type": "code",
   "execution_count": null,
   "metadata": {},
   "outputs": [],
   "source": [
    "!"
   ]
  },
  {
   "cell_type": "code",
   "execution_count": null,
   "metadata": {},
   "outputs": [],
   "source": [
    "max_length"
   ]
  },
  {
   "cell_type": "code",
   "execution_count": null,
   "metadata": {},
   "outputs": [],
   "source": [
    "# saved_model_path = tf.contrib.saved_model.save_keras_model(model, \"./saved_models\")\n"
   ]
  },
  {
   "cell_type": "code",
   "execution_count": null,
   "metadata": {},
   "outputs": [],
   "source": [
    "\n",
    "!pwd"
   ]
  },
  {
   "cell_type": "code",
   "execution_count": null,
   "metadata": {},
   "outputs": [],
   "source": [
    "with tf.keras.backend.get_session() as sess:\n",
    "    tf.saved_model.simple_save(\n",
    "        sess,\n",
    "        \"export_path\",\n",
    "        inputs={'input': keras_model.input},\n",
    "        outputs={'output': keras_model.output})"
   ]
  },
  {
   "cell_type": "code",
   "execution_count": null,
   "metadata": {},
   "outputs": [],
   "source": [
    "from tensorflow import keras\n",
    "from tensorflow.keras import layers"
   ]
  },
  {
   "cell_type": "code",
   "execution_count": null,
   "metadata": {},
   "outputs": [],
   "source": [
    "keras.experimental.export_saved_model(model, '/home/surya/saved_model')\n"
   ]
  },
  {
   "cell_type": "code",
   "execution_count": null,
   "metadata": {},
   "outputs": [],
   "source": [
    "# Export the model to a SavedModel\n",
    "keras.experimental.export_saved_model(model, 'path_to_saved_model')\n",
    "\n",
    "# Recreate the exact same model\n",
    "new_model = keras.experimental.load_from_saved_model('path_to_saved_model')\n",
    "\n",
    "# Check that the state is preserved\n",
    "new_predictions = new_model.predict(x_test)\n",
    "np.testing.assert_allclose(predictions, new_predictions, atol=1e-6)\n",
    "\n",
    "# Note that the optimizer state is preserved as well:\n",
    "# you can resume training where you left off."
   ]
  },
  {
   "cell_type": "code",
   "execution_count": null,
   "metadata": {},
   "outputs": [],
   "source": [
    "\n",
    "\n",
    "with mlflow.start_run() as run:\n",
    "    mlflow.keras.log_model(model, \"models\")"
   ]
  },
  {
   "cell_type": "code",
   "execution_count": null,
   "metadata": {},
   "outputs": [],
   "source": [
    "# model\n",
    "mlflow.keras.save_model(model, \"models_keras\")"
   ]
  },
  {
   "cell_type": "code",
   "execution_count": null,
   "metadata": {},
   "outputs": [],
   "source": [
    ">>> import mlflow\n",
    ">>> # Build, compile, and train your model\n",
    ">>> keras_model = ...\n",
    ">>> keras_model_path = ...\n",
    ">>> keras_model.compile(optimizer=\"rmsprop\", loss=\"mse\", metrics=[\"accuracy\"])\n",
    ">>> results = keras_model.fit(\n",
    "...     x_train, y_train, epochs=20, batch_size = 128, validation_data=(x_val, y_val))\n",
    "... # Save the model as an MLflow Model\n",
    ">>> mlflow.keras.save_model(keras_model, keras_model_path)"
   ]
  },
  {
   "cell_type": "code",
   "execution_count": null,
   "metadata": {},
   "outputs": [],
   "source": []
  },
  {
   "cell_type": "code",
   "execution_count": null,
   "metadata": {},
   "outputs": [],
   "source": [
    "# 20.5.2 Data Augmentation\n",
    "from keras.preprocessing.image import ImageDataGenerator\n",
    "\n",
    "datagen = ImageDataGenerator(width_shift_range=0.1, height_shift_range=0.1, horizontal_flip=True)\n",
    "## Prepare iterator\n",
    "it_data = datagen.flow(trainX, trainY, batch_size=64)\n",
    "steps = int (trainX.shape[0]/64)\n",
    "\n",
    "history = model.fit_generator(it_data,steps_per_epoch=steps,epochs=100, validation_data=(testX, testY))\n"
   ]
  },
  {
   "cell_type": "code",
   "execution_count": null,
   "metadata": {},
   "outputs": [],
   "source": []
  }
 ],
 "metadata": {
  "kernelspec": {
   "display_name": "Python 3",
   "language": "python",
   "name": "python3"
  },
  "language_info": {
   "codemirror_mode": {
    "name": "ipython",
    "version": 3
   },
   "file_extension": ".py",
   "mimetype": "text/x-python",
   "name": "python",
   "nbconvert_exporter": "python",
   "pygments_lexer": "ipython3",
   "version": "3.6.8"
  }
 },
 "nbformat": 4,
 "nbformat_minor": 2
}
