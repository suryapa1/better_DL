{
 "cells": [
  {
   "cell_type": "code",
   "execution_count": 276,
   "metadata": {},
   "outputs": [
    {
     "name": "stdout",
     "output_type": "stream",
     "text": [
      "/home/surya\r\n"
     ]
    }
   ],
   "source": [
    "!pwd"
   ]
  },
  {
   "cell_type": "code",
   "execution_count": 145,
   "metadata": {},
   "outputs": [],
   "source": [
    "import pandas as pd\n",
    "import numpy as np\n",
    "import json\n",
    "from pandas import DataFrame\n",
    "from pandas.io.json import json_normalize\n",
    "from keras.preprocessing.text import Tokenizer\n",
    "from nltk.tokenize import TweetTokenizer\n",
    "import nltk\n",
    "import string\n",
    "import re\n",
    "import string\n",
    "from nltk.corpus import stopwords\n",
    "from collections import Counter\n",
    "from nltk.corpus import stopwords\n",
    "import string\n",
    "import re\n",
    "from os import listdir\n",
    "from collections import Counter\n",
    "from nltk.corpus import stopwords"
   ]
  },
  {
   "cell_type": "code",
   "execution_count": 146,
   "metadata": {},
   "outputs": [
    {
     "name": "stdout",
     "output_type": "stream",
     "text": [
      "low       588\n",
      "high      521\n",
      "medium    453\n",
      "Name: rating, dtype: int64\n"
     ]
    }
   ],
   "source": [
    "df = pd.read_excel(\"/home/surya/Nightingale_Chat.xlsx\",sheet_name = \"All\", header=0)\n",
    "print(df.rating.value_counts())\n",
    "# df.columns"
   ]
  },
  {
   "cell_type": "code",
   "execution_count": 147,
   "metadata": {},
   "outputs": [
    {
     "name": "stdout",
     "output_type": "stream",
     "text": [
      "                                           patient_chat rating\n",
      "0     female, 55 years, 75 kg and obese. hypertensiv...   high\n",
      "1     I'm 22 and male and I have gotten terrible mig...   high\n",
      "2     My wife is constantly suffering from high bloo...   high\n",
      "3     I get head aches multiple time times a week I'...   high\n",
      "4     I recently suffered a substantial loss of belo...   high\n",
      "1557   Hello John,How can I help to you Low headache...    low\n",
      "1558   Hello John,How can I help to you headache Com...    low\n",
      "1559   Hello John,How can I help to you Sever headac...    low\n",
      "1560   Hello John,How can I help to you I take toomu...    low\n",
      "1561   Hello John,How can I help to you What causes ...    low\n"
     ]
    }
   ],
   "source": [
    "print(pd.concat([df.head(), df.tail()]))"
   ]
  },
  {
   "cell_type": "code",
   "execution_count": 154,
   "metadata": {},
   "outputs": [],
   "source": [
    "stop_words = set(stopwords.words('english'))\n",
    "discard_words = {'not' , 'no'}\n",
    "stop_words = stop_words - discard_words"
   ]
  },
  {
   "cell_type": "code",
   "execution_count": 155,
   "metadata": {},
   "outputs": [
    {
     "name": "stdout",
     "output_type": "stream",
     "text": [
      "{'my', 'y', 'why', 'after', 'should', 'hadn', 'theirs', 't', 'our', 'yourself', 'or', 'when', 'off', 'i', 'had', 'can', 'shan', 'these', 'until', \"couldn't\", 'is', 'ain', 'she', 'ma', 'weren', 'under', 'd', 'this', \"mightn't\", 'there', 'each', \"wouldn't\", 'over', 'such', 'shouldn', \"aren't\", 'now', 'during', 'an', \"that'll\", 'are', 'will', 'both', 'on', 'the', 'didn', 'those', 'aren', 'which', 'their', 'more', \"you'll\", 'needn', 'into', 'up', 'don', \"shouldn't\", 'its', 'below', 'himself', 'of', 'you', 'and', 'for', 'm', 'in', 'here', 'your', \"isn't\", \"weren't\", \"don't\", \"you'd\", 'between', 'itself', 'because', 'isn', 'any', \"doesn't\", 'we', 'hers', 'mightn', \"shan't\", \"haven't\", 'mustn', 'it', 'who', 'were', \"mustn't\", 've', 'at', 'once', \"needn't\", \"wasn't\", 'against', 'out', 'further', 'where', 'whom', 'than', 'do', 'but', 're', 'did', 'haven', \"she's\", 'other', 'above', 'being', 'few', 'so', 'him', 'all', 'wasn', 'before', 'been', 'how', 'them', 'that', 'a', 'about', \"should've\", \"hasn't\", 'me', 'am', \"didn't\", \"you've\", 'he', 'by', 'ourselves', \"hadn't\", 'themselves', 'down', 'very', 'while', 'just', 'hasn', \"you're\", 'nor', 'to', 'they', 'll', \"it's\", 'again', 'doing', 'his', 'what', 'from', \"won't\", 'too', 'then', 'was', 'have', 'if', 'wouldn', 'having', 'same', 's', 'couldn', 'myself', 'as', 'most', 'only', 'yours', 'doesn', 'won', 'ours', 'has', 'with', 'own', 'does', 'through', 'be', 'yourselves', 'some', 'herself', 'her', 'o'}\n"
     ]
    }
   ],
   "source": [
    "type(stop_words)\n",
    "print(stop_words)"
   ]
  },
  {
   "cell_type": "code",
   "execution_count": 156,
   "metadata": {},
   "outputs": [
    {
     "data": {
      "text/plain": [
       "{'a',\n",
       " 'about',\n",
       " 'above',\n",
       " 'after',\n",
       " 'again',\n",
       " 'against',\n",
       " 'ain',\n",
       " 'all',\n",
       " 'am',\n",
       " 'an',\n",
       " 'and',\n",
       " 'any',\n",
       " 'are',\n",
       " 'aren',\n",
       " \"aren't\",\n",
       " 'as',\n",
       " 'at',\n",
       " 'be',\n",
       " 'because',\n",
       " 'been',\n",
       " 'before',\n",
       " 'being',\n",
       " 'below',\n",
       " 'between',\n",
       " 'both',\n",
       " 'but',\n",
       " 'by',\n",
       " 'can',\n",
       " 'couldn',\n",
       " \"couldn't\",\n",
       " 'd',\n",
       " 'did',\n",
       " 'didn',\n",
       " \"didn't\",\n",
       " 'do',\n",
       " 'does',\n",
       " 'doesn',\n",
       " \"doesn't\",\n",
       " 'doing',\n",
       " 'don',\n",
       " \"don't\",\n",
       " 'down',\n",
       " 'during',\n",
       " 'each',\n",
       " 'few',\n",
       " 'for',\n",
       " 'from',\n",
       " 'further',\n",
       " 'had',\n",
       " 'hadn',\n",
       " \"hadn't\",\n",
       " 'has',\n",
       " 'hasn',\n",
       " \"hasn't\",\n",
       " 'have',\n",
       " 'haven',\n",
       " \"haven't\",\n",
       " 'having',\n",
       " 'he',\n",
       " 'her',\n",
       " 'here',\n",
       " 'hers',\n",
       " 'herself',\n",
       " 'him',\n",
       " 'himself',\n",
       " 'his',\n",
       " 'how',\n",
       " 'i',\n",
       " 'if',\n",
       " 'in',\n",
       " 'into',\n",
       " 'is',\n",
       " 'isn',\n",
       " \"isn't\",\n",
       " 'it',\n",
       " \"it's\",\n",
       " 'its',\n",
       " 'itself',\n",
       " 'just',\n",
       " 'll',\n",
       " 'm',\n",
       " 'ma',\n",
       " 'me',\n",
       " 'mightn',\n",
       " \"mightn't\",\n",
       " 'more',\n",
       " 'most',\n",
       " 'mustn',\n",
       " \"mustn't\",\n",
       " 'my',\n",
       " 'myself',\n",
       " 'needn',\n",
       " \"needn't\",\n",
       " 'nor',\n",
       " 'now',\n",
       " 'o',\n",
       " 'of',\n",
       " 'off',\n",
       " 'on',\n",
       " 'once',\n",
       " 'only',\n",
       " 'or',\n",
       " 'other',\n",
       " 'our',\n",
       " 'ours',\n",
       " 'ourselves',\n",
       " 'out',\n",
       " 'over',\n",
       " 'own',\n",
       " 're',\n",
       " 's',\n",
       " 'same',\n",
       " 'shan',\n",
       " \"shan't\",\n",
       " 'she',\n",
       " \"she's\",\n",
       " 'should',\n",
       " \"should've\",\n",
       " 'shouldn',\n",
       " \"shouldn't\",\n",
       " 'so',\n",
       " 'some',\n",
       " 'such',\n",
       " 't',\n",
       " 'than',\n",
       " 'that',\n",
       " \"that'll\",\n",
       " 'the',\n",
       " 'their',\n",
       " 'theirs',\n",
       " 'them',\n",
       " 'themselves',\n",
       " 'then',\n",
       " 'there',\n",
       " 'these',\n",
       " 'they',\n",
       " 'this',\n",
       " 'those',\n",
       " 'through',\n",
       " 'to',\n",
       " 'too',\n",
       " 'under',\n",
       " 'until',\n",
       " 'up',\n",
       " 've',\n",
       " 'very',\n",
       " 'was',\n",
       " 'wasn',\n",
       " \"wasn't\",\n",
       " 'we',\n",
       " 'were',\n",
       " 'weren',\n",
       " \"weren't\",\n",
       " 'what',\n",
       " 'when',\n",
       " 'where',\n",
       " 'which',\n",
       " 'while',\n",
       " 'who',\n",
       " 'whom',\n",
       " 'why',\n",
       " 'will',\n",
       " 'with',\n",
       " 'won',\n",
       " \"won't\",\n",
       " 'wouldn',\n",
       " \"wouldn't\",\n",
       " 'y',\n",
       " 'you',\n",
       " \"you'd\",\n",
       " \"you'll\",\n",
       " \"you're\",\n",
       " \"you've\",\n",
       " 'your',\n",
       " 'yours',\n",
       " 'yourself',\n",
       " 'yourselves'}"
      ]
     },
     "execution_count": 156,
     "metadata": {},
     "output_type": "execute_result"
    }
   ],
   "source": [
    "stop_words"
   ]
  },
  {
   "cell_type": "code",
   "execution_count": 278,
   "metadata": {},
   "outputs": [
    {
     "data": {
      "text/plain": [
       "18752"
      ]
     },
     "execution_count": 278,
     "metadata": {},
     "output_type": "execute_result"
    }
   ],
   "source": [
    "293*64"
   ]
  },
  {
   "cell_type": "raw",
   "metadata": {},
   "source": [
    "\n",
    "# list(stop_words) in \n",
    "print('not' in list(stop_words))\n",
    "print('not' in list(stop_words))\n",
    "\n",
    "# stop_words = stop_words.remove('not')\n",
    "# print('not' in stop_words)"
   ]
  },
  {
   "cell_type": "code",
   "execution_count": 157,
   "metadata": {},
   "outputs": [],
   "source": [
    "def load_file(filename):\n",
    "    with open(filename) as f:\n",
    "        d = json.load(f)\n",
    "        df = DataFrame(d)\n",
    "        f.close()\n",
    "    return df\n",
    "\n",
    "punc_ = set(string.punctuation)"
   ]
  },
  {
   "cell_type": "code",
   "execution_count": 158,
   "metadata": {},
   "outputs": [],
   "source": [
    "def clean_document(doc) :\n",
    "    re_punc = re.compile('[%s]' % re.escape(string.punctuation))\n",
    "    stop_words = set(stopwords.words('english'))\n",
    "    tokens = doc.lower().split()\n",
    "#     tokens = [w for w in tokens if '@' not in w]\n",
    "    \n",
    "    # remove punctuation from each word\n",
    "    tokens = [re_punc.sub('', w) for w in tokens]\n",
    "    # remove remaining tokens that are not alphabetic\n",
    "    tokens = [word for word in tokens if word.isalpha() or word.isalnum()]\n",
    "    stop_words = set(stopwords.words('english'))\n",
    "    #remove stop words\n",
    "    tokens = [word for word in tokens if word not in stop_words]\n",
    "    tokens = [word for word in tokens if word not in punc_]\n",
    "    tokens = [re.sub('[^A-Za-z0-9]+', '', word)  for word in tokens]\n",
    "    tokens = [word for word in tokens if len(word) > 1]\n",
    "    return tokens\n",
    "\n",
    "def preprocess_documents(docs):\n",
    "    clean_docs = [clean_document(doc) for doc in docs]\n",
    "    return clean_docs"
   ]
  },
  {
   "cell_type": "code",
   "execution_count": 277,
   "metadata": {},
   "outputs": [
    {
     "name": "stdout",
     "output_type": "stream",
     "text": [
      "Wed Jun  5 11:13:17 2019       \r\n",
      "+-----------------------------------------------------------------------------+\r\n",
      "| NVIDIA-SMI 410.48                 Driver Version: 410.48                    |\r\n",
      "|-------------------------------+----------------------+----------------------+\r\n",
      "| GPU  Name        Persistence-M| Bus-Id        Disp.A | Volatile Uncorr. ECC |\r\n",
      "| Fan  Temp  Perf  Pwr:Usage/Cap|         Memory-Usage | GPU-Util  Compute M. |\r\n",
      "|===============================+======================+======================|\r\n",
      "|   0  Quadro P5000        Off  | 00000000:61:00.0 Off |                  Off |\r\n",
      "| 26%   39C    P0    39W / 180W |      0MiB / 16278MiB |      0%      Default |\r\n",
      "+-------------------------------+----------------------+----------------------+\r\n",
      "                                                                               \r\n",
      "+-----------------------------------------------------------------------------+\r\n",
      "| Processes:                                                       GPU Memory |\r\n",
      "|  GPU       PID   Type   Process name                             Usage      |\r\n",
      "|=============================================================================|\r\n",
      "|  No running processes found                                                 |\r\n",
      "+-----------------------------------------------------------------------------+\r\n"
     ]
    }
   ],
   "source": [
    "!nvidia-smi"
   ]
  },
  {
   "cell_type": "code",
   "execution_count": 159,
   "metadata": {},
   "outputs": [],
   "source": [
    "docs = list(df.patient_chat)\n",
    "clean_docs = preprocess_documents(docs)"
   ]
  },
  {
   "cell_type": "markdown",
   "metadata": {},
   "source": [
    "## Define Vocobulary"
   ]
  },
  {
   "cell_type": "code",
   "execution_count": 160,
   "metadata": {},
   "outputs": [
    {
     "name": "stdout",
     "output_type": "stream",
     "text": [
      "3074\n"
     ]
    }
   ],
   "source": [
    "vocab = Counter()\n",
    "\n",
    "# load doc and add to vocab\n",
    "def add_doc_to_vocab(doc,vocab):\n",
    "    vocab.update(doc)\n",
    "    return vocab\n",
    "\n",
    "# load all docs in a directory\n",
    "def process_docs(clean_docs, vocab):\n",
    "    for doc in clean_docs:\n",
    "        vocab = add_doc_to_vocab(doc, vocab)\n",
    "    return vocab\n",
    "\n",
    "vocab = process_docs(clean_docs, vocab)\n",
    "\n",
    "# keep tokens with a min occurrence\n",
    "min_occurrence = 2\n",
    "tokens = [k for k,c in vocab.items() if c >= min_occurrence]\n",
    "print(len(tokens))"
   ]
  },
  {
   "cell_type": "markdown",
   "metadata": {},
   "source": [
    "### TOtal Vocobulary : 2960"
   ]
  },
  {
   "cell_type": "code",
   "execution_count": 161,
   "metadata": {},
   "outputs": [],
   "source": [
    "# save list to file\n",
    "def save_list(lines, filename):\n",
    "    # convert lines to a single blob of text\n",
    "    data = '\\n'.join(lines)\n",
    "    # open file\n",
    "    file = open(filename, 'w')\n",
    "    # write text\n",
    "    file.write(data)\n",
    "    # close file\n",
    "    file.close()\n",
    "    \n",
    "# save tokens to a vocabulary file\n",
    "save_list(tokens, 'nightingale_vocab.txt')\n",
    "\n",
    "# load doc into memory\n",
    "def load_doc(filename):\n",
    "    # open the file as read only\n",
    "    file = open(filename, 'r')\n",
    "    # read all text\n",
    "    text = file.read()\n",
    "    # close the file\n",
    "    file.close()\n",
    "    return text\n",
    "\n",
    "# load doc, clean and return line of tokens\n",
    "def doc_to_line(doc, vocab):\n",
    "    # filter by vocab\n",
    "    tokens = [w for w in doc if w in vocab]\n",
    "    return ' '.join(tokens)"
   ]
  },
  {
   "cell_type": "code",
   "execution_count": 162,
   "metadata": {},
   "outputs": [],
   "source": [
    "# load the vocabulary\n",
    "vocab_filename = 'nightingale_vocab.txt'\n",
    "vocab = load_doc(vocab_filename)\n",
    "vocab = set(vocab.split())"
   ]
  },
  {
   "cell_type": "code",
   "execution_count": 163,
   "metadata": {},
   "outputs": [],
   "source": [
    "clean_doc_voc = []\n",
    "for doc in clean_docs:\n",
    "    clean_doc_voc.append(doc_to_line(doc, vocab))\n",
    "    \n",
    "df[\"clean_doc_voc\"] = clean_doc_voc"
   ]
  },
  {
   "cell_type": "code",
   "execution_count": 164,
   "metadata": {},
   "outputs": [],
   "source": [
    "df.rating  = df.rating.map({'low':0, 'medium':1, 'high' : 2})"
   ]
  },
  {
   "cell_type": "code",
   "execution_count": 165,
   "metadata": {},
   "outputs": [],
   "source": [
    "from sklearn.model_selection import train_test_split\n",
    "# X_train,X_test,y_train,y_test = train_test_split(X.index,y,test_size=0.2)\n",
    "train, test = train_test_split(df[[\"clean_doc_voc\",\"rating\" ]], test_size=0.2)\n",
    "\n",
    "xtrain_docs , y_train_docs= train[\"clean_doc_voc\"] , train[\"rating\"]\n",
    "xtest_docs , y_test_docs= test[\"clean_doc_voc\"] , test[\"rating\"]"
   ]
  },
  {
   "cell_type": "code",
   "execution_count": 166,
   "metadata": {},
   "outputs": [],
   "source": [
    "# fit a tokenizer\n",
    "def create_tokenizer(lines):\n",
    "    tokenizer = Tokenizer()\n",
    "    tokenizer.fit_on_texts(lines)\n",
    "    return tokenizer"
   ]
  },
  {
   "cell_type": "code",
   "execution_count": 167,
   "metadata": {},
   "outputs": [
    {
     "name": "stdout",
     "output_type": "stream",
     "text": [
      "3022\n",
      "3022\n"
     ]
    }
   ],
   "source": [
    "# encode data\n",
    "tokenizer = create_tokenizer(xtrain_docs)\n",
    "Xtrain = tokenizer.texts_to_matrix(xtrain_docs, mode='freq' )\n",
    "print(len(tokenizer.word_index))\n",
    "Xtest = tokenizer.texts_to_matrix(xtest_docs, mode='freq')\n",
    "print(len(tokenizer.word_index))"
   ]
  },
  {
   "cell_type": "code",
   "execution_count": 168,
   "metadata": {},
   "outputs": [
    {
     "data": {
      "text/plain": [
       "3022"
      ]
     },
     "execution_count": 168,
     "metadata": {},
     "output_type": "execute_result"
    }
   ],
   "source": [
    "len(tokenizer.word_index)"
   ]
  },
  {
   "cell_type": "code",
   "execution_count": 169,
   "metadata": {},
   "outputs": [
    {
     "name": "stdout",
     "output_type": "stream",
     "text": [
      "((1249, 3023), (1249,))\n",
      "((313,), (313,))\n"
     ]
    }
   ],
   "source": [
    "print((Xtrain.shape ,y_train_docs.shape))\n",
    "print((xtest_docs.shape, y_test_docs.shape))"
   ]
  },
  {
   "cell_type": "code",
   "execution_count": 170,
   "metadata": {},
   "outputs": [
    {
     "data": {
      "text/plain": [
       "3022"
      ]
     },
     "execution_count": 170,
     "metadata": {},
     "output_type": "execute_result"
    }
   ],
   "source": [
    "len(set(tokenizer.word_index))"
   ]
  },
  {
   "cell_type": "code",
   "execution_count": 171,
   "metadata": {},
   "outputs": [
    {
     "data": {
      "text/plain": [
       "831     0\n",
       "961     0\n",
       "1042    0\n",
       "742     1\n",
       "Name: rating, dtype: int64"
      ]
     },
     "execution_count": 171,
     "metadata": {},
     "output_type": "execute_result"
    }
   ],
   "source": [
    "y_train_docs[:4]"
   ]
  },
  {
   "cell_type": "code",
   "execution_count": 172,
   "metadata": {},
   "outputs": [
    {
     "data": {
      "text/plain": [
       "3023"
      ]
     },
     "execution_count": 172,
     "metadata": {},
     "output_type": "execute_result"
    }
   ],
   "source": [
    "n_words = Xtest.shape[1]\n",
    "n_words"
   ]
  },
  {
   "cell_type": "code",
   "execution_count": 173,
   "metadata": {},
   "outputs": [
    {
     "data": {
      "text/plain": [
       "3023"
      ]
     },
     "execution_count": 173,
     "metadata": {},
     "output_type": "execute_result"
    }
   ],
   "source": [
    "Xtrain.shape[1]"
   ]
  },
  {
   "cell_type": "code",
   "execution_count": 174,
   "metadata": {},
   "outputs": [],
   "source": [
    "from nltk.corpus import stopwords\n",
    "from keras.preprocessing.text import Tokenizer\n",
    "from keras.utils.vis_utils import plot_model\n",
    "from keras.models import Sequential\n",
    "from keras.layers import Dense\n",
    "from keras.utils import to_categorical\n",
    "\n",
    "# define the model\n",
    "def define_model(n_words):\n",
    "    # define network\n",
    "    model = Sequential()\n",
    "    model.add(Dense(50, input_shape=(n_words,), activation='relu'))\n",
    "    model.add(Dense(3, activation='sigmoid'))\n",
    "    # compile network\n",
    "    model.compile(loss='categorical_crossentropy', optimizer='adam', metrics=['accuracy'])\n",
    "\n",
    "    # summarize defined model\n",
    "    model.summary()\n",
    "    plot_model(model, to_file='model.png', show_shapes=True)\n",
    "    return model"
   ]
  },
  {
   "cell_type": "code",
   "execution_count": 175,
   "metadata": {},
   "outputs": [
    {
     "data": {
      "text/plain": [
       "3023"
      ]
     },
     "execution_count": 175,
     "metadata": {},
     "output_type": "execute_result"
    }
   ],
   "source": [
    "n_words"
   ]
  },
  {
   "cell_type": "code",
   "execution_count": 176,
   "metadata": {},
   "outputs": [
    {
     "name": "stdout",
     "output_type": "stream",
     "text": [
      "_________________________________________________________________\n",
      "Layer (type)                 Output Shape              Param #   \n",
      "=================================================================\n",
      "dense_93 (Dense)             (None, 50)                151200    \n",
      "_________________________________________________________________\n",
      "dense_94 (Dense)             (None, 3)                 153       \n",
      "=================================================================\n",
      "Total params: 151,353\n",
      "Trainable params: 151,353\n",
      "Non-trainable params: 0\n",
      "_________________________________________________________________\n"
     ]
    }
   ],
   "source": [
    "model = define_model(n_words)"
   ]
  },
  {
   "cell_type": "code",
   "execution_count": 177,
   "metadata": {},
   "outputs": [
    {
     "data": {
      "text/plain": [
       "3074"
      ]
     },
     "execution_count": 177,
     "metadata": {},
     "output_type": "execute_result"
    }
   ],
   "source": [
    "len(set(vocab))"
   ]
  },
  {
   "cell_type": "code",
   "execution_count": 178,
   "metadata": {},
   "outputs": [
    {
     "data": {
      "text/plain": [
       "<keras.callbacks.History at 0x7fb64155a128>"
      ]
     },
     "execution_count": 178,
     "metadata": {},
     "output_type": "execute_result"
    }
   ],
   "source": [
    "# fit network\n",
    "model.fit(Xtrain, to_categorical(y_train_docs), epochs=10, verbose=0)"
   ]
  },
  {
   "cell_type": "code",
   "execution_count": 179,
   "metadata": {},
   "outputs": [],
   "source": [
    "model.save(\"nightingale_freq.h5\")"
   ]
  },
  {
   "cell_type": "code",
   "execution_count": 180,
   "metadata": {},
   "outputs": [],
   "source": [
    "import pickle\n",
    "\n",
    "def save_tokenizer_file(object_, filename):\n",
    "    # saving\n",
    "    with open(filename, 'wb') as handle:\n",
    "        pickle.dump(object_, handle, protocol=pickle.HIGHEST_PROTOCOL)\n",
    "\n",
    "def load_tokenizer_file(filename):\n",
    "    # loading\n",
    "    with open(filename, 'rb') as handle:\n",
    "        tokenizer = pickle.load(handle)\n",
    "        return tokenizer\n",
    "    return null\n",
    "save_tokenizer_file(tokenizer,\"tokenizer.pkl\")"
   ]
  },
  {
   "cell_type": "code",
   "execution_count": 181,
   "metadata": {},
   "outputs": [
    {
     "name": "stdout",
     "output_type": "stream",
     "text": [
      "Test Accuracy: 64.536741\n"
     ]
    }
   ],
   "source": [
    "# evaluate\n",
    "loss, acc = model.evaluate(Xtest, to_categorical(y_test_docs), verbose=0)\n",
    "print('Test Accuracy: %f' % (acc*100))"
   ]
  },
  {
   "cell_type": "code",
   "execution_count": 182,
   "metadata": {},
   "outputs": [],
   "source": [
    "def prepare_data(train_docs, test_docs, mode):\n",
    "    # create the tokenizer\n",
    "    tokenizer = Tokenizer()\n",
    "    # fit the tokenizer on the documents\n",
    "    tokenizer.fit_on_texts(train_docs)\n",
    "    # encode training data set\n",
    "    Xtrain = tokenizer.texts_to_matrix(train_docs, mode=mode)\n",
    "    # encode training data set\n",
    "    Xtest = tokenizer.texts_to_matrix(test_docs, mode=mode)\n",
    "    return Xtrain, Xtest"
   ]
  },
  {
   "cell_type": "code",
   "execution_count": 183,
   "metadata": {},
   "outputs": [],
   "source": [
    "def evaluate_mode(Xtrain, ytrain, Xtest, ytest):\n",
    "    scores = list()\n",
    "    n_repeats = 10\n",
    "    n_words = Xtest.shape[1]\n",
    "    for i in range(n_repeats):\n",
    "        # define network\n",
    "        model = define_model(n_words)\n",
    "        # fit network\n",
    "        model.fit(Xtrain, ytrain, epochs=100, verbose=0)\n",
    "        # evaluate\n",
    "        _, acc = model.evaluate(Xtest, to_categorical(y_test_docs), verbose=0)\n",
    "        scores.append(acc)\n",
    "        print('%d accuracy: %s' % ((i+1), acc))\n",
    "    return scores"
   ]
  },
  {
   "cell_type": "code",
   "execution_count": 184,
   "metadata": {},
   "outputs": [
    {
     "name": "stdout",
     "output_type": "stream",
     "text": [
      "_________________________________________________________________\n",
      "Layer (type)                 Output Shape              Param #   \n",
      "=================================================================\n",
      "dense_95 (Dense)             (None, 50)                151200    \n",
      "_________________________________________________________________\n",
      "dense_96 (Dense)             (None, 3)                 153       \n",
      "=================================================================\n",
      "Total params: 151,353\n",
      "Trainable params: 151,353\n",
      "Non-trainable params: 0\n",
      "_________________________________________________________________\n",
      "1 accuracy: 0.7156549513149566\n",
      "_________________________________________________________________\n",
      "Layer (type)                 Output Shape              Param #   \n",
      "=================================================================\n",
      "dense_97 (Dense)             (None, 50)                151200    \n",
      "_________________________________________________________________\n",
      "dense_98 (Dense)             (None, 3)                 153       \n",
      "=================================================================\n",
      "Total params: 151,353\n",
      "Trainable params: 151,353\n",
      "Non-trainable params: 0\n",
      "_________________________________________________________________\n",
      "2 accuracy: 0.7028754016461845\n",
      "_________________________________________________________________\n",
      "Layer (type)                 Output Shape              Param #   \n",
      "=================================================================\n",
      "dense_99 (Dense)             (None, 50)                151200    \n",
      "_________________________________________________________________\n",
      "dense_100 (Dense)            (None, 3)                 153       \n",
      "=================================================================\n",
      "Total params: 151,353\n",
      "Trainable params: 151,353\n",
      "Non-trainable params: 0\n",
      "_________________________________________________________________\n",
      "3 accuracy: 0.7124600631360429\n",
      "_________________________________________________________________\n",
      "Layer (type)                 Output Shape              Param #   \n",
      "=================================================================\n",
      "dense_101 (Dense)            (None, 50)                151200    \n",
      "_________________________________________________________________\n",
      "dense_102 (Dense)            (None, 3)                 153       \n",
      "=================================================================\n",
      "Total params: 151,353\n",
      "Trainable params: 151,353\n",
      "Non-trainable params: 0\n",
      "_________________________________________________________________\n",
      "4 accuracy: 0.7124600661829257\n",
      "_________________________________________________________________\n",
      "Layer (type)                 Output Shape              Param #   \n",
      "=================================================================\n",
      "dense_103 (Dense)            (None, 50)                151200    \n",
      "_________________________________________________________________\n",
      "dense_104 (Dense)            (None, 3)                 153       \n",
      "=================================================================\n",
      "Total params: 151,353\n",
      "Trainable params: 151,353\n",
      "Non-trainable params: 0\n",
      "_________________________________________________________________\n",
      "5 accuracy: 0.6996805117533992\n",
      "_________________________________________________________________\n",
      "Layer (type)                 Output Shape              Param #   \n",
      "=================================================================\n",
      "dense_105 (Dense)            (None, 50)                151200    \n",
      "_________________________________________________________________\n",
      "dense_106 (Dense)            (None, 3)                 153       \n",
      "=================================================================\n",
      "Total params: 151,353\n",
      "Trainable params: 151,353\n",
      "Non-trainable params: 0\n",
      "_________________________________________________________________\n",
      "6 accuracy: 0.6996805134672708\n",
      "_________________________________________________________________\n",
      "Layer (type)                 Output Shape              Param #   \n",
      "=================================================================\n",
      "dense_107 (Dense)            (None, 50)                151200    \n",
      "_________________________________________________________________\n",
      "dense_108 (Dense)            (None, 3)                 153       \n",
      "=================================================================\n",
      "Total params: 151,353\n",
      "Trainable params: 151,353\n",
      "Non-trainable params: 0\n",
      "_________________________________________________________________\n",
      "7 accuracy: 0.7092651780040119\n",
      "_________________________________________________________________\n",
      "Layer (type)                 Output Shape              Param #   \n",
      "=================================================================\n",
      "dense_109 (Dense)            (None, 50)                151200    \n",
      "_________________________________________________________________\n",
      "dense_110 (Dense)            (None, 3)                 153       \n",
      "=================================================================\n",
      "Total params: 151,353\n",
      "Trainable params: 151,353\n",
      "Non-trainable params: 0\n",
      "_________________________________________________________________\n",
      "8 accuracy: 0.7028754016461845\n",
      "_________________________________________________________________\n",
      "Layer (type)                 Output Shape              Param #   \n",
      "=================================================================\n",
      "dense_111 (Dense)            (None, 50)                151200    \n",
      "_________________________________________________________________\n",
      "dense_112 (Dense)            (None, 3)                 153       \n",
      "=================================================================\n",
      "Total params: 151,353\n",
      "Trainable params: 151,353\n",
      "Non-trainable params: 0\n",
      "_________________________________________________________________\n",
      "9 accuracy: 0.7188498394938704\n",
      "_________________________________________________________________\n",
      "Layer (type)                 Output Shape              Param #   \n",
      "=================================================================\n",
      "dense_113 (Dense)            (None, 50)                151200    \n",
      "_________________________________________________________________\n",
      "dense_114 (Dense)            (None, 3)                 153       \n",
      "=================================================================\n",
      "Total params: 151,353\n",
      "Trainable params: 151,353\n",
      "Non-trainable params: 0\n",
      "_________________________________________________________________\n",
      "10 accuracy: 0.7028754016461845\n",
      "          binary\n",
      "count  10.000000\n",
      "mean    0.707668\n",
      "std     0.006943\n",
      "min     0.699681\n",
      "25%     0.702875\n",
      "50%     0.706070\n",
      "75%     0.712460\n",
      "max     0.718850\n",
      "_________________________________________________________________\n",
      "Layer (type)                 Output Shape              Param #   \n",
      "=================================================================\n",
      "dense_115 (Dense)            (None, 50)                151200    \n",
      "_________________________________________________________________\n",
      "dense_116 (Dense)            (None, 3)                 153       \n",
      "=================================================================\n",
      "Total params: 151,353\n",
      "Trainable params: 151,353\n",
      "Non-trainable params: 0\n",
      "_________________________________________________________________\n",
      "1 accuracy: 0.4185303512472695\n",
      "_________________________________________________________________\n",
      "Layer (type)                 Output Shape              Param #   \n",
      "=================================================================\n",
      "dense_117 (Dense)            (None, 50)                151200    \n",
      "_________________________________________________________________\n",
      "dense_118 (Dense)            (None, 3)                 153       \n",
      "=================================================================\n",
      "Total params: 151,353\n",
      "Trainable params: 151,353\n",
      "Non-trainable params: 0\n",
      "_________________________________________________________________\n",
      "2 accuracy: 0.4185303512472695\n",
      "_________________________________________________________________\n",
      "Layer (type)                 Output Shape              Param #   \n",
      "=================================================================\n",
      "dense_119 (Dense)            (None, 50)                151200    \n",
      "_________________________________________________________________\n",
      "dense_120 (Dense)            (None, 3)                 153       \n",
      "=================================================================\n",
      "Total params: 151,353\n",
      "Trainable params: 151,353\n",
      "Non-trainable params: 0\n",
      "_________________________________________________________________\n"
     ]
    },
    {
     "name": "stdout",
     "output_type": "stream",
     "text": [
      "3 accuracy: 0.4185303512472695\n",
      "_________________________________________________________________\n",
      "Layer (type)                 Output Shape              Param #   \n",
      "=================================================================\n",
      "dense_121 (Dense)            (None, 50)                151200    \n",
      "_________________________________________________________________\n",
      "dense_122 (Dense)            (None, 3)                 153       \n",
      "=================================================================\n",
      "Total params: 151,353\n",
      "Trainable params: 151,353\n",
      "Non-trainable params: 0\n",
      "_________________________________________________________________\n",
      "4 accuracy: 0.4185303512472695\n",
      "_________________________________________________________________\n",
      "Layer (type)                 Output Shape              Param #   \n",
      "=================================================================\n",
      "dense_123 (Dense)            (None, 50)                151200    \n",
      "_________________________________________________________________\n",
      "dense_124 (Dense)            (None, 3)                 153       \n",
      "=================================================================\n",
      "Total params: 151,353\n",
      "Trainable params: 151,353\n",
      "Non-trainable params: 0\n",
      "_________________________________________________________________\n",
      "5 accuracy: 0.4185303512472695\n",
      "_________________________________________________________________\n",
      "Layer (type)                 Output Shape              Param #   \n",
      "=================================================================\n",
      "dense_125 (Dense)            (None, 50)                151200    \n",
      "_________________________________________________________________\n",
      "dense_126 (Dense)            (None, 3)                 153       \n",
      "=================================================================\n",
      "Total params: 151,353\n",
      "Trainable params: 151,353\n",
      "Non-trainable params: 0\n",
      "_________________________________________________________________\n",
      "6 accuracy: 0.4185303512472695\n",
      "_________________________________________________________________\n",
      "Layer (type)                 Output Shape              Param #   \n",
      "=================================================================\n",
      "dense_127 (Dense)            (None, 50)                151200    \n",
      "_________________________________________________________________\n",
      "dense_128 (Dense)            (None, 3)                 153       \n",
      "=================================================================\n",
      "Total params: 151,353\n",
      "Trainable params: 151,353\n",
      "Non-trainable params: 0\n",
      "_________________________________________________________________\n",
      "7 accuracy: 0.4185303512472695\n",
      "_________________________________________________________________\n",
      "Layer (type)                 Output Shape              Param #   \n",
      "=================================================================\n",
      "dense_129 (Dense)            (None, 50)                151200    \n",
      "_________________________________________________________________\n",
      "dense_130 (Dense)            (None, 3)                 153       \n",
      "=================================================================\n",
      "Total params: 151,353\n",
      "Trainable params: 151,353\n",
      "Non-trainable params: 0\n",
      "_________________________________________________________________\n",
      "8 accuracy: 0.4185303512472695\n",
      "_________________________________________________________________\n",
      "Layer (type)                 Output Shape              Param #   \n",
      "=================================================================\n",
      "dense_131 (Dense)            (None, 50)                151200    \n",
      "_________________________________________________________________\n",
      "dense_132 (Dense)            (None, 3)                 153       \n",
      "=================================================================\n",
      "Total params: 151,353\n",
      "Trainable params: 151,353\n",
      "Non-trainable params: 0\n",
      "_________________________________________________________________\n",
      "9 accuracy: 0.4185303512472695\n",
      "_________________________________________________________________\n",
      "Layer (type)                 Output Shape              Param #   \n",
      "=================================================================\n",
      "dense_133 (Dense)            (None, 50)                151200    \n",
      "_________________________________________________________________\n",
      "dense_134 (Dense)            (None, 3)                 153       \n",
      "=================================================================\n",
      "Total params: 151,353\n",
      "Trainable params: 151,353\n",
      "Non-trainable params: 0\n",
      "_________________________________________________________________\n",
      "10 accuracy: 0.4185303512472695\n",
      "          binary         count\n",
      "count  10.000000  1.000000e+01\n",
      "mean    0.707668  4.185304e-01\n",
      "std     0.006943  5.851389e-17\n",
      "min     0.699681  4.185304e-01\n",
      "25%     0.702875  4.185304e-01\n",
      "50%     0.706070  4.185304e-01\n",
      "75%     0.712460  4.185304e-01\n",
      "max     0.718850  4.185304e-01\n",
      "_________________________________________________________________\n",
      "Layer (type)                 Output Shape              Param #   \n",
      "=================================================================\n",
      "dense_135 (Dense)            (None, 50)                151200    \n",
      "_________________________________________________________________\n",
      "dense_136 (Dense)            (None, 3)                 153       \n",
      "=================================================================\n",
      "Total params: 151,353\n",
      "Trainable params: 151,353\n",
      "Non-trainable params: 0\n",
      "_________________________________________________________________\n",
      "1 accuracy: 0.4185303512472695\n",
      "_________________________________________________________________\n",
      "Layer (type)                 Output Shape              Param #   \n",
      "=================================================================\n",
      "dense_137 (Dense)            (None, 50)                151200    \n",
      "_________________________________________________________________\n",
      "dense_138 (Dense)            (None, 3)                 153       \n",
      "=================================================================\n",
      "Total params: 151,353\n",
      "Trainable params: 151,353\n",
      "Non-trainable params: 0\n",
      "_________________________________________________________________\n",
      "2 accuracy: 0.4185303512472695\n",
      "_________________________________________________________________\n",
      "Layer (type)                 Output Shape              Param #   \n",
      "=================================================================\n",
      "dense_139 (Dense)            (None, 50)                151200    \n",
      "_________________________________________________________________\n",
      "dense_140 (Dense)            (None, 3)                 153       \n",
      "=================================================================\n",
      "Total params: 151,353\n",
      "Trainable params: 151,353\n",
      "Non-trainable params: 0\n",
      "_________________________________________________________________\n",
      "3 accuracy: 0.4185303512472695\n",
      "_________________________________________________________________\n",
      "Layer (type)                 Output Shape              Param #   \n",
      "=================================================================\n",
      "dense_141 (Dense)            (None, 50)                151200    \n",
      "_________________________________________________________________\n",
      "dense_142 (Dense)            (None, 3)                 153       \n",
      "=================================================================\n",
      "Total params: 151,353\n",
      "Trainable params: 151,353\n",
      "Non-trainable params: 0\n",
      "_________________________________________________________________\n",
      "4 accuracy: 0.4185303512472695\n",
      "_________________________________________________________________\n",
      "Layer (type)                 Output Shape              Param #   \n",
      "=================================================================\n",
      "dense_143 (Dense)            (None, 50)                151200    \n",
      "_________________________________________________________________\n",
      "dense_144 (Dense)            (None, 3)                 153       \n",
      "=================================================================\n",
      "Total params: 151,353\n",
      "Trainable params: 151,353\n",
      "Non-trainable params: 0\n",
      "_________________________________________________________________\n",
      "5 accuracy: 0.4185303512472695\n",
      "_________________________________________________________________\n",
      "Layer (type)                 Output Shape              Param #   \n",
      "=================================================================\n",
      "dense_145 (Dense)            (None, 50)                151200    \n",
      "_________________________________________________________________\n",
      "dense_146 (Dense)            (None, 3)                 153       \n",
      "=================================================================\n",
      "Total params: 151,353\n",
      "Trainable params: 151,353\n",
      "Non-trainable params: 0\n",
      "_________________________________________________________________\n"
     ]
    },
    {
     "name": "stdout",
     "output_type": "stream",
     "text": [
      "6 accuracy: 0.4185303512472695\n",
      "_________________________________________________________________\n",
      "Layer (type)                 Output Shape              Param #   \n",
      "=================================================================\n",
      "dense_147 (Dense)            (None, 50)                151200    \n",
      "_________________________________________________________________\n",
      "dense_148 (Dense)            (None, 3)                 153       \n",
      "=================================================================\n",
      "Total params: 151,353\n",
      "Trainable params: 151,353\n",
      "Non-trainable params: 0\n",
      "_________________________________________________________________\n",
      "7 accuracy: 0.4185303512472695\n",
      "_________________________________________________________________\n",
      "Layer (type)                 Output Shape              Param #   \n",
      "=================================================================\n",
      "dense_149 (Dense)            (None, 50)                151200    \n",
      "_________________________________________________________________\n",
      "dense_150 (Dense)            (None, 3)                 153       \n",
      "=================================================================\n",
      "Total params: 151,353\n",
      "Trainable params: 151,353\n",
      "Non-trainable params: 0\n",
      "_________________________________________________________________\n",
      "8 accuracy: 0.4185303512472695\n",
      "_________________________________________________________________\n",
      "Layer (type)                 Output Shape              Param #   \n",
      "=================================================================\n",
      "dense_151 (Dense)            (None, 50)                151200    \n",
      "_________________________________________________________________\n",
      "dense_152 (Dense)            (None, 3)                 153       \n",
      "=================================================================\n",
      "Total params: 151,353\n",
      "Trainable params: 151,353\n",
      "Non-trainable params: 0\n",
      "_________________________________________________________________\n",
      "9 accuracy: 0.4185303512472695\n",
      "_________________________________________________________________\n",
      "Layer (type)                 Output Shape              Param #   \n",
      "=================================================================\n",
      "dense_153 (Dense)            (None, 50)                151200    \n",
      "_________________________________________________________________\n",
      "dense_154 (Dense)            (None, 3)                 153       \n",
      "=================================================================\n",
      "Total params: 151,353\n",
      "Trainable params: 151,353\n",
      "Non-trainable params: 0\n",
      "_________________________________________________________________\n",
      "10 accuracy: 0.4185303512472695\n",
      "          binary         count         tfidf\n",
      "count  10.000000  1.000000e+01  1.000000e+01\n",
      "mean    0.707668  4.185304e-01  4.185304e-01\n",
      "std     0.006943  5.851389e-17  5.851389e-17\n",
      "min     0.699681  4.185304e-01  4.185304e-01\n",
      "25%     0.702875  4.185304e-01  4.185304e-01\n",
      "50%     0.706070  4.185304e-01  4.185304e-01\n",
      "75%     0.712460  4.185304e-01  4.185304e-01\n",
      "max     0.718850  4.185304e-01  4.185304e-01\n",
      "_________________________________________________________________\n",
      "Layer (type)                 Output Shape              Param #   \n",
      "=================================================================\n",
      "dense_155 (Dense)            (None, 50)                151200    \n",
      "_________________________________________________________________\n",
      "dense_156 (Dense)            (None, 3)                 153       \n",
      "=================================================================\n",
      "Total params: 151,353\n",
      "Trainable params: 151,353\n",
      "Non-trainable params: 0\n",
      "_________________________________________________________________\n",
      "1 accuracy: 0.6900958489305296\n",
      "_________________________________________________________________\n",
      "Layer (type)                 Output Shape              Param #   \n",
      "=================================================================\n",
      "dense_157 (Dense)            (None, 50)                151200    \n",
      "_________________________________________________________________\n",
      "dense_158 (Dense)            (None, 3)                 153       \n",
      "=================================================================\n",
      "Total params: 151,353\n",
      "Trainable params: 151,353\n",
      "Non-trainable params: 0\n",
      "_________________________________________________________________\n",
      "2 accuracy: 0.6773162962148745\n",
      "_________________________________________________________________\n",
      "Layer (type)                 Output Shape              Param #   \n",
      "=================================================================\n",
      "dense_159 (Dense)            (None, 50)                151200    \n",
      "_________________________________________________________________\n",
      "dense_160 (Dense)            (None, 3)                 153       \n",
      "=================================================================\n",
      "Total params: 151,353\n",
      "Trainable params: 151,353\n",
      "Non-trainable params: 0\n",
      "_________________________________________________________________\n",
      "3 accuracy: 0.6773162962148745\n",
      "_________________________________________________________________\n",
      "Layer (type)                 Output Shape              Param #   \n",
      "=================================================================\n",
      "dense_161 (Dense)            (None, 50)                151200    \n",
      "_________________________________________________________________\n",
      "dense_162 (Dense)            (None, 3)                 153       \n",
      "=================================================================\n",
      "Total params: 151,353\n",
      "Trainable params: 151,353\n",
      "Non-trainable params: 0\n",
      "_________________________________________________________________\n",
      "4 accuracy: 0.6900958489305296\n",
      "_________________________________________________________________\n",
      "Layer (type)                 Output Shape              Param #   \n",
      "=================================================================\n",
      "dense_163 (Dense)            (None, 50)                151200    \n",
      "_________________________________________________________________\n",
      "dense_164 (Dense)            (None, 3)                 153       \n",
      "=================================================================\n",
      "Total params: 151,353\n",
      "Trainable params: 151,353\n",
      "Non-trainable params: 0\n",
      "_________________________________________________________________\n",
      "5 accuracy: 0.6932907371094432\n",
      "_________________________________________________________________\n",
      "Layer (type)                 Output Shape              Param #   \n",
      "=================================================================\n",
      "dense_165 (Dense)            (None, 50)                151200    \n",
      "_________________________________________________________________\n",
      "dense_166 (Dense)            (None, 3)                 153       \n",
      "=================================================================\n",
      "Total params: 151,353\n",
      "Trainable params: 151,353\n",
      "Non-trainable params: 0\n",
      "_________________________________________________________________\n",
      "6 accuracy: 0.6677316316781333\n",
      "_________________________________________________________________\n",
      "Layer (type)                 Output Shape              Param #   \n",
      "=================================================================\n",
      "dense_167 (Dense)            (None, 50)                151200    \n",
      "_________________________________________________________________\n",
      "dense_168 (Dense)            (None, 3)                 153       \n",
      "=================================================================\n",
      "Total params: 151,353\n",
      "Trainable params: 151,353\n",
      "Non-trainable params: 0\n",
      "_________________________________________________________________\n",
      "7 accuracy: 0.6805111843937883\n",
      "_________________________________________________________________\n",
      "Layer (type)                 Output Shape              Param #   \n",
      "=================================================================\n",
      "dense_169 (Dense)            (None, 50)                151200    \n",
      "_________________________________________________________________\n",
      "dense_170 (Dense)            (None, 3)                 153       \n",
      "=================================================================\n",
      "Total params: 151,353\n",
      "Trainable params: 151,353\n",
      "Non-trainable params: 0\n",
      "_________________________________________________________________\n",
      "8 accuracy: 0.6805111813469055\n",
      "_________________________________________________________________\n",
      "Layer (type)                 Output Shape              Param #   \n",
      "=================================================================\n",
      "dense_171 (Dense)            (None, 50)                151200    \n",
      "_________________________________________________________________\n",
      "dense_172 (Dense)            (None, 3)                 153       \n",
      "=================================================================\n",
      "Total params: 151,353\n",
      "Trainable params: 151,353\n",
      "Non-trainable params: 0\n",
      "_________________________________________________________________\n"
     ]
    },
    {
     "name": "stdout",
     "output_type": "stream",
     "text": [
      "9 accuracy: 0.6741214063220893\n",
      "_________________________________________________________________\n",
      "Layer (type)                 Output Shape              Param #   \n",
      "=================================================================\n",
      "dense_173 (Dense)            (None, 50)                151200    \n",
      "_________________________________________________________________\n",
      "dense_174 (Dense)            (None, 3)                 153       \n",
      "=================================================================\n",
      "Total params: 151,353\n",
      "Trainable params: 151,353\n",
      "Non-trainable params: 0\n",
      "_________________________________________________________________\n",
      "10 accuracy: 0.6741214080359608\n",
      "          binary         count         tfidf       freq\n",
      "count  10.000000  1.000000e+01  1.000000e+01  10.000000\n",
      "mean    0.707668  4.185304e-01  4.185304e-01   0.680511\n",
      "std     0.006943  5.851389e-17  5.851389e-17   0.008249\n",
      "min     0.699681  4.185304e-01  4.185304e-01   0.667732\n",
      "25%     0.702875  4.185304e-01  4.185304e-01   0.674920\n",
      "50%     0.706070  4.185304e-01  4.185304e-01   0.678914\n",
      "75%     0.712460  4.185304e-01  4.185304e-01   0.687700\n",
      "max     0.718850  4.185304e-01  4.185304e-01   0.693291\n"
     ]
    }
   ],
   "source": [
    "# run experiment\n",
    "modes = ['binary', 'count', 'tfidf', 'freq']\n",
    "results = DataFrame()\n",
    "for mode in modes:\n",
    "    # prepare data for mode\n",
    "    Xtrain, Xtest = prepare_data(xtrain_docs, xtest_docs, mode)\n",
    "    # evaluate model on data for mode\n",
    "    results[mode] = evaluate_mode(Xtrain, to_categorical(y_train_docs), Xtest, to_categorical(y_test_docs))\n",
    "    # summarize results\n",
    "    # Comparing Word Scoring Methods\n",
    "    print(results.describe())"
   ]
  },
  {
   "cell_type": "code",
   "execution_count": 185,
   "metadata": {},
   "outputs": [],
   "source": [
    "import matplotlib.pyplot as plt\n",
    "%matplotlib inline"
   ]
  },
  {
   "cell_type": "code",
   "execution_count": 186,
   "metadata": {},
   "outputs": [
    {
     "data": {
      "image/png": "[encoded data removed]",
      "text/plain": [
       "<Figure size 432x288 with 1 Axes>"
      ]
     },
     "metadata": {
      "needs_background": "light"
     },
     "output_type": "display_data"
    }
   ],
   "source": [
    "results.boxplot()\n",
    "plt.show()"
   ]
  },
  {
   "cell_type": "code",
   "execution_count": 187,
   "metadata": {},
   "outputs": [],
   "source": [
    "###  Predict New Sentiment"
   ]
  },
  {
   "cell_type": "code",
   "execution_count": 188,
   "metadata": {},
   "outputs": [],
   "source": [
    "# classify a review as negative or positive\n",
    "def predict_sentiment(review, vocab, tokenizer, model):\n",
    "    # clean\n",
    "#     tokens = clean_doc(review)\n",
    "    \n",
    "    tokens = clean_document(text)\n",
    "    print(tokens)\n",
    "    # filter by vocab\n",
    "    tokens = [w for w in tokens if w in vocab]\n",
    "    # convert to line\n",
    "    line = ' '.join(tokens)\n",
    "    # encode\n",
    "    encoded = tokenizer.texts_to_matrix([line], mode='freq')\n",
    "    # predict sentiment\n",
    "    yhat = model.predict(encoded, verbose=0)\n",
    "    max_index = np.argmax(yhat[0])\n",
    "    print(yhat[0])\n",
    "    print(yhat[0][max_index])\n",
    "    # retrieve predicted percentage and label\n",
    "    percent_pos = yhat[0][max_index]\n",
    "    if max_index == 0 : \n",
    "        return (percent_pos), '0'\n",
    "    \n",
    "    if max_index == 1 : \n",
    "        return (percent_pos), '1'\n",
    "    if max_index == 2 : \n",
    "        return (percent_pos), '2'\n",
    "    return \"NA\""
   ]
  },
  {
   "cell_type": "code",
   "execution_count": 193,
   "metadata": {},
   "outputs": [
    {
     "name": "stdout",
     "output_type": "stream",
     "text": [
      "['leg', 'getting', 'hell', 'lot', 'pain', 'whihch', 'un', 'imaginable', 'blood', 'due', 'pain']\n",
      "[0.07367576 0.18888555 0.6332315 ]\n",
      "0.6332315\n"
     ]
    },
    {
     "data": {
      "text/plain": [
       "(0.6332315, '2')"
      ]
     },
     "execution_count": 193,
     "metadata": {},
     "output_type": "execute_result"
    }
   ],
   "source": [
    "# test positive text\n",
    "text = \"my leg is getting hell lot of pain whihch is un imaginable blood due to pain!!\"\n",
    "percent, sentiment = predict_sentiment(text, vocab, tokenizer, model)\n",
    "percent, sentiment "
   ]
  },
  {
   "cell_type": "code",
   "execution_count": 194,
   "metadata": {},
   "outputs": [
    {
     "name": "stdout",
     "output_type": "stream",
     "text": [
      "['leg', 'paining', 'alot', 'severe', 'couldnt', 'bear']\n",
      "[0.11229624 0.42249006 0.29615688]\n",
      "0.42249006\n"
     ]
    },
    {
     "data": {
      "text/plain": [
       "(0.42249006, '1')"
      ]
     },
     "execution_count": 194,
     "metadata": {},
     "output_type": "execute_result"
    }
   ],
   "source": [
    "# test positive text\n",
    "text = \"my leg is paining alot and it is severe, couldn't bear any more\"\n",
    "percent, sentiment = predict_sentiment(text, vocab, tokenizer, model)\n",
    "percent, sentiment "
   ]
  },
  {
   "cell_type": "code",
   "execution_count": 195,
   "metadata": {},
   "outputs": [
    {
     "name": "stdout",
     "output_type": "stream",
     "text": [
      "['leg', 'paining', 'alot', 'severe', 'couldnt', 'bear']\n",
      "[0.11229624 0.42249006 0.29615688]\n",
      "0.42249006\n",
      "Review: [my leg is paining alot and it is severe, couldn't bear any more]\n",
      "Sentiment: 1 (42.249%)\n",
      "['bad', 'movie']\n",
      "[0.5570071  0.25768185 0.03741346]\n",
      "0.5570071\n",
      "Review: [This is a bad movie.]\n",
      "Sentiment: 0 (55.701%)\n"
     ]
    }
   ],
   "source": [
    "# test positive text\n",
    "# text = 'Best movie ever! It was great, I recommend it.'\n",
    "percent, sentiment = predict_sentiment(text, vocab, tokenizer, model)\n",
    "print('Review: [%s]\\nSentiment: %s (%.3f%%)' % (text, sentiment, percent*100))\n",
    "# test negative text\n",
    "text = 'This is a bad movie.'\n",
    "percent, sentiment = predict_sentiment(text, vocab, tokenizer, model)\n",
    "print('Review: [%s]\\nSentiment: %s (%.3f%%)' % (text, sentiment, percent*100))"
   ]
  },
  {
   "cell_type": "code",
   "execution_count": 196,
   "metadata": {},
   "outputs": [
    {
     "data": {
      "text/plain": [
       "2883"
      ]
     },
     "execution_count": 196,
     "metadata": {},
     "output_type": "execute_result"
    }
   ],
   "source": [
    "vocab_size"
   ]
  },
  {
   "cell_type": "code",
   "execution_count": 197,
   "metadata": {},
   "outputs": [],
   "source": [
    "# define the model\n",
    "def define_model(vocab_size, max_length):\n",
    "    model = Sequential()\n",
    "    model.add(Embedding(vocab_size, 300, input_length=max_length))\n",
    "    model.add(Conv1D(filters=32, kernel_size=8, activation='relu'))\n",
    "    model.add(MaxPooling1D(pool_size=2))\n",
    "    \n",
    "    model.add(Conv1D(filters=32, kernel_size=8, activation='relu'))\n",
    "    model.add(MaxPooling1D(pool_size=2))\n",
    "    model.add(Conv1D(filters=32, kernel_size=8, activation='relu'))\n",
    "    model.add(MaxPooling1D(pool_size=2))\n",
    "    \n",
    "    model.add(Flatten())\n",
    "    model.add(Dense(10, activation='relu'))\n",
    "    model.add(Dense(3, activation='sigmoid'))\n",
    "    # compile network\n",
    "    model.compile(loss='categorical_crossentropy', optimizer='adam', metrics=['accuracy'])\n",
    "\n",
    "    # summarize defined model\n",
    "    model.summary()\n",
    "    plot_model(model, to_file='model.png', show_shapes=True)\n",
    "    return model"
   ]
  },
  {
   "cell_type": "code",
   "execution_count": 198,
   "metadata": {},
   "outputs": [
    {
     "data": {
      "text/plain": [
       "3074"
      ]
     },
     "execution_count": 198,
     "metadata": {},
     "output_type": "execute_result"
    }
   ],
   "source": [
    "len(vocab)"
   ]
  },
  {
   "cell_type": "code",
   "execution_count": 199,
   "metadata": {},
   "outputs": [],
   "source": [
    "# xtrain_docs"
   ]
  },
  {
   "cell_type": "code",
   "execution_count": 200,
   "metadata": {},
   "outputs": [
    {
     "data": {
      "text/plain": [
       "103"
      ]
     },
     "execution_count": 200,
     "metadata": {},
     "output_type": "execute_result"
    }
   ],
   "source": [
    "max_length = max([len(s.split()) for s in xtrain_docs])\n",
    "max_length"
   ]
  },
  {
   "cell_type": "code",
   "execution_count": 201,
   "metadata": {},
   "outputs": [
    {
     "data": {
      "text/plain": [
       "3074"
      ]
     },
     "execution_count": 201,
     "metadata": {},
     "output_type": "execute_result"
    }
   ],
   "source": [
    "vocab_size = len(set(vocab))\n",
    "len(set(vocab))"
   ]
  },
  {
   "cell_type": "code",
   "execution_count": 202,
   "metadata": {},
   "outputs": [],
   "source": [
    "from keras.layers.convolutional import Conv1D\n",
    "from keras.layers.convolutional import MaxPooling1D\n",
    "from keras.layers import Embedding , Flatten\n",
    "from keras.models import Sequential\n",
    "from keras.layers import Dense\n",
    "from keras.layers import Flatten\n",
    "from keras.layers import Embedding"
   ]
  },
  {
   "cell_type": "code",
   "execution_count": 203,
   "metadata": {},
   "outputs": [
    {
     "name": "stdout",
     "output_type": "stream",
     "text": [
      "_________________________________________________________________\n",
      "Layer (type)                 Output Shape              Param #   \n",
      "=================================================================\n",
      "embedding_8 (Embedding)      (None, 103, 300)          922200    \n",
      "_________________________________________________________________\n",
      "conv1d_16 (Conv1D)           (None, 96, 32)            76832     \n",
      "_________________________________________________________________\n",
      "max_pooling1d_16 (MaxPooling (None, 48, 32)            0         \n",
      "_________________________________________________________________\n",
      "conv1d_17 (Conv1D)           (None, 41, 32)            8224      \n",
      "_________________________________________________________________\n",
      "max_pooling1d_17 (MaxPooling (None, 20, 32)            0         \n",
      "_________________________________________________________________\n",
      "conv1d_18 (Conv1D)           (None, 13, 32)            8224      \n",
      "_________________________________________________________________\n",
      "max_pooling1d_18 (MaxPooling (None, 6, 32)             0         \n",
      "_________________________________________________________________\n",
      "flatten_8 (Flatten)          (None, 192)               0         \n",
      "_________________________________________________________________\n",
      "dense_175 (Dense)            (None, 10)                1930      \n",
      "_________________________________________________________________\n",
      "dense_176 (Dense)            (None, 3)                 33        \n",
      "=================================================================\n",
      "Total params: 1,017,443\n",
      "Trainable params: 1,017,443\n",
      "Non-trainable params: 0\n",
      "_________________________________________________________________\n"
     ]
    }
   ],
   "source": [
    "# define modela\n",
    "model = define_model(vocab_size, max_length)"
   ]
  },
  {
   "cell_type": "code",
   "execution_count": 204,
   "metadata": {},
   "outputs": [],
   "source": [
    "encoded_docs = tokenizer.texts_to_sequences(xtrain_docs)"
   ]
  },
  {
   "cell_type": "code",
   "execution_count": 205,
   "metadata": {},
   "outputs": [],
   "source": [
    "from keras.preprocessing.text import Tokenizer\n",
    "from keras.preprocessing.sequence import pad_sequences\n",
    "# integer encode and pad documents\n",
    "def encode_docs(tokenizer, max_length, docs):\n",
    "    # integer encode\n",
    "    encoded = tokenizer.texts_to_sequences(docs)\n",
    "    # pad sequences\n",
    "    padded = pad_sequences(encoded, maxlen=max_length, padding='post')\n",
    "    return padded"
   ]
  },
  {
   "cell_type": "code",
   "execution_count": 206,
   "metadata": {},
   "outputs": [],
   "source": [
    "Xtrain  = encode_docs(tokenizer, max_length, xtrain_docs)\n",
    "Xtest  = encode_docs(tokenizer, max_length, xtest_docs)"
   ]
  },
  {
   "cell_type": "code",
   "execution_count": 207,
   "metadata": {},
   "outputs": [
    {
     "name": "stdout",
     "output_type": "stream",
     "text": [
      "_________________________________________________________________\n",
      "Layer (type)                 Output Shape              Param #   \n",
      "=================================================================\n",
      "embedding_9 (Embedding)      (None, 103, 300)          922200    \n",
      "_________________________________________________________________\n",
      "conv1d_19 (Conv1D)           (None, 96, 32)            76832     \n",
      "_________________________________________________________________\n",
      "max_pooling1d_19 (MaxPooling (None, 48, 32)            0         \n",
      "_________________________________________________________________\n",
      "conv1d_20 (Conv1D)           (None, 41, 32)            8224      \n",
      "_________________________________________________________________\n",
      "max_pooling1d_20 (MaxPooling (None, 20, 32)            0         \n",
      "_________________________________________________________________\n",
      "conv1d_21 (Conv1D)           (None, 13, 32)            8224      \n",
      "_________________________________________________________________\n",
      "max_pooling1d_21 (MaxPooling (None, 6, 32)             0         \n",
      "_________________________________________________________________\n",
      "flatten_9 (Flatten)          (None, 192)               0         \n",
      "_________________________________________________________________\n",
      "dense_177 (Dense)            (None, 10)                1930      \n",
      "_________________________________________________________________\n",
      "dense_178 (Dense)            (None, 3)                 33        \n",
      "=================================================================\n",
      "Total params: 1,017,443\n",
      "Trainable params: 1,017,443\n",
      "Non-trainable params: 0\n",
      "_________________________________________________________________\n"
     ]
    }
   ],
   "source": [
    "model = define_model(vocab_size, max_length)"
   ]
  },
  {
   "cell_type": "code",
   "execution_count": 208,
   "metadata": {},
   "outputs": [
    {
     "data": {
      "text/plain": [
       "(1249, 1249)"
      ]
     },
     "execution_count": 208,
     "metadata": {},
     "output_type": "execute_result"
    }
   ],
   "source": [
    "len(xtrain_docs) , len(y_train_docs)"
   ]
  },
  {
   "cell_type": "code",
   "execution_count": 209,
   "metadata": {},
   "outputs": [
    {
     "name": "stdout",
     "output_type": "stream",
     "text": [
      "Epoch 1/20\n",
      " - 5s - loss: 1.0788 - acc: 0.4171\n",
      "Epoch 2/20\n",
      " - 1s - loss: 0.9544 - acc: 0.5324\n",
      "Epoch 3/20\n",
      " - 1s - loss: 0.7532 - acc: 0.6918\n",
      "Epoch 4/20\n",
      " - 1s - loss: 0.5635 - acc: 0.7942\n",
      "Epoch 5/20\n",
      " - 1s - loss: 0.3820 - acc: 0.8575\n",
      "Epoch 6/20\n",
      " - 1s - loss: 0.2980 - acc: 0.8935\n",
      "Epoch 7/20\n",
      " - 1s - loss: 0.2138 - acc: 0.9279\n",
      "Epoch 8/20\n",
      " - 1s - loss: 0.1514 - acc: 0.9488\n",
      "Epoch 9/20\n",
      " - 1s - loss: 0.1162 - acc: 0.9552\n",
      "Epoch 10/20\n",
      " - 1s - loss: 0.1188 - acc: 0.9576\n",
      "Epoch 11/20\n",
      " - 1s - loss: 0.0923 - acc: 0.9672\n",
      "Epoch 12/20\n",
      " - 1s - loss: nan - acc: 0.9047\n",
      "Epoch 13/20\n",
      " - 1s - loss: nan - acc: 0.3659\n",
      "Epoch 14/20\n",
      " - 1s - loss: nan - acc: 0.3659\n",
      "Epoch 15/20\n",
      " - 1s - loss: nan - acc: 0.3659\n",
      "Epoch 16/20\n",
      " - 1s - loss: nan - acc: 0.3659\n",
      "Epoch 17/20\n",
      " - 1s - loss: nan - acc: 0.3659\n",
      "Epoch 18/20\n",
      " - 1s - loss: nan - acc: 0.3659\n",
      "Epoch 19/20\n",
      " - 1s - loss: nan - acc: 0.3659\n",
      "Epoch 20/20\n",
      " - 1s - loss: nan - acc: 0.3659\n"
     ]
    },
    {
     "data": {
      "text/plain": [
       "<keras.callbacks.History at 0x7fb63f7faf60>"
      ]
     },
     "execution_count": 209,
     "metadata": {},
     "output_type": "execute_result"
    }
   ],
   "source": [
    "# fit network\n",
    "model.fit(Xtrain, to_categorical(y_train_docs), epochs=20, verbose=2)\n",
    "# save the model\n",
    "# model.save('model_nightingale.h5')"
   ]
  },
  {
   "cell_type": "code",
   "execution_count": 210,
   "metadata": {},
   "outputs": [],
   "source": [
    "import pickle\n",
    "\n",
    "def save_tokenizer_file(object_, filename):\n",
    "    # saving\n",
    "    with open(filename, 'wb') as handle:\n",
    "        pickle.dump(object_, handle, protocol=pickle.HIGHEST_PROTOCOL)\n",
    "\n",
    "def load_tokenizer_file(filename):\n",
    "    # loading\n",
    "    with open(filename, 'rb') as handle:\n",
    "        tokenizer = pickle.load(handle)\n",
    "        return tokenizer\n",
    "    return null"
   ]
  },
  {
   "cell_type": "code",
   "execution_count": 211,
   "metadata": {},
   "outputs": [],
   "source": [
    "# load the model\n",
    "from keras.models import load_model\n",
    "# save the model\n",
    "model.save('ng_model_epch20.h5')\n",
    "# model = load_model('model_multi_nightingale.h5')"
   ]
  },
  {
   "cell_type": "code",
   "execution_count": 212,
   "metadata": {},
   "outputs": [
    {
     "name": "stdout",
     "output_type": "stream",
     "text": [
      "/home/surya\r\n"
     ]
    }
   ],
   "source": [
    "!pwd"
   ]
  },
  {
   "cell_type": "code",
   "execution_count": 213,
   "metadata": {},
   "outputs": [
    {
     "data": {
      "text/plain": [
       "<keras_preprocessing.text.Tokenizer at 0x7fb63ef5fb00>"
      ]
     },
     "execution_count": 213,
     "metadata": {},
     "output_type": "execute_result"
    }
   ],
   "source": [
    "save_tokenizer_file(tokenizer, 'tokenizer.pkl')\n",
    "tokenizer = load_tokenizer_file('tokenizer.pkl')\n",
    "tokenizer"
   ]
  },
  {
   "cell_type": "code",
   "execution_count": 214,
   "metadata": {},
   "outputs": [],
   "source": [
    "def save_file(data, filename):\n",
    "    dump(data,filename)\n",
    "    print('Saved: %s' % filename)"
   ]
  },
  {
   "cell_type": "markdown",
   "metadata": {},
   "source": [
    "#########################"
   ]
  },
  {
   "cell_type": "code",
   "execution_count": 215,
   "metadata": {},
   "outputs": [],
   "source": [
    "text = \" Hello John,How can I help to you What causes headaches?please let me know Is it a throbbing headache?  How does bending forward affect your headache?  How would you describe the intensity of your headache?  Do you become frustrated or upset easily?  Have you recently used any drugs in any form?  Do you experience day time sleep?  Do you tend to drink alcohol heavily?  Are you feeling agitated and physically restless? \""
   ]
  },
  {
   "cell_type": "code",
   "execution_count": 216,
   "metadata": {},
   "outputs": [
    {
     "name": "stdout",
     "output_type": "stream",
     "text": [
      "['hello', 'johnhow', 'help', 'causes', 'headachesplease', 'let', 'know', 'throbbing', 'headache', 'bending', 'forward', 'affect', 'headache', 'would', 'describe', 'intensity', 'headache', 'become', 'frustrated', 'upset', 'easily', 'recently', 'used', 'drugs', 'form', 'experience', 'day', 'time', 'sleep', 'tend', 'drink', 'alcohol', 'heavily', 'feeling', 'agitated', 'physically', 'restless']\n"
     ]
    },
    {
     "data": {
      "text/plain": [
       "'hello johnhow help causes headachesplease let know throbbing headache bending forward affect headache would describe intensity headache become frustrated upset easily recently used drugs form experience day time sleep tend drink alcohol heavily feeling agitated physically restless'"
      ]
     },
     "execution_count": 216,
     "metadata": {},
     "output_type": "execute_result"
    }
   ],
   "source": [
    "tokens = clean_document(text)\n",
    "print(tokens)\n",
    "# filter by vocab\n",
    "tokens = [w for w in tokens if w in vocab]\n",
    "# # convert to line\n",
    "line = ' '.join(tokens)\n",
    "line\n",
    "\n",
    "# # encode\n",
    "# encoded = tokenizer.texts_to_matrix([line], mode='freq')\n",
    "# # predict sentiment\n",
    "# yhat = model.predict(encoded, verbose=0)"
   ]
  },
  {
   "cell_type": "markdown",
   "metadata": {},
   "source": [
    "#########################"
   ]
  },
  {
   "cell_type": "code",
   "execution_count": 217,
   "metadata": {},
   "outputs": [
    {
     "data": {
      "text/plain": [
       "103"
      ]
     },
     "execution_count": 217,
     "metadata": {},
     "output_type": "execute_result"
    }
   ],
   "source": [
    "max_length"
   ]
  },
  {
   "cell_type": "code",
   "execution_count": 218,
   "metadata": {},
   "outputs": [],
   "source": [
    "enc_docs = encode_docs(tokenizer, max_length, [line])"
   ]
  },
  {
   "cell_type": "code",
   "execution_count": 219,
   "metadata": {},
   "outputs": [],
   "source": [
    "# list(stopwords)"
   ]
  },
  {
   "cell_type": "code",
   "execution_count": 220,
   "metadata": {},
   "outputs": [
    {
     "data": {
      "text/plain": [
       "nan"
      ]
     },
     "execution_count": 220,
     "metadata": {},
     "output_type": "execute_result"
    }
   ],
   "source": [
    "output_arr = model.predict(enc_docs)\n",
    "# output_arr[]\n",
    "output_arr.argmax()\n",
    "output_arr[0][0]"
   ]
  },
  {
   "cell_type": "code",
   "execution_count": 221,
   "metadata": {},
   "outputs": [],
   "source": [
    "# _, acc = model.evaluate([trainX,trainX,trainX],to_categorical(y_train_docs), verbose=2)"
   ]
  },
  {
   "cell_type": "code",
   "execution_count": 222,
   "metadata": {},
   "outputs": [
    {
     "data": {
      "text/plain": [
       "array([[ 238,  453,   21, ...,    0,    0,    0],\n",
       "       [ 775,   18,   13, ...,    0,    0,    0],\n",
       "       [ 296,   20,   13, ...,    0,    0,    0],\n",
       "       ...,\n",
       "       [ 163,  652, 1177, ...,    0,    0,    0],\n",
       "       [   2,  140,    2, ...,    0,    0,    0],\n",
       "       [  86,  241,  155, ...,    0,    0,    0]], dtype=int32)"
      ]
     },
     "execution_count": 222,
     "metadata": {},
     "output_type": "execute_result"
    }
   ],
   "source": [
    "Xtrain"
   ]
  },
  {
   "cell_type": "code",
   "execution_count": 223,
   "metadata": {},
   "outputs": [],
   "source": [
    "Xtrain  = encode_docs(tokenizer, max_length, xtrain_docs)"
   ]
  },
  {
   "cell_type": "code",
   "execution_count": 229,
   "metadata": {},
   "outputs": [],
   "source": [
    "# !ls"
   ]
  },
  {
   "cell_type": "code",
   "execution_count": 230,
   "metadata": {},
   "outputs": [
    {
     "name": "stdout",
     "output_type": "stream",
     "text": [
      "Saved: train_nightingale.pkl\n",
      "Saved: test_nightingale.pkl\n"
     ]
    }
   ],
   "source": [
    "from pickle import dump\n",
    "# save a dataset to file\n",
    "def save_dataset(dataset, filename):\n",
    "    dump(dataset, open(filename, 'wb'))\n",
    "    print('Saved: %s' % filename)\n",
    "    # load and clean all reviews\n",
    "#     train_docs, ytrain = load_clean_dataset(True)\n",
    "#     test_docs, ytest = load_clean_dataset(False)\n",
    "# save training datasets\n",
    "save_dataset([Xtrain, to_categorical(y_train_docs)], 'train_nightingale.pkl')\n",
    "save_dataset([Xtest, to_categorical(y_test_docs)], 'test_nightingale.pkl')   \n"
   ]
  },
  {
   "cell_type": "code",
   "execution_count": 231,
   "metadata": {},
   "outputs": [],
   "source": [
    "from pickle import load\n",
    "# load a clean dataset\n",
    "def load_dataset(filename):\n",
    "    return load(open(filename, 'rb'))\n",
    "trainLines, trainLabels = load_dataset('train.pkl')"
   ]
  },
  {
   "cell_type": "code",
   "execution_count": 232,
   "metadata": {},
   "outputs": [],
   "source": [
    "# 1. Word Embeddings + CNN = Text Classi\f",
    "cation\n",
    "# 2. Use a Single Layer CNN Architecture\n",
    "# 3. Dial in CNN Hyperparameters\n",
    "# 4. Consider Character-Level CNNs\n",
    "# 5. Consider Deeper CNNs for Classi\f",
    "cation\n",
    "\n",
    "# define the model\n",
    "def define_model(length, vocab_size):\n",
    "    # channel 1\n",
    "    inputs1 = Input(shape=(length,))\n",
    "    embedding1 = Embedding(vocab_size, 300)(inputs1)\n",
    "    conv1 = Conv1D(filters=32, kernel_size=4, activation='relu')(embedding1)\n",
    "    drop1 = Dropout(0.5)(conv1)\n",
    "    pool1 = MaxPooling1D(pool_size=2)(drop1)\n",
    "    flat1 = Flatten()(pool1)\n",
    "    \n",
    "    # channel 2\n",
    "    inputs2 = Input(shape=(length,))\n",
    "    embedding2 = Embedding(vocab_size, 300)(inputs2)\n",
    "    conv2 = Conv1D(filters=32, kernel_size=6, activation='relu')(embedding2)\n",
    "    drop2 = Dropout(0.5)(conv2)\n",
    "    pool2 = MaxPooling1D(pool_size=2)(drop2)\n",
    "    flat2 = Flatten()(pool2)\n",
    "    \n",
    "    # channel 3\n",
    "    inputs3 = Input(shape=(length,))\n",
    "    embedding3 = Embedding(vocab_size, 300)(inputs3)\n",
    "    conv3 = Conv1D(filters=32, kernel_size=8, activation='relu')(embedding3)\n",
    "    drop3 = Dropout(0.5)(conv3)\n",
    "    pool3 = MaxPooling1D(pool_size=2)(drop3)\n",
    "    flat3 = Flatten()(pool3)\n",
    "    \n",
    "    # merge\n",
    "    merged = concatenate([flat1, flat2, flat3])\n",
    "    \n",
    "    # interpretation\n",
    "    dense1 = Dense(10, activation='relu')(merged)\n",
    "    outputs = Dense(3, activation='sigmoid')(dense1)\n",
    "    model = Model(inputs=[inputs1, inputs2, inputs3], outputs=outputs)\n",
    "    # compile\n",
    "    model.compile(loss='categorical_crossentropy', optimizer='adam', metrics=['accuracy'])\n",
    "    # summarize\n",
    "    model.summary()\n",
    "    plot_model(model, show_shapes=True, to_file='multichannel.png')\n",
    "    return model"
   ]
  },
  {
   "cell_type": "code",
   "execution_count": 233,
   "metadata": {},
   "outputs": [],
   "source": [
    "# %load multichannel.png"
   ]
  },
  {
   "cell_type": "code",
   "execution_count": 234,
   "metadata": {},
   "outputs": [],
   "source": [
    "vocab_size = len(tokenizer.word_index) + 1"
   ]
  },
  {
   "cell_type": "code",
   "execution_count": 235,
   "metadata": {},
   "outputs": [
    {
     "data": {
      "text/plain": [
       "3023"
      ]
     },
     "execution_count": 235,
     "metadata": {},
     "output_type": "execute_result"
    }
   ],
   "source": [
    "vocab_size"
   ]
  },
  {
   "cell_type": "code",
   "execution_count": 236,
   "metadata": {},
   "outputs": [],
   "source": [
    "# encode a list of lines\n",
    "def encode_text(tokenizer, lines, length):\n",
    "    # integer encode\n",
    "    encoded = tokenizer.texts_to_sequences(lines)\n",
    "    # pad encoded sequences\n",
    "    padded = pad_sequences(encoded, maxlen=length, padding='post')\n",
    "    return padded"
   ]
  },
  {
   "cell_type": "code",
   "execution_count": 237,
   "metadata": {},
   "outputs": [],
   "source": [
    "trainLines\n",
    "Xtrain  = encode_docs(tokenizer, max_length, xtrain_docs)\n",
    "Xtest  = encode_docs(tokenizer, max_length, xtest_docs)"
   ]
  },
  {
   "cell_type": "code",
   "execution_count": 238,
   "metadata": {},
   "outputs": [],
   "source": [
    "length = max_length\n",
    "from numpy import array\n",
    "from keras.layers import Input\n",
    "from keras.layers import Dense\n",
    "from keras.layers import Flatten\n",
    "from keras.layers import Dropout\n",
    "from keras.layers import Embedding\n",
    "from keras.layers.convolutional import Conv1D\n",
    "from keras.layers.merge import concatenate\n",
    "from keras.models import Model"
   ]
  },
  {
   "cell_type": "code",
   "execution_count": 239,
   "metadata": {},
   "outputs": [
    {
     "data": {
      "text/plain": [
       "(11712, 1249, 1249)"
      ]
     },
     "execution_count": 239,
     "metadata": {},
     "output_type": "execute_result"
    }
   ],
   "source": [
    "len(trainLabels) , len(xtrain_docs)  , len(y_train_docs)\n",
    "# len(trainX)"
   ]
  },
  {
   "cell_type": "code",
   "execution_count": 240,
   "metadata": {},
   "outputs": [],
   "source": [
    "trainLabels = to_categorical(y_train_docs)"
   ]
  },
  {
   "cell_type": "code",
   "execution_count": 241,
   "metadata": {},
   "outputs": [
    {
     "data": {
      "text/plain": [
       "1249"
      ]
     },
     "execution_count": 241,
     "metadata": {},
     "output_type": "execute_result"
    }
   ],
   "source": [
    "len(y_train_docs)"
   ]
  },
  {
   "cell_type": "code",
   "execution_count": 242,
   "metadata": {
    "scrolled": false
   },
   "outputs": [
    {
     "name": "stdout",
     "output_type": "stream",
     "text": [
      "__________________________________________________________________________________________________\n",
      "Layer (type)                    Output Shape         Param #     Connected to                     \n",
      "==================================================================================================\n",
      "input_4 (InputLayer)            (None, 103)          0                                            \n",
      "__________________________________________________________________________________________________\n",
      "input_5 (InputLayer)            (None, 103)          0                                            \n",
      "__________________________________________________________________________________________________\n",
      "input_6 (InputLayer)            (None, 103)          0                                            \n",
      "__________________________________________________________________________________________________\n",
      "embedding_10 (Embedding)        (None, 103, 300)     906900      input_4[0][0]                    \n",
      "__________________________________________________________________________________________________\n",
      "embedding_11 (Embedding)        (None, 103, 300)     906900      input_5[0][0]                    \n",
      "__________________________________________________________________________________________________\n",
      "embedding_12 (Embedding)        (None, 103, 300)     906900      input_6[0][0]                    \n",
      "__________________________________________________________________________________________________\n",
      "conv1d_22 (Conv1D)              (None, 100, 32)      38432       embedding_10[0][0]               \n",
      "__________________________________________________________________________________________________\n",
      "conv1d_23 (Conv1D)              (None, 98, 32)       57632       embedding_11[0][0]               \n",
      "__________________________________________________________________________________________________\n",
      "conv1d_24 (Conv1D)              (None, 96, 32)       76832       embedding_12[0][0]               \n",
      "__________________________________________________________________________________________________\n",
      "dropout_4 (Dropout)             (None, 100, 32)      0           conv1d_22[0][0]                  \n",
      "__________________________________________________________________________________________________\n",
      "dropout_5 (Dropout)             (None, 98, 32)       0           conv1d_23[0][0]                  \n",
      "__________________________________________________________________________________________________\n",
      "dropout_6 (Dropout)             (None, 96, 32)       0           conv1d_24[0][0]                  \n",
      "__________________________________________________________________________________________________\n",
      "max_pooling1d_22 (MaxPooling1D) (None, 50, 32)       0           dropout_4[0][0]                  \n",
      "__________________________________________________________________________________________________\n",
      "max_pooling1d_23 (MaxPooling1D) (None, 49, 32)       0           dropout_5[0][0]                  \n",
      "__________________________________________________________________________________________________\n",
      "max_pooling1d_24 (MaxPooling1D) (None, 48, 32)       0           dropout_6[0][0]                  \n",
      "__________________________________________________________________________________________________\n",
      "flatten_10 (Flatten)            (None, 1600)         0           max_pooling1d_22[0][0]           \n",
      "__________________________________________________________________________________________________\n",
      "flatten_11 (Flatten)            (None, 1568)         0           max_pooling1d_23[0][0]           \n",
      "__________________________________________________________________________________________________\n",
      "flatten_12 (Flatten)            (None, 1536)         0           max_pooling1d_24[0][0]           \n",
      "__________________________________________________________________________________________________\n",
      "concatenate_2 (Concatenate)     (None, 4704)         0           flatten_10[0][0]                 \n",
      "                                                                 flatten_11[0][0]                 \n",
      "                                                                 flatten_12[0][0]                 \n",
      "__________________________________________________________________________________________________\n",
      "dense_179 (Dense)               (None, 10)           47050       concatenate_2[0][0]              \n",
      "__________________________________________________________________________________________________\n",
      "dense_180 (Dense)               (None, 3)            33          dense_179[0][0]                  \n",
      "==================================================================================================\n",
      "Total params: 2,940,679\n",
      "Trainable params: 2,940,679\n",
      "Non-trainable params: 0\n",
      "__________________________________________________________________________________________________\n",
      "__________________________________________________________________________________________________\n",
      "Layer (type)                    Output Shape         Param #     Connected to                     \n",
      "==================================================================================================\n",
      "input_4 (InputLayer)            (None, 103)          0                                            \n",
      "__________________________________________________________________________________________________\n",
      "input_5 (InputLayer)            (None, 103)          0                                            \n",
      "__________________________________________________________________________________________________\n",
      "input_6 (InputLayer)            (None, 103)          0                                            \n",
      "__________________________________________________________________________________________________\n",
      "embedding_10 (Embedding)        (None, 103, 300)     906900      input_4[0][0]                    \n",
      "__________________________________________________________________________________________________\n",
      "embedding_11 (Embedding)        (None, 103, 300)     906900      input_5[0][0]                    \n",
      "__________________________________________________________________________________________________\n",
      "embedding_12 (Embedding)        (None, 103, 300)     906900      input_6[0][0]                    \n",
      "__________________________________________________________________________________________________\n",
      "conv1d_22 (Conv1D)              (None, 100, 32)      38432       embedding_10[0][0]               \n",
      "__________________________________________________________________________________________________\n",
      "conv1d_23 (Conv1D)              (None, 98, 32)       57632       embedding_11[0][0]               \n",
      "__________________________________________________________________________________________________\n",
      "conv1d_24 (Conv1D)              (None, 96, 32)       76832       embedding_12[0][0]               \n",
      "__________________________________________________________________________________________________\n",
      "dropout_4 (Dropout)             (None, 100, 32)      0           conv1d_22[0][0]                  \n",
      "__________________________________________________________________________________________________\n",
      "dropout_5 (Dropout)             (None, 98, 32)       0           conv1d_23[0][0]                  \n",
      "__________________________________________________________________________________________________\n",
      "dropout_6 (Dropout)             (None, 96, 32)       0           conv1d_24[0][0]                  \n",
      "__________________________________________________________________________________________________\n",
      "max_pooling1d_22 (MaxPooling1D) (None, 50, 32)       0           dropout_4[0][0]                  \n",
      "__________________________________________________________________________________________________\n",
      "max_pooling1d_23 (MaxPooling1D) (None, 49, 32)       0           dropout_5[0][0]                  \n",
      "__________________________________________________________________________________________________\n",
      "max_pooling1d_24 (MaxPooling1D) (None, 48, 32)       0           dropout_6[0][0]                  \n",
      "__________________________________________________________________________________________________\n",
      "flatten_10 (Flatten)            (None, 1600)         0           max_pooling1d_22[0][0]           \n",
      "__________________________________________________________________________________________________\n",
      "flatten_11 (Flatten)            (None, 1568)         0           max_pooling1d_23[0][0]           \n",
      "__________________________________________________________________________________________________\n",
      "flatten_12 (Flatten)            (None, 1536)         0           max_pooling1d_24[0][0]           \n",
      "__________________________________________________________________________________________________\n",
      "concatenate_2 (Concatenate)     (None, 4704)         0           flatten_10[0][0]                 \n",
      "                                                                 flatten_11[0][0]                 \n",
      "                                                                 flatten_12[0][0]                 \n",
      "__________________________________________________________________________________________________\n",
      "dense_179 (Dense)               (None, 10)           47050       concatenate_2[0][0]              \n",
      "__________________________________________________________________________________________________\n",
      "dense_180 (Dense)               (None, 3)            33          dense_179[0][0]                  \n",
      "==================================================================================================\n",
      "Total params: 2,940,679\n",
      "Trainable params: 2,940,679\n",
      "Non-trainable params: 0\n",
      "__________________________________________________________________________________________________\n",
      "None\n"
     ]
    }
   ],
   "source": [
    "trainX = encode_text(tokenizer, xtrain_docs, max_length)\n",
    "# define model\n",
    "model = define_model(length, vocab_size)\n",
    "\n",
    "print(model.summary())"
   ]
  },
  {
   "cell_type": "code",
   "execution_count": 243,
   "metadata": {},
   "outputs": [
    {
     "name": "stdout",
     "output_type": "stream",
     "text": [
      "Epoch 1/20\n",
      "1249/1249 [==============================] - 8s 6ms/step - loss: 1.0550 - acc: 0.4412\n",
      "Epoch 2/20\n",
      "1249/1249 [==============================] - 3s 2ms/step - loss: 0.7849 - acc: 0.6733\n",
      "Epoch 3/20\n",
      "1249/1249 [==============================] - 3s 2ms/step - loss: 0.3811 - acc: 0.8647\n",
      "Epoch 4/20\n",
      "1249/1249 [==============================] - 3s 2ms/step - loss: 0.1544 - acc: 0.9472\n",
      "Epoch 5/20\n",
      "1249/1249 [==============================] - 3s 2ms/step - loss: 0.0946 - acc: 0.9664\n",
      "Epoch 6/20\n",
      "1249/1249 [==============================] - 3s 2ms/step - loss: 0.0836 - acc: 0.9696\n",
      "Epoch 7/20\n",
      "1249/1249 [==============================] - 3s 2ms/step - loss: 0.0648 - acc: 0.9744\n",
      "Epoch 8/20\n",
      "1249/1249 [==============================] - 3s 2ms/step - loss: 0.0608 - acc: 0.9688\n",
      "Epoch 9/20\n",
      "1249/1249 [==============================] - 3s 2ms/step - loss: 0.0497 - acc: 0.9744\n",
      "Epoch 10/20\n",
      "1249/1249 [==============================] - 3s 2ms/step - loss: 0.0515 - acc: 0.9728\n",
      "Epoch 11/20\n",
      "1249/1249 [==============================] - 3s 2ms/step - loss: 0.0519 - acc: 0.9704\n",
      "Epoch 12/20\n",
      "1249/1249 [==============================] - 3s 2ms/step - loss: 0.0460 - acc: 0.9736\n",
      "Epoch 13/20\n",
      "1249/1249 [==============================] - 3s 2ms/step - loss: 0.0513 - acc: 0.9744\n",
      "Epoch 14/20\n",
      "1249/1249 [==============================] - 3s 2ms/step - loss: 0.0418 - acc: 0.9760\n",
      "Epoch 15/20\n",
      "1249/1249 [==============================] - 3s 2ms/step - loss: 0.0439 - acc: 0.9816\n",
      "Epoch 16/20\n",
      "1249/1249 [==============================] - 3s 2ms/step - loss: 0.0404 - acc: 0.9776\n",
      "Epoch 17/20\n",
      "1249/1249 [==============================] - 3s 2ms/step - loss: 0.0405 - acc: 0.9768\n",
      "Epoch 18/20\n",
      "1249/1249 [==============================] - 3s 2ms/step - loss: 0.0432 - acc: 0.9776\n",
      "Epoch 19/20\n",
      "1249/1249 [==============================] - 3s 2ms/step - loss: 0.0450 - acc: 0.9784\n",
      "Epoch 20/20\n",
      "1249/1249 [==============================] - 3s 2ms/step - loss: 0.0382 - acc: 0.9696\n"
     ]
    }
   ],
   "source": [
    "# fit model\n",
    "history = model.fit([trainX,trainX,trainX], array(trainLabels), epochs=20, batch_size=16)"
   ]
  },
  {
   "cell_type": "code",
   "execution_count": 244,
   "metadata": {},
   "outputs": [],
   "source": [
    "model.save('ng_model_model_multiinput.h5')"
   ]
  },
  {
   "cell_type": "code",
   "execution_count": 245,
   "metadata": {},
   "outputs": [
    {
     "data": {
      "text/plain": [
       "array([[0.05257658, 0.01467865, 0.01347747]], dtype=float32)"
      ]
     },
     "execution_count": 245,
     "metadata": {},
     "output_type": "execute_result"
    }
   ],
   "source": [
    "model.predict([enc_docs,enc_docs,enc_docs])"
   ]
  },
  {
   "cell_type": "code",
   "execution_count": 246,
   "metadata": {},
   "outputs": [],
   "source": [
    "# load the model\n",
    "from keras.models import load_model\n",
    "# save the model\n",
    "model.save('model_multi_nightingale.h5')\n",
    "model = load_model('model_multi_nightingale.h5')"
   ]
  },
  {
   "cell_type": "code",
   "execution_count": null,
   "metadata": {},
   "outputs": [],
   "source": []
  },
  {
   "cell_type": "code",
   "execution_count": 247,
   "metadata": {},
   "outputs": [],
   "source": [
    "testX  = encode_docs(tokenizer, max_length, xtest_docs)"
   ]
  },
  {
   "cell_type": "code",
   "execution_count": 248,
   "metadata": {},
   "outputs": [
    {
     "name": "stdout",
     "output_type": "stream",
     "text": [
      "Train Accuracy: 97.52\n",
      "Test Accuracy: 72.52\n"
     ]
    }
   ],
   "source": [
    "# evaluate model on training dataset\n",
    "_, acc = model.evaluate([trainX,trainX,trainX],to_categorical(y_train_docs), verbose=2)\n",
    "print('Train Accuracy: %.2f' % (acc*100))\n",
    "# evaluate model on test dataset dataset\n",
    "_, acc = model.evaluate([testX,testX,testX],to_categorical(y_test_docs), verbose=2)\n",
    "print('Test Accuracy: %.2f' % (acc*100))"
   ]
  },
  {
   "cell_type": "markdown",
   "metadata": {},
   "source": [
    "#### Build vocab with weights for embedding space generation"
   ]
  },
  {
   "cell_type": "code",
   "execution_count": 249,
   "metadata": {},
   "outputs": [
    {
     "name": "stdout",
     "output_type": "stream",
     "text": [
      "Loaded 400000 word vectors.\n"
     ]
    }
   ],
   "source": [
    "import pandas as pd\n",
    "import numpy as np\n",
    "from numpy import   asarray,zeros\n",
    "# load the whole embedding into memory\n",
    "embeddings_index = dict()\n",
    "# f = open('/home/surya/cs224n-Squad-Project/data/glove.6B.100d.txt')\n",
    "f = open('/root/data/glove/glove.6B.300d.txt')\n",
    "\n",
    "\n",
    "for line in f:\n",
    "    values = line.split()\n",
    "    word = values[0]\n",
    "    coefs = asarray(values[1:], dtype='float32')\n",
    "    embeddings_index[word] = coefs\n",
    "f.close()\n",
    "print('Loaded %s word vectors.' % len(embeddings_index))"
   ]
  },
  {
   "cell_type": "code",
   "execution_count": 250,
   "metadata": {},
   "outputs": [
    {
     "data": {
      "text/plain": [
       "3023"
      ]
     },
     "execution_count": 250,
     "metadata": {},
     "output_type": "execute_result"
    }
   ],
   "source": [
    "vocab_size"
   ]
  },
  {
   "cell_type": "code",
   "execution_count": 251,
   "metadata": {},
   "outputs": [
    {
     "data": {
      "text/plain": [
       "'female, 55 years, 75 kg and obese. hypertensive 160/110 Hg. doctor prescribes olmesartan , suffering severe headache'"
      ]
     },
     "execution_count": 251,
     "metadata": {},
     "output_type": "execute_result"
    }
   ],
   "source": [
    "docs[0]"
   ]
  },
  {
   "cell_type": "code",
   "execution_count": 252,
   "metadata": {},
   "outputs": [
    {
     "data": {
      "text/plain": [
       "3075"
      ]
     },
     "execution_count": 252,
     "metadata": {},
     "output_type": "execute_result"
    }
   ],
   "source": [
    "# prepare tokenizer\n",
    "t = Tokenizer()\n",
    "t.fit_on_texts(clean_doc_voc)\n",
    "vocab_size = len(t.word_index) + 1\n",
    "vocab_size"
   ]
  },
  {
   "cell_type": "code",
   "execution_count": 253,
   "metadata": {},
   "outputs": [
    {
     "data": {
      "text/plain": [
       "98"
      ]
     },
     "execution_count": 253,
     "metadata": {},
     "output_type": "execute_result"
    }
   ],
   "source": [
    "a = \"0.41711,-0.10176,0.058147,-0.18332,-0.44458,-0.17852,-0.34392,-0.077147,0.58521,-0.52752,1.4831,0.9531,-0.027201,-0.31748,-0.23046,-0.24083,0.22548,-0.12685,-0.17578,-0.34924,0.5168,0.86818,-0.018579,1.2228,-0.52477,-0.26369,0.25925,-0.059529,0.27063,0.13036,-0.67677,0.48313,-0.16343,-0.069899,0.92846,-0.44196,-0.078755,0.5246,-0.59577,-0.1659,0.35194,0.30031,-0.50711,0.29111,-0.26332,-1.0523,-0.31061,-0.077155,-0.16019,0.26994,-1.1042,0.16292,0.79396,-0.77135,-0.95157,-0.55992,0.69163,0.021495,0.44292,-0.69881, 0.73889,-0.1064,-0.44058,0.17116,0.39109,0.043652, 1.2835,0.29026,0.51037,-0.19631,0.036696  -0.74017,-0.0035271 -0.54918,-0.25002,0.15853,0.71764,-0.28083, 0.42292,-0.89855,0.99665,-0.65188,-0.11919,-0.28617,-0.85273,0.55656,-0.23601,-0.43822,0.36317,0.45724, 0.38596,0.59233,1.4355,1.4563,1.1801,0.32987, 0.84998,-0.29444,-0.039114,0.39534\".split(\",\")\n",
    "\n",
    "a = np.array(a)\n",
    "len(a)"
   ]
  },
  {
   "cell_type": "code",
   "execution_count": 254,
   "metadata": {},
   "outputs": [],
   "source": [
    "# embedding_matrix = zeros((vocab_size, 100))\n",
    "embedding_matrix = zeros((vocab_size, 300))\n",
    "\n",
    "for word, i in t.word_index.items():\n",
    "    embedding_vector = embeddings_index.get(word)\n",
    "#     print((word,i),embedding_vector)\n",
    "if embedding_vector is not None:\n",
    "    embedding_matrix[i] = embedding_vector"
   ]
  },
  {
   "cell_type": "code",
   "execution_count": 255,
   "metadata": {},
   "outputs": [],
   "source": [
    "# e = Embedding(vocab_size, 100, weights=[embedding_matrix], input_length=4, trainable=False)"
   ]
  },
  {
   "cell_type": "markdown",
   "metadata": {},
   "source": [
    "###  ADD USER DEFINED EMBEDDING FROM GLOVE "
   ]
  },
  {
   "cell_type": "code",
   "execution_count": 256,
   "metadata": {},
   "outputs": [
    {
     "data": {
      "text/plain": [
       "(3075, 300)"
      ]
     },
     "execution_count": 256,
     "metadata": {},
     "output_type": "execute_result"
    }
   ],
   "source": [
    "embedding_matrix.shape"
   ]
  },
  {
   "cell_type": "code",
   "execution_count": 257,
   "metadata": {},
   "outputs": [
    {
     "data": {
      "text/plain": [
       "922500"
      ]
     },
     "execution_count": 257,
     "metadata": {},
     "output_type": "execute_result"
    }
   ],
   "source": [
    "%timeit \n",
    "# np.isnan(data)[np.isnan(data) == False].size\n",
    "np.isnan(embedding_matrix)[np.isnan(embedding_matrix) == False].size"
   ]
  },
  {
   "cell_type": "code",
   "execution_count": 258,
   "metadata": {},
   "outputs": [],
   "source": [
    "# t.word_index.items()"
   ]
  },
  {
   "cell_type": "code",
   "execution_count": 259,
   "metadata": {},
   "outputs": [
    {
     "data": {
      "text/plain": [
       "3075"
      ]
     },
     "execution_count": 259,
     "metadata": {},
     "output_type": "execute_result"
    }
   ],
   "source": [
    "# embedding_matrix\n",
    "np.sum(~embedding_matrix.any(1))"
   ]
  },
  {
   "cell_type": "code",
   "execution_count": 260,
   "metadata": {},
   "outputs": [
    {
     "data": {
      "text/plain": [
       "array([[0., 0., 0., ..., 0., 0., 0.],\n",
       "       [0., 0., 0., ..., 0., 0., 0.],\n",
       "       [0., 0., 0., ..., 0., 0., 0.],\n",
       "       ...,\n",
       "       [0., 0., 0., ..., 0., 0., 0.],\n",
       "       [0., 0., 0., ..., 0., 0., 0.],\n",
       "       [0., 0., 0., ..., 0., 0., 0.]])"
      ]
     },
     "execution_count": 260,
     "metadata": {},
     "output_type": "execute_result"
    }
   ],
   "source": [
    "embedding_matrix"
   ]
  },
  {
   "cell_type": "code",
   "execution_count": 261,
   "metadata": {},
   "outputs": [],
   "source": [
    "# define the model\n",
    "def define_model(vocab_size, max_length , custom_embed = True):\n",
    "    model = Sequential()\n",
    "#     model.add(Embedding(vocab_size, 100, input_length=max_length))\n",
    "#     model.add(Embedding(vocab_size, 300, weights=[embedding_matrix], input_length=max_length , trainable=False))\n",
    "    model.add(Embedding(vocab_size, 300, input_length=max_length))\n",
    "    model.add(Conv1D(filters=32, kernel_size=8, activation='relu'))\n",
    "    model.add(MaxPooling1D(pool_size=2))\n",
    "    model.add(Flatten())\n",
    "    model.add(Dense(10, activation='relu'))\n",
    "    model.add(Dense(3, activation='sigmoid'))\n",
    "    print(\"Hello!!!!!!!!!\")\n",
    "    # compile network\n",
    "    model.compile(loss='categorical_crossentropy', optimizer='adam', metrics=['accuracy'])\n",
    "\n",
    "    # summarize defined model\n",
    "    model.summary()\n",
    "#     model.layers[0].set_weights([embedding_matrix])\n",
    "#     model.layers[0].trainable = False\n",
    "    plot_model(model, to_file='model.png', show_shapes=True)\n",
    "    return model"
   ]
  },
  {
   "cell_type": "code",
   "execution_count": 262,
   "metadata": {},
   "outputs": [],
   "source": [
    "#    #load different embedding file from Kaggle depending on which embedding \n",
    "#         #matrix we are going to experiment with\n",
    "#         if typeToLoad==\"glove\":\n",
    "#             EMBEDDING_FILE='../input/glove-twitter/glove.twitter.27B.25d.txt'\n",
    "#             embed_size = 25\n",
    "#         elif(typeToLoad==\"word2vec\"):\n",
    "#             word2vecDict = word2vec.KeyedVectors.load_word2vec_format(\"../input/googlenewsvectorsnegative300/GoogleNews-vectors-negative300.bin\", binary=True)\n",
    "#             embed_size = 300\n",
    "#         elif(typeToLoad==\"fasttext\"):\n",
    "#             EMBEDDING_FILE='../input/fasttext/wiki.simple.vec'\n",
    "#             embed_size = 300\n",
    "\n",
    "#         if(typeToLoad==\"glove\" or typeToLoad==\"fasttext\" ):\n",
    "#             embeddings_index = dict()\n",
    "#             #Transfer the embedding weights into a dictionary by iterating through every line of the file.\n",
    "#             f = open(EMBEDDING_FILE)\n",
    "#             for line in f:\n",
    "#                 #split up line into an indexed array\n",
    "#                 values = line.split()\n",
    "#                 #first index is word\n",
    "#                 word = values[0]\n",
    "#                 #store the rest of the values in the array as a new array\n",
    "#                 coefs = np.asarray(values[1:], dtype='float32')\n",
    "#                 embeddings_index[word] = coefs #50 dimensions\n",
    "#             f.close()\n",
    "#             print('Loaded %s word vectors.' % len(embeddings_index))\n",
    "#         else:\n",
    "#             embeddings_index = dict()\n",
    "#             for word in word2vecDict.wv.vocab:\n",
    "#                 embeddings_index[word] = word2vecDict.word_vec(word)\n",
    "#             print('Loaded %s word vectors.' % len(embeddings_index))\n",
    "            \n",
    "#         gc.collect()\n",
    "#         #We get the mean and standard deviation of the embedding weights so that we could maintain the \n",
    "#         #same statistics for the rest of our own random generated weights. \n",
    "#         all_embs = np.stack(list(embeddings_index.values()))\n",
    "#         emb_mean,emb_std = all_embs.mean(), all_embs.std()\n",
    "        \n",
    "#         nb_words = len(tokenizer.word_index)\n",
    "#         #We are going to set the embedding size to the pretrained dimension as we are replicating it.\n",
    "#         #the size will be Number of Words in Vocab X Embedding Size\n",
    "#         embedding_matrix = np.random.normal(emb_mean, emb_std, (nb_words, embed_size))\n",
    "#         gc.collect()\n",
    "\n",
    "#         #With the newly created embedding matrix, we'll fill it up with the words that we have in both \n",
    "#         #our own dictionary and loaded pretrained embedding. \n",
    "#         embeddedCount = 0\n",
    "#         for word, i in tokenizer.word_index.items():\n",
    "#             i-=1\n",
    "#             #then we see if this word is in glove's dictionary, if yes, get the corresponding weights\n",
    "#             embedding_vector = embeddings_index.get(word)\n",
    "#             #and store inside the embedding matrix that we will train later on.\n",
    "#             if embedding_vector is not None: \n",
    "#                 embedding_matrix[i] = embedding_vector\n",
    "#                 embeddedCount+=1\n",
    "#         print('total embedded:',embeddedCount,'common words')\n",
    "        \n",
    "#         del(embeddings_index)\n",
    "#         gc.collect()\n",
    "        \n",
    "#         #finally, return the embedding matrix\n",
    "#         return embedding_matrix"
   ]
  },
  {
   "cell_type": "code",
   "execution_count": null,
   "metadata": {},
   "outputs": [],
   "source": []
  },
  {
   "cell_type": "code",
   "execution_count": 263,
   "metadata": {},
   "outputs": [
    {
     "data": {
      "text/plain": [
       "103"
      ]
     },
     "execution_count": 263,
     "metadata": {},
     "output_type": "execute_result"
    }
   ],
   "source": [
    "max_length"
   ]
  },
  {
   "cell_type": "code",
   "execution_count": 268,
   "metadata": {},
   "outputs": [
    {
     "name": "stdout",
     "output_type": "stream",
     "text": [
      "Hello!!!!!!!!!\n",
      "_________________________________________________________________\n",
      "Layer (type)                 Output Shape              Param #   \n",
      "=================================================================\n",
      "embedding_15 (Embedding)     (None, 103, 300)          922500    \n",
      "_________________________________________________________________\n",
      "conv1d_27 (Conv1D)           (None, 96, 32)            76832     \n",
      "_________________________________________________________________\n",
      "max_pooling1d_27 (MaxPooling (None, 48, 32)            0         \n",
      "_________________________________________________________________\n",
      "flatten_15 (Flatten)         (None, 1536)              0         \n",
      "_________________________________________________________________\n",
      "dense_185 (Dense)            (None, 10)                15370     \n",
      "_________________________________________________________________\n",
      "dense_186 (Dense)            (None, 3)                 33        \n",
      "=================================================================\n",
      "Total params: 1,014,735\n",
      "Trainable params: 1,014,735\n",
      "Non-trainable params: 0\n",
      "_________________________________________________________________\n",
      "Train on 1124 samples, validate on 125 samples\n",
      "Epoch 1/80\n",
      " - 7s - loss: 1.0761 - acc: 0.4359 - val_loss: 1.0418 - val_acc: 0.4960\n",
      "Epoch 2/80\n",
      " - 1s - loss: 0.8976 - acc: 0.6254 - val_loss: 0.8907 - val_acc: 0.5840\n",
      "Epoch 3/80\n",
      " - 1s - loss: 0.4491 - acc: 0.8665 - val_loss: 0.8182 - val_acc: 0.6160\n",
      "Epoch 4/80\n",
      " - 1s - loss: 0.1659 - acc: 0.9502 - val_loss: 0.7742 - val_acc: 0.6400\n",
      "Epoch 5/80\n",
      " - 1s - loss: 0.1012 - acc: 0.9689 - val_loss: 0.8378 - val_acc: 0.6240\n",
      "Epoch 6/80\n",
      " - 1s - loss: 0.0894 - acc: 0.9706 - val_loss: 0.8438 - val_acc: 0.6320\n",
      "Epoch 7/80\n",
      " - 1s - loss: 0.0688 - acc: 0.9706 - val_loss: 0.8165 - val_acc: 0.6400\n",
      "Epoch 8/80\n",
      " - 1s - loss: 0.0649 - acc: 0.9715 - val_loss: 0.8751 - val_acc: 0.6480\n",
      "Epoch 9/80\n",
      " - 1s - loss: 0.0627 - acc: 0.9733 - val_loss: 0.8765 - val_acc: 0.6240\n",
      "Epoch 10/80\n",
      " - 1s - loss: 0.0614 - acc: 0.9742 - val_loss: 0.9467 - val_acc: 0.6320\n",
      "Epoch 11/80\n",
      " - 1s - loss: 0.0531 - acc: 0.9715 - val_loss: 0.9521 - val_acc: 0.6400\n",
      "Epoch 12/80\n",
      " - 1s - loss: 0.0529 - acc: 0.9769 - val_loss: 1.0061 - val_acc: 0.6160\n",
      "Epoch 13/80\n",
      " - 1s - loss: 0.0559 - acc: 0.9715 - val_loss: 0.9170 - val_acc: 0.6560\n",
      "Epoch 14/80\n",
      " - 1s - loss: 0.0476 - acc: 0.9778 - val_loss: 0.9968 - val_acc: 0.6400\n",
      "Epoch 15/80\n",
      " - 1s - loss: 0.0481 - acc: 0.9706 - val_loss: 0.9397 - val_acc: 0.6240\n",
      "Epoch 16/80\n",
      " - 1s - loss: 0.0524 - acc: 0.9742 - val_loss: 0.9181 - val_acc: 0.6640\n",
      "Epoch 17/80\n",
      " - 1s - loss: 0.0517 - acc: 0.9760 - val_loss: 1.0296 - val_acc: 0.6320\n",
      "Epoch 18/80\n",
      " - 1s - loss: 0.0459 - acc: 0.9769 - val_loss: 0.9585 - val_acc: 0.6800\n",
      "Epoch 19/80\n",
      " - 1s - loss: 0.0429 - acc: 0.9778 - val_loss: 0.9946 - val_acc: 0.6160\n",
      "Epoch 20/80\n",
      " - 1s - loss: 0.0407 - acc: 0.9760 - val_loss: 1.0554 - val_acc: 0.6240\n",
      "Epoch 21/80\n",
      " - 1s - loss: 0.0412 - acc: 0.9760 - val_loss: 1.0099 - val_acc: 0.6400\n",
      "Epoch 22/80\n",
      " - 1s - loss: 0.0382 - acc: 0.9760 - val_loss: 1.0676 - val_acc: 0.6320\n",
      "Epoch 23/80\n",
      " - 1s - loss: 0.0390 - acc: 0.9751 - val_loss: 1.0408 - val_acc: 0.6320\n",
      "Epoch 24/80\n",
      " - 1s - loss: 0.0387 - acc: 0.9769 - val_loss: 1.0425 - val_acc: 0.6560\n",
      "Epoch 25/80\n",
      " - 1s - loss: 0.0390 - acc: 0.9742 - val_loss: 1.0684 - val_acc: 0.6320\n",
      "Epoch 26/80\n",
      " - 1s - loss: 0.0388 - acc: 0.9742 - val_loss: 1.0848 - val_acc: 0.6320\n",
      "Epoch 27/80\n",
      " - 1s - loss: 0.0390 - acc: 0.9751 - val_loss: 1.0840 - val_acc: 0.6640\n",
      "Epoch 28/80\n",
      " - 1s - loss: 0.0376 - acc: 0.9760 - val_loss: 1.1088 - val_acc: 0.6640\n",
      "Epoch 29/80\n",
      " - 1s - loss: 0.0407 - acc: 0.9733 - val_loss: 1.1628 - val_acc: 0.6320\n",
      "Epoch 30/80\n",
      " - 1s - loss: 0.0395 - acc: 0.9742 - val_loss: 1.1060 - val_acc: 0.6480\n",
      "Epoch 31/80\n",
      " - 1s - loss: 0.0392 - acc: 0.9751 - val_loss: 1.1322 - val_acc: 0.6560\n",
      "Epoch 32/80\n",
      " - 1s - loss: 0.0391 - acc: 0.9751 - val_loss: 1.1128 - val_acc: 0.6720\n",
      "Epoch 33/80\n",
      " - 1s - loss: 0.0374 - acc: 0.9778 - val_loss: 1.1483 - val_acc: 0.6320\n",
      "Epoch 34/80\n",
      " - 1s - loss: 0.0372 - acc: 0.9769 - val_loss: 1.1688 - val_acc: 0.6320\n",
      "Epoch 35/80\n",
      " - 1s - loss: 0.0378 - acc: 0.9786 - val_loss: 1.1445 - val_acc: 0.6640\n",
      "Epoch 36/80\n",
      " - 1s - loss: 0.0373 - acc: 0.9778 - val_loss: 1.1654 - val_acc: 0.6480\n",
      "Epoch 37/80\n",
      " - 1s - loss: 0.0396 - acc: 0.9795 - val_loss: 1.2046 - val_acc: 0.6320\n",
      "Epoch 38/80\n",
      " - 1s - loss: 0.0380 - acc: 0.9778 - val_loss: 1.5533 - val_acc: 0.5360\n",
      "Epoch 39/80\n",
      " - 1s - loss: 0.0401 - acc: 0.9795 - val_loss: 1.2670 - val_acc: 0.6640\n",
      "Epoch 40/80\n",
      " - 1s - loss: 0.0380 - acc: 0.9778 - val_loss: 1.2017 - val_acc: 0.6480\n",
      "Epoch 41/80\n",
      " - 1s - loss: 0.0371 - acc: 0.9751 - val_loss: 1.2342 - val_acc: 0.6480\n",
      "Epoch 42/80\n",
      " - 1s - loss: 0.0366 - acc: 0.9751 - val_loss: 1.2234 - val_acc: 0.6560\n",
      "Epoch 43/80\n",
      " - 1s - loss: 0.0360 - acc: 0.9751 - val_loss: 1.2584 - val_acc: 0.6400\n",
      "Epoch 44/80\n",
      " - 1s - loss: 0.0370 - acc: 0.9742 - val_loss: 1.2507 - val_acc: 0.6400\n",
      "Epoch 45/80\n",
      " - 1s - loss: 0.0364 - acc: 0.9760 - val_loss: 1.2582 - val_acc: 0.6480\n",
      "Epoch 46/80\n",
      " - 1s - loss: 0.0357 - acc: 0.9760 - val_loss: 1.2741 - val_acc: 0.6480\n",
      "Epoch 47/80\n",
      " - 1s - loss: 0.0417 - acc: 0.9751 - val_loss: 1.2524 - val_acc: 0.6480\n",
      "Epoch 48/80\n",
      " - 1s - loss: 0.0362 - acc: 0.9751 - val_loss: 1.3422 - val_acc: 0.6320\n",
      "Epoch 49/80\n",
      " - 1s - loss: 0.0360 - acc: 0.9751 - val_loss: 1.3282 - val_acc: 0.6400\n",
      "Epoch 50/80\n",
      " - 1s - loss: 0.0368 - acc: 0.9760 - val_loss: 1.3272 - val_acc: 0.6320\n",
      "Epoch 51/80\n",
      " - 1s - loss: 0.0367 - acc: 0.9742 - val_loss: 1.3454 - val_acc: 0.6240\n",
      "Epoch 52/80\n",
      " - 1s - loss: 0.0384 - acc: 0.9760 - val_loss: 1.4509 - val_acc: 0.6160\n",
      "Epoch 53/80\n",
      " - 1s - loss: 0.0383 - acc: 0.9733 - val_loss: 1.3756 - val_acc: 0.6320\n",
      "Epoch 54/80\n",
      " - 1s - loss: 0.0379 - acc: 0.9760 - val_loss: 1.3335 - val_acc: 0.6320\n",
      "Epoch 55/80\n",
      " - 1s - loss: 0.0364 - acc: 0.9760 - val_loss: 1.3957 - val_acc: 0.6240\n",
      "Epoch 56/80\n",
      " - 1s - loss: 0.0358 - acc: 0.9742 - val_loss: 1.4004 - val_acc: 0.6240\n",
      "Epoch 57/80\n",
      " - 1s - loss: 0.0356 - acc: 0.9751 - val_loss: 1.4048 - val_acc: 0.6240\n",
      "Epoch 58/80\n",
      " - 1s - loss: 0.0361 - acc: 0.9769 - val_loss: 1.4091 - val_acc: 0.6320\n",
      "Epoch 59/80\n",
      " - 1s - loss: 0.0359 - acc: 0.9742 - val_loss: 1.4345 - val_acc: 0.6400\n",
      "Epoch 60/80\n",
      " - 1s - loss: 0.0359 - acc: 0.9733 - val_loss: 1.4204 - val_acc: 0.6400\n",
      "Epoch 61/80\n",
      " - 1s - loss: 0.0358 - acc: 0.9760 - val_loss: 1.4355 - val_acc: 0.6400\n",
      "Epoch 62/80\n",
      " - 1s - loss: 0.0358 - acc: 0.9769 - val_loss: 1.4219 - val_acc: 0.6320\n",
      "Epoch 63/80\n",
      " - 1s - loss: 0.0358 - acc: 0.9751 - val_loss: 1.4304 - val_acc: 0.6400\n",
      "Epoch 64/80\n",
      " - 1s - loss: 0.0353 - acc: 0.9742 - val_loss: 1.4389 - val_acc: 0.6480\n",
      "Epoch 65/80\n",
      " - 1s - loss: 0.0361 - acc: 0.9733 - val_loss: 1.4323 - val_acc: 0.6480\n",
      "Epoch 66/80\n",
      " - 1s - loss: 0.0372 - acc: 0.9769 - val_loss: 1.6346 - val_acc: 0.6080\n",
      "Epoch 67/80\n",
      " - 1s - loss: 0.0375 - acc: 0.9724 - val_loss: 1.4559 - val_acc: 0.6240\n",
      "Epoch 68/80\n",
      " - 1s - loss: 0.0358 - acc: 0.9760 - val_loss: 1.4867 - val_acc: 0.6480\n",
      "Epoch 69/80\n",
      " - 1s - loss: 0.0349 - acc: 0.9769 - val_loss: 1.5234 - val_acc: 0.6320\n",
      "Epoch 70/80\n",
      " - 1s - loss: 0.0356 - acc: 0.9742 - val_loss: 1.5258 - val_acc: 0.6400\n",
      "Epoch 71/80\n",
      " - 1s - loss: 0.0348 - acc: 0.9751 - val_loss: 1.5103 - val_acc: 0.6560\n",
      "Epoch 72/80\n",
      " - 1s - loss: 0.0351 - acc: 0.9751 - val_loss: 1.5233 - val_acc: 0.6640\n",
      "Epoch 73/80\n",
      " - 1s - loss: 0.0355 - acc: 0.9733 - val_loss: 1.5260 - val_acc: 0.6640\n",
      "Epoch 74/80\n",
      " - 1s - loss: 0.0348 - acc: 0.9742 - val_loss: 1.5572 - val_acc: 0.6240\n",
      "Epoch 75/80\n",
      " - 1s - loss: 0.0351 - acc: 0.9760 - val_loss: 1.5560 - val_acc: 0.6240\n",
      "Epoch 76/80\n",
      " - 1s - loss: 0.0353 - acc: 0.9760 - val_loss: 1.5533 - val_acc: 0.6320\n",
      "Epoch 77/80\n",
      " - 1s - loss: 0.0350 - acc: 0.9769 - val_loss: 1.5551 - val_acc: 0.6240\n",
      "Epoch 78/80\n",
      " - 1s - loss: 0.0352 - acc: 0.9751 - val_loss: 1.5550 - val_acc: 0.6560\n",
      "Epoch 79/80\n",
      " - 1s - loss: 0.0354 - acc: 0.9715 - val_loss: 1.5232 - val_acc: 0.6560\n",
      "Epoch 80/80\n",
      " - 1s - loss: 0.0353 - acc: 0.9742 - val_loss: 1.5538 - val_acc: 0.6400\n"
     ]
    },
    {
     "data": {
      "text/plain": [
       "<keras.callbacks.History at 0x7fb630149c18>"
      ]
     },
     "execution_count": 268,
     "metadata": {},
     "output_type": "execute_result"
    }
   ],
   "source": [
    "model = define_model(vocab_size,max_length,True)\n",
    "model.fit(Xtrain, to_categorical(y_train_docs), epochs=80, verbose=2, validation_split=0.1)"
   ]
  },
  {
   "cell_type": "code",
   "execution_count": 269,
   "metadata": {},
   "outputs": [
    {
     "data": {
      "text/plain": [
       "['loss', 'acc']"
      ]
     },
     "execution_count": 269,
     "metadata": {},
     "output_type": "execute_result"
    }
   ],
   "source": [
    "model.metrics_names"
   ]
  },
  {
   "cell_type": "code",
   "execution_count": 270,
   "metadata": {},
   "outputs": [
    {
     "name": "stdout",
     "output_type": "stream",
     "text": [
      "dict_keys(['loss', 'acc'])\n"
     ]
    },
    {
     "data": {
      "image/png": "[encoded data removed]",
      "text/plain": [
       "<Figure size 432x288 with 1 Axes>"
      ]
     },
     "metadata": {
      "needs_background": "light"
     },
     "output_type": "display_data"
    },
    {
     "data": {
      "image/png": "[encoded data removed]",
      "text/plain": [
       "<Figure size 432x288 with 1 Axes>"
      ]
     },
     "metadata": {
      "needs_background": "light"
     },
     "output_type": "display_data"
    }
   ],
   "source": [
    "print(history.history.keys())\n",
    "#  \"Accuracy\"\n",
    "plt.plot(history.history['acc'])\n",
    "# plt.plot(history.history['val_acc'])\n",
    "plt.title('model accuracy')\n",
    "plt.ylabel('accuracy')\n",
    "plt.xlabel('epoch')\n",
    "plt.legend(['train', 'validation'], loc='upper left')\n",
    "plt.show()\n",
    "# \"Loss\"\n",
    "plt.plot(history.history['loss'])\n",
    "# plt.plot(history.history['val_loss'])\n",
    "plt.title('model loss')\n",
    "plt.ylabel('loss')\n",
    "plt.xlabel('epoch')\n",
    "plt.legend(['train', 'validation'], loc='upper left')\n",
    "plt.show()"
   ]
  },
  {
   "cell_type": "code",
   "execution_count": null,
   "metadata": {},
   "outputs": [],
   "source": []
  },
  {
   "cell_type": "code",
   "execution_count": null,
   "metadata": {},
   "outputs": [],
   "source": []
  },
  {
   "cell_type": "code",
   "execution_count": 271,
   "metadata": {},
   "outputs": [],
   "source": [
    "# # This tutorial is divided into the following parts:\n",
    "# 1. Word Embeddings + CNN = Text Classi\f",
    "cation\n",
    "# 2. Use a Single Layer CNN Architecture\n",
    "# 3. Dial in CNN Hyperparameters\n",
    "# 4. Consider Character-Level CNNs\n",
    "# 5. Consider Deeper CNNs for Classi\f",
    "cation\n",
    "\n",
    "# define the model\n",
    "def define_model(length, vocab_size):\n",
    "    # channel 1\n",
    "    inputs1 = Input(shape=(length,))\n",
    "    embedding1 = Embedding(vocab_size, 300)(inputs1)\n",
    "#     embedding1 = Embedding(vocab_size,  300, weights=[embedding_matrix], trainable=False)(inputs1)\n",
    "#         model.add(Embedding(vocab_size, 100, weights=[embedding_matrix], input_length=max_length , trainable=False))\n",
    "\n",
    "    conv1 = Conv1D(filters=32, kernel_size=4, activation='relu')(embedding1)\n",
    "    drop1 = Dropout(0.5)(conv1)\n",
    "    pool1 = MaxPooling1D(pool_size=2)(drop1)\n",
    "    flat1 = Flatten()(pool1)\n",
    "    \n",
    "    # channel 2\n",
    "    inputs2 = Input(shape=(length,))\n",
    "    embedding2 = Embedding(vocab_size, 300)(inputs2)\n",
    "#     embedding2 = Embedding(vocab_size, 300, weights=[embedding_matrix], trainable=False)(inputs2)\n",
    "    conv2 = Conv1D(filters=32, kernel_size=6, activation='relu')(embedding2)\n",
    "    drop2 = Dropout(0.5)(conv2)\n",
    "    pool2 = MaxPooling1D(pool_size=2)(drop2)\n",
    "    flat2 = Flatten()(pool2)\n",
    "    \n",
    "    # channel 3\n",
    "    inputs3 = Input(shape=(length,))\n",
    "    embedding3 = Embedding(vocab_size, 300)(inputs3)\n",
    "#     embedding3 = Embedding(vocab_size, 100)(embedding3)\n",
    "#     embedding3 = Embedding(vocab_size, 300, weights=[embedding_matrix], trainable=False)(inputs3)\n",
    "\n",
    "    conv3 = Conv1D(filters=32, kernel_size=8, activation='relu')(embedding3)\n",
    "    drop3 = Dropout(0.5)(conv3)\n",
    "    pool3 = MaxPooling1D(pool_size=2)(drop3)\n",
    "    flat3 = Flatten()(pool3)\n",
    "    \n",
    "    # merge\n",
    "    merged = concatenate([flat1, flat2, flat3])\n",
    "    \n",
    "    # interpretation\n",
    "    dense1 = Dense(10, activation='relu')(merged)\n",
    "    outputs = Dense(3, activation='sigmoid')(dense1)\n",
    "    model = Model(inputs=[inputs1, inputs2, inputs3], outputs=outputs)\n",
    "    # compile\n",
    "    model.compile(loss='categorical_crossentropy', optimizer='adam', metrics=['accuracy'])\n",
    "    # summarize\n",
    "    model.summary()\n",
    "    plot_model(model, show_shapes=True, to_file='multichannel.png')\n",
    "    return model"
   ]
  },
  {
   "cell_type": "code",
   "execution_count": 272,
   "metadata": {},
   "outputs": [],
   "source": [
    "trainX = encode_text(tokenizer, xtrain_docs, max_length)"
   ]
  },
  {
   "cell_type": "code",
   "execution_count": 273,
   "metadata": {},
   "outputs": [
    {
     "name": "stdout",
     "output_type": "stream",
     "text": [
      "__________________________________________________________________________________________________\n",
      "Layer (type)                    Output Shape         Param #     Connected to                     \n",
      "==================================================================================================\n",
      "input_7 (InputLayer)            (None, 103)          0                                            \n",
      "__________________________________________________________________________________________________\n",
      "input_8 (InputLayer)            (None, 103)          0                                            \n",
      "__________________________________________________________________________________________________\n",
      "input_9 (InputLayer)            (None, 103)          0                                            \n",
      "__________________________________________________________________________________________________\n",
      "embedding_16 (Embedding)        (None, 103, 300)     922500      input_7[0][0]                    \n",
      "__________________________________________________________________________________________________\n",
      "embedding_17 (Embedding)        (None, 103, 300)     922500      input_8[0][0]                    \n",
      "__________________________________________________________________________________________________\n",
      "embedding_18 (Embedding)        (None, 103, 300)     922500      input_9[0][0]                    \n",
      "__________________________________________________________________________________________________\n",
      "conv1d_28 (Conv1D)              (None, 100, 32)      38432       embedding_16[0][0]               \n",
      "__________________________________________________________________________________________________\n",
      "conv1d_29 (Conv1D)              (None, 98, 32)       57632       embedding_17[0][0]               \n",
      "__________________________________________________________________________________________________\n",
      "conv1d_30 (Conv1D)              (None, 96, 32)       76832       embedding_18[0][0]               \n",
      "__________________________________________________________________________________________________\n",
      "dropout_7 (Dropout)             (None, 100, 32)      0           conv1d_28[0][0]                  \n",
      "__________________________________________________________________________________________________\n",
      "dropout_8 (Dropout)             (None, 98, 32)       0           conv1d_29[0][0]                  \n",
      "__________________________________________________________________________________________________\n",
      "dropout_9 (Dropout)             (None, 96, 32)       0           conv1d_30[0][0]                  \n",
      "__________________________________________________________________________________________________\n",
      "max_pooling1d_28 (MaxPooling1D) (None, 50, 32)       0           dropout_7[0][0]                  \n",
      "__________________________________________________________________________________________________\n",
      "max_pooling1d_29 (MaxPooling1D) (None, 49, 32)       0           dropout_8[0][0]                  \n",
      "__________________________________________________________________________________________________\n",
      "max_pooling1d_30 (MaxPooling1D) (None, 48, 32)       0           dropout_9[0][0]                  \n",
      "__________________________________________________________________________________________________\n",
      "flatten_16 (Flatten)            (None, 1600)         0           max_pooling1d_28[0][0]           \n",
      "__________________________________________________________________________________________________\n",
      "flatten_17 (Flatten)            (None, 1568)         0           max_pooling1d_29[0][0]           \n",
      "__________________________________________________________________________________________________\n",
      "flatten_18 (Flatten)            (None, 1536)         0           max_pooling1d_30[0][0]           \n",
      "__________________________________________________________________________________________________\n",
      "concatenate_3 (Concatenate)     (None, 4704)         0           flatten_16[0][0]                 \n",
      "                                                                 flatten_17[0][0]                 \n",
      "                                                                 flatten_18[0][0]                 \n",
      "__________________________________________________________________________________________________\n",
      "dense_187 (Dense)               (None, 10)           47050       concatenate_3[0][0]              \n",
      "__________________________________________________________________________________________________\n",
      "dense_188 (Dense)               (None, 3)            33          dense_187[0][0]                  \n",
      "==================================================================================================\n",
      "Total params: 2,987,479\n",
      "Trainable params: 2,987,479\n",
      "Non-trainable params: 0\n",
      "__________________________________________________________________________________________________\n",
      "Epoch 1/100\n",
      "1249/1249 [==============================] - 8s 7ms/step - loss: 1.0559 - acc: 0.4636\n",
      "Epoch 2/100\n",
      "1249/1249 [==============================] - 3s 2ms/step - loss: 0.7890 - acc: 0.6221\n",
      "Epoch 3/100\n",
      "1249/1249 [==============================] - 3s 2ms/step - loss: 0.4387 - acc: 0.8199\n",
      "Epoch 4/100\n",
      "1249/1249 [==============================] - 3s 2ms/step - loss: 0.2152 - acc: 0.9400\n",
      "Epoch 5/100\n",
      "1249/1249 [==============================] - 3s 2ms/step - loss: 0.1192 - acc: 0.9608\n",
      "Epoch 6/100\n",
      "1249/1249 [==============================] - 3s 2ms/step - loss: 0.0908 - acc: 0.9696\n",
      "Epoch 7/100\n",
      "1249/1249 [==============================] - 3s 2ms/step - loss: 0.0719 - acc: 0.9720\n",
      "Epoch 8/100\n",
      "1249/1249 [==============================] - 3s 2ms/step - loss: 0.0747 - acc: 0.9720\n",
      "Epoch 9/100\n",
      "1249/1249 [==============================] - 3s 2ms/step - loss: 0.0693 - acc: 0.9752\n",
      "Epoch 10/100\n",
      "1249/1249 [==============================] - 3s 2ms/step - loss: 0.0528 - acc: 0.9744\n",
      "Epoch 11/100\n",
      "1249/1249 [==============================] - 3s 2ms/step - loss: 0.0519 - acc: 0.9736\n",
      "Epoch 12/100\n",
      "1249/1249 [==============================] - 3s 2ms/step - loss: 0.0488 - acc: 0.9728\n",
      "Epoch 13/100\n",
      "1249/1249 [==============================] - 3s 2ms/step - loss: 0.0471 - acc: 0.9752\n",
      "Epoch 14/100\n",
      "1249/1249 [==============================] - 3s 2ms/step - loss: 0.0426 - acc: 0.9744\n",
      "Epoch 15/100\n",
      "1249/1249 [==============================] - 3s 2ms/step - loss: 0.0398 - acc: 0.9768\n",
      "Epoch 16/100\n",
      "1249/1249 [==============================] - 3s 2ms/step - loss: 0.0412 - acc: 0.9760\n",
      "Epoch 17/100\n",
      "1249/1249 [==============================] - 3s 2ms/step - loss: 0.0394 - acc: 0.9752\n",
      "Epoch 18/100\n",
      "1249/1249 [==============================] - 3s 2ms/step - loss: 0.0382 - acc: 0.9800\n",
      "Epoch 19/100\n",
      "1249/1249 [==============================] - 3s 2ms/step - loss: 0.0399 - acc: 0.9744\n",
      "Epoch 20/100\n",
      "1249/1249 [==============================] - 3s 2ms/step - loss: 0.0431 - acc: 0.9736\n",
      "Epoch 21/100\n",
      "1249/1249 [==============================] - 3s 2ms/step - loss: 0.0540 - acc: 0.9704\n",
      "Epoch 22/100\n",
      "1249/1249 [==============================] - 3s 2ms/step - loss: 0.0421 - acc: 0.9736\n",
      "Epoch 23/100\n",
      "1249/1249 [==============================] - 3s 2ms/step - loss: 0.0408 - acc: 0.9768\n",
      "Epoch 24/100\n",
      "1249/1249 [==============================] - 3s 2ms/step - loss: 0.0386 - acc: 0.9792\n",
      "Epoch 25/100\n",
      "1249/1249 [==============================] - 3s 2ms/step - loss: 0.0388 - acc: 0.9776\n",
      "Epoch 26/100\n",
      "1249/1249 [==============================] - 3s 2ms/step - loss: 0.0394 - acc: 0.9760\n",
      "Epoch 27/100\n",
      "1249/1249 [==============================] - 3s 2ms/step - loss: 0.0366 - acc: 0.9760\n",
      "Epoch 28/100\n",
      "1249/1249 [==============================] - 3s 2ms/step - loss: 0.0361 - acc: 0.9784\n",
      "Epoch 29/100\n",
      "1249/1249 [==============================] - 3s 2ms/step - loss: 0.0345 - acc: 0.9768\n",
      "Epoch 30/100\n",
      "1249/1249 [==============================] - 3s 2ms/step - loss: 0.0338 - acc: 0.9784\n",
      "Epoch 31/100\n",
      "1249/1249 [==============================] - 3s 2ms/step - loss: 0.0353 - acc: 0.9768\n",
      "Epoch 32/100\n",
      "1249/1249 [==============================] - 3s 2ms/step - loss: 0.0350 - acc: 0.9776\n",
      "Epoch 33/100\n",
      "1249/1249 [==============================] - 3s 2ms/step - loss: 0.0349 - acc: 0.9768\n",
      "Epoch 34/100\n",
      "1249/1249 [==============================] - 3s 2ms/step - loss: 0.0351 - acc: 0.9776\n",
      "Epoch 35/100\n"
     ]
    },
    {
     "name": "stdout",
     "output_type": "stream",
     "text": [
      "1249/1249 [==============================] - 3s 2ms/step - loss: 0.0381 - acc: 0.9768\n",
      "Epoch 36/100\n",
      "1249/1249 [==============================] - 3s 2ms/step - loss: 0.0353 - acc: 0.9744\n",
      "Epoch 37/100\n",
      "1249/1249 [==============================] - 3s 2ms/step - loss: 0.0345 - acc: 0.9760\n",
      "Epoch 38/100\n",
      "1249/1249 [==============================] - 3s 2ms/step - loss: 0.0374 - acc: 0.9760\n",
      "Epoch 39/100\n",
      "1249/1249 [==============================] - 3s 2ms/step - loss: 0.0350 - acc: 0.9760\n",
      "Epoch 40/100\n",
      "1249/1249 [==============================] - 3s 2ms/step - loss: 0.0341 - acc: 0.9776\n",
      "Epoch 41/100\n",
      "1249/1249 [==============================] - 3s 2ms/step - loss: 0.0339 - acc: 0.9824\n",
      "Epoch 42/100\n",
      "1249/1249 [==============================] - 3s 2ms/step - loss: 0.0345 - acc: 0.9768\n",
      "Epoch 43/100\n",
      "1249/1249 [==============================] - 3s 2ms/step - loss: 0.0334 - acc: 0.9816\n",
      "Epoch 44/100\n",
      "1249/1249 [==============================] - 3s 2ms/step - loss: 0.0331 - acc: 0.9784\n",
      "Epoch 45/100\n",
      "1249/1249 [==============================] - 3s 2ms/step - loss: 0.0343 - acc: 0.9768\n",
      "Epoch 46/100\n",
      "1249/1249 [==============================] - 3s 2ms/step - loss: 0.0347 - acc: 0.9784\n",
      "Epoch 47/100\n",
      "1249/1249 [==============================] - 3s 2ms/step - loss: 0.0325 - acc: 0.9776\n",
      "Epoch 48/100\n",
      "1249/1249 [==============================] - 3s 2ms/step - loss: 0.0337 - acc: 0.9768\n",
      "Epoch 49/100\n",
      "1249/1249 [==============================] - 3s 2ms/step - loss: 0.0317 - acc: 0.9800\n",
      "Epoch 50/100\n",
      "1249/1249 [==============================] - 3s 2ms/step - loss: 0.0339 - acc: 0.9784\n",
      "Epoch 51/100\n",
      "1249/1249 [==============================] - 3s 2ms/step - loss: 0.0321 - acc: 0.9784\n",
      "Epoch 52/100\n",
      "1249/1249 [==============================] - 3s 2ms/step - loss: 0.0344 - acc: 0.9768\n",
      "Epoch 53/100\n",
      "1249/1249 [==============================] - 3s 2ms/step - loss: 0.0325 - acc: 0.9776\n",
      "Epoch 54/100\n",
      "1249/1249 [==============================] - 3s 2ms/step - loss: 0.0332 - acc: 0.9776\n",
      "Epoch 55/100\n",
      "1249/1249 [==============================] - 3s 2ms/step - loss: 0.0346 - acc: 0.9792\n",
      "Epoch 56/100\n",
      "1249/1249 [==============================] - 3s 2ms/step - loss: 0.0327 - acc: 0.9776\n",
      "Epoch 57/100\n",
      "1249/1249 [==============================] - 3s 2ms/step - loss: 0.0339 - acc: 0.9784\n",
      "Epoch 58/100\n",
      "1249/1249 [==============================] - 3s 2ms/step - loss: 0.0327 - acc: 0.9792\n",
      "Epoch 59/100\n",
      "1249/1249 [==============================] - 3s 2ms/step - loss: 0.0327 - acc: 0.9768\n",
      "Epoch 60/100\n",
      "1249/1249 [==============================] - 3s 2ms/step - loss: 0.0350 - acc: 0.9752\n",
      "Epoch 61/100\n",
      "1249/1249 [==============================] - 3s 2ms/step - loss: 0.0333 - acc: 0.9744\n",
      "Epoch 62/100\n",
      "1249/1249 [==============================] - 3s 2ms/step - loss: 0.0333 - acc: 0.9752\n",
      "Epoch 63/100\n",
      "1249/1249 [==============================] - 3s 2ms/step - loss: 0.0334 - acc: 0.9776\n",
      "Epoch 64/100\n",
      "1249/1249 [==============================] - 3s 2ms/step - loss: 0.0331 - acc: 0.9768\n",
      "Epoch 65/100\n",
      "1249/1249 [==============================] - 3s 2ms/step - loss: 0.0326 - acc: 0.9784\n",
      "Epoch 66/100\n",
      "1249/1249 [==============================] - 3s 2ms/step - loss: 0.0328 - acc: 0.9768\n",
      "Epoch 67/100\n",
      "1249/1249 [==============================] - 3s 2ms/step - loss: 0.0332 - acc: 0.9784\n",
      "Epoch 68/100\n",
      "1249/1249 [==============================] - 3s 2ms/step - loss: 0.0335 - acc: 0.9752\n",
      "Epoch 69/100\n",
      "1249/1249 [==============================] - 3s 2ms/step - loss: 0.0328 - acc: 0.9808\n",
      "Epoch 70/100\n",
      "1249/1249 [==============================] - 3s 2ms/step - loss: 0.0326 - acc: 0.9800\n",
      "Epoch 71/100\n",
      "1249/1249 [==============================] - 3s 2ms/step - loss: 0.0326 - acc: 0.9792\n",
      "Epoch 72/100\n",
      "1249/1249 [==============================] - 3s 2ms/step - loss: 0.0324 - acc: 0.9776\n",
      "Epoch 73/100\n",
      "1249/1249 [==============================] - 3s 2ms/step - loss: 0.0335 - acc: 0.9792\n",
      "Epoch 74/100\n",
      "1249/1249 [==============================] - 3s 2ms/step - loss: 0.1268 - acc: 0.9512\n",
      "Epoch 75/100\n",
      "1249/1249 [==============================] - 3s 2ms/step - loss: 0.0940 - acc: 0.9672\n",
      "Epoch 76/100\n",
      "1249/1249 [==============================] - 3s 2ms/step - loss: 0.0516 - acc: 0.9720\n",
      "Epoch 77/100\n",
      "1249/1249 [==============================] - 3s 2ms/step - loss: 0.0379 - acc: 0.9808\n",
      "Epoch 78/100\n",
      "1249/1249 [==============================] - 3s 2ms/step - loss: 0.0369 - acc: 0.9792\n",
      "Epoch 79/100\n",
      "1249/1249 [==============================] - 3s 2ms/step - loss: 0.0351 - acc: 0.9768\n",
      "Epoch 80/100\n",
      "1249/1249 [==============================] - 3s 2ms/step - loss: 0.0348 - acc: 0.9784\n",
      "Epoch 81/100\n",
      "1249/1249 [==============================] - 3s 2ms/step - loss: 0.0339 - acc: 0.9776\n",
      "Epoch 82/100\n",
      "1249/1249 [==============================] - 3s 2ms/step - loss: 0.0331 - acc: 0.9776\n",
      "Epoch 83/100\n",
      "1249/1249 [==============================] - 3s 2ms/step - loss: 0.0331 - acc: 0.9776\n",
      "Epoch 84/100\n",
      "1249/1249 [==============================] - 3s 2ms/step - loss: 0.0343 - acc: 0.9752\n",
      "Epoch 85/100\n",
      "1249/1249 [==============================] - 3s 2ms/step - loss: 0.0334 - acc: 0.9776\n",
      "Epoch 86/100\n",
      "1249/1249 [==============================] - 3s 2ms/step - loss: 0.0331 - acc: 0.9776\n",
      "Epoch 87/100\n",
      "1249/1249 [==============================] - 3s 2ms/step - loss: 0.0342 - acc: 0.9800\n",
      "Epoch 88/100\n",
      "1249/1249 [==============================] - 3s 2ms/step - loss: 0.0325 - acc: 0.9784\n",
      "Epoch 89/100\n",
      "1249/1249 [==============================] - 3s 2ms/step - loss: 0.0325 - acc: 0.9792\n",
      "Epoch 90/100\n",
      "1249/1249 [==============================] - 3s 2ms/step - loss: 0.0324 - acc: 0.9768\n",
      "Epoch 91/100\n",
      "1249/1249 [==============================] - 3s 2ms/step - loss: 0.0338 - acc: 0.9784\n",
      "Epoch 92/100\n",
      "1249/1249 [==============================] - 3s 2ms/step - loss: 0.0326 - acc: 0.9776\n",
      "Epoch 93/100\n",
      "1249/1249 [==============================] - 3s 2ms/step - loss: 0.0338 - acc: 0.9784\n",
      "Epoch 94/100\n",
      "1249/1249 [==============================] - 3s 2ms/step - loss: 0.0334 - acc: 0.9768\n",
      "Epoch 95/100\n",
      "1249/1249 [==============================] - 3s 2ms/step - loss: 0.0332 - acc: 0.9776\n",
      "Epoch 96/100\n",
      "1249/1249 [==============================] - 3s 2ms/step - loss: 0.0340 - acc: 0.9752\n",
      "Epoch 97/100\n",
      "1249/1249 [==============================] - 3s 2ms/step - loss: 0.0332 - acc: 0.9800\n",
      "Epoch 98/100\n",
      "1249/1249 [==============================] - 3s 2ms/step - loss: 0.0328 - acc: 0.9792\n",
      "Epoch 99/100\n",
      "1249/1249 [==============================] - 3s 2ms/step - loss: 0.0330 - acc: 0.9800\n",
      "Epoch 100/100\n",
      "1249/1249 [==============================] - 3s 2ms/step - loss: 0.0344 - acc: 0.9792\n"
     ]
    },
    {
     "data": {
      "text/plain": [
       "<keras.callbacks.History at 0x7fb62fb4afd0>"
      ]
     },
     "execution_count": 273,
     "metadata": {},
     "output_type": "execute_result"
    }
   ],
   "source": [
    "trainX = encode_text(tokenizer, xtrain_docs, max_length)\n",
    "# define model\n",
    "model = define_model(length, vocab_size)\n",
    "# fit model\n",
    "model.fit([trainX,trainX,trainX], array(trainLabels), epochs=100, batch_size=16 , )"
   ]
  },
  {
   "cell_type": "code",
   "execution_count": 274,
   "metadata": {},
   "outputs": [],
   "source": [
    "keras_model = model\n",
    "import tensorflow as tf"
   ]
  },
  {
   "cell_type": "code",
   "execution_count": 275,
   "metadata": {},
   "outputs": [
    {
     "name": "stdout",
     "output_type": "stream",
     "text": [
      "-rw-r--r--. 1 root root 35354088 May 31 16:26 /home/surya/model_multi_nightingale.h5\r\n"
     ]
    }
   ],
   "source": [
    "! ls -ltr /home/surya/model_multi_nightingale.h5"
   ]
  },
  {
   "cell_type": "code",
   "execution_count": null,
   "metadata": {},
   "outputs": [],
   "source": [
    "# saved_model_path = tf.contrib.saved_model.save_keras_model(model, \"./saved_models\")\n"
   ]
  },
  {
   "cell_type": "code",
   "execution_count": null,
   "metadata": {},
   "outputs": [],
   "source": [
    "\n",
    "!pwd"
   ]
  },
  {
   "cell_type": "code",
   "execution_count": null,
   "metadata": {},
   "outputs": [],
   "source": [
    "with tf.keras.backend.get_session() as sess:\n",
    "    tf.saved_model.simple_save(\n",
    "        sess,\n",
    "        \"export_path\",\n",
    "        inputs={'input': keras_model.input},\n",
    "        outputs={'output': keras_model.output})"
   ]
  },
  {
   "cell_type": "code",
   "execution_count": null,
   "metadata": {},
   "outputs": [],
   "source": [
    "from tensorflow import keras\n",
    "from tensorflow.keras import layers"
   ]
  },
  {
   "cell_type": "code",
   "execution_count": null,
   "metadata": {},
   "outputs": [],
   "source": [
    "keras.experimental.export_saved_model(model, '/home/surya/saved_model')\n"
   ]
  },
  {
   "cell_type": "code",
   "execution_count": null,
   "metadata": {},
   "outputs": [],
   "source": [
    "# Export the model to a SavedModel\n",
    "keras.experimental.export_saved_model(model, 'path_to_saved_model')\n",
    "\n",
    "# Recreate the exact same model\n",
    "new_model = keras.experimental.load_from_saved_model('path_to_saved_model')\n",
    "\n",
    "# Check that the state is preserved\n",
    "new_predictions = new_model.predict(x_test)\n",
    "np.testing.assert_allclose(predictions, new_predictions, atol=1e-6)\n",
    "\n",
    "# Note that the optimizer state is preserved as well:\n",
    "# you can resume training where you left off."
   ]
  },
  {
   "cell_type": "code",
   "execution_count": null,
   "metadata": {},
   "outputs": [],
   "source": [
    "\n",
    "\n",
    "with mlflow.start_run() as run:\n",
    "    mlflow.keras.log_model(model, \"models\")"
   ]
  },
  {
   "cell_type": "code",
   "execution_count": null,
   "metadata": {},
   "outputs": [],
   "source": [
    "# model\n",
    "mlflow.keras.save_model(model, \"models_keras\")"
   ]
  },
  {
   "cell_type": "code",
   "execution_count": null,
   "metadata": {},
   "outputs": [],
   "source": [
    ">>> import mlflow\n",
    ">>> # Build, compile, and train your model\n",
    ">>> keras_model = ...\n",
    ">>> keras_model_path = ...\n",
    ">>> keras_model.compile(optimizer=\"rmsprop\", loss=\"mse\", metrics=[\"accuracy\"])\n",
    ">>> results = keras_model.fit(\n",
    "...     x_train, y_train, epochs=20, batch_size = 128, validation_data=(x_val, y_val))\n",
    "... # Save the model as an MLflow Model\n",
    ">>> mlflow.keras.save_model(keras_model, keras_model_path)"
   ]
  }
 ],
 "metadata": {
  "kernelspec": {
   "display_name": "Python 3",
   "language": "python",
   "name": "python3"
  },
  "language_info": {
   "codemirror_mode": {
    "name": "ipython",
    "version": 3
   },
   "file_extension": ".py",
   "mimetype": "text/x-python",
   "name": "python",
   "nbconvert_exporter": "python",
   "pygments_lexer": "ipython3",
   "version": "3.6.8"
  }
 },
 "nbformat": 4,
 "nbformat_minor": 2
}
