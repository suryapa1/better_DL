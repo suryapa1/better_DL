{
 "cells": [
  {
   "cell_type": "code",
   "execution_count": 1,
   "metadata": {},
   "outputs": [
    {
     "name": "stderr",
     "output_type": "stream",
     "text": [
      "Using TensorFlow backend.\n"
     ]
    }
   ],
   "source": [
    "import pandas as pd\n",
    "import numpy as np\n",
    "import json\n",
    "from pandas import DataFrame\n",
    "from pandas.io.json import json_normalize\n",
    "from keras.preprocessing.text import Tokenizer\n",
    "from nltk.tokenize import TweetTokenizer\n",
    "import nltk\n",
    "import string\n",
    "import re\n",
    "import string\n",
    "from nltk.corpus import stopwords\n",
    "from collections import Counter\n",
    "from nltk.corpus import stopwords\n",
    "import string\n",
    "import re\n",
    "from os import listdir\n",
    "from collections import Counter\n",
    "from nltk.corpus import stopwords"
   ]
  },
  {
   "cell_type": "code",
   "execution_count": 2,
   "metadata": {},
   "outputs": [
    {
     "name": "stdout",
     "output_type": "stream",
     "text": [
      "low       567\n",
      "high      446\n",
      "medium    426\n",
      "Name: rating, dtype: int64\n"
     ]
    }
   ],
   "source": [
    "df = pd.read_excel(\"/home/surya/Nightingale_Chat.xlsx\",sheet_name = \"All\", header=0)\n",
    "print(df.rating.value_counts())\n",
    "# df.columns"
   ]
  },
  {
   "cell_type": "code",
   "execution_count": 3,
   "metadata": {},
   "outputs": [],
   "source": [
    "# df = pd.read_excel(\"/home/surya/NG_Chatdata.xlsx\",sheet_name = \"all\", header=0)\n",
    "# print(df.rating.value_counts())"
   ]
  },
  {
   "cell_type": "code",
   "execution_count": 320,
   "metadata": {},
   "outputs": [
    {
     "name": "stdout",
     "output_type": "stream",
     "text": [
      "                                        patient_chat  rating  \\\n",
      "0  female, 55 years, 75 kg and obese. hypertensiv...     NaN   \n",
      "1  I'm 22 and male and I have gotten terrible mig...     NaN   \n",
      "2  My wife is constantly suffering from high bloo...     NaN   \n",
      "3  I get head aches multiple time times a week I'...     NaN   \n",
      "4  I recently suffered a substantial loss of belo...     NaN   \n",
      "\n",
      "                                       clean_doc_voc  \n",
      "0  female 55 years 75 kg obese hypertensive 16011...  \n",
      "1  im 22 male gotten terrible migraines regular b...  \n",
      "2  wife constantly suffering high blood pressure ...  \n",
      "3  get head aches multiple time times week ive ro...  \n",
      "4  recently suffered substantial loss beloved obj...  \n"
     ]
    }
   ],
   "source": [
    "print(df.head())"
   ]
  },
  {
   "cell_type": "code",
   "execution_count": 301,
   "metadata": {},
   "outputs": [],
   "source": [
    "def load_file(filename):\n",
    "    with open(filename) as f:\n",
    "        d = json.load(f)\n",
    "        df = DataFrame(d)\n",
    "        f.close()\n",
    "    return df\n",
    "\n",
    "punc_ = set(string.punctuation)"
   ]
  },
  {
   "cell_type": "code",
   "execution_count": 302,
   "metadata": {},
   "outputs": [],
   "source": [
    "def clean_document(doc) :\n",
    "    re_punc = re.compile('[%s]' % re.escape(string.punctuation))\n",
    "    stop_words = set(stopwords.words('english'))\n",
    "    tokens = doc.lower().split()\n",
    "#     tokens = [w for w in tokens if '@' not in w]\n",
    "    \n",
    "    # remove punctuation from each word\n",
    "    tokens = [re_punc.sub('', w) for w in tokens]\n",
    "    # remove remaining tokens that are not alphabetic\n",
    "    tokens = [word for word in tokens if word.isalpha() or word.isalnum()]\n",
    "    stop_words = set(stopwords.words('english'))\n",
    "    #remove stop words\n",
    "    tokens = [word for word in tokens if word not in stop_words]\n",
    "    tokens = [word for word in tokens if word not in punc_]\n",
    "    tokens = [re.sub('[^A-Za-z0-9]+', '', word)  for word in tokens]\n",
    "    tokens = [word for word in tokens if len(word) > 1]\n",
    "    return tokens\n",
    "\n",
    "def preprocess_documents(docs):\n",
    "    clean_docs = [clean_document(doc) for doc in docs]\n",
    "    return clean_docs"
   ]
  },
  {
   "cell_type": "code",
   "execution_count": 303,
   "metadata": {},
   "outputs": [],
   "source": [
    "docs = list(df.patient_chat)"
   ]
  },
  {
   "cell_type": "code",
   "execution_count": 304,
   "metadata": {},
   "outputs": [],
   "source": [
    "clean_docs = preprocess_documents(docs)"
   ]
  },
  {
   "cell_type": "markdown",
   "metadata": {},
   "source": [
    "## Define Vocobulary"
   ]
  },
  {
   "cell_type": "code",
   "execution_count": 306,
   "metadata": {},
   "outputs": [],
   "source": [
    "vocab = Counter()\n",
    "\n",
    "# load doc and add to vocab\n",
    "def add_doc_to_vocab(doc,vocab):\n",
    "    vocab.update(doc)\n",
    "    return vocab\n",
    "\n",
    "# load all docs in a directory\n",
    "def process_docs(clean_docs, vocab):\n",
    "    for doc in clean_docs:\n",
    "        vocab = add_doc_to_vocab(doc, vocab)\n",
    "    return vocab\n",
    "\n",
    "vocab = process_docs(clean_docs, vocab)"
   ]
  },
  {
   "cell_type": "code",
   "execution_count": 307,
   "metadata": {},
   "outputs": [
    {
     "name": "stdout",
     "output_type": "stream",
     "text": [
      "2947\n"
     ]
    }
   ],
   "source": [
    "# keep tokens with a min occurrence\n",
    "min_occurrence = 2\n",
    "tokens = [k for k,c in vocab.items() if c >= min_occurrence]\n",
    "print(len(tokens))"
   ]
  },
  {
   "cell_type": "code",
   "execution_count": 308,
   "metadata": {},
   "outputs": [],
   "source": [
    "# save list to file\n",
    "def save_list(lines, filename):\n",
    "    # convert lines to a single blob of text\n",
    "    data = '\\n'.join(lines)\n",
    "    # open file\n",
    "    file = open(filename, 'w')\n",
    "    # write text\n",
    "    file.write(data)\n",
    "    # close file\n",
    "    file.close()\n",
    "    \n",
    "# save tokens to a vocabulary file\n",
    "save_list(tokens, 'nightingale_vocab.txt')\n",
    "\n",
    "# load doc into memory\n",
    "def load_doc(filename):\n",
    "    # open the file as read only\n",
    "    file = open(filename, 'r')\n",
    "    # read all text\n",
    "    text = file.read()\n",
    "    # close the file\n",
    "    file.close()\n",
    "    return text\n",
    "\n",
    "# load doc, clean and return line of tokens\n",
    "def doc_to_line(doc, vocab):\n",
    "    # filter by vocab\n",
    "    tokens = [w for w in doc if w in vocab]\n",
    "    return ' '.join(tokens)"
   ]
  },
  {
   "cell_type": "code",
   "execution_count": 321,
   "metadata": {},
   "outputs": [],
   "source": [
    "# load the vocabulary\n",
    "vocab_filename = 'nightingale_vocab.txt'\n",
    "vocab = load_doc(vocab_filename)\n",
    "vocab = set(vocab.split())"
   ]
  },
  {
   "cell_type": "code",
   "execution_count": 322,
   "metadata": {},
   "outputs": [
    {
     "data": {
      "text/plain": [
       "'female 55 years 75 kg obese hypertensive 160110 hg doctor prescribes olmesartan suffering severe headache'"
      ]
     },
     "execution_count": 322,
     "metadata": {},
     "output_type": "execute_result"
    }
   ],
   "source": [
    "doc_to_line(clean_docs[0], vocab)"
   ]
  },
  {
   "cell_type": "code",
   "execution_count": 323,
   "metadata": {},
   "outputs": [],
   "source": [
    "clean_doc_voc = []\n",
    "for doc in clean_docs:\n",
    "    clean_doc_voc.append(doc_to_line(doc, vocab))"
   ]
  },
  {
   "cell_type": "code",
   "execution_count": 324,
   "metadata": {},
   "outputs": [],
   "source": [
    "df[\"clean_doc_voc\"] = clean_doc_voc"
   ]
  },
  {
   "cell_type": "code",
   "execution_count": 325,
   "metadata": {},
   "outputs": [
    {
     "data": {
      "text/plain": [
       "Index(['patient_chat', 'rating', 'clean_doc_voc'], dtype='object')"
      ]
     },
     "execution_count": 325,
     "metadata": {},
     "output_type": "execute_result"
    }
   ],
   "source": [
    "df.columns"
   ]
  },
  {
   "cell_type": "code",
   "execution_count": 326,
   "metadata": {},
   "outputs": [],
   "source": [
    "df.rating  = df.rating.map({'low':0, 'medium':1, 'high' : 2})"
   ]
  },
  {
   "cell_type": "code",
   "execution_count": 327,
   "metadata": {},
   "outputs": [],
   "source": [
    "from sklearn.model_selection import train_test_split\n",
    "# X_train,X_test,y_train,y_test = train_test_split(X.index,y,test_size=0.2)\n",
    "train, test = train_test_split(df[[\"clean_doc_voc\",\"rating\" ]], test_size=0.2)\n",
    "\n",
    "xtrain_docs , y_train_docs= train[\"clean_doc_voc\"] , train[\"rating\"]\n",
    "xtest_docs , y_test_docs= test[\"clean_doc_voc\"] , test[\"rating\"]"
   ]
  },
  {
   "cell_type": "code",
   "execution_count": 328,
   "metadata": {},
   "outputs": [],
   "source": [
    "# fit a tokenizer\n",
    "def create_tokenizer(lines):\n",
    "    tokenizer = Tokenizer()\n",
    "    tokenizer.fit_on_texts(lines)\n",
    "    return tokenizer"
   ]
  },
  {
   "cell_type": "code",
   "execution_count": 329,
   "metadata": {},
   "outputs": [],
   "source": [
    "# encode data\n",
    "tokenizer = create_tokenizer(xtrain_docs)\n",
    "Xtrain = tokenizer.texts_to_matrix(xtrain_docs, mode='freq' )\n",
    "Xtest = tokenizer.texts_to_matrix(xtest_docs, mode='freq')"
   ]
  },
  {
   "cell_type": "code",
   "execution_count": 330,
   "metadata": {},
   "outputs": [
    {
     "name": "stdout",
     "output_type": "stream",
     "text": [
      "((1151, 2892), (1151,))\n",
      "((288,), (288,))\n"
     ]
    }
   ],
   "source": [
    "print((Xtrain.shape ,y_train_docs.shape))\n",
    "print((xtest_docs.shape, y_test_docs.shape))"
   ]
  },
  {
   "cell_type": "code",
   "execution_count": 336,
   "metadata": {},
   "outputs": [
    {
     "data": {
      "text/plain": [
       "671    NaN\n",
       "444    NaN\n",
       "1212   NaN\n",
       "1144   NaN\n",
       "332    NaN\n",
       "1196   NaN\n",
       "570    NaN\n",
       "1338   NaN\n",
       "392    NaN\n",
       "817    NaN\n",
       "1141   NaN\n",
       "187    NaN\n",
       "977    NaN\n",
       "667    NaN\n",
       "982    NaN\n",
       "744    NaN\n",
       "269    NaN\n",
       "207    NaN\n",
       "254    NaN\n",
       "859    NaN\n",
       "1259   NaN\n",
       "690    NaN\n",
       "715    NaN\n",
       "783    NaN\n",
       "1117   NaN\n",
       "887    NaN\n",
       "192    NaN\n",
       "1060   NaN\n",
       "1012   NaN\n",
       "897    NaN\n",
       "        ..\n",
       "421    NaN\n",
       "524    NaN\n",
       "462    NaN\n",
       "954    NaN\n",
       "1321   NaN\n",
       "1281   NaN\n",
       "1430   NaN\n",
       "583    NaN\n",
       "1414   NaN\n",
       "415    NaN\n",
       "280    NaN\n",
       "587    NaN\n",
       "1133   NaN\n",
       "261    NaN\n",
       "1084   NaN\n",
       "704    NaN\n",
       "208    NaN\n",
       "942    NaN\n",
       "1008   NaN\n",
       "718    NaN\n",
       "479    NaN\n",
       "99     NaN\n",
       "680    NaN\n",
       "71     NaN\n",
       "324    NaN\n",
       "206    NaN\n",
       "1408   NaN\n",
       "1142   NaN\n",
       "131    NaN\n",
       "264    NaN\n",
       "Name: rating, Length: 1151, dtype: float64"
      ]
     },
     "execution_count": 336,
     "metadata": {},
     "output_type": "execute_result"
    }
   ],
   "source": [
    "y_train_docs"
   ]
  },
  {
   "cell_type": "code",
   "execution_count": 331,
   "metadata": {},
   "outputs": [
    {
     "data": {
      "text/plain": [
       "2892"
      ]
     },
     "execution_count": 331,
     "metadata": {},
     "output_type": "execute_result"
    }
   ],
   "source": [
    "n_words = Xtest.shape[1]\n",
    "n_words"
   ]
  },
  {
   "cell_type": "code",
   "execution_count": 332,
   "metadata": {},
   "outputs": [],
   "source": [
    "from nltk.corpus import stopwords\n",
    "from keras.preprocessing.text import Tokenizer\n",
    "from keras.utils.vis_utils import plot_model\n",
    "from keras.models import Sequential\n",
    "from keras.layers import Dense\n",
    "from keras.utils import to_categorical\n",
    "\n",
    "# define the model\n",
    "def define_model(n_words):\n",
    "    # define network\n",
    "    model = Sequential()\n",
    "    model.add(Dense(50, input_shape=(n_words,), activation='relu'))\n",
    "    model.add(Dense(3, activation='sigmoid'))\n",
    "    # compile network\n",
    "#     model.compile(loss='binary_crossentropy', optimizer='adam', metrics=['accuracy'])\n",
    "    model.compile(loss='categorical_crossentropy', optimizer='adam', metrics=['accuracy'])\n",
    "\n",
    "    # summarize defined model\n",
    "    model.summary()\n",
    "    plot_model(model, to_file='model.png', show_shapes=True)\n",
    "    return model"
   ]
  },
  {
   "cell_type": "code",
   "execution_count": 333,
   "metadata": {},
   "outputs": [
    {
     "name": "stdout",
     "output_type": "stream",
     "text": [
      "_________________________________________________________________\n",
      "Layer (type)                 Output Shape              Param #   \n",
      "=================================================================\n",
      "dense_211 (Dense)            (None, 50)                144650    \n",
      "_________________________________________________________________\n",
      "dense_212 (Dense)            (None, 3)                 153       \n",
      "=================================================================\n",
      "Total params: 144,803\n",
      "Trainable params: 144,803\n",
      "Non-trainable params: 0\n",
      "_________________________________________________________________\n"
     ]
    }
   ],
   "source": [
    "model = define_model(n_words)"
   ]
  },
  {
   "cell_type": "code",
   "execution_count": 335,
   "metadata": {},
   "outputs": [
    {
     "data": {
      "text/plain": [
       "671    NaN\n",
       "444    NaN\n",
       "1212   NaN\n",
       "1144   NaN\n",
       "332    NaN\n",
       "1196   NaN\n",
       "570    NaN\n",
       "1338   NaN\n",
       "392    NaN\n",
       "817    NaN\n",
       "1141   NaN\n",
       "187    NaN\n",
       "977    NaN\n",
       "667    NaN\n",
       "982    NaN\n",
       "744    NaN\n",
       "269    NaN\n",
       "207    NaN\n",
       "254    NaN\n",
       "859    NaN\n",
       "1259   NaN\n",
       "690    NaN\n",
       "715    NaN\n",
       "783    NaN\n",
       "1117   NaN\n",
       "887    NaN\n",
       "192    NaN\n",
       "1060   NaN\n",
       "1012   NaN\n",
       "897    NaN\n",
       "        ..\n",
       "421    NaN\n",
       "524    NaN\n",
       "462    NaN\n",
       "954    NaN\n",
       "1321   NaN\n",
       "1281   NaN\n",
       "1430   NaN\n",
       "583    NaN\n",
       "1414   NaN\n",
       "415    NaN\n",
       "280    NaN\n",
       "587    NaN\n",
       "1133   NaN\n",
       "261    NaN\n",
       "1084   NaN\n",
       "704    NaN\n",
       "208    NaN\n",
       "942    NaN\n",
       "1008   NaN\n",
       "718    NaN\n",
       "479    NaN\n",
       "99     NaN\n",
       "680    NaN\n",
       "71     NaN\n",
       "324    NaN\n",
       "206    NaN\n",
       "1408   NaN\n",
       "1142   NaN\n",
       "131    NaN\n",
       "264    NaN\n",
       "Name: rating, Length: 1151, dtype: float64"
      ]
     },
     "execution_count": 335,
     "metadata": {},
     "output_type": "execute_result"
    }
   ],
   "source": [
    "# y_train_docs"
   ]
  },
  {
   "cell_type": "code",
   "execution_count": 334,
   "metadata": {},
   "outputs": [
    {
     "ename": "ValueError",
     "evalue": "negative dimensions are not allowed",
     "output_type": "error",
     "traceback": [
      "\u001b[0;31m---------------------------------------------------------------------------\u001b[0m",
      "\u001b[0;31mValueError\u001b[0m                                Traceback (most recent call last)",
      "\u001b[0;32m<ipython-input-334-2c6d6c717a7c>\u001b[0m in \u001b[0;36m<module>\u001b[0;34m\u001b[0m\n\u001b[1;32m      1\u001b[0m \u001b[0;31m# fit network\u001b[0m\u001b[0;34m\u001b[0m\u001b[0;34m\u001b[0m\u001b[0;34m\u001b[0m\u001b[0m\n\u001b[0;32m----> 2\u001b[0;31m \u001b[0mmodel\u001b[0m\u001b[0;34m.\u001b[0m\u001b[0mfit\u001b[0m\u001b[0;34m(\u001b[0m\u001b[0mXtrain\u001b[0m\u001b[0;34m,\u001b[0m \u001b[0mto_categorical\u001b[0m\u001b[0;34m(\u001b[0m\u001b[0my_train_docs\u001b[0m\u001b[0;34m)\u001b[0m\u001b[0;34m,\u001b[0m \u001b[0mepochs\u001b[0m\u001b[0;34m=\u001b[0m\u001b[0;36m100\u001b[0m\u001b[0;34m,\u001b[0m \u001b[0mverbose\u001b[0m\u001b[0;34m=\u001b[0m\u001b[0;36m2\u001b[0m\u001b[0;34m)\u001b[0m\u001b[0;34m\u001b[0m\u001b[0;34m\u001b[0m\u001b[0m\n\u001b[0m",
      "\u001b[0;32m~/anaconda3/envs/py36/lib/python3.6/site-packages/keras/utils/np_utils.py\u001b[0m in \u001b[0;36mto_categorical\u001b[0;34m(y, num_classes, dtype)\u001b[0m\n\u001b[1;32m     31\u001b[0m         \u001b[0mnum_classes\u001b[0m \u001b[0;34m=\u001b[0m \u001b[0mnp\u001b[0m\u001b[0;34m.\u001b[0m\u001b[0mmax\u001b[0m\u001b[0;34m(\u001b[0m\u001b[0my\u001b[0m\u001b[0;34m)\u001b[0m \u001b[0;34m+\u001b[0m \u001b[0;36m1\u001b[0m\u001b[0;34m\u001b[0m\u001b[0;34m\u001b[0m\u001b[0m\n\u001b[1;32m     32\u001b[0m     \u001b[0mn\u001b[0m \u001b[0;34m=\u001b[0m \u001b[0my\u001b[0m\u001b[0;34m.\u001b[0m\u001b[0mshape\u001b[0m\u001b[0;34m[\u001b[0m\u001b[0;36m0\u001b[0m\u001b[0;34m]\u001b[0m\u001b[0;34m\u001b[0m\u001b[0;34m\u001b[0m\u001b[0m\n\u001b[0;32m---> 33\u001b[0;31m     \u001b[0mcategorical\u001b[0m \u001b[0;34m=\u001b[0m \u001b[0mnp\u001b[0m\u001b[0;34m.\u001b[0m\u001b[0mzeros\u001b[0m\u001b[0;34m(\u001b[0m\u001b[0;34m(\u001b[0m\u001b[0mn\u001b[0m\u001b[0;34m,\u001b[0m \u001b[0mnum_classes\u001b[0m\u001b[0;34m)\u001b[0m\u001b[0;34m,\u001b[0m \u001b[0mdtype\u001b[0m\u001b[0;34m=\u001b[0m\u001b[0mdtype\u001b[0m\u001b[0;34m)\u001b[0m\u001b[0;34m\u001b[0m\u001b[0;34m\u001b[0m\u001b[0m\n\u001b[0m\u001b[1;32m     34\u001b[0m     \u001b[0mcategorical\u001b[0m\u001b[0;34m[\u001b[0m\u001b[0mnp\u001b[0m\u001b[0;34m.\u001b[0m\u001b[0marange\u001b[0m\u001b[0;34m(\u001b[0m\u001b[0mn\u001b[0m\u001b[0;34m)\u001b[0m\u001b[0;34m,\u001b[0m \u001b[0my\u001b[0m\u001b[0;34m]\u001b[0m \u001b[0;34m=\u001b[0m \u001b[0;36m1\u001b[0m\u001b[0;34m\u001b[0m\u001b[0;34m\u001b[0m\u001b[0m\n\u001b[1;32m     35\u001b[0m     \u001b[0moutput_shape\u001b[0m \u001b[0;34m=\u001b[0m \u001b[0minput_shape\u001b[0m \u001b[0;34m+\u001b[0m \u001b[0;34m(\u001b[0m\u001b[0mnum_classes\u001b[0m\u001b[0;34m,\u001b[0m\u001b[0;34m)\u001b[0m\u001b[0;34m\u001b[0m\u001b[0;34m\u001b[0m\u001b[0m\n",
      "\u001b[0;31mValueError\u001b[0m: negative dimensions are not allowed"
     ]
    }
   ],
   "source": [
    "# fit network\n",
    "model.fit(Xtrain, to_categorical(y_train_docs), epochs=100, verbose=2)"
   ]
  },
  {
   "cell_type": "code",
   "execution_count": 148,
   "metadata": {},
   "outputs": [
    {
     "name": "stdout",
     "output_type": "stream",
     "text": [
      "Test Accuracy: 67.361111\n"
     ]
    }
   ],
   "source": [
    "# evaluate\n",
    "loss, acc = model.evaluate(Xtest, to_categorical(y_test_docs), verbose=0)\n",
    "print('Test Accuracy: %f' % (acc*100))"
   ]
  },
  {
   "cell_type": "code",
   "execution_count": 149,
   "metadata": {},
   "outputs": [],
   "source": [
    "def prepare_data(train_docs, test_docs, mode):\n",
    "    # create the tokenizer\n",
    "    tokenizer = Tokenizer()\n",
    "    # fit the tokenizer on the documents\n",
    "    tokenizer.fit_on_texts(train_docs)\n",
    "    # encode training data set\n",
    "    Xtrain = tokenizer.texts_to_matrix(train_docs, mode=mode)\n",
    "    # encode training data set\n",
    "    Xtest = tokenizer.texts_to_matrix(test_docs, mode=mode)\n",
    "    return Xtrain, Xtest"
   ]
  },
  {
   "cell_type": "code",
   "execution_count": 150,
   "metadata": {},
   "outputs": [],
   "source": [
    "def evaluate_mode(Xtrain, ytrain, Xtest, ytest):\n",
    "    scores = list()\n",
    "    n_repeats = 10\n",
    "    n_words = Xtest.shape[1]\n",
    "    for i in range(n_repeats):\n",
    "        # define network\n",
    "        model = define_model(n_words)\n",
    "        # fit network\n",
    "        model.fit(Xtrain, ytrain, epochs=100, verbose=0)\n",
    "        # evaluate\n",
    "        _, acc = model.evaluate(Xtest, to_categorical(y_test_docs), verbose=0)\n",
    "        scores.append(acc)\n",
    "        print('%d accuracy: %s' % ((i+1), acc))\n",
    "    return scores"
   ]
  },
  {
   "cell_type": "code",
   "execution_count": 151,
   "metadata": {},
   "outputs": [
    {
     "name": "stdout",
     "output_type": "stream",
     "text": [
      "_________________________________________________________________\n",
      "Layer (type)                 Output Shape              Param #   \n",
      "=================================================================\n",
      "dense_109 (Dense)            (None, 50)                144750    \n",
      "_________________________________________________________________\n",
      "dense_110 (Dense)            (None, 3)                 153       \n",
      "=================================================================\n",
      "Total params: 144,903\n",
      "Trainable params: 144,903\n",
      "Non-trainable params: 0\n",
      "_________________________________________________________________\n",
      "1 accuracy: 0.7152777777777778\n",
      "_________________________________________________________________\n",
      "Layer (type)                 Output Shape              Param #   \n",
      "=================================================================\n",
      "dense_111 (Dense)            (None, 50)                144750    \n",
      "_________________________________________________________________\n",
      "dense_112 (Dense)            (None, 3)                 153       \n",
      "=================================================================\n",
      "Total params: 144,903\n",
      "Trainable params: 144,903\n",
      "Non-trainable params: 0\n",
      "_________________________________________________________________\n",
      "2 accuracy: 0.71875\n",
      "_________________________________________________________________\n",
      "Layer (type)                 Output Shape              Param #   \n",
      "=================================================================\n",
      "dense_113 (Dense)            (None, 50)                144750    \n",
      "_________________________________________________________________\n",
      "dense_114 (Dense)            (None, 3)                 153       \n",
      "=================================================================\n",
      "Total params: 144,903\n",
      "Trainable params: 144,903\n",
      "Non-trainable params: 0\n",
      "_________________________________________________________________\n",
      "3 accuracy: 0.7083333333333334\n",
      "_________________________________________________________________\n",
      "Layer (type)                 Output Shape              Param #   \n",
      "=================================================================\n",
      "dense_115 (Dense)            (None, 50)                144750    \n",
      "_________________________________________________________________\n",
      "dense_116 (Dense)            (None, 3)                 153       \n",
      "=================================================================\n",
      "Total params: 144,903\n",
      "Trainable params: 144,903\n",
      "Non-trainable params: 0\n",
      "_________________________________________________________________\n",
      "4 accuracy: 0.7083333333333334\n",
      "_________________________________________________________________\n",
      "Layer (type)                 Output Shape              Param #   \n",
      "=================================================================\n",
      "dense_117 (Dense)            (None, 50)                144750    \n",
      "_________________________________________________________________\n",
      "dense_118 (Dense)            (None, 3)                 153       \n",
      "=================================================================\n",
      "Total params: 144,903\n",
      "Trainable params: 144,903\n",
      "Non-trainable params: 0\n",
      "_________________________________________________________________\n",
      "5 accuracy: 0.7152777777777778\n",
      "_________________________________________________________________\n",
      "Layer (type)                 Output Shape              Param #   \n",
      "=================================================================\n",
      "dense_119 (Dense)            (None, 50)                144750    \n",
      "_________________________________________________________________\n",
      "dense_120 (Dense)            (None, 3)                 153       \n",
      "=================================================================\n",
      "Total params: 144,903\n",
      "Trainable params: 144,903\n",
      "Non-trainable params: 0\n",
      "_________________________________________________________________\n",
      "6 accuracy: 0.7326388888888888\n",
      "_________________________________________________________________\n",
      "Layer (type)                 Output Shape              Param #   \n",
      "=================================================================\n",
      "dense_121 (Dense)            (None, 50)                144750    \n",
      "_________________________________________________________________\n",
      "dense_122 (Dense)            (None, 3)                 153       \n",
      "=================================================================\n",
      "Total params: 144,903\n",
      "Trainable params: 144,903\n",
      "Non-trainable params: 0\n",
      "_________________________________________________________________\n",
      "7 accuracy: 0.7083333333333334\n",
      "_________________________________________________________________\n",
      "Layer (type)                 Output Shape              Param #   \n",
      "=================================================================\n",
      "dense_123 (Dense)            (None, 50)                144750    \n",
      "_________________________________________________________________\n",
      "dense_124 (Dense)            (None, 3)                 153       \n",
      "=================================================================\n",
      "Total params: 144,903\n",
      "Trainable params: 144,903\n",
      "Non-trainable params: 0\n",
      "_________________________________________________________________\n",
      "8 accuracy: 0.7013888888888888\n",
      "_________________________________________________________________\n",
      "Layer (type)                 Output Shape              Param #   \n",
      "=================================================================\n",
      "dense_125 (Dense)            (None, 50)                144750    \n",
      "_________________________________________________________________\n",
      "dense_126 (Dense)            (None, 3)                 153       \n",
      "=================================================================\n",
      "Total params: 144,903\n",
      "Trainable params: 144,903\n",
      "Non-trainable params: 0\n",
      "_________________________________________________________________\n",
      "9 accuracy: 0.7222222222222222\n",
      "_________________________________________________________________\n",
      "Layer (type)                 Output Shape              Param #   \n",
      "=================================================================\n",
      "dense_127 (Dense)            (None, 50)                144750    \n",
      "_________________________________________________________________\n",
      "dense_128 (Dense)            (None, 3)                 153       \n",
      "=================================================================\n",
      "Total params: 144,903\n",
      "Trainable params: 144,903\n",
      "Non-trainable params: 0\n",
      "_________________________________________________________________\n",
      "10 accuracy: 0.7048611111111112\n",
      "          binary\n",
      "count  10.000000\n",
      "mean    0.713542\n",
      "std     0.009295\n",
      "min     0.701389\n",
      "25%     0.708333\n",
      "50%     0.711806\n",
      "75%     0.717882\n",
      "max     0.732639\n",
      "_________________________________________________________________\n",
      "Layer (type)                 Output Shape              Param #   \n",
      "=================================================================\n",
      "dense_129 (Dense)            (None, 50)                144750    \n",
      "_________________________________________________________________\n",
      "dense_130 (Dense)            (None, 3)                 153       \n",
      "=================================================================\n",
      "Total params: 144,903\n",
      "Trainable params: 144,903\n",
      "Non-trainable params: 0\n",
      "_________________________________________________________________\n",
      "1 accuracy: 0.7118055555555556\n",
      "_________________________________________________________________\n",
      "Layer (type)                 Output Shape              Param #   \n",
      "=================================================================\n",
      "dense_131 (Dense)            (None, 50)                144750    \n",
      "_________________________________________________________________\n",
      "dense_132 (Dense)            (None, 3)                 153       \n",
      "=================================================================\n",
      "Total params: 144,903\n",
      "Trainable params: 144,903\n",
      "Non-trainable params: 0\n",
      "_________________________________________________________________\n",
      "2 accuracy: 0.7222222222222222\n",
      "_________________________________________________________________\n",
      "Layer (type)                 Output Shape              Param #   \n",
      "=================================================================\n",
      "dense_133 (Dense)            (None, 50)                144750    \n",
      "_________________________________________________________________\n",
      "dense_134 (Dense)            (None, 3)                 153       \n",
      "=================================================================\n",
      "Total params: 144,903\n",
      "Trainable params: 144,903\n",
      "Non-trainable params: 0\n",
      "_________________________________________________________________\n"
     ]
    },
    {
     "name": "stdout",
     "output_type": "stream",
     "text": [
      "3 accuracy: 0.7222222222222222\n",
      "_________________________________________________________________\n",
      "Layer (type)                 Output Shape              Param #   \n",
      "=================================================================\n",
      "dense_135 (Dense)            (None, 50)                144750    \n",
      "_________________________________________________________________\n",
      "dense_136 (Dense)            (None, 3)                 153       \n",
      "=================================================================\n",
      "Total params: 144,903\n",
      "Trainable params: 144,903\n",
      "Non-trainable params: 0\n",
      "_________________________________________________________________\n",
      "4 accuracy: 0.7152777777777778\n",
      "_________________________________________________________________\n",
      "Layer (type)                 Output Shape              Param #   \n",
      "=================================================================\n",
      "dense_137 (Dense)            (None, 50)                144750    \n",
      "_________________________________________________________________\n",
      "dense_138 (Dense)            (None, 3)                 153       \n",
      "=================================================================\n",
      "Total params: 144,903\n",
      "Trainable params: 144,903\n",
      "Non-trainable params: 0\n",
      "_________________________________________________________________\n",
      "5 accuracy: 0.7256944444444444\n",
      "_________________________________________________________________\n",
      "Layer (type)                 Output Shape              Param #   \n",
      "=================================================================\n",
      "dense_139 (Dense)            (None, 50)                144750    \n",
      "_________________________________________________________________\n",
      "dense_140 (Dense)            (None, 3)                 153       \n",
      "=================================================================\n",
      "Total params: 144,903\n",
      "Trainable params: 144,903\n",
      "Non-trainable params: 0\n",
      "_________________________________________________________________\n",
      "6 accuracy: 0.71875\n",
      "_________________________________________________________________\n",
      "Layer (type)                 Output Shape              Param #   \n",
      "=================================================================\n",
      "dense_141 (Dense)            (None, 50)                144750    \n",
      "_________________________________________________________________\n",
      "dense_142 (Dense)            (None, 3)                 153       \n",
      "=================================================================\n",
      "Total params: 144,903\n",
      "Trainable params: 144,903\n",
      "Non-trainable params: 0\n",
      "_________________________________________________________________\n",
      "7 accuracy: 0.7083333333333334\n",
      "_________________________________________________________________\n",
      "Layer (type)                 Output Shape              Param #   \n",
      "=================================================================\n",
      "dense_143 (Dense)            (None, 50)                144750    \n",
      "_________________________________________________________________\n",
      "dense_144 (Dense)            (None, 3)                 153       \n",
      "=================================================================\n",
      "Total params: 144,903\n",
      "Trainable params: 144,903\n",
      "Non-trainable params: 0\n",
      "_________________________________________________________________\n",
      "8 accuracy: 0.7152777777777778\n",
      "_________________________________________________________________\n",
      "Layer (type)                 Output Shape              Param #   \n",
      "=================================================================\n",
      "dense_145 (Dense)            (None, 50)                144750    \n",
      "_________________________________________________________________\n",
      "dense_146 (Dense)            (None, 3)                 153       \n",
      "=================================================================\n",
      "Total params: 144,903\n",
      "Trainable params: 144,903\n",
      "Non-trainable params: 0\n",
      "_________________________________________________________________\n",
      "9 accuracy: 0.7256944444444444\n",
      "_________________________________________________________________\n",
      "Layer (type)                 Output Shape              Param #   \n",
      "=================================================================\n",
      "dense_147 (Dense)            (None, 50)                144750    \n",
      "_________________________________________________________________\n",
      "dense_148 (Dense)            (None, 3)                 153       \n",
      "=================================================================\n",
      "Total params: 144,903\n",
      "Trainable params: 144,903\n",
      "Non-trainable params: 0\n",
      "_________________________________________________________________\n",
      "10 accuracy: 0.71875\n",
      "          binary      count\n",
      "count  10.000000  10.000000\n",
      "mean    0.713542   0.718403\n",
      "std     0.009295   0.005775\n",
      "min     0.701389   0.708333\n",
      "25%     0.708333   0.715278\n",
      "50%     0.711806   0.718750\n",
      "75%     0.717882   0.722222\n",
      "max     0.732639   0.725694\n",
      "_________________________________________________________________\n",
      "Layer (type)                 Output Shape              Param #   \n",
      "=================================================================\n",
      "dense_149 (Dense)            (None, 50)                144750    \n",
      "_________________________________________________________________\n",
      "dense_150 (Dense)            (None, 3)                 153       \n",
      "=================================================================\n",
      "Total params: 144,903\n",
      "Trainable params: 144,903\n",
      "Non-trainable params: 0\n",
      "_________________________________________________________________\n",
      "1 accuracy: 0.3680555555555556\n",
      "_________________________________________________________________\n",
      "Layer (type)                 Output Shape              Param #   \n",
      "=================================================================\n",
      "dense_151 (Dense)            (None, 50)                144750    \n",
      "_________________________________________________________________\n",
      "dense_152 (Dense)            (None, 3)                 153       \n",
      "=================================================================\n",
      "Total params: 144,903\n",
      "Trainable params: 144,903\n",
      "Non-trainable params: 0\n",
      "_________________________________________________________________\n",
      "2 accuracy: 0.3680555555555556\n",
      "_________________________________________________________________\n",
      "Layer (type)                 Output Shape              Param #   \n",
      "=================================================================\n",
      "dense_153 (Dense)            (None, 50)                144750    \n",
      "_________________________________________________________________\n",
      "dense_154 (Dense)            (None, 3)                 153       \n",
      "=================================================================\n",
      "Total params: 144,903\n",
      "Trainable params: 144,903\n",
      "Non-trainable params: 0\n",
      "_________________________________________________________________\n",
      "3 accuracy: 0.3680555555555556\n",
      "_________________________________________________________________\n",
      "Layer (type)                 Output Shape              Param #   \n",
      "=================================================================\n",
      "dense_155 (Dense)            (None, 50)                144750    \n",
      "_________________________________________________________________\n",
      "dense_156 (Dense)            (None, 3)                 153       \n",
      "=================================================================\n",
      "Total params: 144,903\n",
      "Trainable params: 144,903\n",
      "Non-trainable params: 0\n",
      "_________________________________________________________________\n",
      "4 accuracy: 0.3680555555555556\n",
      "_________________________________________________________________\n",
      "Layer (type)                 Output Shape              Param #   \n",
      "=================================================================\n",
      "dense_157 (Dense)            (None, 50)                144750    \n",
      "_________________________________________________________________\n",
      "dense_158 (Dense)            (None, 3)                 153       \n",
      "=================================================================\n",
      "Total params: 144,903\n",
      "Trainable params: 144,903\n",
      "Non-trainable params: 0\n",
      "_________________________________________________________________\n",
      "5 accuracy: 0.3680555555555556\n",
      "_________________________________________________________________\n",
      "Layer (type)                 Output Shape              Param #   \n",
      "=================================================================\n",
      "dense_159 (Dense)            (None, 50)                144750    \n",
      "_________________________________________________________________\n",
      "dense_160 (Dense)            (None, 3)                 153       \n",
      "=================================================================\n",
      "Total params: 144,903\n",
      "Trainable params: 144,903\n",
      "Non-trainable params: 0\n",
      "_________________________________________________________________\n"
     ]
    },
    {
     "name": "stdout",
     "output_type": "stream",
     "text": [
      "6 accuracy: 0.3680555555555556\n",
      "_________________________________________________________________\n",
      "Layer (type)                 Output Shape              Param #   \n",
      "=================================================================\n",
      "dense_161 (Dense)            (None, 50)                144750    \n",
      "_________________________________________________________________\n",
      "dense_162 (Dense)            (None, 3)                 153       \n",
      "=================================================================\n",
      "Total params: 144,903\n",
      "Trainable params: 144,903\n",
      "Non-trainable params: 0\n",
      "_________________________________________________________________\n",
      "7 accuracy: 0.7361111111111112\n",
      "_________________________________________________________________\n",
      "Layer (type)                 Output Shape              Param #   \n",
      "=================================================================\n",
      "dense_163 (Dense)            (None, 50)                144750    \n",
      "_________________________________________________________________\n",
      "dense_164 (Dense)            (None, 3)                 153       \n",
      "=================================================================\n",
      "Total params: 144,903\n",
      "Trainable params: 144,903\n",
      "Non-trainable params: 0\n",
      "_________________________________________________________________\n",
      "8 accuracy: 0.3680555555555556\n",
      "_________________________________________________________________\n",
      "Layer (type)                 Output Shape              Param #   \n",
      "=================================================================\n",
      "dense_165 (Dense)            (None, 50)                144750    \n",
      "_________________________________________________________________\n",
      "dense_166 (Dense)            (None, 3)                 153       \n",
      "=================================================================\n",
      "Total params: 144,903\n",
      "Trainable params: 144,903\n",
      "Non-trainable params: 0\n",
      "_________________________________________________________________\n",
      "9 accuracy: 0.3680555555555556\n",
      "_________________________________________________________________\n",
      "Layer (type)                 Output Shape              Param #   \n",
      "=================================================================\n",
      "dense_167 (Dense)            (None, 50)                144750    \n",
      "_________________________________________________________________\n",
      "dense_168 (Dense)            (None, 3)                 153       \n",
      "=================================================================\n",
      "Total params: 144,903\n",
      "Trainable params: 144,903\n",
      "Non-trainable params: 0\n",
      "_________________________________________________________________\n",
      "10 accuracy: 0.7013888888888888\n",
      "          binary      count      tfidf\n",
      "count  10.000000  10.000000  10.000000\n",
      "mean    0.713542   0.718403   0.438194\n",
      "std     0.009295   0.005775   0.148092\n",
      "min     0.701389   0.708333   0.368056\n",
      "25%     0.708333   0.715278   0.368056\n",
      "50%     0.711806   0.718750   0.368056\n",
      "75%     0.717882   0.722222   0.368056\n",
      "max     0.732639   0.725694   0.736111\n",
      "_________________________________________________________________\n",
      "Layer (type)                 Output Shape              Param #   \n",
      "=================================================================\n",
      "dense_169 (Dense)            (None, 50)                144750    \n",
      "_________________________________________________________________\n",
      "dense_170 (Dense)            (None, 3)                 153       \n",
      "=================================================================\n",
      "Total params: 144,903\n",
      "Trainable params: 144,903\n",
      "Non-trainable params: 0\n",
      "_________________________________________________________________\n",
      "1 accuracy: 0.6736111111111112\n",
      "_________________________________________________________________\n",
      "Layer (type)                 Output Shape              Param #   \n",
      "=================================================================\n",
      "dense_171 (Dense)            (None, 50)                144750    \n",
      "_________________________________________________________________\n",
      "dense_172 (Dense)            (None, 3)                 153       \n",
      "=================================================================\n",
      "Total params: 144,903\n",
      "Trainable params: 144,903\n",
      "Non-trainable params: 0\n",
      "_________________________________________________________________\n",
      "2 accuracy: 0.6666666666666666\n",
      "_________________________________________________________________\n",
      "Layer (type)                 Output Shape              Param #   \n",
      "=================================================================\n",
      "dense_173 (Dense)            (None, 50)                144750    \n",
      "_________________________________________________________________\n",
      "dense_174 (Dense)            (None, 3)                 153       \n",
      "=================================================================\n",
      "Total params: 144,903\n",
      "Trainable params: 144,903\n",
      "Non-trainable params: 0\n",
      "_________________________________________________________________\n",
      "3 accuracy: 0.6666666666666666\n",
      "_________________________________________________________________\n",
      "Layer (type)                 Output Shape              Param #   \n",
      "=================================================================\n",
      "dense_175 (Dense)            (None, 50)                144750    \n",
      "_________________________________________________________________\n",
      "dense_176 (Dense)            (None, 3)                 153       \n",
      "=================================================================\n",
      "Total params: 144,903\n",
      "Trainable params: 144,903\n",
      "Non-trainable params: 0\n",
      "_________________________________________________________________\n",
      "4 accuracy: 0.6631944444444444\n",
      "_________________________________________________________________\n",
      "Layer (type)                 Output Shape              Param #   \n",
      "=================================================================\n",
      "dense_177 (Dense)            (None, 50)                144750    \n",
      "_________________________________________________________________\n",
      "dense_178 (Dense)            (None, 3)                 153       \n",
      "=================================================================\n",
      "Total params: 144,903\n",
      "Trainable params: 144,903\n",
      "Non-trainable params: 0\n",
      "_________________________________________________________________\n",
      "5 accuracy: 0.6666666666666666\n",
      "_________________________________________________________________\n",
      "Layer (type)                 Output Shape              Param #   \n",
      "=================================================================\n",
      "dense_179 (Dense)            (None, 50)                144750    \n",
      "_________________________________________________________________\n",
      "dense_180 (Dense)            (None, 3)                 153       \n",
      "=================================================================\n",
      "Total params: 144,903\n",
      "Trainable params: 144,903\n",
      "Non-trainable params: 0\n",
      "_________________________________________________________________\n",
      "6 accuracy: 0.6736111111111112\n",
      "_________________________________________________________________\n",
      "Layer (type)                 Output Shape              Param #   \n",
      "=================================================================\n",
      "dense_181 (Dense)            (None, 50)                144750    \n",
      "_________________________________________________________________\n",
      "dense_182 (Dense)            (None, 3)                 153       \n",
      "=================================================================\n",
      "Total params: 144,903\n",
      "Trainable params: 144,903\n",
      "Non-trainable params: 0\n",
      "_________________________________________________________________\n",
      "7 accuracy: 0.6736111111111112\n",
      "_________________________________________________________________\n",
      "Layer (type)                 Output Shape              Param #   \n",
      "=================================================================\n",
      "dense_183 (Dense)            (None, 50)                144750    \n",
      "_________________________________________________________________\n",
      "dense_184 (Dense)            (None, 3)                 153       \n",
      "=================================================================\n",
      "Total params: 144,903\n",
      "Trainable params: 144,903\n",
      "Non-trainable params: 0\n",
      "_________________________________________________________________\n",
      "8 accuracy: 0.6631944444444444\n",
      "_________________________________________________________________\n",
      "Layer (type)                 Output Shape              Param #   \n",
      "=================================================================\n",
      "dense_185 (Dense)            (None, 50)                144750    \n",
      "_________________________________________________________________\n",
      "dense_186 (Dense)            (None, 3)                 153       \n",
      "=================================================================\n",
      "Total params: 144,903\n",
      "Trainable params: 144,903\n",
      "Non-trainable params: 0\n",
      "_________________________________________________________________\n"
     ]
    },
    {
     "name": "stdout",
     "output_type": "stream",
     "text": [
      "9 accuracy: 0.6701388888888888\n",
      "_________________________________________________________________\n",
      "Layer (type)                 Output Shape              Param #   \n",
      "=================================================================\n",
      "dense_187 (Dense)            (None, 50)                144750    \n",
      "_________________________________________________________________\n",
      "dense_188 (Dense)            (None, 3)                 153       \n",
      "=================================================================\n",
      "Total params: 144,903\n",
      "Trainable params: 144,903\n",
      "Non-trainable params: 0\n",
      "_________________________________________________________________\n",
      "10 accuracy: 0.6770833333333334\n",
      "          binary      count      tfidf       freq\n",
      "count  10.000000  10.000000  10.000000  10.000000\n",
      "mean    0.713542   0.718403   0.438194   0.669444\n",
      "std     0.009295   0.005775   0.148092   0.004856\n",
      "min     0.701389   0.708333   0.368056   0.663194\n",
      "25%     0.708333   0.715278   0.368056   0.666667\n",
      "50%     0.711806   0.718750   0.368056   0.668403\n",
      "75%     0.717882   0.722222   0.368056   0.673611\n",
      "max     0.732639   0.725694   0.736111   0.677083\n"
     ]
    }
   ],
   "source": [
    "# run experiment\n",
    "modes = ['binary', 'count', 'tfidf', 'freq']\n",
    "results = DataFrame()\n",
    "for mode in modes:\n",
    "    # prepare data for mode\n",
    "    Xtrain, Xtest = prepare_data(xtrain_docs, xtest_docs, mode)\n",
    "    # evaluate model on data for mode\n",
    "    results[mode] = evaluate_mode(Xtrain, to_categorical(y_train_docs), Xtest, to_categorical(y_test_docs))\n",
    "    # summarize results\n",
    "    # Comparing Word Scoring Methods\n",
    "    print(results.describe())"
   ]
  },
  {
   "cell_type": "code",
   "execution_count": 152,
   "metadata": {},
   "outputs": [],
   "source": [
    "import matplotlib.pyplot as plt\n",
    "%matplotlib inline"
   ]
  },
  {
   "cell_type": "code",
   "execution_count": 153,
   "metadata": {},
   "outputs": [
    {
     "data": {
      "image/png": "[encoded data removed]",
      "text/plain": [
       "<Figure size 432x288 with 1 Axes>"
      ]
     },
     "metadata": {
      "needs_background": "light"
     },
     "output_type": "display_data"
    }
   ],
   "source": [
    "results.boxplot()\n",
    "plt.show()"
   ]
  },
  {
   "cell_type": "code",
   "execution_count": 154,
   "metadata": {},
   "outputs": [],
   "source": [
    "###  Predict New Sentiment"
   ]
  },
  {
   "cell_type": "code",
   "execution_count": 155,
   "metadata": {},
   "outputs": [],
   "source": [
    "# classify a review as negative or positive\n",
    "def predict_sentiment(review, vocab, tokenizer, model):\n",
    "    # clean\n",
    "#     tokens = clean_doc(review)\n",
    "    \n",
    "    tokens = clean_document(text)\n",
    "    print(tokens)\n",
    "    # filter by vocab\n",
    "    tokens = [w for w in tokens if w in vocab]\n",
    "    # convert to line\n",
    "    line = ' '.join(tokens)\n",
    "    # encode\n",
    "    encoded = tokenizer.texts_to_matrix([line], mode='freq')\n",
    "    # predict sentiment\n",
    "    yhat = model.predict(encoded, verbose=0)\n",
    "    max_index = np.argmax(yhat[0])\n",
    "    print(yhat[0])\n",
    "    print(yhat[0][max_index])\n",
    "    # retrieve predicted percentage and label\n",
    "    percent_pos = yhat[0][max_index]\n",
    "    if max_index == 0 : \n",
    "        return (percent_pos), '0'\n",
    "    \n",
    "    if max_index == 1 : \n",
    "        return (percent_pos), '1'\n",
    "    if max_index == 2 : \n",
    "        return (percent_pos), '2'\n",
    "    return \"NA\""
   ]
  },
  {
   "cell_type": "code",
   "execution_count": 156,
   "metadata": {},
   "outputs": [
    {
     "name": "stdout",
     "output_type": "stream",
     "text": [
      "['leg', 'getting', 'hell', 'lot', 'pain', 'whihch', 'imaginable', 'blood', 'due', 'pain']\n",
      "[5.8799511e-04 8.5197535e-05 2.6998878e-02]\n",
      "0.026998878\n"
     ]
    },
    {
     "data": {
      "text/plain": [
       "(0.026998878, '2')"
      ]
     },
     "execution_count": 156,
     "metadata": {},
     "output_type": "execute_result"
    }
   ],
   "source": [
    "# test positive text\n",
    "text = \"my leg is getting hell lot of pain whihch is imaginable blood due to pain!!\"\n",
    "percent, sentiment = predict_sentiment(text, vocab, tokenizer, model)\n",
    "percent, sentiment "
   ]
  },
  {
   "cell_type": "code",
   "execution_count": 157,
   "metadata": {},
   "outputs": [
    {
     "name": "stdout",
     "output_type": "stream",
     "text": [
      "['leg', 'paining', 'alot', 'severe', 'couldnt', 'bear']\n",
      "[0.0011202  0.00935899 0.00075021]\n",
      "0.009358989\n"
     ]
    },
    {
     "data": {
      "text/plain": [
       "(0.009358989, '1')"
      ]
     },
     "execution_count": 157,
     "metadata": {},
     "output_type": "execute_result"
    }
   ],
   "source": [
    "# test positive text\n",
    "text = \"my leg is paining alot and it is severe, couldn't bear any more\"\n",
    "percent, sentiment = predict_sentiment(text, vocab, tokenizer, model)\n",
    "percent, sentiment "
   ]
  },
  {
   "cell_type": "code",
   "execution_count": 158,
   "metadata": {},
   "outputs": [
    {
     "name": "stdout",
     "output_type": "stream",
     "text": [
      "['leg', 'paining', 'alot', 'severe', 'couldnt', 'bear']\n",
      "[0.0011202  0.00935899 0.00075021]\n",
      "0.009358989\n",
      "Review: [my leg is paining alot and it is severe, couldn't bear any more]\n",
      "Sentiment: 1 (0.936%)\n",
      "['bad', 'movie']\n",
      "[4.3933624e-03 5.6821592e-02 1.1326434e-06]\n",
      "0.056821592\n",
      "Review: [This is a bad movie.]\n",
      "Sentiment: 1 (5.682%)\n"
     ]
    }
   ],
   "source": [
    "# test positive text\n",
    "# text = 'Best movie ever! It was great, I recommend it.'\n",
    "percent, sentiment = predict_sentiment(text, vocab, tokenizer, model)\n",
    "print('Review: [%s]\\nSentiment: %s (%.3f%%)' % (text, sentiment, percent*100))\n",
    "# test negative text\n",
    "text = 'This is a bad movie.'\n",
    "percent, sentiment = predict_sentiment(text, vocab, tokenizer, model)\n",
    "print('Review: [%s]\\nSentiment: %s (%.3f%%)' % (text, sentiment, percent*100))"
   ]
  },
  {
   "cell_type": "code",
   "execution_count": 159,
   "metadata": {},
   "outputs": [],
   "source": [
    "# define the model\n",
    "def define_model(vocab_size, max_length):\n",
    "    model = Sequential()\n",
    "    model.add(Embedding(vocab_size, 500, input_length=max_length))\n",
    "    model.add(Conv1D(filters=32, kernel_size=8, activation='relu'))\n",
    "    model.add(MaxPooling1D(pool_size=2))\n",
    "    \n",
    "    model.add(Conv1D(filters=32, kernel_size=8, activation='relu'))\n",
    "    model.add(MaxPooling1D(pool_size=2))\n",
    "    model.add(Conv1D(filters=32, kernel_size=8, activation='relu'))\n",
    "    model.add(MaxPooling1D(pool_size=2))\n",
    "    \n",
    "    model.add(Flatten())\n",
    "    model.add(Dense(10, activation='relu'))\n",
    "    model.add(Dense(3, activation='sigmoid'))\n",
    "    # compile network\n",
    "    model.compile(loss='categorical_crossentropy', optimizer='adam', metrics=['accuracy'])\n",
    "\n",
    "    # summarize defined model\n",
    "    model.summary()\n",
    "    plot_model(model, to_file='model.png', show_shapes=True)\n",
    "    return model"
   ]
  },
  {
   "cell_type": "code",
   "execution_count": 160,
   "metadata": {},
   "outputs": [
    {
     "data": {
      "text/plain": [
       "2947"
      ]
     },
     "execution_count": 160,
     "metadata": {},
     "output_type": "execute_result"
    }
   ],
   "source": [
    "len(vocab)"
   ]
  },
  {
   "cell_type": "code",
   "execution_count": 161,
   "metadata": {},
   "outputs": [],
   "source": [
    "# xtrain_docs"
   ]
  },
  {
   "cell_type": "code",
   "execution_count": 162,
   "metadata": {},
   "outputs": [
    {
     "data": {
      "text/plain": [
       "104"
      ]
     },
     "execution_count": 162,
     "metadata": {},
     "output_type": "execute_result"
    }
   ],
   "source": [
    "max_length = max([len(s.split()) for s in xtrain_docs])\n",
    "max_length"
   ]
  },
  {
   "cell_type": "code",
   "execution_count": 163,
   "metadata": {},
   "outputs": [
    {
     "data": {
      "text/plain": [
       "2947"
      ]
     },
     "execution_count": 163,
     "metadata": {},
     "output_type": "execute_result"
    }
   ],
   "source": [
    "vocab_size = len(set(vocab))\n",
    "len(set(vocab))"
   ]
  },
  {
   "cell_type": "code",
   "execution_count": 164,
   "metadata": {},
   "outputs": [],
   "source": [
    "from keras.layers.convolutional import Conv1D\n",
    "from keras.layers.convolutional import MaxPooling1D\n",
    "from keras.layers import Embedding , Flatten\n",
    "from keras.models import Sequential\n",
    "from keras.layers import Dense\n",
    "from keras.layers import Flatten\n",
    "from keras.layers import Embedding"
   ]
  },
  {
   "cell_type": "code",
   "execution_count": 165,
   "metadata": {},
   "outputs": [
    {
     "name": "stdout",
     "output_type": "stream",
     "text": [
      "_________________________________________________________________\n",
      "Layer (type)                 Output Shape              Param #   \n",
      "=================================================================\n",
      "embedding_18 (Embedding)     (None, 104, 500)          1473500   \n",
      "_________________________________________________________________\n",
      "conv1d_21 (Conv1D)           (None, 97, 32)            128032    \n",
      "_________________________________________________________________\n",
      "max_pooling1d_21 (MaxPooling (None, 48, 32)            0         \n",
      "_________________________________________________________________\n",
      "conv1d_22 (Conv1D)           (None, 41, 32)            8224      \n",
      "_________________________________________________________________\n",
      "max_pooling1d_22 (MaxPooling (None, 20, 32)            0         \n",
      "_________________________________________________________________\n",
      "conv1d_23 (Conv1D)           (None, 13, 32)            8224      \n",
      "_________________________________________________________________\n",
      "max_pooling1d_23 (MaxPooling (None, 6, 32)             0         \n",
      "_________________________________________________________________\n",
      "flatten_17 (Flatten)         (None, 192)               0         \n",
      "_________________________________________________________________\n",
      "dense_189 (Dense)            (None, 10)                1930      \n",
      "_________________________________________________________________\n",
      "dense_190 (Dense)            (None, 3)                 33        \n",
      "=================================================================\n",
      "Total params: 1,619,943\n",
      "Trainable params: 1,619,943\n",
      "Non-trainable params: 0\n",
      "_________________________________________________________________\n"
     ]
    }
   ],
   "source": [
    "# define modela\n",
    "model = define_model(vocab_size, max_length)"
   ]
  },
  {
   "cell_type": "code",
   "execution_count": 166,
   "metadata": {},
   "outputs": [],
   "source": [
    "encoded_docs = tokenizer.texts_to_sequences(xtrain_docs)"
   ]
  },
  {
   "cell_type": "code",
   "execution_count": 167,
   "metadata": {},
   "outputs": [],
   "source": [
    "from keras.preprocessing.text import Tokenizer\n",
    "from keras.preprocessing.sequence import pad_sequences\n",
    "# integer encode and pad documents\n",
    "def encode_docs(tokenizer, max_length, docs):\n",
    "    # integer encode\n",
    "    encoded = tokenizer.texts_to_sequences(docs)\n",
    "    # pad sequences\n",
    "    padded = pad_sequences(encoded, maxlen=max_length, padding='post')\n",
    "    return padded"
   ]
  },
  {
   "cell_type": "code",
   "execution_count": 168,
   "metadata": {},
   "outputs": [],
   "source": [
    "Xtrain  = encode_docs(tokenizer, max_length, xtrain_docs)\n",
    "Xtest  = encode_docs(tokenizer, max_length, xtest_docs)"
   ]
  },
  {
   "cell_type": "code",
   "execution_count": 169,
   "metadata": {},
   "outputs": [
    {
     "name": "stdout",
     "output_type": "stream",
     "text": [
      "_________________________________________________________________\n",
      "Layer (type)                 Output Shape              Param #   \n",
      "=================================================================\n",
      "embedding_19 (Embedding)     (None, 104, 500)          1473500   \n",
      "_________________________________________________________________\n",
      "conv1d_24 (Conv1D)           (None, 97, 32)            128032    \n",
      "_________________________________________________________________\n",
      "max_pooling1d_24 (MaxPooling (None, 48, 32)            0         \n",
      "_________________________________________________________________\n",
      "conv1d_25 (Conv1D)           (None, 41, 32)            8224      \n",
      "_________________________________________________________________\n",
      "max_pooling1d_25 (MaxPooling (None, 20, 32)            0         \n",
      "_________________________________________________________________\n",
      "conv1d_26 (Conv1D)           (None, 13, 32)            8224      \n",
      "_________________________________________________________________\n",
      "max_pooling1d_26 (MaxPooling (None, 6, 32)             0         \n",
      "_________________________________________________________________\n",
      "flatten_18 (Flatten)         (None, 192)               0         \n",
      "_________________________________________________________________\n",
      "dense_191 (Dense)            (None, 10)                1930      \n",
      "_________________________________________________________________\n",
      "dense_192 (Dense)            (None, 3)                 33        \n",
      "=================================================================\n",
      "Total params: 1,619,943\n",
      "Trainable params: 1,619,943\n",
      "Non-trainable params: 0\n",
      "_________________________________________________________________\n"
     ]
    }
   ],
   "source": [
    "model = define_model(vocab_size, max_length)"
   ]
  },
  {
   "cell_type": "code",
   "execution_count": 170,
   "metadata": {},
   "outputs": [
    {
     "data": {
      "text/plain": [
       "(1151, 1151)"
      ]
     },
     "execution_count": 170,
     "metadata": {},
     "output_type": "execute_result"
    }
   ],
   "source": [
    "len(xtrain_docs) , len(y_train_docs)"
   ]
  },
  {
   "cell_type": "code",
   "execution_count": 171,
   "metadata": {},
   "outputs": [
    {
     "name": "stdout",
     "output_type": "stream",
     "text": [
      "Epoch 1/100\n",
      " - 7s - loss: 1.0954 - acc: 0.4023\n",
      "Epoch 2/100\n",
      " - 1s - loss: 1.0279 - acc: 0.5039\n",
      "Epoch 3/100\n",
      " - 1s - loss: 0.8612 - acc: 0.5491\n",
      "Epoch 4/100\n",
      " - 1s - loss: 0.6786 - acc: 0.6238\n",
      "Epoch 5/100\n",
      " - 1s - loss: 0.5634 - acc: 0.6733\n",
      "Epoch 6/100\n",
      " - 1s - loss: 0.5292 - acc: 0.6742\n",
      "Epoch 7/100\n",
      " - 1s - loss: 0.4688 - acc: 0.7011\n",
      "Epoch 8/100\n",
      " - 1s - loss: 0.4353 - acc: 0.7037\n",
      "Epoch 9/100\n",
      " - 1s - loss: 0.4166 - acc: 0.7142\n",
      "Epoch 10/100\n",
      " - 1s - loss: 0.4046 - acc: 0.7220\n",
      "Epoch 11/100\n",
      " - 1s - loss: 0.4113 - acc: 0.7237\n",
      "Epoch 12/100\n",
      " - 1s - loss: 0.4055 - acc: 0.7289\n",
      "Epoch 13/100\n",
      " - 1s - loss: 0.3992 - acc: 0.7202\n",
      "Epoch 14/100\n",
      " - 1s - loss: 0.3994 - acc: 0.7298\n",
      "Epoch 15/100\n",
      " - 1s - loss: 0.4038 - acc: 0.7289\n",
      "Epoch 16/100\n",
      " - 1s - loss: 0.3983 - acc: 0.7324\n",
      "Epoch 17/100\n",
      " - 1s - loss: 0.3995 - acc: 0.7298\n",
      "Epoch 18/100\n",
      " - 1s - loss: 0.3963 - acc: 0.7333\n",
      "Epoch 19/100\n",
      " - 1s - loss: 0.3952 - acc: 0.7315\n",
      "Epoch 20/100\n",
      " - 1s - loss: 0.3957 - acc: 0.7315\n",
      "Epoch 21/100\n",
      " - 2s - loss: 0.3959 - acc: 0.7341\n",
      "Epoch 22/100\n",
      " - 1s - loss: 0.3952 - acc: 0.7333\n",
      "Epoch 23/100\n",
      " - 1s - loss: 0.3952 - acc: 0.7298\n",
      "Epoch 24/100\n",
      " - 1s - loss: 0.3942 - acc: 0.7272\n",
      "Epoch 25/100\n",
      " - 1s - loss: 0.3954 - acc: 0.7298\n",
      "Epoch 26/100\n",
      " - 1s - loss: 0.3961 - acc: 0.7281\n",
      "Epoch 27/100\n",
      " - 1s - loss: 0.3949 - acc: 0.7272\n",
      "Epoch 28/100\n",
      " - 1s - loss: 0.3945 - acc: 0.7298\n",
      "Epoch 29/100\n",
      " - 1s - loss: 0.3937 - acc: 0.7307\n",
      "Epoch 30/100\n",
      " - 1s - loss: 0.3943 - acc: 0.7298\n",
      "Epoch 31/100\n",
      " - 1s - loss: 0.3941 - acc: 0.7307\n",
      "Epoch 32/100\n",
      " - 1s - loss: 0.3939 - acc: 0.7298\n",
      "Epoch 33/100\n",
      " - 1s - loss: 0.3935 - acc: 0.7315\n",
      "Epoch 34/100\n",
      " - 1s - loss: 0.3933 - acc: 0.7315\n",
      "Epoch 35/100\n",
      " - 1s - loss: 0.3932 - acc: 0.7315\n",
      "Epoch 36/100\n",
      " - 1s - loss: 0.4380 - acc: 0.7228\n",
      "Epoch 37/100\n",
      " - 1s - loss: 0.5849 - acc: 0.6977\n",
      "Epoch 38/100\n",
      " - 1s - loss: 0.5072 - acc: 0.6968\n",
      "Epoch 39/100\n",
      " - 1s - loss: 0.4386 - acc: 0.7133\n",
      "Epoch 40/100\n",
      " - 1s - loss: 0.4111 - acc: 0.7255\n",
      "Epoch 41/100\n",
      " - 1s - loss: 0.4006 - acc: 0.7289\n",
      "Epoch 42/100\n",
      " - 1s - loss: 0.3977 - acc: 0.7298\n",
      "Epoch 43/100\n",
      " - 1s - loss: 0.3970 - acc: 0.7298\n",
      "Epoch 44/100\n",
      " - 1s - loss: 0.3967 - acc: 0.7298\n",
      "Epoch 45/100\n",
      " - 1s - loss: 0.3967 - acc: 0.7298\n",
      "Epoch 46/100\n",
      " - 1s - loss: 0.3964 - acc: 0.7298\n",
      "Epoch 47/100\n",
      " - 1s - loss: 0.3965 - acc: 0.7289\n",
      "Epoch 48/100\n",
      " - 1s - loss: 0.3960 - acc: 0.7298\n",
      "Epoch 49/100\n",
      " - 1s - loss: 0.3960 - acc: 0.7298\n",
      "Epoch 50/100\n",
      " - 1s - loss: 0.3960 - acc: 0.7298\n",
      "Epoch 51/100\n",
      " - 1s - loss: 0.3958 - acc: 0.7298\n",
      "Epoch 52/100\n",
      " - 1s - loss: 0.3953 - acc: 0.7298\n",
      "Epoch 53/100\n",
      " - 1s - loss: 0.4186 - acc: 0.7281\n",
      "Epoch 54/100\n",
      " - 1s - loss: 0.4013 - acc: 0.7281\n",
      "Epoch 55/100\n",
      " - 1s - loss: 0.3973 - acc: 0.7289\n",
      "Epoch 56/100\n",
      " - 1s - loss: 0.3985 - acc: 0.7281\n",
      "Epoch 57/100\n",
      " - 1s - loss: 0.3964 - acc: 0.7289\n",
      "Epoch 58/100\n",
      " - 1s - loss: 0.3961 - acc: 0.7289\n",
      "Epoch 59/100\n",
      " - 1s - loss: 0.3960 - acc: 0.7289\n",
      "Epoch 60/100\n",
      " - 1s - loss: 0.3960 - acc: 0.7289\n",
      "Epoch 61/100\n",
      " - 1s - loss: 0.3960 - acc: 0.7289\n",
      "Epoch 62/100\n",
      " - 2s - loss: 0.3960 - acc: 0.7289\n",
      "Epoch 63/100\n",
      " - 1s - loss: 0.3959 - acc: 0.7289\n",
      "Epoch 64/100\n",
      " - 1s - loss: 0.3957 - acc: 0.7289\n",
      "Epoch 65/100\n",
      " - 1s - loss: 0.3957 - acc: 0.7289\n",
      "Epoch 66/100\n",
      " - 1s - loss: 0.3957 - acc: 0.7289\n",
      "Epoch 67/100\n",
      " - 1s - loss: 0.3956 - acc: 0.7289\n",
      "Epoch 68/100\n",
      " - 1s - loss: 0.3959 - acc: 0.7289\n",
      "Epoch 69/100\n",
      " - 1s - loss: 0.3972 - acc: 0.7289\n",
      "Epoch 70/100\n",
      " - 1s - loss: 0.3987 - acc: 0.7281\n",
      "Epoch 71/100\n",
      " - 1s - loss: 0.3966 - acc: 0.7289\n",
      "Epoch 72/100\n",
      " - 1s - loss: 0.3960 - acc: 0.7289\n",
      "Epoch 73/100\n",
      " - 1s - loss: 0.3957 - acc: 0.7289\n",
      "Epoch 74/100\n",
      " - 1s - loss: 0.3958 - acc: 0.7289\n",
      "Epoch 75/100\n",
      " - 1s - loss: 0.3957 - acc: 0.7289\n",
      "Epoch 76/100\n",
      " - 1s - loss: 0.3957 - acc: 0.7289\n",
      "Epoch 77/100\n",
      " - 1s - loss: 0.3956 - acc: 0.7289\n",
      "Epoch 78/100\n",
      " - 1s - loss: 0.3956 - acc: 0.7289\n",
      "Epoch 79/100\n",
      " - 1s - loss: 0.3956 - acc: 0.7289\n",
      "Epoch 80/100\n",
      " - 1s - loss: 0.3955 - acc: 0.7289\n",
      "Epoch 81/100\n",
      " - 1s - loss: 0.3955 - acc: 0.7289\n",
      "Epoch 82/100\n",
      " - 1s - loss: 0.3955 - acc: 0.7289\n",
      "Epoch 83/100\n",
      " - 1s - loss: 0.3955 - acc: 0.7289\n",
      "Epoch 84/100\n",
      " - 1s - loss: 0.3955 - acc: 0.7289\n",
      "Epoch 85/100\n",
      " - 1s - loss: 0.3955 - acc: 0.7289\n",
      "Epoch 86/100\n",
      " - 1s - loss: 0.3955 - acc: 0.7289\n",
      "Epoch 87/100\n",
      " - 1s - loss: 0.3955 - acc: 0.7289\n",
      "Epoch 88/100\n",
      " - 1s - loss: 0.3955 - acc: 0.7289\n",
      "Epoch 89/100\n",
      " - 1s - loss: 0.3955 - acc: 0.7289\n",
      "Epoch 90/100\n",
      " - 1s - loss: 0.3955 - acc: 0.7289\n",
      "Epoch 91/100\n",
      " - 1s - loss: 0.3955 - acc: 0.7289\n",
      "Epoch 92/100\n",
      " - 1s - loss: 0.3955 - acc: 0.7289\n",
      "Epoch 93/100\n",
      " - 1s - loss: 0.3955 - acc: 0.7289\n",
      "Epoch 94/100\n",
      " - 1s - loss: 0.3955 - acc: 0.7289\n",
      "Epoch 95/100\n",
      " - 1s - loss: 0.3955 - acc: 0.7289\n",
      "Epoch 96/100\n",
      " - 1s - loss: 0.3955 - acc: 0.7289\n",
      "Epoch 97/100\n",
      " - 1s - loss: 0.3955 - acc: 0.7281\n",
      "Epoch 98/100\n",
      " - 1s - loss: 0.3955 - acc: 0.7281\n",
      "Epoch 99/100\n",
      " - 1s - loss: 0.3955 - acc: 0.7289\n",
      "Epoch 100/100\n",
      " - 1s - loss: 0.3955 - acc: 0.7281\n"
     ]
    },
    {
     "data": {
      "text/plain": [
       "<keras.callbacks.History at 0x7f8e3bdb7d30>"
      ]
     },
     "execution_count": 171,
     "metadata": {},
     "output_type": "execute_result"
    }
   ],
   "source": [
    "# fit network\n",
    "model.fit(Xtrain, to_categorical(y_train_docs), epochs=100, verbose=2)\n",
    "# save the model\n",
    "# model.save('model_nightingale.h5')"
   ]
  },
  {
   "cell_type": "code",
   "execution_count": 297,
   "metadata": {},
   "outputs": [],
   "source": [
    "import pickle\n",
    "\n",
    "def save_tokenizer_file(object_, filename):\n",
    "    # saving\n",
    "    with open(filename, 'wb') as handle:\n",
    "        pickle.dump(object_, handle, protocol=pickle.HIGHEST_PROTOCOL)\n",
    "\n",
    "def load_tokenizer_file(filename):\n",
    "    # loading\n",
    "    with open(filename, 'rb') as handle:\n",
    "        tokenizer = pickle.load(handle)\n",
    "        return tokenizer\n",
    "    return null"
   ]
  },
  {
   "cell_type": "code",
   "execution_count": 299,
   "metadata": {},
   "outputs": [
    {
     "data": {
      "text/plain": [
       "<keras_preprocessing.text.Tokenizer at 0x7f8e30d84748>"
      ]
     },
     "execution_count": 299,
     "metadata": {},
     "output_type": "execute_result"
    }
   ],
   "source": [
    "save_tokenizer_file(tokenizer, 'tokenizer.pkl')\n",
    "tokenizer = load_tokenizer_file('tokenizer.pkl')\n",
    "tokenizer"
   ]
  },
  {
   "cell_type": "code",
   "execution_count": 295,
   "metadata": {},
   "outputs": [],
   "source": [
    "def save_file(data, filename):\n",
    "    dump(data,filename)\n",
    "    print('Saved: %s' % filename)"
   ]
  },
  {
   "cell_type": "code",
   "execution_count": 172,
   "metadata": {},
   "outputs": [
    {
     "name": "stdout",
     "output_type": "stream",
     "text": [
      "Saved: train_nightingale.pkl\n",
      "Saved: test_nightingale.pkl\n"
     ]
    }
   ],
   "source": [
    "from pickle import dump\n",
    "# save a dataset to file\n",
    "def save_dataset(dataset, filename):\n",
    "    dump(dataset, open(filename, 'wb'))\n",
    "    print('Saved: %s' % filename)\n",
    "    # load and clean all reviews\n",
    "#     train_docs, ytrain = load_clean_dataset(True)\n",
    "#     test_docs, ytest = load_clean_dataset(False)\n",
    "# save training datasets\n",
    "save_dataset([Xtrain, to_categorical(y_train_docs)], 'train_nightingale.pkl')\n",
    "save_dataset([Xtest, to_categorical(y_test_docs)], 'test_nightingale.pkl')   \n"
   ]
  },
  {
   "cell_type": "code",
   "execution_count": 173,
   "metadata": {},
   "outputs": [],
   "source": [
    "from pickle import load\n",
    "# load a clean dataset\n",
    "def load_dataset(filename):\n",
    "    return load(open(filename, 'rb'))\n",
    "trainLines, trainLabels = load_dataset('train.pkl')"
   ]
  },
  {
   "cell_type": "code",
   "execution_count": 204,
   "metadata": {},
   "outputs": [],
   "source": [
    "# # This tutorial is divided into the following parts:\n",
    "# 1. Word Embeddings + CNN = Text Classi\f",
    "cation\n",
    "# 2. Use a Single Layer CNN Architecture\n",
    "# 3. Dial in CNN Hyperparameters\n",
    "# 4. Consider Character-Level CNNs\n",
    "# 5. Consider Deeper CNNs for Classi\f",
    "cation\n",
    "\n",
    "# define the model\n",
    "def define_model(length, vocab_size):\n",
    "    # channel 1\n",
    "    inputs1 = Input(shape=(length,))\n",
    "    embedding1 = Embedding(vocab_size, 300)(inputs1)\n",
    "    conv1 = Conv1D(filters=32, kernel_size=4, activation='relu')(embedding1)\n",
    "    drop1 = Dropout(0.5)(conv1)\n",
    "    pool1 = MaxPooling1D(pool_size=2)(drop1)\n",
    "    flat1 = Flatten()(pool1)\n",
    "    \n",
    "    # channel 2\n",
    "    inputs2 = Input(shape=(length,))\n",
    "    embedding2 = Embedding(vocab_size, 300)(inputs2)\n",
    "    conv2 = Conv1D(filters=32, kernel_size=6, activation='relu')(embedding2)\n",
    "    drop2 = Dropout(0.5)(conv2)\n",
    "    pool2 = MaxPooling1D(pool_size=2)(drop2)\n",
    "    flat2 = Flatten()(pool2)\n",
    "    \n",
    "    # channel 3\n",
    "    inputs3 = Input(shape=(length,))\n",
    "    embedding3 = Embedding(vocab_size, 300)(inputs3)\n",
    "    conv3 = Conv1D(filters=32, kernel_size=8, activation='relu')(embedding3)\n",
    "    drop3 = Dropout(0.5)(conv3)\n",
    "    pool3 = MaxPooling1D(pool_size=2)(drop3)\n",
    "    flat3 = Flatten()(pool3)\n",
    "    \n",
    "    # merge\n",
    "    merged = concatenate([flat1, flat2, flat3])\n",
    "    \n",
    "    # interpretation\n",
    "    dense1 = Dense(10, activation='relu')(merged)\n",
    "    outputs = Dense(3, activation='sigmoid')(dense1)\n",
    "    model = Model(inputs=[inputs1, inputs2, inputs3], outputs=outputs)\n",
    "    # compile\n",
    "    model.compile(loss='categorical_crossentropy', optimizer='adam', metrics=['accuracy'])\n",
    "    # summarize\n",
    "    model.summary()\n",
    "    plot_model(model, show_shapes=True, to_file='multichannel.png')\n",
    "    return model"
   ]
  },
  {
   "cell_type": "code",
   "execution_count": 205,
   "metadata": {},
   "outputs": [],
   "source": [
    "vocab_size = len(tokenizer.word_index) + 1"
   ]
  },
  {
   "cell_type": "code",
   "execution_count": 206,
   "metadata": {},
   "outputs": [
    {
     "data": {
      "text/plain": [
       "2894"
      ]
     },
     "execution_count": 206,
     "metadata": {},
     "output_type": "execute_result"
    }
   ],
   "source": [
    "vocab_size"
   ]
  },
  {
   "cell_type": "code",
   "execution_count": 207,
   "metadata": {},
   "outputs": [],
   "source": [
    "# encode a list of lines\n",
    "def encode_text(tokenizer, lines, length):\n",
    "    # integer encode\n",
    "    encoded = tokenizer.texts_to_sequences(lines)\n",
    "    # pad encoded sequences\n",
    "    padded = pad_sequences(encoded, maxlen=length, padding='post')\n",
    "    return padded"
   ]
  },
  {
   "cell_type": "code",
   "execution_count": 208,
   "metadata": {},
   "outputs": [],
   "source": [
    "trainLines\n",
    "Xtrain  = encode_docs(tokenizer, max_length, xtrain_docs)\n",
    "Xtest  = encode_docs(tokenizer, max_length, xtest_docs)"
   ]
  },
  {
   "cell_type": "code",
   "execution_count": 209,
   "metadata": {},
   "outputs": [],
   "source": [
    "length = max_length\n",
    "from numpy import array\n",
    "from keras.layers import Input\n",
    "from keras.layers import Dense\n",
    "from keras.layers import Flatten\n",
    "from keras.layers import Dropout\n",
    "from keras.layers import Embedding\n",
    "from keras.layers.convolutional import Conv1D\n",
    "from keras.layers.merge import concatenate\n",
    "from keras.models import Model"
   ]
  },
  {
   "cell_type": "code",
   "execution_count": 210,
   "metadata": {},
   "outputs": [
    {
     "data": {
      "text/plain": [
       "(1151, 1151, 1151)"
      ]
     },
     "execution_count": 210,
     "metadata": {},
     "output_type": "execute_result"
    }
   ],
   "source": [
    "len(trainLabels) , len(xtrain_docs)  , len(y_train_docs)\n",
    "# len(trainX)"
   ]
  },
  {
   "cell_type": "code",
   "execution_count": 211,
   "metadata": {},
   "outputs": [],
   "source": [
    "trainLabels = to_categorical(y_train_docs)"
   ]
  },
  {
   "cell_type": "code",
   "execution_count": 212,
   "metadata": {},
   "outputs": [
    {
     "data": {
      "text/plain": [
       "1151"
      ]
     },
     "execution_count": 212,
     "metadata": {},
     "output_type": "execute_result"
    }
   ],
   "source": [
    "len(y_train_docs)"
   ]
  },
  {
   "cell_type": "code",
   "execution_count": 213,
   "metadata": {
    "scrolled": false
   },
   "outputs": [
    {
     "name": "stdout",
     "output_type": "stream",
     "text": [
      "__________________________________________________________________________________________________\n",
      "Layer (type)                    Output Shape         Param #     Connected to                     \n",
      "==================================================================================================\n",
      "input_13 (InputLayer)           (None, 104)          0                                            \n",
      "__________________________________________________________________________________________________\n",
      "input_14 (InputLayer)           (None, 104)          0                                            \n",
      "__________________________________________________________________________________________________\n",
      "input_15 (InputLayer)           (None, 104)          0                                            \n",
      "__________________________________________________________________________________________________\n",
      "embedding_26 (Embedding)        (None, 104, 300)     868200      input_13[0][0]                   \n",
      "__________________________________________________________________________________________________\n",
      "embedding_27 (Embedding)        (None, 104, 300)     868200      input_14[0][0]                   \n",
      "__________________________________________________________________________________________________\n",
      "embedding_28 (Embedding)        (None, 104, 300)     868200      input_15[0][0]                   \n",
      "__________________________________________________________________________________________________\n",
      "conv1d_31 (Conv1D)              (None, 101, 32)      38432       embedding_26[0][0]               \n",
      "__________________________________________________________________________________________________\n",
      "conv1d_32 (Conv1D)              (None, 99, 32)       57632       embedding_27[0][0]               \n",
      "__________________________________________________________________________________________________\n",
      "conv1d_33 (Conv1D)              (None, 97, 32)       76832       embedding_28[0][0]               \n",
      "__________________________________________________________________________________________________\n",
      "dropout_10 (Dropout)            (None, 101, 32)      0           conv1d_31[0][0]                  \n",
      "__________________________________________________________________________________________________\n",
      "dropout_11 (Dropout)            (None, 99, 32)       0           conv1d_32[0][0]                  \n",
      "__________________________________________________________________________________________________\n",
      "dropout_12 (Dropout)            (None, 97, 32)       0           conv1d_33[0][0]                  \n",
      "__________________________________________________________________________________________________\n",
      "max_pooling1d_31 (MaxPooling1D) (None, 50, 32)       0           dropout_10[0][0]                 \n",
      "__________________________________________________________________________________________________\n",
      "max_pooling1d_32 (MaxPooling1D) (None, 49, 32)       0           dropout_11[0][0]                 \n",
      "__________________________________________________________________________________________________\n",
      "max_pooling1d_33 (MaxPooling1D) (None, 48, 32)       0           dropout_12[0][0]                 \n",
      "__________________________________________________________________________________________________\n",
      "flatten_23 (Flatten)            (None, 1600)         0           max_pooling1d_31[0][0]           \n",
      "__________________________________________________________________________________________________\n",
      "flatten_24 (Flatten)            (None, 1568)         0           max_pooling1d_32[0][0]           \n",
      "__________________________________________________________________________________________________\n",
      "flatten_25 (Flatten)            (None, 1536)         0           max_pooling1d_33[0][0]           \n",
      "__________________________________________________________________________________________________\n",
      "concatenate_4 (Concatenate)     (None, 4704)         0           flatten_23[0][0]                 \n",
      "                                                                 flatten_24[0][0]                 \n",
      "                                                                 flatten_25[0][0]                 \n",
      "__________________________________________________________________________________________________\n",
      "dense_197 (Dense)               (None, 10)           47050       concatenate_4[0][0]              \n",
      "__________________________________________________________________________________________________\n",
      "dense_198 (Dense)               (None, 3)            33          dense_197[0][0]                  \n",
      "==================================================================================================\n",
      "Total params: 2,824,579\n",
      "Trainable params: 2,824,579\n",
      "Non-trainable params: 0\n",
      "__________________________________________________________________________________________________\n",
      "Epoch 1/20\n",
      "1151/1151 [==============================] - 9s 8ms/step - loss: 1.0806 - acc: 0.4118\n",
      "Epoch 2/20\n",
      "1151/1151 [==============================] - 3s 2ms/step - loss: 0.9508 - acc: 0.5413\n",
      "Epoch 3/20\n",
      "1151/1151 [==============================] - 3s 2ms/step - loss: 0.5590 - acc: 0.8288\n",
      "Epoch 4/20\n",
      "1151/1151 [==============================] - 3s 2ms/step - loss: 0.1679 - acc: 0.9557\n",
      "Epoch 5/20\n",
      "1151/1151 [==============================] - 3s 2ms/step - loss: 0.0944 - acc: 0.9661\n",
      "Epoch 6/20\n",
      "1151/1151 [==============================] - 3s 2ms/step - loss: 0.0628 - acc: 0.9713\n",
      "Epoch 7/20\n",
      "1151/1151 [==============================] - 3s 2ms/step - loss: 0.0649 - acc: 0.9687\n",
      "Epoch 8/20\n",
      "1151/1151 [==============================] - 3s 2ms/step - loss: 0.0570 - acc: 0.9722\n",
      "Epoch 9/20\n",
      "1151/1151 [==============================] - 3s 2ms/step - loss: 0.0519 - acc: 0.9748\n",
      "Epoch 10/20\n",
      "1151/1151 [==============================] - 3s 2ms/step - loss: 0.0516 - acc: 0.9731\n",
      "Epoch 11/20\n",
      "1151/1151 [==============================] - 3s 2ms/step - loss: 0.0484 - acc: 0.9731\n",
      "Epoch 12/20\n",
      "1151/1151 [==============================] - 3s 2ms/step - loss: 0.0468 - acc: 0.9713\n",
      "Epoch 13/20\n",
      "1151/1151 [==============================] - 3s 2ms/step - loss: 0.0451 - acc: 0.9748\n",
      "Epoch 14/20\n",
      "1151/1151 [==============================] - 3s 2ms/step - loss: 0.0444 - acc: 0.9739\n",
      "Epoch 15/20\n",
      "1151/1151 [==============================] - 3s 2ms/step - loss: 0.0460 - acc: 0.9705\n",
      "Epoch 16/20\n",
      "1151/1151 [==============================] - 3s 2ms/step - loss: 0.0459 - acc: 0.9722\n",
      "Epoch 17/20\n",
      "1151/1151 [==============================] - 3s 2ms/step - loss: 0.0425 - acc: 0.9722\n",
      "Epoch 18/20\n",
      "1151/1151 [==============================] - 3s 2ms/step - loss: 0.0431 - acc: 0.9731\n",
      "Epoch 19/20\n",
      "1151/1151 [==============================] - 3s 2ms/step - loss: 0.0438 - acc: 0.9739\n",
      "Epoch 20/20\n",
      "1151/1151 [==============================] - 3s 2ms/step - loss: 0.0479 - acc: 0.9757\n"
     ]
    }
   ],
   "source": [
    "trainX = encode_text(tokenizer, xtrain_docs, max_length)\n",
    "# define model\n",
    "model = define_model(length, vocab_size)\n",
    "# fit model\n",
    "history = model.fit([trainX,trainX,trainX], array(trainLabels), epochs=20, batch_size=16)"
   ]
  },
  {
   "cell_type": "code",
   "execution_count": null,
   "metadata": {},
   "outputs": [],
   "source": []
  },
  {
   "cell_type": "code",
   "execution_count": 224,
   "metadata": {},
   "outputs": [],
   "source": [
    "# load the model\n",
    "from keras.models import load_model\n",
    "# save the model\n",
    "model.save('model_multi_nightingale.h5')\n",
    "model = load_model('model_multi_nightingale.h5')"
   ]
  },
  {
   "cell_type": "code",
   "execution_count": 225,
   "metadata": {},
   "outputs": [],
   "source": [
    "testX  = encode_docs(tokenizer, max_length, xtest_docs)"
   ]
  },
  {
   "cell_type": "code",
   "execution_count": 226,
   "metadata": {},
   "outputs": [
    {
     "name": "stdout",
     "output_type": "stream",
     "text": [
      "Train Accuracy: 97.65\n",
      "Test Accuracy: 70.49\n"
     ]
    }
   ],
   "source": [
    "# evaluate model on training dataset\n",
    "_, acc = model.evaluate([trainX,trainX,trainX],to_categorical(y_train_docs), verbose=2)\n",
    "print('Train Accuracy: %.2f' % (acc*100))\n",
    "# evaluate model on test dataset dataset\n",
    "_, acc = model.evaluate([testX,testX,testX],to_categorical(y_test_docs), verbose=2)\n",
    "print('Test Accuracy: %.2f' % (acc*100))"
   ]
  },
  {
   "cell_type": "markdown",
   "metadata": {},
   "source": [
    "#### Build vocab with weights for embedding space generation"
   ]
  },
  {
   "cell_type": "code",
   "execution_count": 218,
   "metadata": {},
   "outputs": [
    {
     "name": "stdout",
     "output_type": "stream",
     "text": [
      "Loaded 400000 word vectors.\n"
     ]
    }
   ],
   "source": [
    "import pandas as pd\n",
    "import numpy as np\n",
    "from numpy import   asarray,zeros\n",
    "# load the whole embedding into memory\n",
    "embeddings_index = dict()\n",
    "# f = open('/home/surya/cs224n-Squad-Project/data/glove.6B.100d.txt')\n",
    "f = open('/root/data/glove/glove.6B.300d.txt')\n",
    "\n",
    "\n",
    "for line in f:\n",
    "    values = line.split()\n",
    "    word = values[0]\n",
    "    coefs = asarray(values[1:], dtype='float32')\n",
    "    embeddings_index[word] = coefs\n",
    "f.close()\n",
    "print('Loaded %s word vectors.' % len(embeddings_index))"
   ]
  },
  {
   "cell_type": "code",
   "execution_count": 219,
   "metadata": {},
   "outputs": [
    {
     "data": {
      "text/plain": [
       "2894"
      ]
     },
     "execution_count": 219,
     "metadata": {},
     "output_type": "execute_result"
    }
   ],
   "source": [
    "vocab_size"
   ]
  },
  {
   "cell_type": "code",
   "execution_count": 220,
   "metadata": {},
   "outputs": [
    {
     "data": {
      "text/plain": [
       "'female, 55 years, 75 kg and obese. hypertensive 160/110 Hg. doctor prescribes olmesartan , suffering severe headache'"
      ]
     },
     "execution_count": 220,
     "metadata": {},
     "output_type": "execute_result"
    }
   ],
   "source": [
    "docs[0]"
   ]
  },
  {
   "cell_type": "code",
   "execution_count": 221,
   "metadata": {},
   "outputs": [
    {
     "data": {
      "text/plain": [
       "2948"
      ]
     },
     "execution_count": 221,
     "metadata": {},
     "output_type": "execute_result"
    }
   ],
   "source": [
    "# prepare tokenizer\n",
    "t = Tokenizer()\n",
    "t.fit_on_texts(clean_doc_voc)\n",
    "vocab_size = len(t.word_index) + 1\n",
    "vocab_size"
   ]
  },
  {
   "cell_type": "code",
   "execution_count": 222,
   "metadata": {},
   "outputs": [
    {
     "data": {
      "text/plain": [
       "98"
      ]
     },
     "execution_count": 222,
     "metadata": {},
     "output_type": "execute_result"
    }
   ],
   "source": [
    "a = \"0.41711,-0.10176,0.058147,-0.18332,-0.44458,-0.17852,-0.34392,-0.077147,0.58521,-0.52752,1.4831,0.9531,-0.027201,-0.31748,-0.23046,-0.24083,0.22548,-0.12685,-0.17578,-0.34924,0.5168,0.86818,-0.018579,1.2228,-0.52477,-0.26369,0.25925,-0.059529,0.27063,0.13036,-0.67677,0.48313,-0.16343,-0.069899,0.92846,-0.44196,-0.078755,0.5246,-0.59577,-0.1659,0.35194,0.30031,-0.50711,0.29111,-0.26332,-1.0523,-0.31061,-0.077155,-0.16019,0.26994,-1.1042,0.16292,0.79396,-0.77135,-0.95157,-0.55992,0.69163,0.021495,0.44292,-0.69881, 0.73889,-0.1064,-0.44058,0.17116,0.39109,0.043652, 1.2835,0.29026,0.51037,-0.19631,0.036696  -0.74017,-0.0035271 -0.54918,-0.25002,0.15853,0.71764,-0.28083, 0.42292,-0.89855,0.99665,-0.65188,-0.11919,-0.28617,-0.85273,0.55656,-0.23601,-0.43822,0.36317,0.45724, 0.38596,0.59233,1.4355,1.4563,1.1801,0.32987, 0.84998,-0.29444,-0.039114,0.39534\".split(\",\")\n",
    "\n",
    "a = np.array(a)\n",
    "len(a)"
   ]
  },
  {
   "cell_type": "code",
   "execution_count": 223,
   "metadata": {},
   "outputs": [],
   "source": [
    "# embedding_matrix = zeros((vocab_size, 100))\n",
    "embedding_matrix = zeros((vocab_size, 300))\n",
    "\n",
    "for word, i in t.word_index.items():\n",
    "    embedding_vector = embeddings_index.get(word)\n",
    "#     print((word,i),embedding_vector)\n",
    "if embedding_vector is not None:\n",
    "    embedding_matrix[i] = embedding_vector"
   ]
  },
  {
   "cell_type": "code",
   "execution_count": 227,
   "metadata": {},
   "outputs": [],
   "source": [
    "# e = Embedding(vocab_size, 100, weights=[embedding_matrix], input_length=4, trainable=False)"
   ]
  },
  {
   "cell_type": "markdown",
   "metadata": {},
   "source": [
    "###  ADD USER DEFINED EMBEDDING FROM GLOVE "
   ]
  },
  {
   "cell_type": "code",
   "execution_count": 228,
   "metadata": {},
   "outputs": [
    {
     "data": {
      "text/plain": [
       "(2948, 300)"
      ]
     },
     "execution_count": 228,
     "metadata": {},
     "output_type": "execute_result"
    }
   ],
   "source": [
    "embedding_matrix.shape"
   ]
  },
  {
   "cell_type": "code",
   "execution_count": 237,
   "metadata": {},
   "outputs": [
    {
     "data": {
      "text/plain": [
       "884400"
      ]
     },
     "execution_count": 237,
     "metadata": {},
     "output_type": "execute_result"
    }
   ],
   "source": [
    "%timeit \n",
    "# np.isnan(data)[np.isnan(data) == False].size\n",
    "np.isnan(embedding_matrix)[np.isnan(embedding_matrix) == False].size"
   ]
  },
  {
   "cell_type": "code",
   "execution_count": 260,
   "metadata": {},
   "outputs": [],
   "source": [
    "# t.word_index.items()"
   ]
  },
  {
   "cell_type": "code",
   "execution_count": 241,
   "metadata": {},
   "outputs": [
    {
     "data": {
      "text/plain": [
       "2947"
      ]
     },
     "execution_count": 241,
     "metadata": {},
     "output_type": "execute_result"
    }
   ],
   "source": [
    "# embedding_matrix\n",
    "np.sum(~embedding_matrix.any(1))"
   ]
  },
  {
   "cell_type": "code",
   "execution_count": 234,
   "metadata": {},
   "outputs": [
    {
     "data": {
      "text/plain": [
       "array([[ 0.        ,  0.        ,  0.        , ...,  0.        ,\n",
       "         0.        ,  0.        ],\n",
       "       [ 0.        ,  0.        ,  0.        , ...,  0.        ,\n",
       "         0.        ,  0.        ],\n",
       "       [ 0.        ,  0.        ,  0.        , ...,  0.        ,\n",
       "         0.        ,  0.        ],\n",
       "       ...,\n",
       "       [ 0.        ,  0.        ,  0.        , ...,  0.        ,\n",
       "         0.        ,  0.        ],\n",
       "       [ 0.        ,  0.        ,  0.        , ...,  0.        ,\n",
       "         0.        ,  0.        ],\n",
       "       [-0.0071524 ,  0.36849999,  0.030004  , ...,  0.49214   ,\n",
       "        -0.14947   , -0.32574001]])"
      ]
     },
     "execution_count": 234,
     "metadata": {},
     "output_type": "execute_result"
    }
   ],
   "source": [
    "embedding_matrix"
   ]
  },
  {
   "cell_type": "code",
   "execution_count": 246,
   "metadata": {},
   "outputs": [],
   "source": [
    "# define the model\n",
    "def define_model(vocab_size, max_length , custom_embed = True):\n",
    "    model = Sequential()\n",
    "#     model.add(Embedding(vocab_size, 100, input_length=max_length))\n",
    "#     model.add(Embedding(vocab_size, 300, weights=[embedding_matrix], input_length=max_length , trainable=False))\n",
    "    model.add(Embedding(vocab_size, 300, input_length=max_length))\n",
    "    model.add(Conv1D(filters=32, kernel_size=8, activation='relu'))\n",
    "    model.add(MaxPooling1D(pool_size=2))\n",
    "    model.add(Flatten())\n",
    "    model.add(Dense(10, activation='relu'))\n",
    "    model.add(Dense(3, activation='sigmoid'))\n",
    "    print(\"Hello!!!!!!!!!\")\n",
    "    # compile network\n",
    "    model.compile(loss='categorical_crossentropy', optimizer='adam', metrics=['accuracy'])\n",
    "\n",
    "    # summarize defined model\n",
    "    model.summary()\n",
    "#     model.layers[0].set_weights([embedding_matrix])\n",
    "#     model.layers[0].trainable = False\n",
    "    plot_model(model, to_file='model.png', show_shapes=True)\n",
    "    return model"
   ]
  },
  {
   "cell_type": "code",
   "execution_count": 259,
   "metadata": {},
   "outputs": [
    {
     "ename": "IndentationError",
     "evalue": "unexpected indent (<ipython-input-259-95010fed5cda>, line 3)",
     "output_type": "error",
     "traceback": [
      "\u001b[0;36m  File \u001b[0;32m\"<ipython-input-259-95010fed5cda>\"\u001b[0;36m, line \u001b[0;32m3\u001b[0m\n\u001b[0;31m    if typeToLoad==\"glove\":\u001b[0m\n\u001b[0m    ^\u001b[0m\n\u001b[0;31mIndentationError\u001b[0m\u001b[0;31m:\u001b[0m unexpected indent\n"
     ]
    }
   ],
   "source": [
    "#    #load different embedding file from Kaggle depending on which embedding \n",
    "#         #matrix we are going to experiment with\n",
    "#         if typeToLoad==\"glove\":\n",
    "#             EMBEDDING_FILE='../input/glove-twitter/glove.twitter.27B.25d.txt'\n",
    "#             embed_size = 25\n",
    "#         elif(typeToLoad==\"word2vec\"):\n",
    "#             word2vecDict = word2vec.KeyedVectors.load_word2vec_format(\"../input/googlenewsvectorsnegative300/GoogleNews-vectors-negative300.bin\", binary=True)\n",
    "#             embed_size = 300\n",
    "#         elif(typeToLoad==\"fasttext\"):\n",
    "#             EMBEDDING_FILE='../input/fasttext/wiki.simple.vec'\n",
    "#             embed_size = 300\n",
    "\n",
    "#         if(typeToLoad==\"glove\" or typeToLoad==\"fasttext\" ):\n",
    "#             embeddings_index = dict()\n",
    "#             #Transfer the embedding weights into a dictionary by iterating through every line of the file.\n",
    "#             f = open(EMBEDDING_FILE)\n",
    "#             for line in f:\n",
    "#                 #split up line into an indexed array\n",
    "#                 values = line.split()\n",
    "#                 #first index is word\n",
    "#                 word = values[0]\n",
    "#                 #store the rest of the values in the array as a new array\n",
    "#                 coefs = np.asarray(values[1:], dtype='float32')\n",
    "#                 embeddings_index[word] = coefs #50 dimensions\n",
    "#             f.close()\n",
    "#             print('Loaded %s word vectors.' % len(embeddings_index))\n",
    "#         else:\n",
    "#             embeddings_index = dict()\n",
    "#             for word in word2vecDict.wv.vocab:\n",
    "#                 embeddings_index[word] = word2vecDict.word_vec(word)\n",
    "#             print('Loaded %s word vectors.' % len(embeddings_index))\n",
    "            \n",
    "#         gc.collect()\n",
    "#         #We get the mean and standard deviation of the embedding weights so that we could maintain the \n",
    "#         #same statistics for the rest of our own random generated weights. \n",
    "#         all_embs = np.stack(list(embeddings_index.values()))\n",
    "#         emb_mean,emb_std = all_embs.mean(), all_embs.std()\n",
    "        \n",
    "#         nb_words = len(tokenizer.word_index)\n",
    "#         #We are going to set the embedding size to the pretrained dimension as we are replicating it.\n",
    "#         #the size will be Number of Words in Vocab X Embedding Size\n",
    "#         embedding_matrix = np.random.normal(emb_mean, emb_std, (nb_words, embed_size))\n",
    "#         gc.collect()\n",
    "\n",
    "#         #With the newly created embedding matrix, we'll fill it up with the words that we have in both \n",
    "#         #our own dictionary and loaded pretrained embedding. \n",
    "#         embeddedCount = 0\n",
    "#         for word, i in tokenizer.word_index.items():\n",
    "#             i-=1\n",
    "#             #then we see if this word is in glove's dictionary, if yes, get the corresponding weights\n",
    "#             embedding_vector = embeddings_index.get(word)\n",
    "#             #and store inside the embedding matrix that we will train later on.\n",
    "#             if embedding_vector is not None: \n",
    "#                 embedding_matrix[i] = embedding_vector\n",
    "#                 embeddedCount+=1\n",
    "#         print('total embedded:',embeddedCount,'common words')\n",
    "        \n",
    "#         del(embeddings_index)\n",
    "#         gc.collect()\n",
    "        \n",
    "#         #finally, return the embedding matrix\n",
    "#         return embedding_matrix"
   ]
  },
  {
   "cell_type": "code",
   "execution_count": null,
   "metadata": {},
   "outputs": [],
   "source": []
  },
  {
   "cell_type": "code",
   "execution_count": 247,
   "metadata": {},
   "outputs": [
    {
     "data": {
      "text/plain": [
       "104"
      ]
     },
     "execution_count": 247,
     "metadata": {},
     "output_type": "execute_result"
    }
   ],
   "source": [
    "max_length"
   ]
  },
  {
   "cell_type": "code",
   "execution_count": 248,
   "metadata": {},
   "outputs": [
    {
     "name": "stdout",
     "output_type": "stream",
     "text": [
      "Hello!!!!!!!!!\n",
      "_________________________________________________________________\n",
      "Layer (type)                 Output Shape              Param #   \n",
      "=================================================================\n",
      "embedding_32 (Embedding)     (None, 104, 300)          884400    \n",
      "_________________________________________________________________\n",
      "conv1d_37 (Conv1D)           (None, 97, 32)            76832     \n",
      "_________________________________________________________________\n",
      "max_pooling1d_37 (MaxPooling (None, 48, 32)            0         \n",
      "_________________________________________________________________\n",
      "flatten_29 (Flatten)         (None, 1536)              0         \n",
      "_________________________________________________________________\n",
      "dense_205 (Dense)            (None, 10)                15370     \n",
      "_________________________________________________________________\n",
      "dense_206 (Dense)            (None, 3)                 33        \n",
      "=================================================================\n",
      "Total params: 976,635\n",
      "Trainable params: 976,635\n",
      "Non-trainable params: 0\n",
      "_________________________________________________________________\n",
      "Train on 1035 samples, validate on 116 samples\n",
      "Epoch 1/20\n",
      " - 9s - loss: 1.0827 - acc: 0.4145 - val_loss: 1.0444 - val_acc: 0.4828\n",
      "Epoch 2/20\n",
      " - 1s - loss: 1.0127 - acc: 0.5024 - val_loss: 0.9543 - val_acc: 0.5345\n",
      "Epoch 3/20\n",
      " - 1s - loss: 0.7676 - acc: 0.6705 - val_loss: 0.7647 - val_acc: 0.6724\n",
      "Epoch 4/20\n",
      " - 1s - loss: 0.3811 - acc: 0.9034 - val_loss: 0.9629 - val_acc: 0.5948\n",
      "Epoch 5/20\n",
      " - 1s - loss: 0.1875 - acc: 0.9440 - val_loss: 0.9001 - val_acc: 0.6810\n",
      "Epoch 6/20\n",
      " - 1s - loss: 0.1344 - acc: 0.9614 - val_loss: 1.0668 - val_acc: 0.6207\n",
      "Epoch 7/20\n",
      " - 1s - loss: 0.1025 - acc: 0.9720 - val_loss: 0.7223 - val_acc: 0.7414\n",
      "Epoch 8/20\n",
      " - 1s - loss: 0.0796 - acc: 0.9739 - val_loss: 0.6727 - val_acc: 0.7414\n",
      "Epoch 9/20\n",
      " - 1s - loss: 0.0694 - acc: 0.9720 - val_loss: 0.7453 - val_acc: 0.7414\n",
      "Epoch 10/20\n",
      " - 1s - loss: 0.0645 - acc: 0.9797 - val_loss: 0.6725 - val_acc: 0.7500\n",
      "Epoch 11/20\n",
      " - 1s - loss: 0.0697 - acc: 0.9700 - val_loss: 0.8788 - val_acc: 0.7155\n",
      "Epoch 12/20\n",
      " - 1s - loss: 0.0593 - acc: 0.9729 - val_loss: 0.7607 - val_acc: 0.7328\n",
      "Epoch 13/20\n",
      " - 1s - loss: 0.0618 - acc: 0.9739 - val_loss: 0.7076 - val_acc: 0.7500\n",
      "Epoch 14/20\n",
      " - 1s - loss: 0.0568 - acc: 0.9768 - val_loss: 0.7200 - val_acc: 0.7586\n",
      "Epoch 15/20\n",
      " - 1s - loss: 0.0474 - acc: 0.9739 - val_loss: 0.6973 - val_acc: 0.7672\n",
      "Epoch 16/20\n",
      " - 1s - loss: 0.0607 - acc: 0.9778 - val_loss: 0.7046 - val_acc: 0.7241\n",
      "Epoch 17/20\n",
      " - 1s - loss: 0.0512 - acc: 0.9758 - val_loss: 0.7139 - val_acc: 0.7500\n",
      "Epoch 18/20\n",
      " - 1s - loss: 0.0505 - acc: 0.9768 - val_loss: 0.7201 - val_acc: 0.7414\n",
      "Epoch 19/20\n",
      " - 1s - loss: 0.0517 - acc: 0.9768 - val_loss: 0.8019 - val_acc: 0.7500\n",
      "Epoch 20/20\n",
      " - 1s - loss: 0.0496 - acc: 0.9749 - val_loss: 0.7815 - val_acc: 0.7500\n"
     ]
    },
    {
     "data": {
      "text/plain": [
       "<keras.callbacks.History at 0x7f8e3453ea90>"
      ]
     },
     "execution_count": 248,
     "metadata": {},
     "output_type": "execute_result"
    }
   ],
   "source": [
    "model = define_model(vocab_size,max_length,True)\n",
    "model.fit(Xtrain, to_categorical(y_train_docs), epochs=20, verbose=2, validation_split=0.1)"
   ]
  },
  {
   "cell_type": "code",
   "execution_count": 253,
   "metadata": {},
   "outputs": [
    {
     "data": {
      "text/plain": [
       "['loss', 'acc']"
      ]
     },
     "execution_count": 253,
     "metadata": {},
     "output_type": "execute_result"
    }
   ],
   "source": [
    "model.metrics_names"
   ]
  },
  {
   "cell_type": "code",
   "execution_count": 257,
   "metadata": {},
   "outputs": [
    {
     "name": "stdout",
     "output_type": "stream",
     "text": [
      "dict_keys(['loss', 'acc'])\n"
     ]
    },
    {
     "data": {
      "image/png": "[encoded data removed]",
      "text/plain": [
       "<Figure size 432x288 with 1 Axes>"
      ]
     },
     "metadata": {
      "needs_background": "light"
     },
     "output_type": "display_data"
    },
    {
     "data": {
      "image/png": "[encoded data removed]",
      "text/plain": [
       "<Figure size 432x288 with 1 Axes>"
      ]
     },
     "metadata": {
      "needs_background": "light"
     },
     "output_type": "display_data"
    }
   ],
   "source": [
    "print(history.history.keys())\n",
    "#  \"Accuracy\"\n",
    "plt.plot(history.history['acc'])\n",
    "# plt.plot(history.history['val_acc'])\n",
    "plt.title('model accuracy')\n",
    "plt.ylabel('accuracy')\n",
    "plt.xlabel('epoch')\n",
    "plt.legend(['train', 'validation'], loc='upper left')\n",
    "plt.show()\n",
    "# \"Loss\"\n",
    "plt.plot(history.history['loss'])\n",
    "# plt.plot(history.history['val_loss'])\n",
    "plt.title('model loss')\n",
    "plt.ylabel('loss')\n",
    "plt.xlabel('epoch')\n",
    "plt.legend(['train', 'validation'], loc='upper left')\n",
    "plt.show()"
   ]
  },
  {
   "cell_type": "code",
   "execution_count": null,
   "metadata": {},
   "outputs": [],
   "source": []
  },
  {
   "cell_type": "code",
   "execution_count": null,
   "metadata": {},
   "outputs": [],
   "source": []
  },
  {
   "cell_type": "code",
   "execution_count": 270,
   "metadata": {},
   "outputs": [],
   "source": [
    "# # This tutorial is divided into the following parts:\n",
    "# 1. Word Embeddings + CNN = Text Classi\f",
    "cation\n",
    "# 2. Use a Single Layer CNN Architecture\n",
    "# 3. Dial in CNN Hyperparameters\n",
    "# 4. Consider Character-Level CNNs\n",
    "# 5. Consider Deeper CNNs for Classi\f",
    "cation\n",
    "\n",
    "# define the model\n",
    "def define_model(length, vocab_size):\n",
    "    # channel 1\n",
    "    inputs1 = Input(shape=(length,))\n",
    "    embedding1 = Embedding(vocab_size, 300)(inputs1)\n",
    "#     embedding1 = Embedding(vocab_size,  300, weights=[embedding_matrix], trainable=False)(inputs1)\n",
    "#         model.add(Embedding(vocab_size, 100, weights=[embedding_matrix], input_length=max_length , trainable=False))\n",
    "\n",
    "    conv1 = Conv1D(filters=32, kernel_size=4, activation='relu')(embedding1)\n",
    "    drop1 = Dropout(0.5)(conv1)\n",
    "    pool1 = MaxPooling1D(pool_size=2)(drop1)\n",
    "    flat1 = Flatten()(pool1)\n",
    "    \n",
    "    # channel 2\n",
    "    inputs2 = Input(shape=(length,))\n",
    "    embedding2 = Embedding(vocab_size, 300)(inputs2)\n",
    "#     embedding2 = Embedding(vocab_size, 300, weights=[embedding_matrix], trainable=False)(inputs2)\n",
    "    conv2 = Conv1D(filters=32, kernel_size=6, activation='relu')(embedding2)\n",
    "    drop2 = Dropout(0.5)(conv2)\n",
    "    pool2 = MaxPooling1D(pool_size=2)(drop2)\n",
    "    flat2 = Flatten()(pool2)\n",
    "    \n",
    "    # channel 3\n",
    "    inputs3 = Input(shape=(length,))\n",
    "    embedding3 = Embedding(vocab_size, 300)(inputs3)\n",
    "#     embedding3 = Embedding(vocab_size, 100)(embedding3)\n",
    "#     embedding3 = Embedding(vocab_size, 300, weights=[embedding_matrix], trainable=False)(inputs3)\n",
    "\n",
    "    conv3 = Conv1D(filters=32, kernel_size=8, activation='relu')(embedding3)\n",
    "    drop3 = Dropout(0.5)(conv3)\n",
    "    pool3 = MaxPooling1D(pool_size=2)(drop3)\n",
    "    flat3 = Flatten()(pool3)\n",
    "    \n",
    "    # merge\n",
    "    merged = concatenate([flat1, flat2, flat3])\n",
    "    \n",
    "    # interpretation\n",
    "    dense1 = Dense(10, activation='relu')(merged)\n",
    "    outputs = Dense(3, activation='sigmoid')(dense1)\n",
    "    model = Model(inputs=[inputs1, inputs2, inputs3], outputs=outputs)\n",
    "    # compile\n",
    "    model.compile(loss='categorical_crossentropy', optimizer='adam', metrics=['accuracy'])\n",
    "    # summarize\n",
    "    model.summary()\n",
    "    plot_model(model, show_shapes=True, to_file='multichannel.png')\n",
    "    return model"
   ]
  },
  {
   "cell_type": "code",
   "execution_count": 271,
   "metadata": {},
   "outputs": [],
   "source": [
    "trainX = encode_text(tokenizer, xtrain_docs, max_length)"
   ]
  },
  {
   "cell_type": "code",
   "execution_count": 272,
   "metadata": {},
   "outputs": [
    {
     "name": "stdout",
     "output_type": "stream",
     "text": [
      "__________________________________________________________________________________________________\n",
      "Layer (type)                    Output Shape         Param #     Connected to                     \n",
      "==================================================================================================\n",
      "input_21 (InputLayer)           (None, 104)          0                                            \n",
      "__________________________________________________________________________________________________\n",
      "input_22 (InputLayer)           (None, 104)          0                                            \n",
      "__________________________________________________________________________________________________\n",
      "input_23 (InputLayer)           (None, 104)          0                                            \n",
      "__________________________________________________________________________________________________\n",
      "embedding_38 (Embedding)        (None, 104, 300)     884400      input_21[0][0]                   \n",
      "__________________________________________________________________________________________________\n",
      "embedding_39 (Embedding)        (None, 104, 300)     884400      input_22[0][0]                   \n",
      "__________________________________________________________________________________________________\n",
      "embedding_40 (Embedding)        (None, 104, 300)     884400      input_23[0][0]                   \n",
      "__________________________________________________________________________________________________\n",
      "conv1d_41 (Conv1D)              (None, 101, 32)      38432       embedding_38[0][0]               \n",
      "__________________________________________________________________________________________________\n",
      "conv1d_42 (Conv1D)              (None, 99, 32)       57632       embedding_39[0][0]               \n",
      "__________________________________________________________________________________________________\n",
      "conv1d_43 (Conv1D)              (None, 97, 32)       76832       embedding_40[0][0]               \n",
      "__________________________________________________________________________________________________\n",
      "dropout_16 (Dropout)            (None, 101, 32)      0           conv1d_41[0][0]                  \n",
      "__________________________________________________________________________________________________\n",
      "dropout_17 (Dropout)            (None, 99, 32)       0           conv1d_42[0][0]                  \n",
      "__________________________________________________________________________________________________\n",
      "dropout_18 (Dropout)            (None, 97, 32)       0           conv1d_43[0][0]                  \n",
      "__________________________________________________________________________________________________\n",
      "max_pooling1d_41 (MaxPooling1D) (None, 50, 32)       0           dropout_16[0][0]                 \n",
      "__________________________________________________________________________________________________\n",
      "max_pooling1d_42 (MaxPooling1D) (None, 49, 32)       0           dropout_17[0][0]                 \n",
      "__________________________________________________________________________________________________\n",
      "max_pooling1d_43 (MaxPooling1D) (None, 48, 32)       0           dropout_18[0][0]                 \n",
      "__________________________________________________________________________________________________\n",
      "flatten_33 (Flatten)            (None, 1600)         0           max_pooling1d_41[0][0]           \n",
      "__________________________________________________________________________________________________\n",
      "flatten_34 (Flatten)            (None, 1568)         0           max_pooling1d_42[0][0]           \n",
      "__________________________________________________________________________________________________\n",
      "flatten_35 (Flatten)            (None, 1536)         0           max_pooling1d_43[0][0]           \n",
      "__________________________________________________________________________________________________\n",
      "concatenate_6 (Concatenate)     (None, 4704)         0           flatten_33[0][0]                 \n",
      "                                                                 flatten_34[0][0]                 \n",
      "                                                                 flatten_35[0][0]                 \n",
      "__________________________________________________________________________________________________\n",
      "dense_209 (Dense)               (None, 10)           47050       concatenate_6[0][0]              \n",
      "__________________________________________________________________________________________________\n",
      "dense_210 (Dense)               (None, 3)            33          dense_209[0][0]                  \n",
      "==================================================================================================\n",
      "Total params: 2,873,179\n",
      "Trainable params: 2,873,179\n",
      "Non-trainable params: 0\n",
      "__________________________________________________________________________________________________\n",
      "Epoch 1/100\n",
      "1151/1151 [==============================] - 10s 9ms/step - loss: 1.0647 - acc: 0.4544\n",
      "Epoch 2/100\n",
      "1151/1151 [==============================] - 3s 2ms/step - loss: 0.8248 - acc: 0.6099\n",
      "Epoch 3/100\n",
      "1151/1151 [==============================] - 3s 2ms/step - loss: 0.5022 - acc: 0.7011\n",
      "Epoch 4/100\n",
      "1151/1151 [==============================] - 3s 2ms/step - loss: 0.3476 - acc: 0.7672\n",
      "Epoch 5/100\n",
      "1151/1151 [==============================] - 3s 2ms/step - loss: 0.2106 - acc: 0.9314\n",
      "Epoch 6/100\n",
      "1151/1151 [==============================] - 3s 2ms/step - loss: 0.1054 - acc: 0.9652\n",
      "Epoch 7/100\n",
      "1151/1151 [==============================] - 3s 2ms/step - loss: 0.0798 - acc: 0.9713\n",
      "Epoch 8/100\n",
      "1151/1151 [==============================] - 3s 2ms/step - loss: 0.0648 - acc: 0.9705\n",
      "Epoch 9/100\n",
      "1151/1151 [==============================] - 3s 2ms/step - loss: 0.0587 - acc: 0.9739\n",
      "Epoch 10/100\n",
      "1151/1151 [==============================] - 3s 2ms/step - loss: 0.0637 - acc: 0.9739\n",
      "Epoch 11/100\n",
      "1151/1151 [==============================] - 3s 2ms/step - loss: 0.0563 - acc: 0.9713\n",
      "Epoch 12/100\n",
      "1151/1151 [==============================] - 3s 2ms/step - loss: 0.0547 - acc: 0.9757\n",
      "Epoch 13/100\n",
      "1151/1151 [==============================] - 3s 2ms/step - loss: 0.0559 - acc: 0.9748\n",
      "Epoch 14/100\n",
      "1151/1151 [==============================] - 3s 2ms/step - loss: 0.0506 - acc: 0.9748\n",
      "Epoch 15/100\n",
      "1151/1151 [==============================] - 3s 2ms/step - loss: 0.0538 - acc: 0.9713\n",
      "Epoch 16/100\n",
      "1151/1151 [==============================] - 3s 2ms/step - loss: 0.0515 - acc: 0.9670\n",
      "Epoch 17/100\n",
      "1151/1151 [==============================] - 3s 2ms/step - loss: 0.0462 - acc: 0.9757\n",
      "Epoch 18/100\n",
      "1151/1151 [==============================] - 3s 2ms/step - loss: 0.0452 - acc: 0.9713\n",
      "Epoch 19/100\n",
      "1151/1151 [==============================] - 3s 2ms/step - loss: 0.0505 - acc: 0.9679\n",
      "Epoch 20/100\n",
      "1151/1151 [==============================] - 3s 2ms/step - loss: 0.0492 - acc: 0.9731\n",
      "Epoch 21/100\n",
      "1151/1151 [==============================] - 3s 2ms/step - loss: 0.0450 - acc: 0.9739\n",
      "Epoch 22/100\n",
      "1151/1151 [==============================] - 3s 2ms/step - loss: 0.0431 - acc: 0.9731\n",
      "Epoch 23/100\n",
      "1151/1151 [==============================] - 3s 2ms/step - loss: 0.0448 - acc: 0.9705\n",
      "Epoch 24/100\n",
      "1151/1151 [==============================] - 3s 2ms/step - loss: 0.0450 - acc: 0.9757\n",
      "Epoch 25/100\n",
      "1151/1151 [==============================] - 3s 2ms/step - loss: 0.0432 - acc: 0.9748\n",
      "Epoch 26/100\n",
      "1151/1151 [==============================] - 3s 2ms/step - loss: 0.0397 - acc: 0.9783\n",
      "Epoch 27/100\n",
      "1151/1151 [==============================] - 3s 2ms/step - loss: 0.0489 - acc: 0.9765\n",
      "Epoch 28/100\n",
      "1151/1151 [==============================] - 3s 2ms/step - loss: 0.0533 - acc: 0.9748\n",
      "Epoch 29/100\n",
      "1151/1151 [==============================] - 3s 2ms/step - loss: 0.0434 - acc: 0.9705\n",
      "Epoch 30/100\n",
      "1151/1151 [==============================] - 3s 2ms/step - loss: 0.0430 - acc: 0.9713\n",
      "Epoch 31/100\n",
      "1151/1151 [==============================] - 3s 2ms/step - loss: 0.0410 - acc: 0.9713\n",
      "Epoch 32/100\n",
      "1151/1151 [==============================] - 3s 2ms/step - loss: 0.0424 - acc: 0.9713\n",
      "Epoch 33/100\n",
      "1151/1151 [==============================] - 3s 2ms/step - loss: 0.0432 - acc: 0.9679\n",
      "Epoch 34/100\n",
      "1151/1151 [==============================] - 3s 2ms/step - loss: 0.0417 - acc: 0.9705\n",
      "Epoch 35/100\n"
     ]
    },
    {
     "name": "stdout",
     "output_type": "stream",
     "text": [
      "1151/1151 [==============================] - 3s 2ms/step - loss: 0.0396 - acc: 0.9696\n",
      "Epoch 36/100\n",
      "1151/1151 [==============================] - 3s 2ms/step - loss: 0.0422 - acc: 0.9757\n",
      "Epoch 37/100\n",
      "1151/1151 [==============================] - 3s 2ms/step - loss: 0.0393 - acc: 0.9757\n",
      "Epoch 38/100\n",
      "1151/1151 [==============================] - 3s 2ms/step - loss: 0.0409 - acc: 0.9661\n",
      "Epoch 39/100\n",
      "1151/1151 [==============================] - 3s 2ms/step - loss: 0.0446 - acc: 0.9748\n",
      "Epoch 40/100\n",
      "1151/1151 [==============================] - 3s 2ms/step - loss: 0.0391 - acc: 0.9748\n",
      "Epoch 41/100\n",
      "1151/1151 [==============================] - 3s 2ms/step - loss: 0.0426 - acc: 0.9783\n",
      "Epoch 42/100\n",
      "1151/1151 [==============================] - 3s 2ms/step - loss: 0.0402 - acc: 0.9722\n",
      "Epoch 43/100\n",
      "1151/1151 [==============================] - 3s 2ms/step - loss: 0.0421 - acc: 0.9722\n",
      "Epoch 44/100\n",
      "1151/1151 [==============================] - 3s 2ms/step - loss: 0.0482 - acc: 0.9687\n",
      "Epoch 45/100\n",
      "1151/1151 [==============================] - 3s 2ms/step - loss: 0.0547 - acc: 0.9731\n",
      "Epoch 46/100\n",
      "1151/1151 [==============================] - 3s 2ms/step - loss: 0.1735 - acc: 0.9505\n",
      "Epoch 47/100\n",
      "1151/1151 [==============================] - 3s 2ms/step - loss: 0.0727 - acc: 0.9739\n",
      "Epoch 48/100\n",
      "1151/1151 [==============================] - 3s 2ms/step - loss: 0.0482 - acc: 0.9765\n",
      "Epoch 49/100\n",
      "1151/1151 [==============================] - 3s 2ms/step - loss: 0.0553 - acc: 0.9739\n",
      "Epoch 50/100\n",
      "1151/1151 [==============================] - 3s 2ms/step - loss: 0.0444 - acc: 0.9705\n",
      "Epoch 51/100\n",
      "1151/1151 [==============================] - 3s 2ms/step - loss: 0.0429 - acc: 0.9713\n",
      "Epoch 52/100\n",
      "1151/1151 [==============================] - 3s 2ms/step - loss: 0.0392 - acc: 0.9739\n",
      "Epoch 53/100\n",
      "1151/1151 [==============================] - 3s 2ms/step - loss: 0.0429 - acc: 0.9696\n",
      "Epoch 54/100\n",
      "1151/1151 [==============================] - 3s 2ms/step - loss: 0.0444 - acc: 0.9687\n",
      "Epoch 55/100\n",
      "1151/1151 [==============================] - 3s 2ms/step - loss: 0.0424 - acc: 0.9713\n",
      "Epoch 56/100\n",
      "1151/1151 [==============================] - 3s 2ms/step - loss: 0.0395 - acc: 0.9731\n",
      "Epoch 57/100\n",
      "1151/1151 [==============================] - 3s 2ms/step - loss: 0.0394 - acc: 0.9722\n",
      "Epoch 58/100\n",
      "1151/1151 [==============================] - 3s 2ms/step - loss: 0.0399 - acc: 0.9722\n",
      "Epoch 59/100\n",
      "1151/1151 [==============================] - 3s 2ms/step - loss: 0.0385 - acc: 0.9739\n",
      "Epoch 60/100\n",
      "1151/1151 [==============================] - 3s 2ms/step - loss: 0.0402 - acc: 0.9722\n",
      "Epoch 61/100\n",
      "1151/1151 [==============================] - 3s 2ms/step - loss: 0.0384 - acc: 0.9739\n",
      "Epoch 62/100\n",
      "1151/1151 [==============================] - 3s 2ms/step - loss: 0.0391 - acc: 0.9731\n",
      "Epoch 63/100\n",
      "1151/1151 [==============================] - 3s 2ms/step - loss: 0.0433 - acc: 0.9679\n",
      "Epoch 64/100\n",
      "1151/1151 [==============================] - 3s 2ms/step - loss: 0.0405 - acc: 0.9739\n",
      "Epoch 65/100\n",
      "1151/1151 [==============================] - 3s 2ms/step - loss: 0.0412 - acc: 0.9757\n",
      "Epoch 66/100\n",
      "1151/1151 [==============================] - 3s 2ms/step - loss: 0.0396 - acc: 0.9739\n",
      "Epoch 67/100\n",
      "1151/1151 [==============================] - 3s 2ms/step - loss: 0.0424 - acc: 0.9713\n",
      "Epoch 68/100\n",
      "1151/1151 [==============================] - 3s 2ms/step - loss: 0.0402 - acc: 0.9739\n",
      "Epoch 69/100\n",
      "1151/1151 [==============================] - 3s 2ms/step - loss: 0.0399 - acc: 0.9705\n",
      "Epoch 70/100\n",
      "1151/1151 [==============================] - 3s 2ms/step - loss: 0.0410 - acc: 0.9696\n",
      "Epoch 71/100\n",
      "1151/1151 [==============================] - 3s 2ms/step - loss: 0.0396 - acc: 0.9739\n",
      "Epoch 72/100\n",
      "1151/1151 [==============================] - 3s 2ms/step - loss: 0.0416 - acc: 0.9696\n",
      "Epoch 73/100\n",
      "1151/1151 [==============================] - 3s 2ms/step - loss: 0.0411 - acc: 0.9722\n",
      "Epoch 74/100\n",
      "1151/1151 [==============================] - 3s 2ms/step - loss: 0.0385 - acc: 0.9774\n",
      "Epoch 75/100\n",
      "1151/1151 [==============================] - 3s 2ms/step - loss: 0.0439 - acc: 0.9731\n",
      "Epoch 76/100\n",
      "1151/1151 [==============================] - 3s 2ms/step - loss: 0.0394 - acc: 0.9783\n",
      "Epoch 77/100\n",
      "1151/1151 [==============================] - 3s 2ms/step - loss: 0.0401 - acc: 0.9713\n",
      "Epoch 78/100\n",
      "1151/1151 [==============================] - 3s 2ms/step - loss: 0.0416 - acc: 0.9713\n",
      "Epoch 79/100\n",
      "1151/1151 [==============================] - 3s 2ms/step - loss: 0.0418 - acc: 0.9705\n",
      "Epoch 80/100\n",
      "1151/1151 [==============================] - 3s 2ms/step - loss: 0.0407 - acc: 0.9739\n",
      "Epoch 81/100\n",
      "1151/1151 [==============================] - 3s 2ms/step - loss: 0.0397 - acc: 0.9731\n",
      "Epoch 82/100\n",
      "1151/1151 [==============================] - 3s 2ms/step - loss: 0.0439 - acc: 0.9731\n",
      "Epoch 83/100\n",
      "1151/1151 [==============================] - 3s 2ms/step - loss: 0.0397 - acc: 0.9731\n",
      "Epoch 84/100\n",
      "1151/1151 [==============================] - 3s 2ms/step - loss: 0.0409 - acc: 0.9722\n",
      "Epoch 85/100\n",
      "1151/1151 [==============================] - 3s 2ms/step - loss: 0.0405 - acc: 0.9748\n",
      "Epoch 86/100\n",
      "1151/1151 [==============================] - 3s 2ms/step - loss: 0.0404 - acc: 0.9748\n",
      "Epoch 87/100\n",
      "1151/1151 [==============================] - 3s 2ms/step - loss: 0.0392 - acc: 0.9757\n",
      "Epoch 88/100\n",
      "1151/1151 [==============================] - 3s 2ms/step - loss: 0.0422 - acc: 0.9739\n",
      "Epoch 89/100\n",
      "1151/1151 [==============================] - 3s 2ms/step - loss: 0.0401 - acc: 0.9696\n",
      "Epoch 90/100\n",
      "1151/1151 [==============================] - 3s 2ms/step - loss: 0.0437 - acc: 0.9722\n",
      "Epoch 91/100\n",
      "1151/1151 [==============================] - 3s 2ms/step - loss: 0.0397 - acc: 0.9739\n",
      "Epoch 92/100\n",
      "1151/1151 [==============================] - 3s 2ms/step - loss: 0.0403 - acc: 0.9757\n",
      "Epoch 93/100\n",
      "1151/1151 [==============================] - 3s 2ms/step - loss: 0.0397 - acc: 0.9765\n",
      "Epoch 94/100\n",
      "1151/1151 [==============================] - 3s 2ms/step - loss: 0.0408 - acc: 0.9705\n",
      "Epoch 95/100\n",
      "1151/1151 [==============================] - 3s 2ms/step - loss: 0.0420 - acc: 0.9748\n",
      "Epoch 96/100\n",
      "1151/1151 [==============================] - 3s 2ms/step - loss: 0.0401 - acc: 0.9722\n",
      "Epoch 97/100\n",
      "1151/1151 [==============================] - 3s 2ms/step - loss: 0.0401 - acc: 0.9757\n",
      "Epoch 98/100\n",
      "1151/1151 [==============================] - 3s 2ms/step - loss: 0.0411 - acc: 0.9739\n",
      "Epoch 99/100\n",
      "1151/1151 [==============================] - 3s 2ms/step - loss: 0.0398 - acc: 0.9757\n",
      "Epoch 100/100\n",
      "1151/1151 [==============================] - 3s 2ms/step - loss: 0.0402 - acc: 0.9748\n"
     ]
    },
    {
     "data": {
      "text/plain": [
       "<keras.callbacks.History at 0x7f8e36cdce10>"
      ]
     },
     "execution_count": 272,
     "metadata": {},
     "output_type": "execute_result"
    }
   ],
   "source": [
    "trainX = encode_text(tokenizer, xtrain_docs, max_length)\n",
    "# define model\n",
    "model = define_model(length, vocab_size)\n",
    "# fit model\n",
    "model.fit([trainX,trainX,trainX], array(trainLabels), epochs=100, batch_size=16 , )"
   ]
  },
  {
   "cell_type": "code",
   "execution_count": 286,
   "metadata": {},
   "outputs": [],
   "source": [
    "keras_model = model\n",
    "import tensorflow as tf"
   ]
  },
  {
   "cell_type": "code",
   "execution_count": 292,
   "metadata": {},
   "outputs": [],
   "source": [
    "# saved_model_path = tf.contrib.saved_model.save_keras_model(model, \"./saved_models\")\n"
   ]
  },
  {
   "cell_type": "code",
   "execution_count": 294,
   "metadata": {},
   "outputs": [
    {
     "name": "stdout",
     "output_type": "stream",
     "text": [
      "-rw-r--r--. 1 root root  7040824 May 14 16:58 model_98.h5\n",
      "-rw-r--r--. 1 root root 20628648 May 14 18:21 model.h5\n",
      "-rw-r--r--. 1 root root 20628648 May 14 18:24 model_multi.h5\n",
      "-rw-r--r--. 1 root root  2649064 May 20 17:27 model_nightingale.h5\n",
      "-rw-r--r--. 1 root root 33960888 May 22 15:27 model_multi_nightingale.h5\n",
      "/home/surya\n"
     ]
    }
   ],
   "source": [
    "! ls -ltr /home/surya/model_multi_nightingale.h5\n",
    "/\n",
    "!pwd"
   ]
  },
  {
   "cell_type": "code",
   "execution_count": 288,
   "metadata": {},
   "outputs": [
    {
     "name": "stdout",
     "output_type": "stream",
     "text": [
      "WARNING:tensorflow:From <ipython-input-288-51d5b7ab328e>:6: simple_save (from tensorflow.python.saved_model.simple_save) is deprecated and will be removed in a future version.\n",
      "Instructions for updating:\n",
      "This function will only be available through the v1 compatibility library as tf.compat.v1.saved_model.simple_save.\n",
      "WARNING:tensorflow:From /root/anaconda3/envs/py36/lib/python3.6/site-packages/tensorflow/python/saved_model/signature_def_utils_impl.py:205: build_tensor_info (from tensorflow.python.saved_model.utils_impl) is deprecated and will be removed in a future version.\n",
      "Instructions for updating:\n",
      "This function will only be available through the v1 compatibility library as tf.compat.v1.saved_model.utils.build_tensor_info or tf.compat.v1.saved_model.build_tensor_info.\n"
     ]
    },
    {
     "ename": "AttributeError",
     "evalue": "'list' object has no attribute 'dtype'",
     "output_type": "error",
     "traceback": [
      "\u001b[0;31m---------------------------------------------------------------------------\u001b[0m",
      "\u001b[0;31mAttributeError\u001b[0m                            Traceback (most recent call last)",
      "\u001b[0;32m<ipython-input-288-51d5b7ab328e>\u001b[0m in \u001b[0;36m<module>\u001b[0;34m\u001b[0m\n\u001b[1;32m      4\u001b[0m         \u001b[0;34m\"export_path\"\u001b[0m\u001b[0;34m,\u001b[0m\u001b[0;34m\u001b[0m\u001b[0;34m\u001b[0m\u001b[0m\n\u001b[1;32m      5\u001b[0m         \u001b[0minputs\u001b[0m\u001b[0;34m=\u001b[0m\u001b[0;34m{\u001b[0m\u001b[0;34m'input'\u001b[0m\u001b[0;34m:\u001b[0m \u001b[0mkeras_model\u001b[0m\u001b[0;34m.\u001b[0m\u001b[0minput\u001b[0m\u001b[0;34m}\u001b[0m\u001b[0;34m,\u001b[0m\u001b[0;34m\u001b[0m\u001b[0;34m\u001b[0m\u001b[0m\n\u001b[0;32m----> 6\u001b[0;31m         outputs={'output': keras_model.output})\n\u001b[0m",
      "\u001b[0;32m~/anaconda3/envs/py36/lib/python3.6/site-packages/tensorflow/python/util/deprecation.py\u001b[0m in \u001b[0;36mnew_func\u001b[0;34m(*args, **kwargs)\u001b[0m\n\u001b[1;32m    322\u001b[0m               \u001b[0;34m'in a future version'\u001b[0m \u001b[0;32mif\u001b[0m \u001b[0mdate\u001b[0m \u001b[0;32mis\u001b[0m \u001b[0;32mNone\u001b[0m \u001b[0;32melse\u001b[0m \u001b[0;34m(\u001b[0m\u001b[0;34m'after %s'\u001b[0m \u001b[0;34m%\u001b[0m \u001b[0mdate\u001b[0m\u001b[0;34m)\u001b[0m\u001b[0;34m,\u001b[0m\u001b[0;34m\u001b[0m\u001b[0;34m\u001b[0m\u001b[0m\n\u001b[1;32m    323\u001b[0m               instructions)\n\u001b[0;32m--> 324\u001b[0;31m       \u001b[0;32mreturn\u001b[0m \u001b[0mfunc\u001b[0m\u001b[0;34m(\u001b[0m\u001b[0;34m*\u001b[0m\u001b[0margs\u001b[0m\u001b[0;34m,\u001b[0m \u001b[0;34m**\u001b[0m\u001b[0mkwargs\u001b[0m\u001b[0;34m)\u001b[0m\u001b[0;34m\u001b[0m\u001b[0;34m\u001b[0m\u001b[0m\n\u001b[0m\u001b[1;32m    325\u001b[0m     return tf_decorator.make_decorator(\n\u001b[1;32m    326\u001b[0m         \u001b[0mfunc\u001b[0m\u001b[0;34m,\u001b[0m \u001b[0mnew_func\u001b[0m\u001b[0;34m,\u001b[0m \u001b[0;34m'deprecated'\u001b[0m\u001b[0;34m,\u001b[0m\u001b[0;34m\u001b[0m\u001b[0;34m\u001b[0m\u001b[0m\n",
      "\u001b[0;32m~/anaconda3/envs/py36/lib/python3.6/site-packages/tensorflow/python/saved_model/simple_save.py\u001b[0m in \u001b[0;36msimple_save\u001b[0;34m(session, export_dir, inputs, outputs, legacy_init_op)\u001b[0m\n\u001b[1;32m     79\u001b[0m   signature_def_map = {\n\u001b[1;32m     80\u001b[0m       \u001b[0msignature_constants\u001b[0m\u001b[0;34m.\u001b[0m\u001b[0mDEFAULT_SERVING_SIGNATURE_DEF_KEY\u001b[0m\u001b[0;34m:\u001b[0m\u001b[0;34m\u001b[0m\u001b[0;34m\u001b[0m\u001b[0m\n\u001b[0;32m---> 81\u001b[0;31m           \u001b[0msignature_def_utils\u001b[0m\u001b[0;34m.\u001b[0m\u001b[0mpredict_signature_def\u001b[0m\u001b[0;34m(\u001b[0m\u001b[0minputs\u001b[0m\u001b[0;34m,\u001b[0m \u001b[0moutputs\u001b[0m\u001b[0;34m)\u001b[0m\u001b[0;34m\u001b[0m\u001b[0;34m\u001b[0m\u001b[0m\n\u001b[0m\u001b[1;32m     82\u001b[0m   }\n\u001b[1;32m     83\u001b[0m   \u001b[0mb\u001b[0m \u001b[0;34m=\u001b[0m \u001b[0mbuilder\u001b[0m\u001b[0;34m.\u001b[0m\u001b[0mSavedModelBuilder\u001b[0m\u001b[0;34m(\u001b[0m\u001b[0mexport_dir\u001b[0m\u001b[0;34m)\u001b[0m\u001b[0;34m\u001b[0m\u001b[0;34m\u001b[0m\u001b[0m\n",
      "\u001b[0;32m~/anaconda3/envs/py36/lib/python3.6/site-packages/tensorflow/python/saved_model/signature_def_utils_impl.py\u001b[0m in \u001b[0;36mpredict_signature_def\u001b[0;34m(inputs, outputs)\u001b[0m\n\u001b[1;32m    203\u001b[0m \u001b[0;34m\u001b[0m\u001b[0m\n\u001b[1;32m    204\u001b[0m   signature_inputs = {key: utils.build_tensor_info(tensor)\n\u001b[0;32m--> 205\u001b[0;31m                       for key, tensor in inputs.items()}\n\u001b[0m\u001b[1;32m    206\u001b[0m   signature_outputs = {key: utils.build_tensor_info(tensor)\n\u001b[1;32m    207\u001b[0m                        for key, tensor in outputs.items()}\n",
      "\u001b[0;32m~/anaconda3/envs/py36/lib/python3.6/site-packages/tensorflow/python/saved_model/signature_def_utils_impl.py\u001b[0m in \u001b[0;36m<dictcomp>\u001b[0;34m(.0)\u001b[0m\n\u001b[1;32m    203\u001b[0m \u001b[0;34m\u001b[0m\u001b[0m\n\u001b[1;32m    204\u001b[0m   signature_inputs = {key: utils.build_tensor_info(tensor)\n\u001b[0;32m--> 205\u001b[0;31m                       for key, tensor in inputs.items()}\n\u001b[0m\u001b[1;32m    206\u001b[0m   signature_outputs = {key: utils.build_tensor_info(tensor)\n\u001b[1;32m    207\u001b[0m                        for key, tensor in outputs.items()}\n",
      "\u001b[0;32m~/anaconda3/envs/py36/lib/python3.6/site-packages/tensorflow/python/util/deprecation.py\u001b[0m in \u001b[0;36mnew_func\u001b[0;34m(*args, **kwargs)\u001b[0m\n\u001b[1;32m    322\u001b[0m               \u001b[0;34m'in a future version'\u001b[0m \u001b[0;32mif\u001b[0m \u001b[0mdate\u001b[0m \u001b[0;32mis\u001b[0m \u001b[0;32mNone\u001b[0m \u001b[0;32melse\u001b[0m \u001b[0;34m(\u001b[0m\u001b[0;34m'after %s'\u001b[0m \u001b[0;34m%\u001b[0m \u001b[0mdate\u001b[0m\u001b[0;34m)\u001b[0m\u001b[0;34m,\u001b[0m\u001b[0;34m\u001b[0m\u001b[0;34m\u001b[0m\u001b[0m\n\u001b[1;32m    323\u001b[0m               instructions)\n\u001b[0;32m--> 324\u001b[0;31m       \u001b[0;32mreturn\u001b[0m \u001b[0mfunc\u001b[0m\u001b[0;34m(\u001b[0m\u001b[0;34m*\u001b[0m\u001b[0margs\u001b[0m\u001b[0;34m,\u001b[0m \u001b[0;34m**\u001b[0m\u001b[0mkwargs\u001b[0m\u001b[0;34m)\u001b[0m\u001b[0;34m\u001b[0m\u001b[0;34m\u001b[0m\u001b[0m\n\u001b[0m\u001b[1;32m    325\u001b[0m     return tf_decorator.make_decorator(\n\u001b[1;32m    326\u001b[0m         \u001b[0mfunc\u001b[0m\u001b[0;34m,\u001b[0m \u001b[0mnew_func\u001b[0m\u001b[0;34m,\u001b[0m \u001b[0;34m'deprecated'\u001b[0m\u001b[0;34m,\u001b[0m\u001b[0;34m\u001b[0m\u001b[0;34m\u001b[0m\u001b[0m\n",
      "\u001b[0;32m~/anaconda3/envs/py36/lib/python3.6/site-packages/tensorflow/python/saved_model/utils_impl.py\u001b[0m in \u001b[0;36mbuild_tensor_info\u001b[0;34m(tensor)\u001b[0m\n\u001b[1;32m     56\u001b[0m   \"\"\"\n\u001b[1;32m     57\u001b[0m   tensor_info = meta_graph_pb2.TensorInfo(\n\u001b[0;32m---> 58\u001b[0;31m       \u001b[0mdtype\u001b[0m\u001b[0;34m=\u001b[0m\u001b[0mdtypes\u001b[0m\u001b[0;34m.\u001b[0m\u001b[0mas_dtype\u001b[0m\u001b[0;34m(\u001b[0m\u001b[0mtensor\u001b[0m\u001b[0;34m.\u001b[0m\u001b[0mdtype\u001b[0m\u001b[0;34m)\u001b[0m\u001b[0;34m.\u001b[0m\u001b[0mas_datatype_enum\u001b[0m\u001b[0;34m,\u001b[0m\u001b[0;34m\u001b[0m\u001b[0;34m\u001b[0m\u001b[0m\n\u001b[0m\u001b[1;32m     59\u001b[0m       tensor_shape=tensor.get_shape().as_proto())\n\u001b[1;32m     60\u001b[0m   \u001b[0;32mif\u001b[0m \u001b[0misinstance\u001b[0m\u001b[0;34m(\u001b[0m\u001b[0mtensor\u001b[0m\u001b[0;34m,\u001b[0m \u001b[0msparse_tensor\u001b[0m\u001b[0;34m.\u001b[0m\u001b[0mSparseTensor\u001b[0m\u001b[0;34m)\u001b[0m\u001b[0;34m:\u001b[0m\u001b[0;34m\u001b[0m\u001b[0;34m\u001b[0m\u001b[0m\n",
      "\u001b[0;31mAttributeError\u001b[0m: 'list' object has no attribute 'dtype'"
     ]
    }
   ],
   "source": [
    "with tf.keras.backend.get_session() as sess:\n",
    "    tf.saved_model.simple_save(\n",
    "        sess,\n",
    "        \"export_path\",\n",
    "        inputs={'input': keras_model.input},\n",
    "        outputs={'output': keras_model.output})"
   ]
  },
  {
   "cell_type": "code",
   "execution_count": 281,
   "metadata": {},
   "outputs": [],
   "source": [
    "from tensorflow import keras\n",
    "from tensorflow.keras import layers"
   ]
  },
  {
   "cell_type": "code",
   "execution_count": 282,
   "metadata": {},
   "outputs": [
    {
     "ename": "AttributeError",
     "evalue": "module 'tensorflow._api.v1.keras.experimental' has no attribute 'export_saved_model'",
     "output_type": "error",
     "traceback": [
      "\u001b[0;31m---------------------------------------------------------------------------\u001b[0m",
      "\u001b[0;31mAttributeError\u001b[0m                            Traceback (most recent call last)",
      "\u001b[0;32m<ipython-input-282-7c96284a5e31>\u001b[0m in \u001b[0;36m<module>\u001b[0;34m\u001b[0m\n\u001b[0;32m----> 1\u001b[0;31m \u001b[0mkeras\u001b[0m\u001b[0;34m.\u001b[0m\u001b[0mexperimental\u001b[0m\u001b[0;34m.\u001b[0m\u001b[0mexport_saved_model\u001b[0m\u001b[0;34m(\u001b[0m\u001b[0mmodel\u001b[0m\u001b[0;34m,\u001b[0m \u001b[0;34m'/home/surya/saved_model'\u001b[0m\u001b[0;34m)\u001b[0m\u001b[0;34m\u001b[0m\u001b[0;34m\u001b[0m\u001b[0m\n\u001b[0m",
      "\u001b[0;31mAttributeError\u001b[0m: module 'tensorflow._api.v1.keras.experimental' has no attribute 'export_saved_model'"
     ]
    }
   ],
   "source": [
    "keras.experimental.export_saved_model(model, '/home/surya/saved_model')\n"
   ]
  },
  {
   "cell_type": "code",
   "execution_count": null,
   "metadata": {},
   "outputs": [],
   "source": [
    "# Export the model to a SavedModel\n",
    "keras.experimental.export_saved_model(model, 'path_to_saved_model')\n",
    "\n",
    "# Recreate the exact same model\n",
    "new_model = keras.experimental.load_from_saved_model('path_to_saved_model')\n",
    "\n",
    "# Check that the state is preserved\n",
    "new_predictions = new_model.predict(x_test)\n",
    "np.testing.assert_allclose(predictions, new_predictions, atol=1e-6)\n",
    "\n",
    "# Note that the optimizer state is preserved as well:\n",
    "# you can resume training where you left off."
   ]
  },
  {
   "cell_type": "code",
   "execution_count": 276,
   "metadata": {},
   "outputs": [
    {
     "ename": "AttributeError",
     "evalue": "module 'mlflow' has no attribute 'keras'",
     "output_type": "error",
     "traceback": [
      "\u001b[0;31m---------------------------------------------------------------------------\u001b[0m",
      "\u001b[0;31mAttributeError\u001b[0m                            Traceback (most recent call last)",
      "\u001b[0;32m<ipython-input-276-846bc2fc0d7e>\u001b[0m in \u001b[0;36m<module>\u001b[0;34m\u001b[0m\n\u001b[1;32m      2\u001b[0m \u001b[0;34m\u001b[0m\u001b[0m\n\u001b[1;32m      3\u001b[0m \u001b[0;32mwith\u001b[0m \u001b[0mmlflow\u001b[0m\u001b[0;34m.\u001b[0m\u001b[0mstart_run\u001b[0m\u001b[0;34m(\u001b[0m\u001b[0;34m)\u001b[0m \u001b[0;32mas\u001b[0m \u001b[0mrun\u001b[0m\u001b[0;34m:\u001b[0m\u001b[0;34m\u001b[0m\u001b[0;34m\u001b[0m\u001b[0m\n\u001b[0;32m----> 4\u001b[0;31m     \u001b[0mmlflow\u001b[0m\u001b[0;34m.\u001b[0m\u001b[0mkeras\u001b[0m\u001b[0;34m.\u001b[0m\u001b[0mlog_model\u001b[0m\u001b[0;34m(\u001b[0m\u001b[0mmodel\u001b[0m\u001b[0;34m,\u001b[0m \u001b[0;34m\"models\"\u001b[0m\u001b[0;34m)\u001b[0m\u001b[0;34m\u001b[0m\u001b[0;34m\u001b[0m\u001b[0m\n\u001b[0m",
      "\u001b[0;31mAttributeError\u001b[0m: module 'mlflow' has no attribute 'keras'"
     ]
    }
   ],
   "source": [
    "\n",
    "\n",
    "with mlflow.start_run() as run:\n",
    "    mlflow.keras.log_model(model, \"models\")"
   ]
  },
  {
   "cell_type": "code",
   "execution_count": 275,
   "metadata": {},
   "outputs": [
    {
     "ename": "AttributeError",
     "evalue": "module 'mlflow' has no attribute 'keras'",
     "output_type": "error",
     "traceback": [
      "\u001b[0;31m---------------------------------------------------------------------------\u001b[0m",
      "\u001b[0;31mAttributeError\u001b[0m                            Traceback (most recent call last)",
      "\u001b[0;32m<ipython-input-275-88fa60e8f88e>\u001b[0m in \u001b[0;36m<module>\u001b[0;34m\u001b[0m\n\u001b[1;32m      1\u001b[0m \u001b[0;31m# model\u001b[0m\u001b[0;34m\u001b[0m\u001b[0;34m\u001b[0m\u001b[0;34m\u001b[0m\u001b[0m\n\u001b[0;32m----> 2\u001b[0;31m \u001b[0mmlflow\u001b[0m\u001b[0;34m.\u001b[0m\u001b[0mkeras\u001b[0m\u001b[0;34m.\u001b[0m\u001b[0msave_model\u001b[0m\u001b[0;34m(\u001b[0m\u001b[0mmodel\u001b[0m\u001b[0;34m,\u001b[0m \u001b[0;34m\"models_keras\"\u001b[0m\u001b[0;34m)\u001b[0m\u001b[0;34m\u001b[0m\u001b[0;34m\u001b[0m\u001b[0m\n\u001b[0m",
      "\u001b[0;31mAttributeError\u001b[0m: module 'mlflow' has no attribute 'keras'"
     ]
    }
   ],
   "source": [
    "# model\n",
    "mlflow.keras.save_model(model, \"models_keras\")"
   ]
  },
  {
   "cell_type": "code",
   "execution_count": null,
   "metadata": {},
   "outputs": [],
   "source": [
    ">>> import mlflow\n",
    ">>> # Build, compile, and train your model\n",
    ">>> keras_model = ...\n",
    ">>> keras_model_path = ...\n",
    ">>> keras_model.compile(optimizer=\"rmsprop\", loss=\"mse\", metrics=[\"accuracy\"])\n",
    ">>> results = keras_model.fit(\n",
    "...     x_train, y_train, epochs=20, batch_size = 128, validation_data=(x_val, y_val))\n",
    "... # Save the model as an MLflow Model\n",
    ">>> mlflow.keras.save_model(keras_model, keras_model_path)"
   ]
  }
 ],
 "metadata": {
  "kernelspec": {
   "display_name": "Python 3",
   "language": "python",
   "name": "python3"
  },
  "language_info": {
   "codemirror_mode": {
    "name": "ipython",
    "version": 3
   },
   "file_extension": ".py",
   "mimetype": "text/x-python",
   "name": "python",
   "nbconvert_exporter": "python",
   "pygments_lexer": "ipython3",
   "version": "3.6.8"
  }
 },
 "nbformat": 4,
 "nbformat_minor": 2
}
